{
 "cells": [
  {
   "cell_type": "markdown",
   "id": "07d1016d-485e-46a5-9d5c-4404b93aaf21",
   "metadata": {},
   "source": [
    "<div style='font-size:250%; font-weight:bold; text-align:center'>GoFast data analysis</div>"
   ]
  },
  {
   "cell_type": "markdown",
   "id": "002322c1",
   "metadata": {},
   "source": [
    "<a id=\"section1\"></a>\n",
    "# Project description\n",
    "        Nowadays, scooter-sharing services are popular among people in post-Soviet countries. Due to the fact that scooters can be picked up and left anywhere within city limits, have low rental prices, and allow users to avoid traffic jams, they are a convenient mode of transportation. Using data provided by the ‘GoFast’ scooter-sharing service, which includes three dataframes (user data, trip data, and subscription types), I will analyze this information to help make strategically sound decisions for the marketing and finance departments."
   ]
  },
  {
   "cell_type": "markdown",
   "id": "e0508ce0",
   "metadata": {},
   "source": [
    "<a id=\"section2\"></a> \n",
    "# Purpose of research\n",
    "1. Calculate the profit.\n",
    "2. Determine the most profitable subscription type.\n",
    "3. Test the hypothesis given by marketing department."
   ]
  },
  {
   "cell_type": "markdown",
   "id": "63962577",
   "metadata": {},
   "source": [
    "<a id=\"section3\"></a> \n",
    "# Data description\n",
    "\n",
    "<br>\n",
    "<div style='font-weight:bold'> User data ( 'users_go.csv' )\n",
    "    </div>\n",
    "\n",
    "- `user_id` - user's unique ID\n",
    "- `name` -  first name\n",
    "- `age` - age\n",
    "- `city` - city\n",
    "- `subscription_type` - subscription type (free, ultra)\n",
    "\n",
    "<br>\n",
    "<div style='font-weight:bold'> Trips data ( 'rides_go.csv' )\n",
    "    </div>\n",
    "\n",
    "- `user_id` - user's unique ID\n",
    "- `distance` - distance of user's last session (in meters)\n",
    "- `duration` - the duration of the session (in minutes), measured from the moment the user clicks the “Start Trip” button to the moment they click the “End Trip” button.\n",
    "- `date` - the date of the trip\n",
    "\n",
    "<br>\n",
    "<div style='font-weight:bold'> Subscription types ( 'subscriptions_go.csv' )\n",
    "    </div>\n",
    "\n",
    "- `subscription_type` - subscription type (free, ultra)\n",
    "- `minute_price` - price of one minute of ride\n",
    "- `start_ride_price` - price to start a ride\n",
    "- `subscription_fee` - subscription monthly fee "
   ]
  },
  {
   "cell_type": "markdown",
   "id": "1a0651d1",
   "metadata": {},
   "source": [
    "<a id=\"section4\"></a> \n",
    "# Step 0. Libraries import "
   ]
  },
  {
   "cell_type": "code",
   "execution_count": 1,
   "id": "72576667",
   "metadata": {},
   "outputs": [],
   "source": [
    "#importing libs\n",
    "import pandas as pd\n",
    "import seaborn as sb\n",
    "import math\n",
    "import matplotlib.pyplot as plt\n",
    "import numpy as np\n",
    "from transliterate import translit\n",
    "from scipy import stats as st\n",
    "from scipy.stats import binom, poisson\n",
    "from fractions import Fraction"
   ]
  },
  {
   "cell_type": "markdown",
   "id": "3bc91afb",
   "metadata": {},
   "source": [
    "# Step 1. Data upload\n",
    "<a id=\"section5\"></a> "
   ]
  },
  {
   "cell_type": "code",
   "execution_count": 2,
   "id": "eff9f206",
   "metadata": {},
   "outputs": [],
   "source": [
    "#reading csv tables and saving them in variables\n",
    "try:\n",
    "    users = pd.read_csv('/datasets/users_go.csv')\n",
    "    rides = pd.read_csv('/datasets/rides_go.csv', parse_dates=['date'])\n",
    "    subscriptions = pd.read_csv('/datasets/subscriptions_go.csv')\n",
    "except: \n",
    "    users = pd.read_csv('/Users/nurasyl/Desktop/datasets/gofast/users_go.csv')\n",
    "    rides = pd.read_csv('/Users/nurasyl/Desktop/datasets/gofast/rides_go.csv',\n",
    "                        parse_dates=['date']\n",
    "                       )\n",
    "    subscriptions = pd.read_csv('/Users/nurasyl/Desktop/datasets/gofast/subscriptions_go.csv')"
   ]
  },
  {
   "cell_type": "code",
   "execution_count": 3,
   "id": "f5660960-4034-456d-a84c-ed2b817d115a",
   "metadata": {},
   "outputs": [],
   "source": [
    "#transliterating the dataframes' columns from cyrillic to english\n",
    "users['name'] = users['name'].apply(lambda x: translit(x, 'ru', reversed=True))\n",
    "replacements_dict = {\n",
    "    'Тюмень': 'Tyumen',\n",
    "    'Омск': 'Omsk',\n",
    "    'Москва': 'Moscow',\n",
    "    'Ростов-на-Дону': 'Rostov-on-Don',\n",
    "    'Краснодар': 'Krasnodar',\n",
    "    'Пятигорск': 'Pyatigorsk',\n",
    "    'Екатеринбург': 'Yekaterinburg',\n",
    "    'Сочи': 'Sochi'\n",
    "}\n",
    "users['city'] = users['city'].replace(replacements_dict)"
   ]
  },
  {
   "cell_type": "code",
   "execution_count": 4,
   "id": "a9439237",
   "metadata": {},
   "outputs": [],
   "source": [
    "#function for checking general information about dataframe\n",
    "def data_check(data):\n",
    "    print(\"Data Info:\\n\")\n",
    "    data.info()\n",
    "    \n",
    "    print(\"\\nNumerical data description:\")\n",
    "    try:\n",
    "        display(data.select_dtypes(exclude='object').describe())\n",
    "    except:\n",
    "        print('Numerical data is missing')\n",
    "    print(\"String data description:\")\n",
    "    try:\n",
    "        display(data.select_dtypes(include='object').describe())\n",
    "    except:\n",
    "        print('String data is missing')\n",
    "    \n",
    "    print(\"\\nFirst 10 Rows:\")\n",
    "    display(data.head(10))\n",
    "    \n",
    "    print(\"\\nNumber of Duplicated Rows:\\n\", data.duplicated().sum())\n",
    "    \n",
    "    print(\"\\nMissing Values:\\n\", data.isna().sum().sum())\n",
    "    \n",
    "    print(\"\\nDataFrame Shape:\\n\", data.shape)"
   ]
  },
  {
   "cell_type": "code",
   "execution_count": 5,
   "id": "357d7bcb",
   "metadata": {},
   "outputs": [
    {
     "name": "stdout",
     "output_type": "stream",
     "text": [
      "Data Info:\n",
      "\n",
      "<class 'pandas.core.frame.DataFrame'>\n",
      "RangeIndex: 1565 entries, 0 to 1564\n",
      "Data columns (total 5 columns):\n",
      " #   Column             Non-Null Count  Dtype \n",
      "---  ------             --------------  ----- \n",
      " 0   user_id            1565 non-null   int64 \n",
      " 1   name               1565 non-null   object\n",
      " 2   age                1565 non-null   int64 \n",
      " 3   city               1565 non-null   object\n",
      " 4   subscription_type  1565 non-null   object\n",
      "dtypes: int64(2), object(3)\n",
      "memory usage: 61.3+ KB\n",
      "\n",
      "Numerical data description:\n"
     ]
    },
    {
     "data": {
      "text/html": [
       "<div>\n",
       "<style scoped>\n",
       "    .dataframe tbody tr th:only-of-type {\n",
       "        vertical-align: middle;\n",
       "    }\n",
       "\n",
       "    .dataframe tbody tr th {\n",
       "        vertical-align: top;\n",
       "    }\n",
       "\n",
       "    .dataframe thead th {\n",
       "        text-align: right;\n",
       "    }\n",
       "</style>\n",
       "<table border=\"1\" class=\"dataframe\">\n",
       "  <thead>\n",
       "    <tr style=\"text-align: right;\">\n",
       "      <th></th>\n",
       "      <th>user_id</th>\n",
       "      <th>age</th>\n",
       "    </tr>\n",
       "  </thead>\n",
       "  <tbody>\n",
       "    <tr>\n",
       "      <th>count</th>\n",
       "      <td>1565.000000</td>\n",
       "      <td>1565.000000</td>\n",
       "    </tr>\n",
       "    <tr>\n",
       "      <th>mean</th>\n",
       "      <td>762.633866</td>\n",
       "      <td>24.922045</td>\n",
       "    </tr>\n",
       "    <tr>\n",
       "      <th>std</th>\n",
       "      <td>443.260155</td>\n",
       "      <td>4.553496</td>\n",
       "    </tr>\n",
       "    <tr>\n",
       "      <th>min</th>\n",
       "      <td>1.000000</td>\n",
       "      <td>12.000000</td>\n",
       "    </tr>\n",
       "    <tr>\n",
       "      <th>25%</th>\n",
       "      <td>378.000000</td>\n",
       "      <td>22.000000</td>\n",
       "    </tr>\n",
       "    <tr>\n",
       "      <th>50%</th>\n",
       "      <td>762.000000</td>\n",
       "      <td>25.000000</td>\n",
       "    </tr>\n",
       "    <tr>\n",
       "      <th>75%</th>\n",
       "      <td>1146.000000</td>\n",
       "      <td>28.000000</td>\n",
       "    </tr>\n",
       "    <tr>\n",
       "      <th>max</th>\n",
       "      <td>1534.000000</td>\n",
       "      <td>43.000000</td>\n",
       "    </tr>\n",
       "  </tbody>\n",
       "</table>\n",
       "</div>"
      ],
      "text/plain": [
       "           user_id          age\n",
       "count  1565.000000  1565.000000\n",
       "mean    762.633866    24.922045\n",
       "std     443.260155     4.553496\n",
       "min       1.000000    12.000000\n",
       "25%     378.000000    22.000000\n",
       "50%     762.000000    25.000000\n",
       "75%    1146.000000    28.000000\n",
       "max    1534.000000    43.000000"
      ]
     },
     "metadata": {},
     "output_type": "display_data"
    },
    {
     "name": "stdout",
     "output_type": "stream",
     "text": [
      "String data description:\n"
     ]
    },
    {
     "data": {
      "text/html": [
       "<div>\n",
       "<style scoped>\n",
       "    .dataframe tbody tr th:only-of-type {\n",
       "        vertical-align: middle;\n",
       "    }\n",
       "\n",
       "    .dataframe tbody tr th {\n",
       "        vertical-align: top;\n",
       "    }\n",
       "\n",
       "    .dataframe thead th {\n",
       "        text-align: right;\n",
       "    }\n",
       "</style>\n",
       "<table border=\"1\" class=\"dataframe\">\n",
       "  <thead>\n",
       "    <tr style=\"text-align: right;\">\n",
       "      <th></th>\n",
       "      <th>name</th>\n",
       "      <th>city</th>\n",
       "      <th>subscription_type</th>\n",
       "    </tr>\n",
       "  </thead>\n",
       "  <tbody>\n",
       "    <tr>\n",
       "      <th>count</th>\n",
       "      <td>1565</td>\n",
       "      <td>1565</td>\n",
       "      <td>1565</td>\n",
       "    </tr>\n",
       "    <tr>\n",
       "      <th>unique</th>\n",
       "      <td>194</td>\n",
       "      <td>8</td>\n",
       "      <td>2</td>\n",
       "    </tr>\n",
       "    <tr>\n",
       "      <th>top</th>\n",
       "      <td>Marija</td>\n",
       "      <td>Pyatigorsk</td>\n",
       "      <td>free</td>\n",
       "    </tr>\n",
       "    <tr>\n",
       "      <th>freq</th>\n",
       "      <td>23</td>\n",
       "      <td>226</td>\n",
       "      <td>846</td>\n",
       "    </tr>\n",
       "  </tbody>\n",
       "</table>\n",
       "</div>"
      ],
      "text/plain": [
       "          name        city subscription_type\n",
       "count     1565        1565              1565\n",
       "unique     194           8                 2\n",
       "top     Marija  Pyatigorsk              free\n",
       "freq        23         226               846"
      ]
     },
     "metadata": {},
     "output_type": "display_data"
    },
    {
     "name": "stdout",
     "output_type": "stream",
     "text": [
      "\n",
      "First 10 Rows:\n"
     ]
    },
    {
     "data": {
      "text/html": [
       "<div>\n",
       "<style scoped>\n",
       "    .dataframe tbody tr th:only-of-type {\n",
       "        vertical-align: middle;\n",
       "    }\n",
       "\n",
       "    .dataframe tbody tr th {\n",
       "        vertical-align: top;\n",
       "    }\n",
       "\n",
       "    .dataframe thead th {\n",
       "        text-align: right;\n",
       "    }\n",
       "</style>\n",
       "<table border=\"1\" class=\"dataframe\">\n",
       "  <thead>\n",
       "    <tr style=\"text-align: right;\">\n",
       "      <th></th>\n",
       "      <th>user_id</th>\n",
       "      <th>name</th>\n",
       "      <th>age</th>\n",
       "      <th>city</th>\n",
       "      <th>subscription_type</th>\n",
       "    </tr>\n",
       "  </thead>\n",
       "  <tbody>\n",
       "    <tr>\n",
       "      <th>0</th>\n",
       "      <td>1</td>\n",
       "      <td>Kira</td>\n",
       "      <td>22</td>\n",
       "      <td>Tyumen</td>\n",
       "      <td>ultra</td>\n",
       "    </tr>\n",
       "    <tr>\n",
       "      <th>1</th>\n",
       "      <td>2</td>\n",
       "      <td>Stanislav</td>\n",
       "      <td>31</td>\n",
       "      <td>Omsk</td>\n",
       "      <td>ultra</td>\n",
       "    </tr>\n",
       "    <tr>\n",
       "      <th>2</th>\n",
       "      <td>3</td>\n",
       "      <td>Aleksej</td>\n",
       "      <td>20</td>\n",
       "      <td>Moscow</td>\n",
       "      <td>ultra</td>\n",
       "    </tr>\n",
       "    <tr>\n",
       "      <th>3</th>\n",
       "      <td>4</td>\n",
       "      <td>Konstantin</td>\n",
       "      <td>26</td>\n",
       "      <td>Rostov-on-Don</td>\n",
       "      <td>ultra</td>\n",
       "    </tr>\n",
       "    <tr>\n",
       "      <th>4</th>\n",
       "      <td>5</td>\n",
       "      <td>Adel'</td>\n",
       "      <td>28</td>\n",
       "      <td>Omsk</td>\n",
       "      <td>ultra</td>\n",
       "    </tr>\n",
       "    <tr>\n",
       "      <th>5</th>\n",
       "      <td>6</td>\n",
       "      <td>Regina</td>\n",
       "      <td>25</td>\n",
       "      <td>Krasnodar</td>\n",
       "      <td>ultra</td>\n",
       "    </tr>\n",
       "    <tr>\n",
       "      <th>6</th>\n",
       "      <td>7</td>\n",
       "      <td>Igor'</td>\n",
       "      <td>23</td>\n",
       "      <td>Omsk</td>\n",
       "      <td>ultra</td>\n",
       "    </tr>\n",
       "    <tr>\n",
       "      <th>7</th>\n",
       "      <td>8</td>\n",
       "      <td>Jurij</td>\n",
       "      <td>23</td>\n",
       "      <td>Krasnodar</td>\n",
       "      <td>ultra</td>\n",
       "    </tr>\n",
       "    <tr>\n",
       "      <th>8</th>\n",
       "      <td>9</td>\n",
       "      <td>Jan</td>\n",
       "      <td>21</td>\n",
       "      <td>Pyatigorsk</td>\n",
       "      <td>ultra</td>\n",
       "    </tr>\n",
       "    <tr>\n",
       "      <th>9</th>\n",
       "      <td>10</td>\n",
       "      <td>Valerij</td>\n",
       "      <td>18</td>\n",
       "      <td>Yekaterinburg</td>\n",
       "      <td>ultra</td>\n",
       "    </tr>\n",
       "  </tbody>\n",
       "</table>\n",
       "</div>"
      ],
      "text/plain": [
       "   user_id        name  age           city subscription_type\n",
       "0        1        Kira   22         Tyumen             ultra\n",
       "1        2   Stanislav   31           Omsk             ultra\n",
       "2        3     Aleksej   20         Moscow             ultra\n",
       "3        4  Konstantin   26  Rostov-on-Don             ultra\n",
       "4        5       Adel'   28           Omsk             ultra\n",
       "5        6      Regina   25      Krasnodar             ultra\n",
       "6        7       Igor'   23           Omsk             ultra\n",
       "7        8       Jurij   23      Krasnodar             ultra\n",
       "8        9         Jan   21     Pyatigorsk             ultra\n",
       "9       10     Valerij   18  Yekaterinburg             ultra"
      ]
     },
     "metadata": {},
     "output_type": "display_data"
    },
    {
     "name": "stdout",
     "output_type": "stream",
     "text": [
      "\n",
      "Number of Duplicated Rows:\n",
      " 31\n",
      "\n",
      "Missing Values:\n",
      " 0\n",
      "\n",
      "DataFrame Shape:\n",
      " (1565, 5)\n"
     ]
    }
   ],
   "source": [
    "data_check(users)"
   ]
  },
  {
   "cell_type": "code",
   "execution_count": 6,
   "id": "c1a20cfd",
   "metadata": {},
   "outputs": [
    {
     "name": "stdout",
     "output_type": "stream",
     "text": [
      "Data Info:\n",
      "\n",
      "<class 'pandas.core.frame.DataFrame'>\n",
      "RangeIndex: 18068 entries, 0 to 18067\n",
      "Data columns (total 4 columns):\n",
      " #   Column    Non-Null Count  Dtype         \n",
      "---  ------    --------------  -----         \n",
      " 0   user_id   18068 non-null  int64         \n",
      " 1   distance  18068 non-null  float64       \n",
      " 2   duration  18068 non-null  float64       \n",
      " 3   date      18068 non-null  datetime64[ns]\n",
      "dtypes: datetime64[ns](1), float64(2), int64(1)\n",
      "memory usage: 564.8 KB\n",
      "\n",
      "Numerical data description:\n"
     ]
    },
    {
     "data": {
      "text/html": [
       "<div>\n",
       "<style scoped>\n",
       "    .dataframe tbody tr th:only-of-type {\n",
       "        vertical-align: middle;\n",
       "    }\n",
       "\n",
       "    .dataframe tbody tr th {\n",
       "        vertical-align: top;\n",
       "    }\n",
       "\n",
       "    .dataframe thead th {\n",
       "        text-align: right;\n",
       "    }\n",
       "</style>\n",
       "<table border=\"1\" class=\"dataframe\">\n",
       "  <thead>\n",
       "    <tr style=\"text-align: right;\">\n",
       "      <th></th>\n",
       "      <th>user_id</th>\n",
       "      <th>distance</th>\n",
       "      <th>duration</th>\n",
       "      <th>date</th>\n",
       "    </tr>\n",
       "  </thead>\n",
       "  <tbody>\n",
       "    <tr>\n",
       "      <th>count</th>\n",
       "      <td>18068.000000</td>\n",
       "      <td>18068.000000</td>\n",
       "      <td>18068.000000</td>\n",
       "      <td>18068</td>\n",
       "    </tr>\n",
       "    <tr>\n",
       "      <th>mean</th>\n",
       "      <td>842.869936</td>\n",
       "      <td>3070.659976</td>\n",
       "      <td>17.805011</td>\n",
       "      <td>2021-06-30 19:47:21.266327296</td>\n",
       "    </tr>\n",
       "    <tr>\n",
       "      <th>min</th>\n",
       "      <td>1.000000</td>\n",
       "      <td>0.855683</td>\n",
       "      <td>0.500000</td>\n",
       "      <td>2021-01-01 00:00:00</td>\n",
       "    </tr>\n",
       "    <tr>\n",
       "      <th>25%</th>\n",
       "      <td>487.000000</td>\n",
       "      <td>2543.226360</td>\n",
       "      <td>13.597563</td>\n",
       "      <td>2021-04-02 00:00:00</td>\n",
       "    </tr>\n",
       "    <tr>\n",
       "      <th>50%</th>\n",
       "      <td>889.000000</td>\n",
       "      <td>3133.609994</td>\n",
       "      <td>17.678395</td>\n",
       "      <td>2021-06-30 00:00:00</td>\n",
       "    </tr>\n",
       "    <tr>\n",
       "      <th>75%</th>\n",
       "      <td>1213.250000</td>\n",
       "      <td>3776.222735</td>\n",
       "      <td>21.724800</td>\n",
       "      <td>2021-09-28 00:00:00</td>\n",
       "    </tr>\n",
       "    <tr>\n",
       "      <th>max</th>\n",
       "      <td>1534.000000</td>\n",
       "      <td>7211.007745</td>\n",
       "      <td>40.823963</td>\n",
       "      <td>2021-12-30 00:00:00</td>\n",
       "    </tr>\n",
       "    <tr>\n",
       "      <th>std</th>\n",
       "      <td>434.734317</td>\n",
       "      <td>1116.831209</td>\n",
       "      <td>6.091051</td>\n",
       "      <td>NaN</td>\n",
       "    </tr>\n",
       "  </tbody>\n",
       "</table>\n",
       "</div>"
      ],
      "text/plain": [
       "            user_id      distance      duration                           date\n",
       "count  18068.000000  18068.000000  18068.000000                          18068\n",
       "mean     842.869936   3070.659976     17.805011  2021-06-30 19:47:21.266327296\n",
       "min        1.000000      0.855683      0.500000            2021-01-01 00:00:00\n",
       "25%      487.000000   2543.226360     13.597563            2021-04-02 00:00:00\n",
       "50%      889.000000   3133.609994     17.678395            2021-06-30 00:00:00\n",
       "75%     1213.250000   3776.222735     21.724800            2021-09-28 00:00:00\n",
       "max     1534.000000   7211.007745     40.823963            2021-12-30 00:00:00\n",
       "std      434.734317   1116.831209      6.091051                            NaN"
      ]
     },
     "metadata": {},
     "output_type": "display_data"
    },
    {
     "name": "stdout",
     "output_type": "stream",
     "text": [
      "String data description:\n",
      "String data is missing\n",
      "\n",
      "First 10 Rows:\n"
     ]
    },
    {
     "data": {
      "text/html": [
       "<div>\n",
       "<style scoped>\n",
       "    .dataframe tbody tr th:only-of-type {\n",
       "        vertical-align: middle;\n",
       "    }\n",
       "\n",
       "    .dataframe tbody tr th {\n",
       "        vertical-align: top;\n",
       "    }\n",
       "\n",
       "    .dataframe thead th {\n",
       "        text-align: right;\n",
       "    }\n",
       "</style>\n",
       "<table border=\"1\" class=\"dataframe\">\n",
       "  <thead>\n",
       "    <tr style=\"text-align: right;\">\n",
       "      <th></th>\n",
       "      <th>user_id</th>\n",
       "      <th>distance</th>\n",
       "      <th>duration</th>\n",
       "      <th>date</th>\n",
       "    </tr>\n",
       "  </thead>\n",
       "  <tbody>\n",
       "    <tr>\n",
       "      <th>0</th>\n",
       "      <td>1</td>\n",
       "      <td>4409.919140</td>\n",
       "      <td>25.599769</td>\n",
       "      <td>2021-01-01</td>\n",
       "    </tr>\n",
       "    <tr>\n",
       "      <th>1</th>\n",
       "      <td>1</td>\n",
       "      <td>2617.592153</td>\n",
       "      <td>15.816871</td>\n",
       "      <td>2021-01-18</td>\n",
       "    </tr>\n",
       "    <tr>\n",
       "      <th>2</th>\n",
       "      <td>1</td>\n",
       "      <td>754.159807</td>\n",
       "      <td>6.232113</td>\n",
       "      <td>2021-04-20</td>\n",
       "    </tr>\n",
       "    <tr>\n",
       "      <th>3</th>\n",
       "      <td>1</td>\n",
       "      <td>2694.783254</td>\n",
       "      <td>18.511000</td>\n",
       "      <td>2021-08-11</td>\n",
       "    </tr>\n",
       "    <tr>\n",
       "      <th>4</th>\n",
       "      <td>1</td>\n",
       "      <td>4028.687306</td>\n",
       "      <td>26.265803</td>\n",
       "      <td>2021-08-28</td>\n",
       "    </tr>\n",
       "    <tr>\n",
       "      <th>5</th>\n",
       "      <td>1</td>\n",
       "      <td>2770.890808</td>\n",
       "      <td>16.650138</td>\n",
       "      <td>2021-10-09</td>\n",
       "    </tr>\n",
       "    <tr>\n",
       "      <th>6</th>\n",
       "      <td>1</td>\n",
       "      <td>3039.020292</td>\n",
       "      <td>14.927879</td>\n",
       "      <td>2021-10-19</td>\n",
       "    </tr>\n",
       "    <tr>\n",
       "      <th>7</th>\n",
       "      <td>1</td>\n",
       "      <td>2842.118050</td>\n",
       "      <td>23.117468</td>\n",
       "      <td>2021-11-06</td>\n",
       "    </tr>\n",
       "    <tr>\n",
       "      <th>8</th>\n",
       "      <td>1</td>\n",
       "      <td>3412.690668</td>\n",
       "      <td>15.238072</td>\n",
       "      <td>2021-11-14</td>\n",
       "    </tr>\n",
       "    <tr>\n",
       "      <th>9</th>\n",
       "      <td>1</td>\n",
       "      <td>748.690645</td>\n",
       "      <td>15.041884</td>\n",
       "      <td>2021-11-22</td>\n",
       "    </tr>\n",
       "  </tbody>\n",
       "</table>\n",
       "</div>"
      ],
      "text/plain": [
       "   user_id     distance   duration       date\n",
       "0        1  4409.919140  25.599769 2021-01-01\n",
       "1        1  2617.592153  15.816871 2021-01-18\n",
       "2        1   754.159807   6.232113 2021-04-20\n",
       "3        1  2694.783254  18.511000 2021-08-11\n",
       "4        1  4028.687306  26.265803 2021-08-28\n",
       "5        1  2770.890808  16.650138 2021-10-09\n",
       "6        1  3039.020292  14.927879 2021-10-19\n",
       "7        1  2842.118050  23.117468 2021-11-06\n",
       "8        1  3412.690668  15.238072 2021-11-14\n",
       "9        1   748.690645  15.041884 2021-11-22"
      ]
     },
     "metadata": {},
     "output_type": "display_data"
    },
    {
     "name": "stdout",
     "output_type": "stream",
     "text": [
      "\n",
      "Number of Duplicated Rows:\n",
      " 0\n",
      "\n",
      "Missing Values:\n",
      " 0\n",
      "\n",
      "DataFrame Shape:\n",
      " (18068, 4)\n"
     ]
    }
   ],
   "source": [
    "data_check(rides);"
   ]
  },
  {
   "cell_type": "code",
   "execution_count": 7,
   "id": "7df2e745",
   "metadata": {},
   "outputs": [
    {
     "name": "stdout",
     "output_type": "stream",
     "text": [
      "Data Info:\n",
      "\n",
      "<class 'pandas.core.frame.DataFrame'>\n",
      "RangeIndex: 2 entries, 0 to 1\n",
      "Data columns (total 4 columns):\n",
      " #   Column             Non-Null Count  Dtype \n",
      "---  ------             --------------  ----- \n",
      " 0   subscription_type  2 non-null      object\n",
      " 1   minute_price       2 non-null      int64 \n",
      " 2   start_ride_price   2 non-null      int64 \n",
      " 3   subscription_fee   2 non-null      int64 \n",
      "dtypes: int64(3), object(1)\n",
      "memory usage: 196.0+ bytes\n",
      "\n",
      "Numerical data description:\n"
     ]
    },
    {
     "data": {
      "text/html": [
       "<div>\n",
       "<style scoped>\n",
       "    .dataframe tbody tr th:only-of-type {\n",
       "        vertical-align: middle;\n",
       "    }\n",
       "\n",
       "    .dataframe tbody tr th {\n",
       "        vertical-align: top;\n",
       "    }\n",
       "\n",
       "    .dataframe thead th {\n",
       "        text-align: right;\n",
       "    }\n",
       "</style>\n",
       "<table border=\"1\" class=\"dataframe\">\n",
       "  <thead>\n",
       "    <tr style=\"text-align: right;\">\n",
       "      <th></th>\n",
       "      <th>minute_price</th>\n",
       "      <th>start_ride_price</th>\n",
       "      <th>subscription_fee</th>\n",
       "    </tr>\n",
       "  </thead>\n",
       "  <tbody>\n",
       "    <tr>\n",
       "      <th>count</th>\n",
       "      <td>2.000000</td>\n",
       "      <td>2.000000</td>\n",
       "      <td>2.000000</td>\n",
       "    </tr>\n",
       "    <tr>\n",
       "      <th>mean</th>\n",
       "      <td>7.000000</td>\n",
       "      <td>25.000000</td>\n",
       "      <td>99.500000</td>\n",
       "    </tr>\n",
       "    <tr>\n",
       "      <th>std</th>\n",
       "      <td>1.414214</td>\n",
       "      <td>35.355339</td>\n",
       "      <td>140.714249</td>\n",
       "    </tr>\n",
       "    <tr>\n",
       "      <th>min</th>\n",
       "      <td>6.000000</td>\n",
       "      <td>0.000000</td>\n",
       "      <td>0.000000</td>\n",
       "    </tr>\n",
       "    <tr>\n",
       "      <th>25%</th>\n",
       "      <td>6.500000</td>\n",
       "      <td>12.500000</td>\n",
       "      <td>49.750000</td>\n",
       "    </tr>\n",
       "    <tr>\n",
       "      <th>50%</th>\n",
       "      <td>7.000000</td>\n",
       "      <td>25.000000</td>\n",
       "      <td>99.500000</td>\n",
       "    </tr>\n",
       "    <tr>\n",
       "      <th>75%</th>\n",
       "      <td>7.500000</td>\n",
       "      <td>37.500000</td>\n",
       "      <td>149.250000</td>\n",
       "    </tr>\n",
       "    <tr>\n",
       "      <th>max</th>\n",
       "      <td>8.000000</td>\n",
       "      <td>50.000000</td>\n",
       "      <td>199.000000</td>\n",
       "    </tr>\n",
       "  </tbody>\n",
       "</table>\n",
       "</div>"
      ],
      "text/plain": [
       "       minute_price  start_ride_price  subscription_fee\n",
       "count      2.000000          2.000000          2.000000\n",
       "mean       7.000000         25.000000         99.500000\n",
       "std        1.414214         35.355339        140.714249\n",
       "min        6.000000          0.000000          0.000000\n",
       "25%        6.500000         12.500000         49.750000\n",
       "50%        7.000000         25.000000         99.500000\n",
       "75%        7.500000         37.500000        149.250000\n",
       "max        8.000000         50.000000        199.000000"
      ]
     },
     "metadata": {},
     "output_type": "display_data"
    },
    {
     "name": "stdout",
     "output_type": "stream",
     "text": [
      "String data description:\n"
     ]
    },
    {
     "data": {
      "text/html": [
       "<div>\n",
       "<style scoped>\n",
       "    .dataframe tbody tr th:only-of-type {\n",
       "        vertical-align: middle;\n",
       "    }\n",
       "\n",
       "    .dataframe tbody tr th {\n",
       "        vertical-align: top;\n",
       "    }\n",
       "\n",
       "    .dataframe thead th {\n",
       "        text-align: right;\n",
       "    }\n",
       "</style>\n",
       "<table border=\"1\" class=\"dataframe\">\n",
       "  <thead>\n",
       "    <tr style=\"text-align: right;\">\n",
       "      <th></th>\n",
       "      <th>subscription_type</th>\n",
       "    </tr>\n",
       "  </thead>\n",
       "  <tbody>\n",
       "    <tr>\n",
       "      <th>count</th>\n",
       "      <td>2</td>\n",
       "    </tr>\n",
       "    <tr>\n",
       "      <th>unique</th>\n",
       "      <td>2</td>\n",
       "    </tr>\n",
       "    <tr>\n",
       "      <th>top</th>\n",
       "      <td>free</td>\n",
       "    </tr>\n",
       "    <tr>\n",
       "      <th>freq</th>\n",
       "      <td>1</td>\n",
       "    </tr>\n",
       "  </tbody>\n",
       "</table>\n",
       "</div>"
      ],
      "text/plain": [
       "       subscription_type\n",
       "count                  2\n",
       "unique                 2\n",
       "top                 free\n",
       "freq                   1"
      ]
     },
     "metadata": {},
     "output_type": "display_data"
    },
    {
     "name": "stdout",
     "output_type": "stream",
     "text": [
      "\n",
      "First 10 Rows:\n"
     ]
    },
    {
     "data": {
      "text/html": [
       "<div>\n",
       "<style scoped>\n",
       "    .dataframe tbody tr th:only-of-type {\n",
       "        vertical-align: middle;\n",
       "    }\n",
       "\n",
       "    .dataframe tbody tr th {\n",
       "        vertical-align: top;\n",
       "    }\n",
       "\n",
       "    .dataframe thead th {\n",
       "        text-align: right;\n",
       "    }\n",
       "</style>\n",
       "<table border=\"1\" class=\"dataframe\">\n",
       "  <thead>\n",
       "    <tr style=\"text-align: right;\">\n",
       "      <th></th>\n",
       "      <th>subscription_type</th>\n",
       "      <th>minute_price</th>\n",
       "      <th>start_ride_price</th>\n",
       "      <th>subscription_fee</th>\n",
       "    </tr>\n",
       "  </thead>\n",
       "  <tbody>\n",
       "    <tr>\n",
       "      <th>0</th>\n",
       "      <td>free</td>\n",
       "      <td>8</td>\n",
       "      <td>50</td>\n",
       "      <td>0</td>\n",
       "    </tr>\n",
       "    <tr>\n",
       "      <th>1</th>\n",
       "      <td>ultra</td>\n",
       "      <td>6</td>\n",
       "      <td>0</td>\n",
       "      <td>199</td>\n",
       "    </tr>\n",
       "  </tbody>\n",
       "</table>\n",
       "</div>"
      ],
      "text/plain": [
       "  subscription_type  minute_price  start_ride_price  subscription_fee\n",
       "0              free             8                50                 0\n",
       "1             ultra             6                 0               199"
      ]
     },
     "metadata": {},
     "output_type": "display_data"
    },
    {
     "name": "stdout",
     "output_type": "stream",
     "text": [
      "\n",
      "Number of Duplicated Rows:\n",
      " 0\n",
      "\n",
      "Missing Values:\n",
      " 0\n",
      "\n",
      "DataFrame Shape:\n",
      " (2, 4)\n"
     ]
    }
   ],
   "source": [
    "data_check(subscriptions);"
   ]
  },
  {
   "cell_type": "markdown",
   "id": "cbe0aa7d",
   "metadata": {},
   "source": [
    "<div style=\"font-size:175%; font-weight:bold\"> Step 1 conclusion  \n",
    "    </div>\n",
    "\n",
    "        The tables were read and saved in variables. One apparent problem in data was found: outliers in distance and duration in the first quarter of data. "
   ]
  },
  {
   "cell_type": "markdown",
   "id": "e95ebca7",
   "metadata": {},
   "source": [
    "# Step 2. Data preprocessing\n",
    "<a id=\"section6\"></a> "
   ]
  },
  {
   "cell_type": "code",
   "execution_count": 8,
   "id": "7daedd65",
   "metadata": {},
   "outputs": [
    {
     "data": {
      "text/plain": [
       "np.int64(0)"
      ]
     },
     "execution_count": 8,
     "metadata": {},
     "output_type": "execute_result"
    }
   ],
   "source": [
    "#deleting dublicates, because they include same user_id and name\n",
    "users = users.drop_duplicates().reset_index(drop=True)\n",
    "users.duplicated().sum()"
   ]
  },
  {
   "cell_type": "code",
   "execution_count": 9,
   "id": "cb051b9d",
   "metadata": {
    "scrolled": true
   },
   "outputs": [],
   "source": [
    "#adding new column\n",
    "rides['month'] = rides['date'].dt.month"
   ]
  },
  {
   "cell_type": "code",
   "execution_count": 10,
   "id": "b7e3e542",
   "metadata": {},
   "outputs": [],
   "source": [
    "#rounding distance in order to simplify work\n",
    "rides['distance'] = rides['distance'].round()"
   ]
  },
  {
   "cell_type": "code",
   "execution_count": 11,
   "id": "fc18f1c9",
   "metadata": {},
   "outputs": [
    {
     "data": {
      "text/html": [
       "<div>\n",
       "<style scoped>\n",
       "    .dataframe tbody tr th:only-of-type {\n",
       "        vertical-align: middle;\n",
       "    }\n",
       "\n",
       "    .dataframe tbody tr th {\n",
       "        vertical-align: top;\n",
       "    }\n",
       "\n",
       "    .dataframe thead th {\n",
       "        text-align: right;\n",
       "    }\n",
       "</style>\n",
       "<table border=\"1\" class=\"dataframe\">\n",
       "  <thead>\n",
       "    <tr style=\"text-align: right;\">\n",
       "      <th></th>\n",
       "      <th>duration</th>\n",
       "    </tr>\n",
       "  </thead>\n",
       "  <tbody>\n",
       "    <tr>\n",
       "      <th>count</th>\n",
       "      <td>18068.000000</td>\n",
       "    </tr>\n",
       "    <tr>\n",
       "      <th>mean</th>\n",
       "      <td>17.805011</td>\n",
       "    </tr>\n",
       "    <tr>\n",
       "      <th>std</th>\n",
       "      <td>6.091051</td>\n",
       "    </tr>\n",
       "    <tr>\n",
       "      <th>min</th>\n",
       "      <td>0.500000</td>\n",
       "    </tr>\n",
       "    <tr>\n",
       "      <th>25%</th>\n",
       "      <td>13.597563</td>\n",
       "    </tr>\n",
       "    <tr>\n",
       "      <th>50%</th>\n",
       "      <td>17.678395</td>\n",
       "    </tr>\n",
       "    <tr>\n",
       "      <th>75%</th>\n",
       "      <td>21.724800</td>\n",
       "    </tr>\n",
       "    <tr>\n",
       "      <th>max</th>\n",
       "      <td>40.823963</td>\n",
       "    </tr>\n",
       "  </tbody>\n",
       "</table>\n",
       "</div>"
      ],
      "text/plain": [
       "           duration\n",
       "count  18068.000000\n",
       "mean      17.805011\n",
       "std        6.091051\n",
       "min        0.500000\n",
       "25%       13.597563\n",
       "50%       17.678395\n",
       "75%       21.724800\n",
       "max       40.823963"
      ]
     },
     "execution_count": 11,
     "metadata": {},
     "output_type": "execute_result"
    }
   ],
   "source": [
    "#describing and visialising thedata \n",
    "pd.DataFrame(rides['duration'].describe())"
   ]
  },
  {
   "cell_type": "code",
   "execution_count": 12,
   "id": "dda6050a",
   "metadata": {},
   "outputs": [
    {
     "data": {
      "image/png": "[encoded data removed]",
      "text/plain": [
       "<Figure size 640x480 with 1 Axes>"
      ]
     },
     "metadata": {},
     "output_type": "display_data"
    }
   ],
   "source": [
    "rides['duration'].plot(kind='hist', grid=True, bins=50, title=\"Rides' distribution by duration\");"
   ]
  },
  {
   "cell_type": "code",
   "execution_count": 13,
   "id": "f2bfdfab",
   "metadata": {},
   "outputs": [
    {
     "data": {
      "text/html": [
       "<div>\n",
       "<style scoped>\n",
       "    .dataframe tbody tr th:only-of-type {\n",
       "        vertical-align: middle;\n",
       "    }\n",
       "\n",
       "    .dataframe tbody tr th {\n",
       "        vertical-align: top;\n",
       "    }\n",
       "\n",
       "    .dataframe thead th {\n",
       "        text-align: right;\n",
       "    }\n",
       "</style>\n",
       "<table border=\"1\" class=\"dataframe\">\n",
       "  <thead>\n",
       "    <tr style=\"text-align: right;\">\n",
       "      <th></th>\n",
       "      <th>distance</th>\n",
       "    </tr>\n",
       "  </thead>\n",
       "  <tbody>\n",
       "    <tr>\n",
       "      <th>count</th>\n",
       "      <td>18068.000000</td>\n",
       "    </tr>\n",
       "    <tr>\n",
       "      <th>mean</th>\n",
       "      <td>3070.659010</td>\n",
       "    </tr>\n",
       "    <tr>\n",
       "      <th>std</th>\n",
       "      <td>1116.832209</td>\n",
       "    </tr>\n",
       "    <tr>\n",
       "      <th>min</th>\n",
       "      <td>1.000000</td>\n",
       "    </tr>\n",
       "    <tr>\n",
       "      <th>25%</th>\n",
       "      <td>2543.000000</td>\n",
       "    </tr>\n",
       "    <tr>\n",
       "      <th>50%</th>\n",
       "      <td>3134.000000</td>\n",
       "    </tr>\n",
       "    <tr>\n",
       "      <th>75%</th>\n",
       "      <td>3776.000000</td>\n",
       "    </tr>\n",
       "    <tr>\n",
       "      <th>max</th>\n",
       "      <td>7211.000000</td>\n",
       "    </tr>\n",
       "  </tbody>\n",
       "</table>\n",
       "</div>"
      ],
      "text/plain": [
       "           distance\n",
       "count  18068.000000\n",
       "mean    3070.659010\n",
       "std     1116.832209\n",
       "min        1.000000\n",
       "25%     2543.000000\n",
       "50%     3134.000000\n",
       "75%     3776.000000\n",
       "max     7211.000000"
      ]
     },
     "execution_count": 13,
     "metadata": {},
     "output_type": "execute_result"
    }
   ],
   "source": [
    "pd.DataFrame(rides['distance'].describe())"
   ]
  },
  {
   "cell_type": "code",
   "execution_count": 14,
   "id": "cc9f1cd4",
   "metadata": {},
   "outputs": [
    {
     "data": {
      "image/png": "[encoded data removed]",
      "text/plain": [
       "<Figure size 640x480 with 1 Axes>"
      ]
     },
     "metadata": {},
     "output_type": "display_data"
    }
   ],
   "source": [
    "rides['distance'].plot(kind='hist', grid=True, bins=50,\n",
    "                       title=\"Rides' distribution by distance\");"
   ]
  },
  {
   "cell_type": "markdown",
   "id": "f97ef1b0",
   "metadata": {},
   "source": [
    "<div style=\"font-size:175%; font-weight:bold\"> Step 2 conclusion\n",
    "</div>\n",
    "\n",
    "        During the data preprocessing duplicates were dropped, added new column with month's number of the rides, rounded distance column. On the distance plot we can see the two pikes. The second pike is caused by normal distribution. The first one is an outlier, caused by most likely by people who had tecnical issues. "
   ]
  },
  {
   "cell_type": "markdown",
   "id": "212593c7",
   "metadata": {},
   "source": [
    "# Step 3. Exploratory data analysis \n",
    "<a id=\"section7\"></a> "
   ]
  },
  {
   "cell_type": "code",
   "execution_count": 15,
   "id": "4548e9b1",
   "metadata": {},
   "outputs": [],
   "source": [
    "#creating pivot table with users' cities\n",
    "cities = (users[['user_id', 'city']]\n",
    "          .pivot_table(index='city', aggfunc='count')\n",
    "          .sort_values(by='user_id', ascending=False)\n",
    "         )"
   ]
  },
  {
   "cell_type": "code",
   "execution_count": 16,
   "id": "466ed427",
   "metadata": {},
   "outputs": [
    {
     "data": {
      "text/html": [
       "<div>\n",
       "<style scoped>\n",
       "    .dataframe tbody tr th:only-of-type {\n",
       "        vertical-align: middle;\n",
       "    }\n",
       "\n",
       "    .dataframe tbody tr th {\n",
       "        vertical-align: top;\n",
       "    }\n",
       "\n",
       "    .dataframe thead th {\n",
       "        text-align: right;\n",
       "    }\n",
       "</style>\n",
       "<table border=\"1\" class=\"dataframe\">\n",
       "  <thead>\n",
       "    <tr style=\"text-align: right;\">\n",
       "      <th></th>\n",
       "      <th>user_id</th>\n",
       "    </tr>\n",
       "    <tr>\n",
       "      <th>city</th>\n",
       "      <th></th>\n",
       "    </tr>\n",
       "  </thead>\n",
       "  <tbody>\n",
       "    <tr>\n",
       "      <th>Pyatigorsk</th>\n",
       "      <td>219</td>\n",
       "    </tr>\n",
       "    <tr>\n",
       "      <th>Yekaterinburg</th>\n",
       "      <td>204</td>\n",
       "    </tr>\n",
       "    <tr>\n",
       "      <th>Rostov-on-Don</th>\n",
       "      <td>198</td>\n",
       "    </tr>\n",
       "    <tr>\n",
       "      <th>Krasnodar</th>\n",
       "      <td>193</td>\n",
       "    </tr>\n",
       "    <tr>\n",
       "      <th>Sochi</th>\n",
       "      <td>189</td>\n",
       "    </tr>\n",
       "    <tr>\n",
       "      <th>Omsk</th>\n",
       "      <td>183</td>\n",
       "    </tr>\n",
       "    <tr>\n",
       "      <th>Tyumen</th>\n",
       "      <td>180</td>\n",
       "    </tr>\n",
       "    <tr>\n",
       "      <th>Moscow</th>\n",
       "      <td>168</td>\n",
       "    </tr>\n",
       "  </tbody>\n",
       "</table>\n",
       "</div>"
      ],
      "text/plain": [
       "               user_id\n",
       "city                  \n",
       "Pyatigorsk         219\n",
       "Yekaterinburg      204\n",
       "Rostov-on-Don      198\n",
       "Krasnodar          193\n",
       "Sochi              189\n",
       "Omsk               183\n",
       "Tyumen             180\n",
       "Moscow             168"
      ]
     },
     "execution_count": 16,
     "metadata": {},
     "output_type": "execute_result"
    }
   ],
   "source": [
    "cities"
   ]
  },
  {
   "cell_type": "code",
   "execution_count": 17,
   "id": "e3a4274c",
   "metadata": {},
   "outputs": [
    {
     "data": {
      "image/png": "[encoded data removed]",
      "text/plain": [
       "<Figure size 640x480 with 1 Axes>"
      ]
     },
     "metadata": {},
     "output_type": "display_data"
    }
   ],
   "source": [
    "cities.plot(kind='bar', title=\"Users' distribution by city\", legend=False, grid=True)\n",
    "plt.xlabel('')\n",
    "plt.ylabel('Number of users')\n",
    "plt.xticks(rotation=45);"
   ]
  },
  {
   "cell_type": "markdown",
   "id": "85fde1f8",
   "metadata": {},
   "source": [
    "        Service is operating in 8 cities: Yekaterinburg, Krasnodar, Moscow, Omsk, Pyatigorsk, Rostov-on-Don, Sochi, and Tyumen.\n",
    "        Users' range by city: 168 (Moscow)–219 (Pyatigorsk).\n",
    "        The users are distributed almost evenly throughout the cities; there is no city that stands out particularly strongly from the others."
   ]
  },
  {
   "cell_type": "code",
   "execution_count": 18,
   "id": "02e2a160",
   "metadata": {},
   "outputs": [
    {
     "data": {
      "text/plain": [
       "count     1534\n",
       "unique       2\n",
       "top       free\n",
       "freq       835\n",
       "Name: subscription_type, dtype: object"
      ]
     },
     "execution_count": 18,
     "metadata": {},
     "output_type": "execute_result"
    }
   ],
   "source": [
    "#checking how many subsribers of each type are in dataframe\n",
    "users['subscription_type'].describe()"
   ]
  },
  {
   "cell_type": "code",
   "execution_count": 19,
   "id": "a99ef6f4",
   "metadata": {},
   "outputs": [],
   "source": [
    "#ultra subs\n",
    "subs = users[users['subscription_type'] == 'ultra']['city'].count()"
   ]
  },
  {
   "cell_type": "code",
   "execution_count": 20,
   "id": "602b8c71",
   "metadata": {},
   "outputs": [],
   "source": [
    "#free subs\n",
    "non_subs = users[users['subscription_type'] == 'free']['city'].count()"
   ]
  },
  {
   "cell_type": "code",
   "execution_count": 21,
   "id": "0026e169",
   "metadata": {},
   "outputs": [],
   "source": [
    "#function to show the percentages and absolute values of each type at the chart\n",
    "def autopct_func(a, b):\n",
    "    c = int(a/100.*sum(b))\n",
    "    return \"{:.1f}%\\n({:d})\".format(a, c)"
   ]
  },
  {
   "cell_type": "code",
   "execution_count": 22,
   "id": "882db284",
   "metadata": {},
   "outputs": [
    {
     "data": {
      "image/png": "[encoded data removed]",
      "text/plain": [
       "<Figure size 640x480 with 1 Axes>"
      ]
     },
     "metadata": {},
     "output_type": "display_data"
    }
   ],
   "source": [
    "#creating the piechart with subs distribution\n",
    "plt.pie([subs, non_subs], labels=['With subscription', 'Without subscription'],\n",
    "        autopct=(lambda p: autopct_func(p, [subs, non_subs])), startangle=90);"
   ]
  },
  {
   "cell_type": "markdown",
   "id": "407bafa5",
   "metadata": {},
   "source": [
    "         The ratio between ultra and free subscribers is ~36:43 (~45,57%/54,43%). The number of free subscribers is slightly higher than ultra. The revenue generated by different types of users needs to be determined to find out whether the paid subscription is better."
   ]
  },
  {
   "cell_type": "code",
   "execution_count": 23,
   "id": "9a6c2619",
   "metadata": {},
   "outputs": [
    {
     "data": {
      "text/plain": [
       "count    1534\n",
       "mean       24\n",
       "std         4\n",
       "min        12\n",
       "25%        22\n",
       "50%        25\n",
       "75%        28\n",
       "max        43\n",
       "Name: age, dtype: int64"
      ]
     },
     "execution_count": 23,
     "metadata": {},
     "output_type": "execute_result"
    }
   ],
   "source": [
    "users['age'].describe().astype('int64')"
   ]
  },
  {
   "cell_type": "code",
   "execution_count": 24,
   "id": "46db6615",
   "metadata": {},
   "outputs": [
    {
     "data": {
      "image/png": "[encoded data removed]",
      "text/plain": [
       "<Figure size 640x480 with 1 Axes>"
      ]
     },
     "metadata": {},
     "output_type": "display_data"
    }
   ],
   "source": [
    "users['age'].plot(kind='hist', title=\"Users' distribution by age\", bins=15, grid=True)\n",
    "plt.xlabel('Age')\n",
    "plt.ylabel('Number of users');"
   ]
  },
  {
   "cell_type": "markdown",
   "id": "170a8649",
   "metadata": {},
   "source": [
    "        Median age is 25 years. Age spread: 12-43 years. Distribution do not have significant amount of outliers. Interquartile range: 6 years (22-28). In other words, at least half of the users are the older part of youngsters. "
   ]
  },
  {
   "cell_type": "code",
   "execution_count": 25,
   "id": "59ad63bf",
   "metadata": {},
   "outputs": [
    {
     "data": {
      "text/plain": [
       "count    18068.000000\n",
       "mean      3070.659010\n",
       "std       1116.832209\n",
       "min          1.000000\n",
       "25%       2543.000000\n",
       "50%       3134.000000\n",
       "75%       3776.000000\n",
       "max       7211.000000\n",
       "Name: distance, dtype: float64"
      ]
     },
     "execution_count": 25,
     "metadata": {},
     "output_type": "execute_result"
    }
   ],
   "source": [
    "rides['distance'].describe()"
   ]
  },
  {
   "cell_type": "code",
   "execution_count": 26,
   "id": "d7fa035b",
   "metadata": {},
   "outputs": [
    {
     "data": {
      "image/png": "[encoded data removed]",
      "text/plain": [
       "<Figure size 640x480 with 1 Axes>"
      ]
     },
     "metadata": {},
     "output_type": "display_data"
    }
   ],
   "source": [
    "rides['distance'].plot(kind='hist', title=\"Rides' distribution by distance\", grid=True, bins=15)\n",
    "plt.ylabel('Number of rides')\n",
    "plt.xlabel('Distance');"
   ]
  },
  {
   "cell_type": "markdown",
   "id": "55eee7ca",
   "metadata": {},
   "source": [
    "        We can see two pikes at the graph. The second pike is part normal distribution. The first pike is the outliers, that most likely caused by people who had technical problems. This data is not an anomaly because the payment for the rides have been received succesfully. \n",
    "        Median distance: 3129m.\n",
    "        Interquartile range: 1224m (2539-3763m).\n",
    "        According to this data, at least half of the rides are lying within 2.5-3.7 km, which is important to take into account for scooters maintenance and monitoring their status. "
   ]
  },
  {
   "cell_type": "code",
   "execution_count": 27,
   "id": "bba6b383",
   "metadata": {},
   "outputs": [],
   "source": [
    "#rounding data in order to simplify the calculation of revenue in the future\n",
    "rides['duration'] = np.ceil(rides['duration']).astype('int64')"
   ]
  },
  {
   "cell_type": "code",
   "execution_count": 28,
   "id": "465842d5",
   "metadata": {},
   "outputs": [
    {
     "data": {
      "text/plain": [
       "count    18068.000000\n",
       "mean        18.303520\n",
       "std          6.094928\n",
       "min          1.000000\n",
       "25%         14.000000\n",
       "50%         18.000000\n",
       "75%         22.000000\n",
       "max         41.000000\n",
       "Name: duration, dtype: float64"
      ]
     },
     "execution_count": 28,
     "metadata": {},
     "output_type": "execute_result"
    }
   ],
   "source": [
    "rides['duration'].describe()"
   ]
  },
  {
   "cell_type": "code",
   "execution_count": 29,
   "id": "65378bda",
   "metadata": {},
   "outputs": [
    {
     "data": {
      "image/png": "[encoded data removed]",
      "text/plain": [
       "<Figure size 640x480 with 1 Axes>"
      ]
     },
     "metadata": {},
     "output_type": "display_data"
    }
   ],
   "source": [
    "#creating the plot\n",
    "rides['duration'].plot(kind='hist', title=\"Rides' distribution by duration\", grid=True, bins=39)\n",
    "plt.xlabel('Duration in minutes')\n",
    "plt.ylabel('Number of rides');"
   ]
  },
  {
   "cell_type": "markdown",
   "id": "2615d977",
   "metadata": {},
   "source": [
    "        The data was rounded for convinience of work. \n",
    "        Median: 18 minutes\n",
    "        Interquartile range: 8 minutes (14-22 minutes)\n",
    "        Using this data we can approximately understand the scooters status and know the average speed during the ride."
   ]
  },
  {
   "cell_type": "code",
   "execution_count": 30,
   "id": "b454121c-1428-45a7-a0a2-e56edb5b519c",
   "metadata": {},
   "outputs": [],
   "source": [
    "#creating the conclusion dataframe \n",
    "conc_df = (pd.DataFrame({'Median': [25, 3129, 18],\n",
    "                         'Q1': [22, 2539, 14],\n",
    "                         'Q3': [28, 3763, 22],\n",
    "                         '': ['Age(y)', 'Distance(m)', 'Duration(min)']})\n",
    "           .set_index('')\n",
    "          )\n",
    "conc_df['IQR'] = conc_df['Q3'] - conc_df['Q1']"
   ]
  },
  {
   "cell_type": "markdown",
   "id": "0f491cb1",
   "metadata": {},
   "source": [
    "<div style='font-size:175%; font-weight:bold'>Step 3 conclusion</div>\n",
    "\n",
    "        In exploratory data analysis data was examined and visualised.\n",
    "        The ratio between ultra and free subscribers is ~36:43 (~45,57%/54,43%). The number of free subscribers is slightly higher than ultra. The revenue generated by different types of users needs to be determined to find out whether the paid subscription is better.\n",
    "        \n",
    "        Median age: 25 years.\n",
    "        Age spread: 12-43 years.  \n",
    "        Interquartile range: 6 years (22-28).\n",
    "        \n",
    "        Distribution do not have significant amount of outliers.\n",
    "        \n",
    "        In other words, at least half of the users are the older part of youngsters.\n",
    "        We can see two pikes at the distance graph. The second pike is part normal distribution. The first pike is the outliers, that most likely caused by people who had technical problems. This data is not an anomaly because the payment for the rides have been received succesfully.\n",
    "        \n",
    "        Median distance: 3129m.\n",
    "        Interquartile range: 1224m (2539-3763m).\n",
    "        \n",
    "        According to this data, at least half of the rides are lying within 2.5-3.7 km, which is important to take into account for scooters maintenance and monitoring their status. \n",
    "        \n",
    "        The data was rounded to the highest number for convinience of work. \n",
    "        Median: 18 minutes.\n",
    "        Interquartile range: 8 minutes (14-22 minutes).\n",
    "        \n",
    "        Using this data we can approximately understand the scooters status and know the average speed during the ride."
   ]
  },
  {
   "cell_type": "code",
   "execution_count": 31,
   "id": "4a3a8fea-e7e6-43da-a473-ec877c8d07bd",
   "metadata": {},
   "outputs": [
    {
     "data": {
      "text/html": [
       "<div>\n",
       "<style scoped>\n",
       "    .dataframe tbody tr th:only-of-type {\n",
       "        vertical-align: middle;\n",
       "    }\n",
       "\n",
       "    .dataframe tbody tr th {\n",
       "        vertical-align: top;\n",
       "    }\n",
       "\n",
       "    .dataframe thead th {\n",
       "        text-align: right;\n",
       "    }\n",
       "</style>\n",
       "<table border=\"1\" class=\"dataframe\">\n",
       "  <thead>\n",
       "    <tr style=\"text-align: right;\">\n",
       "      <th></th>\n",
       "      <th>Median</th>\n",
       "      <th>Q1</th>\n",
       "      <th>Q3</th>\n",
       "      <th>IQR</th>\n",
       "    </tr>\n",
       "    <tr>\n",
       "      <th></th>\n",
       "      <th></th>\n",
       "      <th></th>\n",
       "      <th></th>\n",
       "      <th></th>\n",
       "    </tr>\n",
       "  </thead>\n",
       "  <tbody>\n",
       "    <tr>\n",
       "      <th>Age(y)</th>\n",
       "      <td>25</td>\n",
       "      <td>22</td>\n",
       "      <td>28</td>\n",
       "      <td>6</td>\n",
       "    </tr>\n",
       "    <tr>\n",
       "      <th>Distance(m)</th>\n",
       "      <td>3129</td>\n",
       "      <td>2539</td>\n",
       "      <td>3763</td>\n",
       "      <td>1224</td>\n",
       "    </tr>\n",
       "    <tr>\n",
       "      <th>Duration(min)</th>\n",
       "      <td>18</td>\n",
       "      <td>14</td>\n",
       "      <td>22</td>\n",
       "      <td>8</td>\n",
       "    </tr>\n",
       "  </tbody>\n",
       "</table>\n",
       "</div>"
      ],
      "text/plain": [
       "               Median    Q1    Q3   IQR\n",
       "                                       \n",
       "Age(y)             25    22    28     6\n",
       "Distance(m)      3129  2539  3763  1224\n",
       "Duration(min)      18    14    22     8"
      ]
     },
     "execution_count": 31,
     "metadata": {},
     "output_type": "execute_result"
    }
   ],
   "source": [
    "conc_df"
   ]
  },
  {
   "cell_type": "markdown",
   "id": "4ef51331",
   "metadata": {},
   "source": [
    "# Step 4. Merging data\n",
    "<a id=\"section8\"></a> "
   ]
  },
  {
   "cell_type": "code",
   "execution_count": 32,
   "id": "329b0391",
   "metadata": {},
   "outputs": [
    {
     "data": {
      "text/plain": [
       "(1534, 5)"
      ]
     },
     "metadata": {},
     "output_type": "display_data"
    },
    {
     "data": {
      "text/plain": [
       "(18068, 5)"
      ]
     },
     "metadata": {},
     "output_type": "display_data"
    },
    {
     "data": {
      "text/plain": [
       "(2, 4)"
      ]
     },
     "execution_count": 32,
     "metadata": {},
     "output_type": "execute_result"
    }
   ],
   "source": [
    "#displaying the shape of all datasets\n",
    "display(users.shape)\n",
    "display(rides.shape)\n",
    "subscriptions.shape"
   ]
  },
  {
   "cell_type": "markdown",
   "id": "13cdc839",
   "metadata": {},
   "source": [
    "        Because the tables are merged on one the columns, so the shape of final dataset must be (18068, 12); 18068 - is the largest rows number among datasets, 12 is the number of columns that will be after the merging(5+5-1+4-1). We substract 1 since we merge on one of the columns each time."
   ]
  },
  {
   "cell_type": "code",
   "execution_count": 33,
   "id": "6bf288b5",
   "metadata": {},
   "outputs": [],
   "source": [
    "#merging data\n",
    "data_merged = pd.merge(users, rides, on='user_id', how='left')\n",
    "data_merged = pd.merge(data_merged, subscriptions, on='subscription_type', how='left')"
   ]
  },
  {
   "cell_type": "code",
   "execution_count": 34,
   "id": "ecb5ac40",
   "metadata": {},
   "outputs": [
    {
     "data": {
      "text/html": [
       "<div>\n",
       "<style scoped>\n",
       "    .dataframe tbody tr th:only-of-type {\n",
       "        vertical-align: middle;\n",
       "    }\n",
       "\n",
       "    .dataframe tbody tr th {\n",
       "        vertical-align: top;\n",
       "    }\n",
       "\n",
       "    .dataframe thead th {\n",
       "        text-align: right;\n",
       "    }\n",
       "</style>\n",
       "<table border=\"1\" class=\"dataframe\">\n",
       "  <thead>\n",
       "    <tr style=\"text-align: right;\">\n",
       "      <th></th>\n",
       "      <th>user_id</th>\n",
       "      <th>name</th>\n",
       "      <th>age</th>\n",
       "      <th>city</th>\n",
       "      <th>subscription_type</th>\n",
       "      <th>distance</th>\n",
       "      <th>duration</th>\n",
       "      <th>date</th>\n",
       "      <th>month</th>\n",
       "      <th>minute_price</th>\n",
       "      <th>start_ride_price</th>\n",
       "      <th>subscription_fee</th>\n",
       "    </tr>\n",
       "  </thead>\n",
       "  <tbody>\n",
       "    <tr>\n",
       "      <th>18058</th>\n",
       "      <td>1534</td>\n",
       "      <td>Al'bert</td>\n",
       "      <td>25</td>\n",
       "      <td>Krasnodar</td>\n",
       "      <td>free</td>\n",
       "      <td>195.0</td>\n",
       "      <td>7</td>\n",
       "      <td>2021-06-11</td>\n",
       "      <td>6</td>\n",
       "      <td>8</td>\n",
       "      <td>50</td>\n",
       "      <td>0</td>\n",
       "    </tr>\n",
       "    <tr>\n",
       "      <th>18059</th>\n",
       "      <td>1534</td>\n",
       "      <td>Al'bert</td>\n",
       "      <td>25</td>\n",
       "      <td>Krasnodar</td>\n",
       "      <td>free</td>\n",
       "      <td>3214.0</td>\n",
       "      <td>19</td>\n",
       "      <td>2021-06-18</td>\n",
       "      <td>6</td>\n",
       "      <td>8</td>\n",
       "      <td>50</td>\n",
       "      <td>0</td>\n",
       "    </tr>\n",
       "    <tr>\n",
       "      <th>18060</th>\n",
       "      <td>1534</td>\n",
       "      <td>Al'bert</td>\n",
       "      <td>25</td>\n",
       "      <td>Krasnodar</td>\n",
       "      <td>free</td>\n",
       "      <td>3645.0</td>\n",
       "      <td>21</td>\n",
       "      <td>2021-08-08</td>\n",
       "      <td>8</td>\n",
       "      <td>8</td>\n",
       "      <td>50</td>\n",
       "      <td>0</td>\n",
       "    </tr>\n",
       "    <tr>\n",
       "      <th>18061</th>\n",
       "      <td>1534</td>\n",
       "      <td>Al'bert</td>\n",
       "      <td>25</td>\n",
       "      <td>Krasnodar</td>\n",
       "      <td>free</td>\n",
       "      <td>3978.0</td>\n",
       "      <td>27</td>\n",
       "      <td>2021-08-20</td>\n",
       "      <td>8</td>\n",
       "      <td>8</td>\n",
       "      <td>50</td>\n",
       "      <td>0</td>\n",
       "    </tr>\n",
       "    <tr>\n",
       "      <th>18062</th>\n",
       "      <td>1534</td>\n",
       "      <td>Al'bert</td>\n",
       "      <td>25</td>\n",
       "      <td>Krasnodar</td>\n",
       "      <td>free</td>\n",
       "      <td>4928.0</td>\n",
       "      <td>23</td>\n",
       "      <td>2021-09-13</td>\n",
       "      <td>9</td>\n",
       "      <td>8</td>\n",
       "      <td>50</td>\n",
       "      <td>0</td>\n",
       "    </tr>\n",
       "    <tr>\n",
       "      <th>18063</th>\n",
       "      <td>1534</td>\n",
       "      <td>Al'bert</td>\n",
       "      <td>25</td>\n",
       "      <td>Krasnodar</td>\n",
       "      <td>free</td>\n",
       "      <td>3781.0</td>\n",
       "      <td>20</td>\n",
       "      <td>2021-11-04</td>\n",
       "      <td>11</td>\n",
       "      <td>8</td>\n",
       "      <td>50</td>\n",
       "      <td>0</td>\n",
       "    </tr>\n",
       "    <tr>\n",
       "      <th>18064</th>\n",
       "      <td>1534</td>\n",
       "      <td>Al'bert</td>\n",
       "      <td>25</td>\n",
       "      <td>Krasnodar</td>\n",
       "      <td>free</td>\n",
       "      <td>2840.0</td>\n",
       "      <td>22</td>\n",
       "      <td>2021-11-16</td>\n",
       "      <td>11</td>\n",
       "      <td>8</td>\n",
       "      <td>50</td>\n",
       "      <td>0</td>\n",
       "    </tr>\n",
       "    <tr>\n",
       "      <th>18065</th>\n",
       "      <td>1534</td>\n",
       "      <td>Al'bert</td>\n",
       "      <td>25</td>\n",
       "      <td>Krasnodar</td>\n",
       "      <td>free</td>\n",
       "      <td>3826.0</td>\n",
       "      <td>19</td>\n",
       "      <td>2021-11-18</td>\n",
       "      <td>11</td>\n",
       "      <td>8</td>\n",
       "      <td>50</td>\n",
       "      <td>0</td>\n",
       "    </tr>\n",
       "    <tr>\n",
       "      <th>18066</th>\n",
       "      <td>1534</td>\n",
       "      <td>Al'bert</td>\n",
       "      <td>25</td>\n",
       "      <td>Krasnodar</td>\n",
       "      <td>free</td>\n",
       "      <td>2902.0</td>\n",
       "      <td>17</td>\n",
       "      <td>2021-11-27</td>\n",
       "      <td>11</td>\n",
       "      <td>8</td>\n",
       "      <td>50</td>\n",
       "      <td>0</td>\n",
       "    </tr>\n",
       "    <tr>\n",
       "      <th>18067</th>\n",
       "      <td>1534</td>\n",
       "      <td>Al'bert</td>\n",
       "      <td>25</td>\n",
       "      <td>Krasnodar</td>\n",
       "      <td>free</td>\n",
       "      <td>2372.0</td>\n",
       "      <td>16</td>\n",
       "      <td>2021-12-29</td>\n",
       "      <td>12</td>\n",
       "      <td>8</td>\n",
       "      <td>50</td>\n",
       "      <td>0</td>\n",
       "    </tr>\n",
       "  </tbody>\n",
       "</table>\n",
       "</div>"
      ],
      "text/plain": [
       "       user_id     name  age       city subscription_type  distance  duration  \\\n",
       "18058     1534  Al'bert   25  Krasnodar              free     195.0         7   \n",
       "18059     1534  Al'bert   25  Krasnodar              free    3214.0        19   \n",
       "18060     1534  Al'bert   25  Krasnodar              free    3645.0        21   \n",
       "18061     1534  Al'bert   25  Krasnodar              free    3978.0        27   \n",
       "18062     1534  Al'bert   25  Krasnodar              free    4928.0        23   \n",
       "18063     1534  Al'bert   25  Krasnodar              free    3781.0        20   \n",
       "18064     1534  Al'bert   25  Krasnodar              free    2840.0        22   \n",
       "18065     1534  Al'bert   25  Krasnodar              free    3826.0        19   \n",
       "18066     1534  Al'bert   25  Krasnodar              free    2902.0        17   \n",
       "18067     1534  Al'bert   25  Krasnodar              free    2372.0        16   \n",
       "\n",
       "            date  month  minute_price  start_ride_price  subscription_fee  \n",
       "18058 2021-06-11      6             8                50                 0  \n",
       "18059 2021-06-18      6             8                50                 0  \n",
       "18060 2021-08-08      8             8                50                 0  \n",
       "18061 2021-08-20      8             8                50                 0  \n",
       "18062 2021-09-13      9             8                50                 0  \n",
       "18063 2021-11-04     11             8                50                 0  \n",
       "18064 2021-11-16     11             8                50                 0  \n",
       "18065 2021-11-18     11             8                50                 0  \n",
       "18066 2021-11-27     11             8                50                 0  \n",
       "18067 2021-12-29     12             8                50                 0  "
      ]
     },
     "execution_count": 34,
     "metadata": {},
     "output_type": "execute_result"
    }
   ],
   "source": [
    "#displaying the last 10 rows\n",
    "data_merged.tail(10)"
   ]
  },
  {
   "cell_type": "code",
   "execution_count": 35,
   "id": "a3cc1403",
   "metadata": {},
   "outputs": [
    {
     "name": "stdout",
     "output_type": "stream",
     "text": [
      "Data Info:\n",
      "\n",
      "<class 'pandas.core.frame.DataFrame'>\n",
      "RangeIndex: 18068 entries, 0 to 18067\n",
      "Data columns (total 12 columns):\n",
      " #   Column             Non-Null Count  Dtype         \n",
      "---  ------             --------------  -----         \n",
      " 0   user_id            18068 non-null  int64         \n",
      " 1   name               18068 non-null  object        \n",
      " 2   age                18068 non-null  int64         \n",
      " 3   city               18068 non-null  object        \n",
      " 4   subscription_type  18068 non-null  object        \n",
      " 5   distance           18068 non-null  float64       \n",
      " 6   duration           18068 non-null  int64         \n",
      " 7   date               18068 non-null  datetime64[ns]\n",
      " 8   month              18068 non-null  int32         \n",
      " 9   minute_price       18068 non-null  int64         \n",
      " 10  start_ride_price   18068 non-null  int64         \n",
      " 11  subscription_fee   18068 non-null  int64         \n",
      "dtypes: datetime64[ns](1), float64(1), int32(1), int64(6), object(3)\n",
      "memory usage: 1.6+ MB\n",
      "\n",
      "Numerical data description:\n"
     ]
    },
    {
     "data": {
      "text/html": [
       "<div>\n",
       "<style scoped>\n",
       "    .dataframe tbody tr th:only-of-type {\n",
       "        vertical-align: middle;\n",
       "    }\n",
       "\n",
       "    .dataframe tbody tr th {\n",
       "        vertical-align: top;\n",
       "    }\n",
       "\n",
       "    .dataframe thead th {\n",
       "        text-align: right;\n",
       "    }\n",
       "</style>\n",
       "<table border=\"1\" class=\"dataframe\">\n",
       "  <thead>\n",
       "    <tr style=\"text-align: right;\">\n",
       "      <th></th>\n",
       "      <th>user_id</th>\n",
       "      <th>age</th>\n",
       "      <th>distance</th>\n",
       "      <th>duration</th>\n",
       "      <th>date</th>\n",
       "      <th>month</th>\n",
       "      <th>minute_price</th>\n",
       "      <th>start_ride_price</th>\n",
       "      <th>subscription_fee</th>\n",
       "    </tr>\n",
       "  </thead>\n",
       "  <tbody>\n",
       "    <tr>\n",
       "      <th>count</th>\n",
       "      <td>18068.000000</td>\n",
       "      <td>18068.000000</td>\n",
       "      <td>18068.000000</td>\n",
       "      <td>18068.000000</td>\n",
       "      <td>18068</td>\n",
       "      <td>18068.000000</td>\n",
       "      <td>18068.000000</td>\n",
       "      <td>18068.000000</td>\n",
       "      <td>18068.000000</td>\n",
       "    </tr>\n",
       "    <tr>\n",
       "      <th>mean</th>\n",
       "      <td>842.869936</td>\n",
       "      <td>24.893071</td>\n",
       "      <td>3070.659010</td>\n",
       "      <td>18.303520</td>\n",
       "      <td>2021-06-30 19:47:21.266327296</td>\n",
       "      <td>6.486772</td>\n",
       "      <td>7.280496</td>\n",
       "      <td>32.012398</td>\n",
       "      <td>71.590658</td>\n",
       "    </tr>\n",
       "    <tr>\n",
       "      <th>min</th>\n",
       "      <td>1.000000</td>\n",
       "      <td>12.000000</td>\n",
       "      <td>1.000000</td>\n",
       "      <td>1.000000</td>\n",
       "      <td>2021-01-01 00:00:00</td>\n",
       "      <td>1.000000</td>\n",
       "      <td>6.000000</td>\n",
       "      <td>0.000000</td>\n",
       "      <td>0.000000</td>\n",
       "    </tr>\n",
       "    <tr>\n",
       "      <th>25%</th>\n",
       "      <td>487.000000</td>\n",
       "      <td>22.000000</td>\n",
       "      <td>2543.000000</td>\n",
       "      <td>14.000000</td>\n",
       "      <td>2021-04-02 00:00:00</td>\n",
       "      <td>4.000000</td>\n",
       "      <td>6.000000</td>\n",
       "      <td>0.000000</td>\n",
       "      <td>0.000000</td>\n",
       "    </tr>\n",
       "    <tr>\n",
       "      <th>50%</th>\n",
       "      <td>889.000000</td>\n",
       "      <td>25.000000</td>\n",
       "      <td>3134.000000</td>\n",
       "      <td>18.000000</td>\n",
       "      <td>2021-06-30 00:00:00</td>\n",
       "      <td>6.000000</td>\n",
       "      <td>8.000000</td>\n",
       "      <td>50.000000</td>\n",
       "      <td>0.000000</td>\n",
       "    </tr>\n",
       "    <tr>\n",
       "      <th>75%</th>\n",
       "      <td>1213.250000</td>\n",
       "      <td>28.000000</td>\n",
       "      <td>3776.000000</td>\n",
       "      <td>22.000000</td>\n",
       "      <td>2021-09-28 00:00:00</td>\n",
       "      <td>9.000000</td>\n",
       "      <td>8.000000</td>\n",
       "      <td>50.000000</td>\n",
       "      <td>199.000000</td>\n",
       "    </tr>\n",
       "    <tr>\n",
       "      <th>max</th>\n",
       "      <td>1534.000000</td>\n",
       "      <td>43.000000</td>\n",
       "      <td>7211.000000</td>\n",
       "      <td>41.000000</td>\n",
       "      <td>2021-12-30 00:00:00</td>\n",
       "      <td>12.000000</td>\n",
       "      <td>8.000000</td>\n",
       "      <td>50.000000</td>\n",
       "      <td>199.000000</td>\n",
       "    </tr>\n",
       "    <tr>\n",
       "      <th>std</th>\n",
       "      <td>434.734317</td>\n",
       "      <td>4.582216</td>\n",
       "      <td>1116.832209</td>\n",
       "      <td>6.094928</td>\n",
       "      <td>NaN</td>\n",
       "      <td>3.437410</td>\n",
       "      <td>0.959882</td>\n",
       "      <td>23.997045</td>\n",
       "      <td>95.508238</td>\n",
       "    </tr>\n",
       "  </tbody>\n",
       "</table>\n",
       "</div>"
      ],
      "text/plain": [
       "            user_id           age      distance      duration  \\\n",
       "count  18068.000000  18068.000000  18068.000000  18068.000000   \n",
       "mean     842.869936     24.893071   3070.659010     18.303520   \n",
       "min        1.000000     12.000000      1.000000      1.000000   \n",
       "25%      487.000000     22.000000   2543.000000     14.000000   \n",
       "50%      889.000000     25.000000   3134.000000     18.000000   \n",
       "75%     1213.250000     28.000000   3776.000000     22.000000   \n",
       "max     1534.000000     43.000000   7211.000000     41.000000   \n",
       "std      434.734317      4.582216   1116.832209      6.094928   \n",
       "\n",
       "                                date         month  minute_price  \\\n",
       "count                          18068  18068.000000  18068.000000   \n",
       "mean   2021-06-30 19:47:21.266327296      6.486772      7.280496   \n",
       "min              2021-01-01 00:00:00      1.000000      6.000000   \n",
       "25%              2021-04-02 00:00:00      4.000000      6.000000   \n",
       "50%              2021-06-30 00:00:00      6.000000      8.000000   \n",
       "75%              2021-09-28 00:00:00      9.000000      8.000000   \n",
       "max              2021-12-30 00:00:00     12.000000      8.000000   \n",
       "std                              NaN      3.437410      0.959882   \n",
       "\n",
       "       start_ride_price  subscription_fee  \n",
       "count      18068.000000      18068.000000  \n",
       "mean          32.012398         71.590658  \n",
       "min            0.000000          0.000000  \n",
       "25%            0.000000          0.000000  \n",
       "50%           50.000000          0.000000  \n",
       "75%           50.000000        199.000000  \n",
       "max           50.000000        199.000000  \n",
       "std           23.997045         95.508238  "
      ]
     },
     "metadata": {},
     "output_type": "display_data"
    },
    {
     "name": "stdout",
     "output_type": "stream",
     "text": [
      "String data description:\n"
     ]
    },
    {
     "data": {
      "text/html": [
       "<div>\n",
       "<style scoped>\n",
       "    .dataframe tbody tr th:only-of-type {\n",
       "        vertical-align: middle;\n",
       "    }\n",
       "\n",
       "    .dataframe tbody tr th {\n",
       "        vertical-align: top;\n",
       "    }\n",
       "\n",
       "    .dataframe thead th {\n",
       "        text-align: right;\n",
       "    }\n",
       "</style>\n",
       "<table border=\"1\" class=\"dataframe\">\n",
       "  <thead>\n",
       "    <tr style=\"text-align: right;\">\n",
       "      <th></th>\n",
       "      <th>name</th>\n",
       "      <th>city</th>\n",
       "      <th>subscription_type</th>\n",
       "    </tr>\n",
       "  </thead>\n",
       "  <tbody>\n",
       "    <tr>\n",
       "      <th>count</th>\n",
       "      <td>18068</td>\n",
       "      <td>18068</td>\n",
       "      <td>18068</td>\n",
       "    </tr>\n",
       "    <tr>\n",
       "      <th>unique</th>\n",
       "      <td>194</td>\n",
       "      <td>8</td>\n",
       "      <td>2</td>\n",
       "    </tr>\n",
       "    <tr>\n",
       "      <th>top</th>\n",
       "      <td>Anna</td>\n",
       "      <td>Pyatigorsk</td>\n",
       "      <td>free</td>\n",
       "    </tr>\n",
       "    <tr>\n",
       "      <th>freq</th>\n",
       "      <td>310</td>\n",
       "      <td>2524</td>\n",
       "      <td>11568</td>\n",
       "    </tr>\n",
       "  </tbody>\n",
       "</table>\n",
       "</div>"
      ],
      "text/plain": [
       "         name        city subscription_type\n",
       "count   18068       18068             18068\n",
       "unique    194           8                 2\n",
       "top      Anna  Pyatigorsk              free\n",
       "freq      310        2524             11568"
      ]
     },
     "metadata": {},
     "output_type": "display_data"
    },
    {
     "name": "stdout",
     "output_type": "stream",
     "text": [
      "\n",
      "First 10 Rows:\n"
     ]
    },
    {
     "data": {
      "text/html": [
       "<div>\n",
       "<style scoped>\n",
       "    .dataframe tbody tr th:only-of-type {\n",
       "        vertical-align: middle;\n",
       "    }\n",
       "\n",
       "    .dataframe tbody tr th {\n",
       "        vertical-align: top;\n",
       "    }\n",
       "\n",
       "    .dataframe thead th {\n",
       "        text-align: right;\n",
       "    }\n",
       "</style>\n",
       "<table border=\"1\" class=\"dataframe\">\n",
       "  <thead>\n",
       "    <tr style=\"text-align: right;\">\n",
       "      <th></th>\n",
       "      <th>user_id</th>\n",
       "      <th>name</th>\n",
       "      <th>age</th>\n",
       "      <th>city</th>\n",
       "      <th>subscription_type</th>\n",
       "      <th>distance</th>\n",
       "      <th>duration</th>\n",
       "      <th>date</th>\n",
       "      <th>month</th>\n",
       "      <th>minute_price</th>\n",
       "      <th>start_ride_price</th>\n",
       "      <th>subscription_fee</th>\n",
       "    </tr>\n",
       "  </thead>\n",
       "  <tbody>\n",
       "    <tr>\n",
       "      <th>0</th>\n",
       "      <td>1</td>\n",
       "      <td>Kira</td>\n",
       "      <td>22</td>\n",
       "      <td>Tyumen</td>\n",
       "      <td>ultra</td>\n",
       "      <td>4410.0</td>\n",
       "      <td>26</td>\n",
       "      <td>2021-01-01</td>\n",
       "      <td>1</td>\n",
       "      <td>6</td>\n",
       "      <td>0</td>\n",
       "      <td>199</td>\n",
       "    </tr>\n",
       "    <tr>\n",
       "      <th>1</th>\n",
       "      <td>1</td>\n",
       "      <td>Kira</td>\n",
       "      <td>22</td>\n",
       "      <td>Tyumen</td>\n",
       "      <td>ultra</td>\n",
       "      <td>2618.0</td>\n",
       "      <td>16</td>\n",
       "      <td>2021-01-18</td>\n",
       "      <td>1</td>\n",
       "      <td>6</td>\n",
       "      <td>0</td>\n",
       "      <td>199</td>\n",
       "    </tr>\n",
       "    <tr>\n",
       "      <th>2</th>\n",
       "      <td>1</td>\n",
       "      <td>Kira</td>\n",
       "      <td>22</td>\n",
       "      <td>Tyumen</td>\n",
       "      <td>ultra</td>\n",
       "      <td>754.0</td>\n",
       "      <td>7</td>\n",
       "      <td>2021-04-20</td>\n",
       "      <td>4</td>\n",
       "      <td>6</td>\n",
       "      <td>0</td>\n",
       "      <td>199</td>\n",
       "    </tr>\n",
       "    <tr>\n",
       "      <th>3</th>\n",
       "      <td>1</td>\n",
       "      <td>Kira</td>\n",
       "      <td>22</td>\n",
       "      <td>Tyumen</td>\n",
       "      <td>ultra</td>\n",
       "      <td>2695.0</td>\n",
       "      <td>19</td>\n",
       "      <td>2021-08-11</td>\n",
       "      <td>8</td>\n",
       "      <td>6</td>\n",
       "      <td>0</td>\n",
       "      <td>199</td>\n",
       "    </tr>\n",
       "    <tr>\n",
       "      <th>4</th>\n",
       "      <td>1</td>\n",
       "      <td>Kira</td>\n",
       "      <td>22</td>\n",
       "      <td>Tyumen</td>\n",
       "      <td>ultra</td>\n",
       "      <td>4029.0</td>\n",
       "      <td>27</td>\n",
       "      <td>2021-08-28</td>\n",
       "      <td>8</td>\n",
       "      <td>6</td>\n",
       "      <td>0</td>\n",
       "      <td>199</td>\n",
       "    </tr>\n",
       "    <tr>\n",
       "      <th>5</th>\n",
       "      <td>1</td>\n",
       "      <td>Kira</td>\n",
       "      <td>22</td>\n",
       "      <td>Tyumen</td>\n",
       "      <td>ultra</td>\n",
       "      <td>2771.0</td>\n",
       "      <td>17</td>\n",
       "      <td>2021-10-09</td>\n",
       "      <td>10</td>\n",
       "      <td>6</td>\n",
       "      <td>0</td>\n",
       "      <td>199</td>\n",
       "    </tr>\n",
       "    <tr>\n",
       "      <th>6</th>\n",
       "      <td>1</td>\n",
       "      <td>Kira</td>\n",
       "      <td>22</td>\n",
       "      <td>Tyumen</td>\n",
       "      <td>ultra</td>\n",
       "      <td>3039.0</td>\n",
       "      <td>15</td>\n",
       "      <td>2021-10-19</td>\n",
       "      <td>10</td>\n",
       "      <td>6</td>\n",
       "      <td>0</td>\n",
       "      <td>199</td>\n",
       "    </tr>\n",
       "    <tr>\n",
       "      <th>7</th>\n",
       "      <td>1</td>\n",
       "      <td>Kira</td>\n",
       "      <td>22</td>\n",
       "      <td>Tyumen</td>\n",
       "      <td>ultra</td>\n",
       "      <td>2842.0</td>\n",
       "      <td>24</td>\n",
       "      <td>2021-11-06</td>\n",
       "      <td>11</td>\n",
       "      <td>6</td>\n",
       "      <td>0</td>\n",
       "      <td>199</td>\n",
       "    </tr>\n",
       "    <tr>\n",
       "      <th>8</th>\n",
       "      <td>1</td>\n",
       "      <td>Kira</td>\n",
       "      <td>22</td>\n",
       "      <td>Tyumen</td>\n",
       "      <td>ultra</td>\n",
       "      <td>3413.0</td>\n",
       "      <td>16</td>\n",
       "      <td>2021-11-14</td>\n",
       "      <td>11</td>\n",
       "      <td>6</td>\n",
       "      <td>0</td>\n",
       "      <td>199</td>\n",
       "    </tr>\n",
       "    <tr>\n",
       "      <th>9</th>\n",
       "      <td>1</td>\n",
       "      <td>Kira</td>\n",
       "      <td>22</td>\n",
       "      <td>Tyumen</td>\n",
       "      <td>ultra</td>\n",
       "      <td>749.0</td>\n",
       "      <td>16</td>\n",
       "      <td>2021-11-22</td>\n",
       "      <td>11</td>\n",
       "      <td>6</td>\n",
       "      <td>0</td>\n",
       "      <td>199</td>\n",
       "    </tr>\n",
       "  </tbody>\n",
       "</table>\n",
       "</div>"
      ],
      "text/plain": [
       "   user_id  name  age    city subscription_type  distance  duration  \\\n",
       "0        1  Kira   22  Tyumen             ultra    4410.0        26   \n",
       "1        1  Kira   22  Tyumen             ultra    2618.0        16   \n",
       "2        1  Kira   22  Tyumen             ultra     754.0         7   \n",
       "3        1  Kira   22  Tyumen             ultra    2695.0        19   \n",
       "4        1  Kira   22  Tyumen             ultra    4029.0        27   \n",
       "5        1  Kira   22  Tyumen             ultra    2771.0        17   \n",
       "6        1  Kira   22  Tyumen             ultra    3039.0        15   \n",
       "7        1  Kira   22  Tyumen             ultra    2842.0        24   \n",
       "8        1  Kira   22  Tyumen             ultra    3413.0        16   \n",
       "9        1  Kira   22  Tyumen             ultra     749.0        16   \n",
       "\n",
       "        date  month  minute_price  start_ride_price  subscription_fee  \n",
       "0 2021-01-01      1             6                 0               199  \n",
       "1 2021-01-18      1             6                 0               199  \n",
       "2 2021-04-20      4             6                 0               199  \n",
       "3 2021-08-11      8             6                 0               199  \n",
       "4 2021-08-28      8             6                 0               199  \n",
       "5 2021-10-09     10             6                 0               199  \n",
       "6 2021-10-19     10             6                 0               199  \n",
       "7 2021-11-06     11             6                 0               199  \n",
       "8 2021-11-14     11             6                 0               199  \n",
       "9 2021-11-22     11             6                 0               199  "
      ]
     },
     "metadata": {},
     "output_type": "display_data"
    },
    {
     "name": "stdout",
     "output_type": "stream",
     "text": [
      "\n",
      "Number of Duplicated Rows:\n",
      " 0\n",
      "\n",
      "Missing Values:\n",
      " 0\n",
      "\n",
      "DataFrame Shape:\n",
      " (18068, 12)\n"
     ]
    }
   ],
   "source": [
    "#checking if the final dataset is sound\n",
    "data_check(data_merged);"
   ]
  },
  {
   "cell_type": "markdown",
   "id": "cd52a40e",
   "metadata": {},
   "source": [
    "        The tables are merged correctly. The shape meets the requirments. There are no missing values and duplicates."
   ]
  },
  {
   "cell_type": "code",
   "execution_count": 36,
   "id": "a601347f",
   "metadata": {},
   "outputs": [],
   "source": [
    "#creating datasets with paid and free subscribers\n",
    "subscribed = data_merged[data_merged['subscription_type'] == 'ultra'].reset_index(drop=True)\n",
    "not_subscribed = data_merged[data_merged['subscription_type'] == 'free'].reset_index(drop=True)"
   ]
  },
  {
   "cell_type": "code",
   "execution_count": 37,
   "id": "b63ddc41",
   "metadata": {},
   "outputs": [
    {
     "name": "stdout",
     "output_type": "stream",
     "text": [
      "Data Info:\n",
      "\n",
      "<class 'pandas.core.frame.DataFrame'>\n",
      "RangeIndex: 6500 entries, 0 to 6499\n",
      "Data columns (total 12 columns):\n",
      " #   Column             Non-Null Count  Dtype         \n",
      "---  ------             --------------  -----         \n",
      " 0   user_id            6500 non-null   int64         \n",
      " 1   name               6500 non-null   object        \n",
      " 2   age                6500 non-null   int64         \n",
      " 3   city               6500 non-null   object        \n",
      " 4   subscription_type  6500 non-null   object        \n",
      " 5   distance           6500 non-null   float64       \n",
      " 6   duration           6500 non-null   int64         \n",
      " 7   date               6500 non-null   datetime64[ns]\n",
      " 8   month              6500 non-null   int32         \n",
      " 9   minute_price       6500 non-null   int64         \n",
      " 10  start_ride_price   6500 non-null   int64         \n",
      " 11  subscription_fee   6500 non-null   int64         \n",
      "dtypes: datetime64[ns](1), float64(1), int32(1), int64(6), object(3)\n",
      "memory usage: 584.1+ KB\n",
      "\n",
      "Numerical data description:\n"
     ]
    },
    {
     "data": {
      "text/html": [
       "<div>\n",
       "<style scoped>\n",
       "    .dataframe tbody tr th:only-of-type {\n",
       "        vertical-align: middle;\n",
       "    }\n",
       "\n",
       "    .dataframe tbody tr th {\n",
       "        vertical-align: top;\n",
       "    }\n",
       "\n",
       "    .dataframe thead th {\n",
       "        text-align: right;\n",
       "    }\n",
       "</style>\n",
       "<table border=\"1\" class=\"dataframe\">\n",
       "  <thead>\n",
       "    <tr style=\"text-align: right;\">\n",
       "      <th></th>\n",
       "      <th>user_id</th>\n",
       "      <th>age</th>\n",
       "      <th>distance</th>\n",
       "      <th>duration</th>\n",
       "      <th>date</th>\n",
       "      <th>month</th>\n",
       "      <th>minute_price</th>\n",
       "      <th>start_ride_price</th>\n",
       "      <th>subscription_fee</th>\n",
       "    </tr>\n",
       "  </thead>\n",
       "  <tbody>\n",
       "    <tr>\n",
       "      <th>count</th>\n",
       "      <td>6500.000000</td>\n",
       "      <td>6500.000000</td>\n",
       "      <td>6500.000000</td>\n",
       "      <td>6500.000000</td>\n",
       "      <td>6500</td>\n",
       "      <td>6500.000000</td>\n",
       "      <td>6500.0</td>\n",
       "      <td>6500.0</td>\n",
       "      <td>6500.0</td>\n",
       "    </tr>\n",
       "    <tr>\n",
       "      <th>mean</th>\n",
       "      <td>348.725385</td>\n",
       "      <td>24.892615</td>\n",
       "      <td>3115.443385</td>\n",
       "      <td>19.037692</td>\n",
       "      <td>2021-06-28 21:31:34.153846016</td>\n",
       "      <td>6.422308</td>\n",
       "      <td>6.0</td>\n",
       "      <td>0.0</td>\n",
       "      <td>199.0</td>\n",
       "    </tr>\n",
       "    <tr>\n",
       "      <th>min</th>\n",
       "      <td>1.000000</td>\n",
       "      <td>12.000000</td>\n",
       "      <td>244.000000</td>\n",
       "      <td>4.000000</td>\n",
       "      <td>2021-01-01 00:00:00</td>\n",
       "      <td>1.000000</td>\n",
       "      <td>6.0</td>\n",
       "      <td>0.0</td>\n",
       "      <td>199.0</td>\n",
       "    </tr>\n",
       "    <tr>\n",
       "      <th>25%</th>\n",
       "      <td>175.000000</td>\n",
       "      <td>22.000000</td>\n",
       "      <td>2785.000000</td>\n",
       "      <td>15.000000</td>\n",
       "      <td>2021-04-01 00:00:00</td>\n",
       "      <td>4.000000</td>\n",
       "      <td>6.0</td>\n",
       "      <td>0.0</td>\n",
       "      <td>199.0</td>\n",
       "    </tr>\n",
       "    <tr>\n",
       "      <th>50%</th>\n",
       "      <td>351.000000</td>\n",
       "      <td>25.000000</td>\n",
       "      <td>3149.000000</td>\n",
       "      <td>19.000000</td>\n",
       "      <td>2021-06-27 00:00:00</td>\n",
       "      <td>6.000000</td>\n",
       "      <td>6.0</td>\n",
       "      <td>0.0</td>\n",
       "      <td>199.0</td>\n",
       "    </tr>\n",
       "    <tr>\n",
       "      <th>75%</th>\n",
       "      <td>525.000000</td>\n",
       "      <td>28.000000</td>\n",
       "      <td>3561.000000</td>\n",
       "      <td>22.000000</td>\n",
       "      <td>2021-09-25 00:00:00</td>\n",
       "      <td>9.000000</td>\n",
       "      <td>6.0</td>\n",
       "      <td>0.0</td>\n",
       "      <td>199.0</td>\n",
       "    </tr>\n",
       "    <tr>\n",
       "      <th>max</th>\n",
       "      <td>699.000000</td>\n",
       "      <td>38.000000</td>\n",
       "      <td>5700.000000</td>\n",
       "      <td>41.000000</td>\n",
       "      <td>2021-12-30 00:00:00</td>\n",
       "      <td>12.000000</td>\n",
       "      <td>6.0</td>\n",
       "      <td>0.0</td>\n",
       "      <td>199.0</td>\n",
       "    </tr>\n",
       "    <tr>\n",
       "      <th>std</th>\n",
       "      <td>201.099339</td>\n",
       "      <td>4.757208</td>\n",
       "      <td>836.898137</td>\n",
       "      <td>5.577439</td>\n",
       "      <td>NaN</td>\n",
       "      <td>3.414616</td>\n",
       "      <td>0.0</td>\n",
       "      <td>0.0</td>\n",
       "      <td>0.0</td>\n",
       "    </tr>\n",
       "  </tbody>\n",
       "</table>\n",
       "</div>"
      ],
      "text/plain": [
       "           user_id          age     distance     duration  \\\n",
       "count  6500.000000  6500.000000  6500.000000  6500.000000   \n",
       "mean    348.725385    24.892615  3115.443385    19.037692   \n",
       "min       1.000000    12.000000   244.000000     4.000000   \n",
       "25%     175.000000    22.000000  2785.000000    15.000000   \n",
       "50%     351.000000    25.000000  3149.000000    19.000000   \n",
       "75%     525.000000    28.000000  3561.000000    22.000000   \n",
       "max     699.000000    38.000000  5700.000000    41.000000   \n",
       "std     201.099339     4.757208   836.898137     5.577439   \n",
       "\n",
       "                                date        month  minute_price  \\\n",
       "count                           6500  6500.000000        6500.0   \n",
       "mean   2021-06-28 21:31:34.153846016     6.422308           6.0   \n",
       "min              2021-01-01 00:00:00     1.000000           6.0   \n",
       "25%              2021-04-01 00:00:00     4.000000           6.0   \n",
       "50%              2021-06-27 00:00:00     6.000000           6.0   \n",
       "75%              2021-09-25 00:00:00     9.000000           6.0   \n",
       "max              2021-12-30 00:00:00    12.000000           6.0   \n",
       "std                              NaN     3.414616           0.0   \n",
       "\n",
       "       start_ride_price  subscription_fee  \n",
       "count            6500.0            6500.0  \n",
       "mean                0.0             199.0  \n",
       "min                 0.0             199.0  \n",
       "25%                 0.0             199.0  \n",
       "50%                 0.0             199.0  \n",
       "75%                 0.0             199.0  \n",
       "max                 0.0             199.0  \n",
       "std                 0.0               0.0  "
      ]
     },
     "metadata": {},
     "output_type": "display_data"
    },
    {
     "name": "stdout",
     "output_type": "stream",
     "text": [
      "String data description:\n"
     ]
    },
    {
     "data": {
      "text/html": [
       "<div>\n",
       "<style scoped>\n",
       "    .dataframe tbody tr th:only-of-type {\n",
       "        vertical-align: middle;\n",
       "    }\n",
       "\n",
       "    .dataframe tbody tr th {\n",
       "        vertical-align: top;\n",
       "    }\n",
       "\n",
       "    .dataframe thead th {\n",
       "        text-align: right;\n",
       "    }\n",
       "</style>\n",
       "<table border=\"1\" class=\"dataframe\">\n",
       "  <thead>\n",
       "    <tr style=\"text-align: right;\">\n",
       "      <th></th>\n",
       "      <th>name</th>\n",
       "      <th>city</th>\n",
       "      <th>subscription_type</th>\n",
       "    </tr>\n",
       "  </thead>\n",
       "  <tbody>\n",
       "    <tr>\n",
       "      <th>count</th>\n",
       "      <td>6500</td>\n",
       "      <td>6500</td>\n",
       "      <td>6500</td>\n",
       "    </tr>\n",
       "    <tr>\n",
       "      <th>unique</th>\n",
       "      <td>186</td>\n",
       "      <td>8</td>\n",
       "      <td>1</td>\n",
       "    </tr>\n",
       "    <tr>\n",
       "      <th>top</th>\n",
       "      <td>Anna</td>\n",
       "      <td>Rostov-on-Don</td>\n",
       "      <td>ultra</td>\n",
       "    </tr>\n",
       "    <tr>\n",
       "      <th>freq</th>\n",
       "      <td>107</td>\n",
       "      <td>885</td>\n",
       "      <td>6500</td>\n",
       "    </tr>\n",
       "  </tbody>\n",
       "</table>\n",
       "</div>"
      ],
      "text/plain": [
       "        name           city subscription_type\n",
       "count   6500           6500              6500\n",
       "unique   186              8                 1\n",
       "top     Anna  Rostov-on-Don             ultra\n",
       "freq     107            885              6500"
      ]
     },
     "metadata": {},
     "output_type": "display_data"
    },
    {
     "name": "stdout",
     "output_type": "stream",
     "text": [
      "\n",
      "First 10 Rows:\n"
     ]
    },
    {
     "data": {
      "text/html": [
       "<div>\n",
       "<style scoped>\n",
       "    .dataframe tbody tr th:only-of-type {\n",
       "        vertical-align: middle;\n",
       "    }\n",
       "\n",
       "    .dataframe tbody tr th {\n",
       "        vertical-align: top;\n",
       "    }\n",
       "\n",
       "    .dataframe thead th {\n",
       "        text-align: right;\n",
       "    }\n",
       "</style>\n",
       "<table border=\"1\" class=\"dataframe\">\n",
       "  <thead>\n",
       "    <tr style=\"text-align: right;\">\n",
       "      <th></th>\n",
       "      <th>user_id</th>\n",
       "      <th>name</th>\n",
       "      <th>age</th>\n",
       "      <th>city</th>\n",
       "      <th>subscription_type</th>\n",
       "      <th>distance</th>\n",
       "      <th>duration</th>\n",
       "      <th>date</th>\n",
       "      <th>month</th>\n",
       "      <th>minute_price</th>\n",
       "      <th>start_ride_price</th>\n",
       "      <th>subscription_fee</th>\n",
       "    </tr>\n",
       "  </thead>\n",
       "  <tbody>\n",
       "    <tr>\n",
       "      <th>0</th>\n",
       "      <td>1</td>\n",
       "      <td>Kira</td>\n",
       "      <td>22</td>\n",
       "      <td>Tyumen</td>\n",
       "      <td>ultra</td>\n",
       "      <td>4410.0</td>\n",
       "      <td>26</td>\n",
       "      <td>2021-01-01</td>\n",
       "      <td>1</td>\n",
       "      <td>6</td>\n",
       "      <td>0</td>\n",
       "      <td>199</td>\n",
       "    </tr>\n",
       "    <tr>\n",
       "      <th>1</th>\n",
       "      <td>1</td>\n",
       "      <td>Kira</td>\n",
       "      <td>22</td>\n",
       "      <td>Tyumen</td>\n",
       "      <td>ultra</td>\n",
       "      <td>2618.0</td>\n",
       "      <td>16</td>\n",
       "      <td>2021-01-18</td>\n",
       "      <td>1</td>\n",
       "      <td>6</td>\n",
       "      <td>0</td>\n",
       "      <td>199</td>\n",
       "    </tr>\n",
       "    <tr>\n",
       "      <th>2</th>\n",
       "      <td>1</td>\n",
       "      <td>Kira</td>\n",
       "      <td>22</td>\n",
       "      <td>Tyumen</td>\n",
       "      <td>ultra</td>\n",
       "      <td>754.0</td>\n",
       "      <td>7</td>\n",
       "      <td>2021-04-20</td>\n",
       "      <td>4</td>\n",
       "      <td>6</td>\n",
       "      <td>0</td>\n",
       "      <td>199</td>\n",
       "    </tr>\n",
       "    <tr>\n",
       "      <th>3</th>\n",
       "      <td>1</td>\n",
       "      <td>Kira</td>\n",
       "      <td>22</td>\n",
       "      <td>Tyumen</td>\n",
       "      <td>ultra</td>\n",
       "      <td>2695.0</td>\n",
       "      <td>19</td>\n",
       "      <td>2021-08-11</td>\n",
       "      <td>8</td>\n",
       "      <td>6</td>\n",
       "      <td>0</td>\n",
       "      <td>199</td>\n",
       "    </tr>\n",
       "    <tr>\n",
       "      <th>4</th>\n",
       "      <td>1</td>\n",
       "      <td>Kira</td>\n",
       "      <td>22</td>\n",
       "      <td>Tyumen</td>\n",
       "      <td>ultra</td>\n",
       "      <td>4029.0</td>\n",
       "      <td>27</td>\n",
       "      <td>2021-08-28</td>\n",
       "      <td>8</td>\n",
       "      <td>6</td>\n",
       "      <td>0</td>\n",
       "      <td>199</td>\n",
       "    </tr>\n",
       "    <tr>\n",
       "      <th>5</th>\n",
       "      <td>1</td>\n",
       "      <td>Kira</td>\n",
       "      <td>22</td>\n",
       "      <td>Tyumen</td>\n",
       "      <td>ultra</td>\n",
       "      <td>2771.0</td>\n",
       "      <td>17</td>\n",
       "      <td>2021-10-09</td>\n",
       "      <td>10</td>\n",
       "      <td>6</td>\n",
       "      <td>0</td>\n",
       "      <td>199</td>\n",
       "    </tr>\n",
       "    <tr>\n",
       "      <th>6</th>\n",
       "      <td>1</td>\n",
       "      <td>Kira</td>\n",
       "      <td>22</td>\n",
       "      <td>Tyumen</td>\n",
       "      <td>ultra</td>\n",
       "      <td>3039.0</td>\n",
       "      <td>15</td>\n",
       "      <td>2021-10-19</td>\n",
       "      <td>10</td>\n",
       "      <td>6</td>\n",
       "      <td>0</td>\n",
       "      <td>199</td>\n",
       "    </tr>\n",
       "    <tr>\n",
       "      <th>7</th>\n",
       "      <td>1</td>\n",
       "      <td>Kira</td>\n",
       "      <td>22</td>\n",
       "      <td>Tyumen</td>\n",
       "      <td>ultra</td>\n",
       "      <td>2842.0</td>\n",
       "      <td>24</td>\n",
       "      <td>2021-11-06</td>\n",
       "      <td>11</td>\n",
       "      <td>6</td>\n",
       "      <td>0</td>\n",
       "      <td>199</td>\n",
       "    </tr>\n",
       "    <tr>\n",
       "      <th>8</th>\n",
       "      <td>1</td>\n",
       "      <td>Kira</td>\n",
       "      <td>22</td>\n",
       "      <td>Tyumen</td>\n",
       "      <td>ultra</td>\n",
       "      <td>3413.0</td>\n",
       "      <td>16</td>\n",
       "      <td>2021-11-14</td>\n",
       "      <td>11</td>\n",
       "      <td>6</td>\n",
       "      <td>0</td>\n",
       "      <td>199</td>\n",
       "    </tr>\n",
       "    <tr>\n",
       "      <th>9</th>\n",
       "      <td>1</td>\n",
       "      <td>Kira</td>\n",
       "      <td>22</td>\n",
       "      <td>Tyumen</td>\n",
       "      <td>ultra</td>\n",
       "      <td>749.0</td>\n",
       "      <td>16</td>\n",
       "      <td>2021-11-22</td>\n",
       "      <td>11</td>\n",
       "      <td>6</td>\n",
       "      <td>0</td>\n",
       "      <td>199</td>\n",
       "    </tr>\n",
       "  </tbody>\n",
       "</table>\n",
       "</div>"
      ],
      "text/plain": [
       "   user_id  name  age    city subscription_type  distance  duration  \\\n",
       "0        1  Kira   22  Tyumen             ultra    4410.0        26   \n",
       "1        1  Kira   22  Tyumen             ultra    2618.0        16   \n",
       "2        1  Kira   22  Tyumen             ultra     754.0         7   \n",
       "3        1  Kira   22  Tyumen             ultra    2695.0        19   \n",
       "4        1  Kira   22  Tyumen             ultra    4029.0        27   \n",
       "5        1  Kira   22  Tyumen             ultra    2771.0        17   \n",
       "6        1  Kira   22  Tyumen             ultra    3039.0        15   \n",
       "7        1  Kira   22  Tyumen             ultra    2842.0        24   \n",
       "8        1  Kira   22  Tyumen             ultra    3413.0        16   \n",
       "9        1  Kira   22  Tyumen             ultra     749.0        16   \n",
       "\n",
       "        date  month  minute_price  start_ride_price  subscription_fee  \n",
       "0 2021-01-01      1             6                 0               199  \n",
       "1 2021-01-18      1             6                 0               199  \n",
       "2 2021-04-20      4             6                 0               199  \n",
       "3 2021-08-11      8             6                 0               199  \n",
       "4 2021-08-28      8             6                 0               199  \n",
       "5 2021-10-09     10             6                 0               199  \n",
       "6 2021-10-19     10             6                 0               199  \n",
       "7 2021-11-06     11             6                 0               199  \n",
       "8 2021-11-14     11             6                 0               199  \n",
       "9 2021-11-22     11             6                 0               199  "
      ]
     },
     "metadata": {},
     "output_type": "display_data"
    },
    {
     "name": "stdout",
     "output_type": "stream",
     "text": [
      "\n",
      "Number of Duplicated Rows:\n",
      " 0\n",
      "\n",
      "Missing Values:\n",
      " 0\n",
      "\n",
      "DataFrame Shape:\n",
      " (6500, 12)\n"
     ]
    }
   ],
   "source": [
    "data_check(subscribed);"
   ]
  },
  {
   "cell_type": "code",
   "execution_count": 38,
   "id": "b9681322",
   "metadata": {},
   "outputs": [
    {
     "name": "stdout",
     "output_type": "stream",
     "text": [
      "Data Info:\n",
      "\n",
      "<class 'pandas.core.frame.DataFrame'>\n",
      "RangeIndex: 11568 entries, 0 to 11567\n",
      "Data columns (total 12 columns):\n",
      " #   Column             Non-Null Count  Dtype         \n",
      "---  ------             --------------  -----         \n",
      " 0   user_id            11568 non-null  int64         \n",
      " 1   name               11568 non-null  object        \n",
      " 2   age                11568 non-null  int64         \n",
      " 3   city               11568 non-null  object        \n",
      " 4   subscription_type  11568 non-null  object        \n",
      " 5   distance           11568 non-null  float64       \n",
      " 6   duration           11568 non-null  int64         \n",
      " 7   date               11568 non-null  datetime64[ns]\n",
      " 8   month              11568 non-null  int32         \n",
      " 9   minute_price       11568 non-null  int64         \n",
      " 10  start_ride_price   11568 non-null  int64         \n",
      " 11  subscription_fee   11568 non-null  int64         \n",
      "dtypes: datetime64[ns](1), float64(1), int32(1), int64(6), object(3)\n",
      "memory usage: 1.0+ MB\n",
      "\n",
      "Numerical data description:\n"
     ]
    },
    {
     "data": {
      "text/html": [
       "<div>\n",
       "<style scoped>\n",
       "    .dataframe tbody tr th:only-of-type {\n",
       "        vertical-align: middle;\n",
       "    }\n",
       "\n",
       "    .dataframe tbody tr th {\n",
       "        vertical-align: top;\n",
       "    }\n",
       "\n",
       "    .dataframe thead th {\n",
       "        text-align: right;\n",
       "    }\n",
       "</style>\n",
       "<table border=\"1\" class=\"dataframe\">\n",
       "  <thead>\n",
       "    <tr style=\"text-align: right;\">\n",
       "      <th></th>\n",
       "      <th>user_id</th>\n",
       "      <th>age</th>\n",
       "      <th>distance</th>\n",
       "      <th>duration</th>\n",
       "      <th>date</th>\n",
       "      <th>month</th>\n",
       "      <th>minute_price</th>\n",
       "      <th>start_ride_price</th>\n",
       "      <th>subscription_fee</th>\n",
       "    </tr>\n",
       "  </thead>\n",
       "  <tbody>\n",
       "    <tr>\n",
       "      <th>count</th>\n",
       "      <td>11568.000000</td>\n",
       "      <td>11568.000000</td>\n",
       "      <td>11568.00000</td>\n",
       "      <td>11568.000000</td>\n",
       "      <td>11568</td>\n",
       "      <td>11568.000000</td>\n",
       "      <td>11568.0</td>\n",
       "      <td>11568.0</td>\n",
       "      <td>11568.0</td>\n",
       "    </tr>\n",
       "    <tr>\n",
       "      <th>mean</th>\n",
       "      <td>1120.527230</td>\n",
       "      <td>24.893326</td>\n",
       "      <td>3045.49490</td>\n",
       "      <td>17.890992</td>\n",
       "      <td>2021-07-01 21:47:03.236514560</td>\n",
       "      <td>6.522994</td>\n",
       "      <td>8.0</td>\n",
       "      <td>50.0</td>\n",
       "      <td>0.0</td>\n",
       "    </tr>\n",
       "    <tr>\n",
       "      <th>min</th>\n",
       "      <td>700.000000</td>\n",
       "      <td>12.000000</td>\n",
       "      <td>1.00000</td>\n",
       "      <td>1.000000</td>\n",
       "      <td>2021-01-01 00:00:00</td>\n",
       "      <td>1.000000</td>\n",
       "      <td>8.0</td>\n",
       "      <td>50.0</td>\n",
       "      <td>0.0</td>\n",
       "    </tr>\n",
       "    <tr>\n",
       "      <th>25%</th>\n",
       "      <td>915.000000</td>\n",
       "      <td>22.000000</td>\n",
       "      <td>2367.00000</td>\n",
       "      <td>13.000000</td>\n",
       "      <td>2021-04-02 00:00:00</td>\n",
       "      <td>4.000000</td>\n",
       "      <td>8.0</td>\n",
       "      <td>50.0</td>\n",
       "      <td>0.0</td>\n",
       "    </tr>\n",
       "    <tr>\n",
       "      <th>50%</th>\n",
       "      <td>1123.000000</td>\n",
       "      <td>25.000000</td>\n",
       "      <td>3115.00000</td>\n",
       "      <td>18.000000</td>\n",
       "      <td>2021-07-01 00:00:00</td>\n",
       "      <td>7.000000</td>\n",
       "      <td>8.0</td>\n",
       "      <td>50.0</td>\n",
       "      <td>0.0</td>\n",
       "    </tr>\n",
       "    <tr>\n",
       "      <th>75%</th>\n",
       "      <td>1328.000000</td>\n",
       "      <td>28.000000</td>\n",
       "      <td>3906.00000</td>\n",
       "      <td>22.000000</td>\n",
       "      <td>2021-09-30 00:00:00</td>\n",
       "      <td>9.000000</td>\n",
       "      <td>8.0</td>\n",
       "      <td>50.0</td>\n",
       "      <td>0.0</td>\n",
       "    </tr>\n",
       "    <tr>\n",
       "      <th>max</th>\n",
       "      <td>1534.000000</td>\n",
       "      <td>43.000000</td>\n",
       "      <td>7211.00000</td>\n",
       "      <td>35.000000</td>\n",
       "      <td>2021-12-30 00:00:00</td>\n",
       "      <td>12.000000</td>\n",
       "      <td>8.0</td>\n",
       "      <td>50.0</td>\n",
       "      <td>0.0</td>\n",
       "    </tr>\n",
       "    <tr>\n",
       "      <th>std</th>\n",
       "      <td>241.165628</td>\n",
       "      <td>4.481100</td>\n",
       "      <td>1246.17418</td>\n",
       "      <td>6.330250</td>\n",
       "      <td>NaN</td>\n",
       "      <td>3.449770</td>\n",
       "      <td>0.0</td>\n",
       "      <td>0.0</td>\n",
       "      <td>0.0</td>\n",
       "    </tr>\n",
       "  </tbody>\n",
       "</table>\n",
       "</div>"
      ],
      "text/plain": [
       "            user_id           age     distance      duration  \\\n",
       "count  11568.000000  11568.000000  11568.00000  11568.000000   \n",
       "mean    1120.527230     24.893326   3045.49490     17.890992   \n",
       "min      700.000000     12.000000      1.00000      1.000000   \n",
       "25%      915.000000     22.000000   2367.00000     13.000000   \n",
       "50%     1123.000000     25.000000   3115.00000     18.000000   \n",
       "75%     1328.000000     28.000000   3906.00000     22.000000   \n",
       "max     1534.000000     43.000000   7211.00000     35.000000   \n",
       "std      241.165628      4.481100   1246.17418      6.330250   \n",
       "\n",
       "                                date         month  minute_price  \\\n",
       "count                          11568  11568.000000       11568.0   \n",
       "mean   2021-07-01 21:47:03.236514560      6.522994           8.0   \n",
       "min              2021-01-01 00:00:00      1.000000           8.0   \n",
       "25%              2021-04-02 00:00:00      4.000000           8.0   \n",
       "50%              2021-07-01 00:00:00      7.000000           8.0   \n",
       "75%              2021-09-30 00:00:00      9.000000           8.0   \n",
       "max              2021-12-30 00:00:00     12.000000           8.0   \n",
       "std                              NaN      3.449770           0.0   \n",
       "\n",
       "       start_ride_price  subscription_fee  \n",
       "count           11568.0           11568.0  \n",
       "mean               50.0               0.0  \n",
       "min                50.0               0.0  \n",
       "25%                50.0               0.0  \n",
       "50%                50.0               0.0  \n",
       "75%                50.0               0.0  \n",
       "max                50.0               0.0  \n",
       "std                 0.0               0.0  "
      ]
     },
     "metadata": {},
     "output_type": "display_data"
    },
    {
     "name": "stdout",
     "output_type": "stream",
     "text": [
      "String data description:\n"
     ]
    },
    {
     "data": {
      "text/html": [
       "<div>\n",
       "<style scoped>\n",
       "    .dataframe tbody tr th:only-of-type {\n",
       "        vertical-align: middle;\n",
       "    }\n",
       "\n",
       "    .dataframe tbody tr th {\n",
       "        vertical-align: top;\n",
       "    }\n",
       "\n",
       "    .dataframe thead th {\n",
       "        text-align: right;\n",
       "    }\n",
       "</style>\n",
       "<table border=\"1\" class=\"dataframe\">\n",
       "  <thead>\n",
       "    <tr style=\"text-align: right;\">\n",
       "      <th></th>\n",
       "      <th>name</th>\n",
       "      <th>city</th>\n",
       "      <th>subscription_type</th>\n",
       "    </tr>\n",
       "  </thead>\n",
       "  <tbody>\n",
       "    <tr>\n",
       "      <th>count</th>\n",
       "      <td>11568</td>\n",
       "      <td>11568</td>\n",
       "      <td>11568</td>\n",
       "    </tr>\n",
       "    <tr>\n",
       "      <th>unique</th>\n",
       "      <td>190</td>\n",
       "      <td>8</td>\n",
       "      <td>1</td>\n",
       "    </tr>\n",
       "    <tr>\n",
       "      <th>top</th>\n",
       "      <td>Anna</td>\n",
       "      <td>Pyatigorsk</td>\n",
       "      <td>free</td>\n",
       "    </tr>\n",
       "    <tr>\n",
       "      <th>freq</th>\n",
       "      <td>203</td>\n",
       "      <td>1672</td>\n",
       "      <td>11568</td>\n",
       "    </tr>\n",
       "  </tbody>\n",
       "</table>\n",
       "</div>"
      ],
      "text/plain": [
       "         name        city subscription_type\n",
       "count   11568       11568             11568\n",
       "unique    190           8                 1\n",
       "top      Anna  Pyatigorsk              free\n",
       "freq      203        1672             11568"
      ]
     },
     "metadata": {},
     "output_type": "display_data"
    },
    {
     "name": "stdout",
     "output_type": "stream",
     "text": [
      "\n",
      "First 10 Rows:\n"
     ]
    },
    {
     "data": {
      "text/html": [
       "<div>\n",
       "<style scoped>\n",
       "    .dataframe tbody tr th:only-of-type {\n",
       "        vertical-align: middle;\n",
       "    }\n",
       "\n",
       "    .dataframe tbody tr th {\n",
       "        vertical-align: top;\n",
       "    }\n",
       "\n",
       "    .dataframe thead th {\n",
       "        text-align: right;\n",
       "    }\n",
       "</style>\n",
       "<table border=\"1\" class=\"dataframe\">\n",
       "  <thead>\n",
       "    <tr style=\"text-align: right;\">\n",
       "      <th></th>\n",
       "      <th>user_id</th>\n",
       "      <th>name</th>\n",
       "      <th>age</th>\n",
       "      <th>city</th>\n",
       "      <th>subscription_type</th>\n",
       "      <th>distance</th>\n",
       "      <th>duration</th>\n",
       "      <th>date</th>\n",
       "      <th>month</th>\n",
       "      <th>minute_price</th>\n",
       "      <th>start_ride_price</th>\n",
       "      <th>subscription_fee</th>\n",
       "    </tr>\n",
       "  </thead>\n",
       "  <tbody>\n",
       "    <tr>\n",
       "      <th>0</th>\n",
       "      <td>700</td>\n",
       "      <td>Ajdar</td>\n",
       "      <td>22</td>\n",
       "      <td>Omsk</td>\n",
       "      <td>free</td>\n",
       "      <td>2516.0</td>\n",
       "      <td>15</td>\n",
       "      <td>2021-01-02</td>\n",
       "      <td>1</td>\n",
       "      <td>8</td>\n",
       "      <td>50</td>\n",
       "      <td>0</td>\n",
       "    </tr>\n",
       "    <tr>\n",
       "      <th>1</th>\n",
       "      <td>700</td>\n",
       "      <td>Ajdar</td>\n",
       "      <td>22</td>\n",
       "      <td>Omsk</td>\n",
       "      <td>free</td>\n",
       "      <td>847.0</td>\n",
       "      <td>17</td>\n",
       "      <td>2021-02-01</td>\n",
       "      <td>2</td>\n",
       "      <td>8</td>\n",
       "      <td>50</td>\n",
       "      <td>0</td>\n",
       "    </tr>\n",
       "    <tr>\n",
       "      <th>2</th>\n",
       "      <td>700</td>\n",
       "      <td>Ajdar</td>\n",
       "      <td>22</td>\n",
       "      <td>Omsk</td>\n",
       "      <td>free</td>\n",
       "      <td>4004.0</td>\n",
       "      <td>21</td>\n",
       "      <td>2021-02-04</td>\n",
       "      <td>2</td>\n",
       "      <td>8</td>\n",
       "      <td>50</td>\n",
       "      <td>0</td>\n",
       "    </tr>\n",
       "    <tr>\n",
       "      <th>3</th>\n",
       "      <td>700</td>\n",
       "      <td>Ajdar</td>\n",
       "      <td>22</td>\n",
       "      <td>Omsk</td>\n",
       "      <td>free</td>\n",
       "      <td>1206.0</td>\n",
       "      <td>10</td>\n",
       "      <td>2021-02-10</td>\n",
       "      <td>2</td>\n",
       "      <td>8</td>\n",
       "      <td>50</td>\n",
       "      <td>0</td>\n",
       "    </tr>\n",
       "    <tr>\n",
       "      <th>4</th>\n",
       "      <td>700</td>\n",
       "      <td>Ajdar</td>\n",
       "      <td>22</td>\n",
       "      <td>Omsk</td>\n",
       "      <td>free</td>\n",
       "      <td>3047.0</td>\n",
       "      <td>18</td>\n",
       "      <td>2021-02-14</td>\n",
       "      <td>2</td>\n",
       "      <td>8</td>\n",
       "      <td>50</td>\n",
       "      <td>0</td>\n",
       "    </tr>\n",
       "    <tr>\n",
       "      <th>5</th>\n",
       "      <td>700</td>\n",
       "      <td>Ajdar</td>\n",
       "      <td>22</td>\n",
       "      <td>Omsk</td>\n",
       "      <td>free</td>\n",
       "      <td>4342.0</td>\n",
       "      <td>23</td>\n",
       "      <td>2021-02-23</td>\n",
       "      <td>2</td>\n",
       "      <td>8</td>\n",
       "      <td>50</td>\n",
       "      <td>0</td>\n",
       "    </tr>\n",
       "    <tr>\n",
       "      <th>6</th>\n",
       "      <td>700</td>\n",
       "      <td>Ajdar</td>\n",
       "      <td>22</td>\n",
       "      <td>Omsk</td>\n",
       "      <td>free</td>\n",
       "      <td>3798.0</td>\n",
       "      <td>19</td>\n",
       "      <td>2021-03-03</td>\n",
       "      <td>3</td>\n",
       "      <td>8</td>\n",
       "      <td>50</td>\n",
       "      <td>0</td>\n",
       "    </tr>\n",
       "    <tr>\n",
       "      <th>7</th>\n",
       "      <td>700</td>\n",
       "      <td>Ajdar</td>\n",
       "      <td>22</td>\n",
       "      <td>Omsk</td>\n",
       "      <td>free</td>\n",
       "      <td>2985.0</td>\n",
       "      <td>16</td>\n",
       "      <td>2021-04-09</td>\n",
       "      <td>4</td>\n",
       "      <td>8</td>\n",
       "      <td>50</td>\n",
       "      <td>0</td>\n",
       "    </tr>\n",
       "    <tr>\n",
       "      <th>8</th>\n",
       "      <td>700</td>\n",
       "      <td>Ajdar</td>\n",
       "      <td>22</td>\n",
       "      <td>Omsk</td>\n",
       "      <td>free</td>\n",
       "      <td>3360.0</td>\n",
       "      <td>17</td>\n",
       "      <td>2021-06-12</td>\n",
       "      <td>6</td>\n",
       "      <td>8</td>\n",
       "      <td>50</td>\n",
       "      <td>0</td>\n",
       "    </tr>\n",
       "    <tr>\n",
       "      <th>9</th>\n",
       "      <td>700</td>\n",
       "      <td>Ajdar</td>\n",
       "      <td>22</td>\n",
       "      <td>Omsk</td>\n",
       "      <td>free</td>\n",
       "      <td>2568.0</td>\n",
       "      <td>12</td>\n",
       "      <td>2021-06-23</td>\n",
       "      <td>6</td>\n",
       "      <td>8</td>\n",
       "      <td>50</td>\n",
       "      <td>0</td>\n",
       "    </tr>\n",
       "  </tbody>\n",
       "</table>\n",
       "</div>"
      ],
      "text/plain": [
       "   user_id   name  age  city subscription_type  distance  duration       date  \\\n",
       "0      700  Ajdar   22  Omsk              free    2516.0        15 2021-01-02   \n",
       "1      700  Ajdar   22  Omsk              free     847.0        17 2021-02-01   \n",
       "2      700  Ajdar   22  Omsk              free    4004.0        21 2021-02-04   \n",
       "3      700  Ajdar   22  Omsk              free    1206.0        10 2021-02-10   \n",
       "4      700  Ajdar   22  Omsk              free    3047.0        18 2021-02-14   \n",
       "5      700  Ajdar   22  Omsk              free    4342.0        23 2021-02-23   \n",
       "6      700  Ajdar   22  Omsk              free    3798.0        19 2021-03-03   \n",
       "7      700  Ajdar   22  Omsk              free    2985.0        16 2021-04-09   \n",
       "8      700  Ajdar   22  Omsk              free    3360.0        17 2021-06-12   \n",
       "9      700  Ajdar   22  Omsk              free    2568.0        12 2021-06-23   \n",
       "\n",
       "   month  minute_price  start_ride_price  subscription_fee  \n",
       "0      1             8                50                 0  \n",
       "1      2             8                50                 0  \n",
       "2      2             8                50                 0  \n",
       "3      2             8                50                 0  \n",
       "4      2             8                50                 0  \n",
       "5      2             8                50                 0  \n",
       "6      3             8                50                 0  \n",
       "7      4             8                50                 0  \n",
       "8      6             8                50                 0  \n",
       "9      6             8                50                 0  "
      ]
     },
     "metadata": {},
     "output_type": "display_data"
    },
    {
     "name": "stdout",
     "output_type": "stream",
     "text": [
      "\n",
      "Number of Duplicated Rows:\n",
      " 0\n",
      "\n",
      "Missing Values:\n",
      " 0\n",
      "\n",
      "DataFrame Shape:\n",
      " (11568, 12)\n"
     ]
    }
   ],
   "source": [
    "data_check(not_subscribed);"
   ]
  },
  {
   "cell_type": "code",
   "execution_count": 39,
   "id": "414aa9e2",
   "metadata": {},
   "outputs": [
    {
     "data": {
      "image/png": "[encoded data removed]",
      "text/plain": [
       "<Figure size 1000x400 with 2 Axes>"
      ]
     },
     "metadata": {},
     "output_type": "display_data"
    }
   ],
   "source": [
    "#creating subplots\n",
    "fig, axes = plt.subplots(nrows=1, ncols=2, figsize=(10, 4))\n",
    "\n",
    "#inserting the plots\n",
    "subscribed['distance'].plot(kind='hist', bins=18, ax=axes[0], grid=True,\n",
    "                                title=\"Rides' distribution by distance\"\n",
    "                           )\n",
    "\n",
    "subscribed['duration'].plot(kind='hist', bins=18, ax=axes[1], grid=True,\n",
    "                                title=\"Rides' distribution by duration\"\n",
    "                           )\n",
    "\n",
    "#setting labels\n",
    "axes[0].set_xlabel('Distance in meters')\n",
    "axes[0].set_ylabel('Number of rides')\n",
    "\n",
    "axes[1].set_xlabel('Duration in minutes')\n",
    "axes[1].set_ylabel('Number of rides');"
   ]
  },
  {
   "cell_type": "code",
   "execution_count": 40,
   "id": "4b0450ef",
   "metadata": {},
   "outputs": [
    {
     "data": {
      "image/png": "[encoded data removed]",
      "text/plain": [
       "<Figure size 1000x400 with 2 Axes>"
      ]
     },
     "metadata": {},
     "output_type": "display_data"
    }
   ],
   "source": [
    "fig, axes = plt.subplots(nrows=1, ncols=2, figsize=(10, 4))\n",
    "\n",
    "not_subscribed['distance'].plot(kind='hist', bins=18, ax=axes[0], grid=True,\n",
    "                                title=\"Rides' distribution by distance\")\n",
    "axes[0].set_xlabel('Distance in meters')\n",
    "axes[0].set_ylabel('Number of rides')\n",
    "\n",
    "not_subscribed['duration'].plot(kind='hist', bins=18, ax=axes[1], grid=True,\n",
    "                                title=\"Rides' distribution by duration\")\n",
    "axes[1].set_xlabel('Duration in minutes')\n",
    "axes[1].set_ylabel('Number of rides');"
   ]
  },
  {
   "cell_type": "code",
   "execution_count": 41,
   "id": "17de59bb-c3fa-4963-9a05-694980bf8714",
   "metadata": {},
   "outputs": [
    {
     "data": {
      "text/html": [
       "<div>\n",
       "<style scoped>\n",
       "    .dataframe tbody tr th:only-of-type {\n",
       "        vertical-align: middle;\n",
       "    }\n",
       "\n",
       "    .dataframe tbody tr th {\n",
       "        vertical-align: top;\n",
       "    }\n",
       "\n",
       "    .dataframe thead th {\n",
       "        text-align: right;\n",
       "    }\n",
       "</style>\n",
       "<table border=\"1\" class=\"dataframe\">\n",
       "  <thead>\n",
       "    <tr style=\"text-align: right;\">\n",
       "      <th></th>\n",
       "      <th>distance</th>\n",
       "    </tr>\n",
       "  </thead>\n",
       "  <tbody>\n",
       "    <tr>\n",
       "      <th>count</th>\n",
       "      <td>11568.00000</td>\n",
       "    </tr>\n",
       "    <tr>\n",
       "      <th>mean</th>\n",
       "      <td>3045.49490</td>\n",
       "    </tr>\n",
       "    <tr>\n",
       "      <th>std</th>\n",
       "      <td>1246.17418</td>\n",
       "    </tr>\n",
       "    <tr>\n",
       "      <th>min</th>\n",
       "      <td>1.00000</td>\n",
       "    </tr>\n",
       "    <tr>\n",
       "      <th>25%</th>\n",
       "      <td>2367.00000</td>\n",
       "    </tr>\n",
       "    <tr>\n",
       "      <th>50%</th>\n",
       "      <td>3115.00000</td>\n",
       "    </tr>\n",
       "    <tr>\n",
       "      <th>75%</th>\n",
       "      <td>3906.00000</td>\n",
       "    </tr>\n",
       "    <tr>\n",
       "      <th>max</th>\n",
       "      <td>7211.00000</td>\n",
       "    </tr>\n",
       "  </tbody>\n",
       "</table>\n",
       "</div>"
      ],
      "text/plain": [
       "          distance\n",
       "count  11568.00000\n",
       "mean    3045.49490\n",
       "std     1246.17418\n",
       "min        1.00000\n",
       "25%     2367.00000\n",
       "50%     3115.00000\n",
       "75%     3906.00000\n",
       "max     7211.00000"
      ]
     },
     "execution_count": 41,
     "metadata": {},
     "output_type": "execute_result"
    }
   ],
   "source": [
    "pd.DataFrame(not_subscribed['distance'].describe())"
   ]
  },
  {
   "cell_type": "markdown",
   "id": "25fc05e0",
   "metadata": {},
   "source": [
    "<div style=\"font-size:175%; font-weight:bold\">Step 4 conclusion</div>\n",
    "\n",
    "        The tables are merged correctly. The shape meets the requirments. There are no missing values and duplicates. Next this dataframe was splitted on two separate ones: with paid and free subscribers. As I mentioned before, the two pikes on the distance plot are caused by outlier and normal distribution. So, according to this information, the plots do not have any anomalies.\n",
    "        \n",
    "        Paid subscribers:\n",
    "            Duration:\n",
    "                Median: 19 min\n",
    "                Interquartile range: 7 (15-22 min)\n",
    "            Distance:\n",
    "                Median: 3149 m\n",
    "                Interquartile range: 776 (2785-3561 m)\n",
    "            Age:\n",
    "                Median: 25 y\n",
    "                Total range: 12-38 y\n",
    "                Interquartile range: 6 (22-28 y)\n",
    "\n",
    "        Free subscribers:\n",
    "            Duration:\n",
    "                Median: 18 min\n",
    "                Interquartile range: 8(14-22 min)\n",
    "            Distance:\n",
    "                Median: 3102 m\n",
    "                Interquartile range: 782 (3102-3884 m)\n",
    "            Age:\n",
    "                Median: 25 y\n",
    "                Total range: 12-43 y\n",
    "                Interquartile range: 6 (22-28 y)\n",
    "\n",
    "        There are no significant differences between types of subscribers(less than 5%, except the highest ages)."
   ]
  },
  {
   "cell_type": "markdown",
   "id": "402d620f",
   "metadata": {},
   "source": [
    "# Step 5. Revenue calculation\n",
    "<a id=\"section9\"></a> "
   ]
  },
  {
   "cell_type": "code",
   "execution_count": 42,
   "id": "a6ca8e68",
   "metadata": {},
   "outputs": [],
   "source": [
    "#creating new variable with deepcopy of merged dataframe in it\n",
    "revenue_data = data_merged.copy(deep=True)"
   ]
  },
  {
   "cell_type": "code",
   "execution_count": 43,
   "id": "3f82f960",
   "metadata": {},
   "outputs": [],
   "source": [
    "#grouping by month and user ID\n",
    "revenue_data = (revenue_data\n",
    "                      .groupby(by=['month', 'user_id'], as_index=False)\n",
    "                      .agg(duration=('duration', 'sum'),\n",
    "                           distance=('distance', 'sum'),\n",
    "                           trip_count=('duration', 'count'),\n",
    "                          )\n",
    "                     )"
   ]
  },
  {
   "cell_type": "code",
   "execution_count": 44,
   "id": "ba38febd",
   "metadata": {},
   "outputs": [],
   "source": [
    "#merging new and sub type dataframes \n",
    "revenue_data = revenue_data.merge(users[['user_id', 'subscription_type']], on='user_id', how='left')"
   ]
  },
  {
   "cell_type": "code",
   "execution_count": 45,
   "id": "01da3457",
   "metadata": {},
   "outputs": [],
   "source": [
    "#creating a new columns with revenue \n",
    "revenue_data.loc[revenue_data['subscription_type'] == 'ultra', 'revenue'] = (\n",
    "    revenue_data.loc[revenue_data['subscription_type'] == 'ultra', 'duration'] * 6 + 199\n",
    ")\n",
    "\n",
    "revenue_data.loc[revenue_data['subscription_type'] == 'free', 'revenue'] = (\n",
    "    revenue_data.loc[revenue_data['subscription_type'] == 'free', 'duration'] * 8\n",
    "    + revenue_data.loc[revenue_data['subscription_type'] == 'free', 'trip_count'] * 50\n",
    ")"
   ]
  },
  {
   "cell_type": "code",
   "execution_count": 46,
   "id": "056c885a",
   "metadata": {},
   "outputs": [
    {
     "name": "stdout",
     "output_type": "stream",
     "text": [
      "Data Info:\n",
      "\n",
      "<class 'pandas.core.frame.DataFrame'>\n",
      "RangeIndex: 11331 entries, 0 to 11330\n",
      "Data columns (total 7 columns):\n",
      " #   Column             Non-Null Count  Dtype  \n",
      "---  ------             --------------  -----  \n",
      " 0   month              11331 non-null  int32  \n",
      " 1   user_id            11331 non-null  int64  \n",
      " 2   duration           11331 non-null  int64  \n",
      " 3   distance           11331 non-null  float64\n",
      " 4   trip_count         11331 non-null  int64  \n",
      " 5   subscription_type  11331 non-null  object \n",
      " 6   revenue            11331 non-null  float64\n",
      "dtypes: float64(2), int32(1), int64(3), object(1)\n",
      "memory usage: 575.5+ KB\n",
      "\n",
      "Numerical data description:\n"
     ]
    },
    {
     "data": {
      "text/html": [
       "<div>\n",
       "<style scoped>\n",
       "    .dataframe tbody tr th:only-of-type {\n",
       "        vertical-align: middle;\n",
       "    }\n",
       "\n",
       "    .dataframe tbody tr th {\n",
       "        vertical-align: top;\n",
       "    }\n",
       "\n",
       "    .dataframe thead th {\n",
       "        text-align: right;\n",
       "    }\n",
       "</style>\n",
       "<table border=\"1\" class=\"dataframe\">\n",
       "  <thead>\n",
       "    <tr style=\"text-align: right;\">\n",
       "      <th></th>\n",
       "      <th>month</th>\n",
       "      <th>user_id</th>\n",
       "      <th>duration</th>\n",
       "      <th>distance</th>\n",
       "      <th>trip_count</th>\n",
       "      <th>revenue</th>\n",
       "    </tr>\n",
       "  </thead>\n",
       "  <tbody>\n",
       "    <tr>\n",
       "      <th>count</th>\n",
       "      <td>11331.000000</td>\n",
       "      <td>11331.000000</td>\n",
       "      <td>11331.000000</td>\n",
       "      <td>11331.000000</td>\n",
       "      <td>11331.000000</td>\n",
       "      <td>11331.000000</td>\n",
       "    </tr>\n",
       "    <tr>\n",
       "      <th>mean</th>\n",
       "      <td>6.477539</td>\n",
       "      <td>811.061160</td>\n",
       "      <td>29.186127</td>\n",
       "      <td>4896.361045</td>\n",
       "      <td>1.594564</td>\n",
       "      <td>342.303504</td>\n",
       "    </tr>\n",
       "    <tr>\n",
       "      <th>std</th>\n",
       "      <td>3.443928</td>\n",
       "      <td>440.350798</td>\n",
       "      <td>16.752464</td>\n",
       "      <td>2911.513832</td>\n",
       "      <td>0.831604</td>\n",
       "      <td>153.875346</td>\n",
       "    </tr>\n",
       "    <tr>\n",
       "      <th>min</th>\n",
       "      <td>1.000000</td>\n",
       "      <td>1.000000</td>\n",
       "      <td>1.000000</td>\n",
       "      <td>3.000000</td>\n",
       "      <td>1.000000</td>\n",
       "      <td>58.000000</td>\n",
       "    </tr>\n",
       "    <tr>\n",
       "      <th>25%</th>\n",
       "      <td>4.000000</td>\n",
       "      <td>435.000000</td>\n",
       "      <td>17.000000</td>\n",
       "      <td>2972.500000</td>\n",
       "      <td>1.000000</td>\n",
       "      <td>234.000000</td>\n",
       "    </tr>\n",
       "    <tr>\n",
       "      <th>50%</th>\n",
       "      <td>6.000000</td>\n",
       "      <td>843.000000</td>\n",
       "      <td>24.000000</td>\n",
       "      <td>3989.000000</td>\n",
       "      <td>1.000000</td>\n",
       "      <td>319.000000</td>\n",
       "    </tr>\n",
       "    <tr>\n",
       "      <th>75%</th>\n",
       "      <td>9.000000</td>\n",
       "      <td>1191.000000</td>\n",
       "      <td>38.000000</td>\n",
       "      <td>6421.500000</td>\n",
       "      <td>2.000000</td>\n",
       "      <td>415.000000</td>\n",
       "    </tr>\n",
       "    <tr>\n",
       "      <th>max</th>\n",
       "      <td>12.000000</td>\n",
       "      <td>1534.000000</td>\n",
       "      <td>143.000000</td>\n",
       "      <td>23430.000000</td>\n",
       "      <td>7.000000</td>\n",
       "      <td>1444.000000</td>\n",
       "    </tr>\n",
       "  </tbody>\n",
       "</table>\n",
       "</div>"
      ],
      "text/plain": [
       "              month       user_id      duration      distance    trip_count  \\\n",
       "count  11331.000000  11331.000000  11331.000000  11331.000000  11331.000000   \n",
       "mean       6.477539    811.061160     29.186127   4896.361045      1.594564   \n",
       "std        3.443928    440.350798     16.752464   2911.513832      0.831604   \n",
       "min        1.000000      1.000000      1.000000      3.000000      1.000000   \n",
       "25%        4.000000    435.000000     17.000000   2972.500000      1.000000   \n",
       "50%        6.000000    843.000000     24.000000   3989.000000      1.000000   \n",
       "75%        9.000000   1191.000000     38.000000   6421.500000      2.000000   \n",
       "max       12.000000   1534.000000    143.000000  23430.000000      7.000000   \n",
       "\n",
       "            revenue  \n",
       "count  11331.000000  \n",
       "mean     342.303504  \n",
       "std      153.875346  \n",
       "min       58.000000  \n",
       "25%      234.000000  \n",
       "50%      319.000000  \n",
       "75%      415.000000  \n",
       "max     1444.000000  "
      ]
     },
     "metadata": {},
     "output_type": "display_data"
    },
    {
     "name": "stdout",
     "output_type": "stream",
     "text": [
      "String data description:\n"
     ]
    },
    {
     "data": {
      "text/html": [
       "<div>\n",
       "<style scoped>\n",
       "    .dataframe tbody tr th:only-of-type {\n",
       "        vertical-align: middle;\n",
       "    }\n",
       "\n",
       "    .dataframe tbody tr th {\n",
       "        vertical-align: top;\n",
       "    }\n",
       "\n",
       "    .dataframe thead th {\n",
       "        text-align: right;\n",
       "    }\n",
       "</style>\n",
       "<table border=\"1\" class=\"dataframe\">\n",
       "  <thead>\n",
       "    <tr style=\"text-align: right;\">\n",
       "      <th></th>\n",
       "      <th>subscription_type</th>\n",
       "    </tr>\n",
       "  </thead>\n",
       "  <tbody>\n",
       "    <tr>\n",
       "      <th>count</th>\n",
       "      <td>11331</td>\n",
       "    </tr>\n",
       "    <tr>\n",
       "      <th>unique</th>\n",
       "      <td>2</td>\n",
       "    </tr>\n",
       "    <tr>\n",
       "      <th>top</th>\n",
       "      <td>free</td>\n",
       "    </tr>\n",
       "    <tr>\n",
       "      <th>freq</th>\n",
       "      <td>6798</td>\n",
       "    </tr>\n",
       "  </tbody>\n",
       "</table>\n",
       "</div>"
      ],
      "text/plain": [
       "       subscription_type\n",
       "count              11331\n",
       "unique                 2\n",
       "top                 free\n",
       "freq                6798"
      ]
     },
     "metadata": {},
     "output_type": "display_data"
    },
    {
     "name": "stdout",
     "output_type": "stream",
     "text": [
      "\n",
      "First 10 Rows:\n"
     ]
    },
    {
     "data": {
      "text/html": [
       "<div>\n",
       "<style scoped>\n",
       "    .dataframe tbody tr th:only-of-type {\n",
       "        vertical-align: middle;\n",
       "    }\n",
       "\n",
       "    .dataframe tbody tr th {\n",
       "        vertical-align: top;\n",
       "    }\n",
       "\n",
       "    .dataframe thead th {\n",
       "        text-align: right;\n",
       "    }\n",
       "</style>\n",
       "<table border=\"1\" class=\"dataframe\">\n",
       "  <thead>\n",
       "    <tr style=\"text-align: right;\">\n",
       "      <th></th>\n",
       "      <th>month</th>\n",
       "      <th>user_id</th>\n",
       "      <th>duration</th>\n",
       "      <th>distance</th>\n",
       "      <th>trip_count</th>\n",
       "      <th>subscription_type</th>\n",
       "      <th>revenue</th>\n",
       "    </tr>\n",
       "  </thead>\n",
       "  <tbody>\n",
       "    <tr>\n",
       "      <th>0</th>\n",
       "      <td>1</td>\n",
       "      <td>1</td>\n",
       "      <td>42</td>\n",
       "      <td>7028.0</td>\n",
       "      <td>2</td>\n",
       "      <td>ultra</td>\n",
       "      <td>451.0</td>\n",
       "    </tr>\n",
       "    <tr>\n",
       "      <th>1</th>\n",
       "      <td>1</td>\n",
       "      <td>3</td>\n",
       "      <td>13</td>\n",
       "      <td>3062.0</td>\n",
       "      <td>1</td>\n",
       "      <td>ultra</td>\n",
       "      <td>277.0</td>\n",
       "    </tr>\n",
       "    <tr>\n",
       "      <th>2</th>\n",
       "      <td>1</td>\n",
       "      <td>5</td>\n",
       "      <td>13</td>\n",
       "      <td>3915.0</td>\n",
       "      <td>1</td>\n",
       "      <td>ultra</td>\n",
       "      <td>277.0</td>\n",
       "    </tr>\n",
       "    <tr>\n",
       "      <th>3</th>\n",
       "      <td>1</td>\n",
       "      <td>7</td>\n",
       "      <td>28</td>\n",
       "      <td>6478.0</td>\n",
       "      <td>2</td>\n",
       "      <td>ultra</td>\n",
       "      <td>367.0</td>\n",
       "    </tr>\n",
       "    <tr>\n",
       "      <th>4</th>\n",
       "      <td>1</td>\n",
       "      <td>12</td>\n",
       "      <td>33</td>\n",
       "      <td>3577.0</td>\n",
       "      <td>1</td>\n",
       "      <td>ultra</td>\n",
       "      <td>397.0</td>\n",
       "    </tr>\n",
       "    <tr>\n",
       "      <th>5</th>\n",
       "      <td>1</td>\n",
       "      <td>13</td>\n",
       "      <td>42</td>\n",
       "      <td>6688.0</td>\n",
       "      <td>2</td>\n",
       "      <td>ultra</td>\n",
       "      <td>451.0</td>\n",
       "    </tr>\n",
       "    <tr>\n",
       "      <th>6</th>\n",
       "      <td>1</td>\n",
       "      <td>14</td>\n",
       "      <td>35</td>\n",
       "      <td>7700.0</td>\n",
       "      <td>2</td>\n",
       "      <td>ultra</td>\n",
       "      <td>409.0</td>\n",
       "    </tr>\n",
       "    <tr>\n",
       "      <th>7</th>\n",
       "      <td>1</td>\n",
       "      <td>15</td>\n",
       "      <td>39</td>\n",
       "      <td>4188.0</td>\n",
       "      <td>1</td>\n",
       "      <td>ultra</td>\n",
       "      <td>433.0</td>\n",
       "    </tr>\n",
       "    <tr>\n",
       "      <th>8</th>\n",
       "      <td>1</td>\n",
       "      <td>20</td>\n",
       "      <td>29</td>\n",
       "      <td>3517.0</td>\n",
       "      <td>1</td>\n",
       "      <td>ultra</td>\n",
       "      <td>373.0</td>\n",
       "    </tr>\n",
       "    <tr>\n",
       "      <th>9</th>\n",
       "      <td>1</td>\n",
       "      <td>22</td>\n",
       "      <td>13</td>\n",
       "      <td>3059.0</td>\n",
       "      <td>1</td>\n",
       "      <td>ultra</td>\n",
       "      <td>277.0</td>\n",
       "    </tr>\n",
       "  </tbody>\n",
       "</table>\n",
       "</div>"
      ],
      "text/plain": [
       "   month  user_id  duration  distance  trip_count subscription_type  revenue\n",
       "0      1        1        42    7028.0           2             ultra    451.0\n",
       "1      1        3        13    3062.0           1             ultra    277.0\n",
       "2      1        5        13    3915.0           1             ultra    277.0\n",
       "3      1        7        28    6478.0           2             ultra    367.0\n",
       "4      1       12        33    3577.0           1             ultra    397.0\n",
       "5      1       13        42    6688.0           2             ultra    451.0\n",
       "6      1       14        35    7700.0           2             ultra    409.0\n",
       "7      1       15        39    4188.0           1             ultra    433.0\n",
       "8      1       20        29    3517.0           1             ultra    373.0\n",
       "9      1       22        13    3059.0           1             ultra    277.0"
      ]
     },
     "metadata": {},
     "output_type": "display_data"
    },
    {
     "name": "stdout",
     "output_type": "stream",
     "text": [
      "\n",
      "Number of Duplicated Rows:\n",
      " 0\n",
      "\n",
      "Missing Values:\n",
      " 0\n",
      "\n",
      "DataFrame Shape:\n",
      " (11331, 7)\n"
     ]
    }
   ],
   "source": [
    "#checking\n",
    "data_check(revenue_data);"
   ]
  },
  {
   "cell_type": "markdown",
   "id": "c1dc83a5-9cb8-421c-858f-04a9158edd63",
   "metadata": {},
   "source": [
    "<div style=\"font-size:175%; font-weight:bold\">Step 5 conclusion</div>\n",
    "\n",
    "        For revenue calculation were created the dataframe with data grouped by month and users. Next, the table with revenue from each user in particular month. So, we can create a hypothesis that looks like this: \"The users with paid subscription can generate more revenue, than with free one.\". We will check it at the next step."
   ]
  },
  {
   "cell_type": "markdown",
   "id": "41545ac0",
   "metadata": {},
   "source": [
    "# Step 6. Hypotheses testing \n",
    "<a id='section10'></a>"
   ]
  },
  {
   "cell_type": "markdown",
   "id": "1981a9aa-1885-4a17-b7b2-9d08ded20247",
   "metadata": {},
   "source": [
    "<div style='font-size:110%; text-indent:60px'>There were three hypothesis that were given by product managers</div>"
   ]
  },
  {
   "cell_type": "markdown",
   "id": "a269082d-002e-462b-8f57-8938768232e6",
   "metadata": {},
   "source": [
    "## Null hypothesis №1:\n",
    "\n",
    "        The average time of an active session of paid subscribers is equal to free subscribers' one. \n",
    "        \n",
    "**Alternative hypothesis:**\n",
    "\n",
    "        The average time of an active session of paid subscribers is **NOT** equal to free subscribers' one. "
   ]
  },
  {
   "cell_type": "code",
   "execution_count": 47,
   "id": "23ea867b",
   "metadata": {},
   "outputs": [
    {
     "name": "stdout",
     "output_type": "stream",
     "text": [
      "p-value: 2.4959453720736625e-34\n",
      "Rejecting null hypothesis\n"
     ]
    }
   ],
   "source": [
    "results = st.ttest_ind(data_merged[data_merged['subscription_type'] == 'ultra']['duration'],\n",
    "                       data_merged[data_merged['subscription_type'] == 'free']['duration'], alternative='greater')\n",
    "print('p-value:', results.pvalue)\n",
    "if results.pvalue < 0.05:\n",
    "    print('Rejecting null hypothesis')\n",
    "else:\n",
    "    print('Not rejecting null hypothesis')"
   ]
  },
  {
   "cell_type": "markdown",
   "id": "b5c997ee",
   "metadata": {},
   "source": [
    "**1st hypothesis's conclusion:**\n",
    "\n",
    "        The p-value is too low. Users with paid subscription are NOT prone to spend more time during active session."
   ]
  },
  {
   "cell_type": "markdown",
   "id": "1e06ff74",
   "metadata": {},
   "source": [
    "## Null hypothesis №2:\n",
    "\n",
    "    The average distance during one ride is equal to 3130 m.\n",
    "\n",
    "**Alternative hypothesis:**\n",
    "\n",
    "    The average distance during one ride is greater than 3130 m. "
   ]
  },
  {
   "cell_type": "code",
   "execution_count": 48,
   "id": "566b4368",
   "metadata": {},
   "outputs": [
    {
     "name": "stdout",
     "output_type": "stream",
     "text": [
      "p-value: 0.9195649894697725\n",
      "Not rejecting null hypothesis\n"
     ]
    }
   ],
   "source": [
    "results = st.ttest_1samp(data_merged[data_merged['subscription_type'] == 'ultra']['distance'], 3130, alternative='greater')\n",
    "print('p-value:', results.pvalue)\n",
    "if results.pvalue < 0.05:\n",
    "    print('Rejecting null hypothesis')\n",
    "else:\n",
    "    print('Not rejecting null hypothesis')"
   ]
  },
  {
   "cell_type": "markdown",
   "id": "1fc5fed0",
   "metadata": {},
   "source": [
    "**№2 Hypothesis conclusion:**\n",
    "\n",
    "        p-value is high. Users with paid subscription are prone to ride more than 3130 m.    "
   ]
  },
  {
   "cell_type": "markdown",
   "id": "3a833c80",
   "metadata": {},
   "source": [
    "## Null hypothesis №3:\n",
    "\n",
    "        The montly revenue from users with paid subscription is equal to revenue from free subscription users. \n",
    "\n",
    "**Alternative hypothesis:**\n",
    "\n",
    "        The montly revenue from users with paid subscription is greater than revenue from free subscription users"
   ]
  },
  {
   "cell_type": "code",
   "execution_count": 49,
   "id": "4293bae5",
   "metadata": {},
   "outputs": [
    {
     "name": "stdout",
     "output_type": "stream",
     "text": [
      "p-value: 1.8850394384715216e-31\n",
      "Rejecting null hypothesis\n"
     ]
    }
   ],
   "source": [
    "results = st.ttest_ind(revenue_data[revenue_data['subscription_type'] == 'ultra']['revenue'], revenue_data[revenue_data['subscription_type'] == 'free']['revenue'], alternative='greater')\n",
    "print('p-value:', results.pvalue)\n",
    "if results.pvalue < 0.05:\n",
    "    print('Rejecting null hypothesis')\n",
    "else:\n",
    "    print('Not rejecting null hypothesis')"
   ]
  },
  {
   "cell_type": "markdown",
   "id": "e658d6df",
   "metadata": {},
   "source": [
    "**№3 hypothesis conclusion:**\n",
    "\n",
    "        p-value is too low. Users with paid subscription in most of the cases are not generating more revenue than free subscribers. "
   ]
  },
  {
   "cell_type": "markdown",
   "id": "a0b0ac8e",
   "metadata": {},
   "source": [
    "<div style=\"font-size:175%; font-weight:bold\">Step 6 conlclusion</div>\n",
    "\n",
    "        The hypothesises were made by product-managers.\n",
    "        \n",
    "        №1 hypothesis conclusion:\n",
    "        Users with paid subscription are NOT prone to spend more time during active session.\n",
    "\n",
    "        №2 hypothesis conclusion:\n",
    "        Users with paid subscription are prone to ride more than 3130 m.\n",
    "\n",
    "        №3 hypothesis conclusion:\n",
    "        Users with paid subscription in most of the cases are not generating more revenue than free subscribers. "
   ]
  },
  {
   "cell_type": "markdown",
   "id": "61213c5e",
   "metadata": {},
   "source": [
    "# Step 7. Distributions\n",
    "<a id='section11'></a>"
   ]
  },
  {
   "cell_type": "code",
   "execution_count": 50,
   "id": "3e12a5a1",
   "metadata": {},
   "outputs": [
    {
     "data": {
      "text/plain": [
       "user_id              835\n",
       "name                 835\n",
       "age                  835\n",
       "city                 835\n",
       "subscription_type    835\n",
       "dtype: int64"
      ]
     },
     "execution_count": 50,
     "metadata": {},
     "output_type": "execute_result"
    }
   ],
   "source": [
    "#counting free subscribers\n",
    "users[users['subscription_type'] == 'free'].count()"
   ]
  },
  {
   "cell_type": "code",
   "execution_count": 51,
   "id": "2ea43a31",
   "metadata": {},
   "outputs": [
    {
     "data": {
      "text/plain": [
       "1161"
      ]
     },
     "execution_count": 51,
     "metadata": {},
     "output_type": "execute_result"
    }
   ],
   "source": [
    "#finding the necessary amount of promo-codes to have at least\n",
    "#100 users move from free to paid subscription\n",
    "def target_func(p, target):\n",
    "    n = 835\n",
    "    while binom.cdf(99, n, p) > 0.05:\n",
    "        n += 1\n",
    "    return n\n",
    "min_n = target_func(0.1, 0.95)\n",
    "min_n"
   ]
  },
  {
   "cell_type": "code",
   "execution_count": 52,
   "id": "5d084433",
   "metadata": {},
   "outputs": [
    {
     "name": "stdout",
     "output_type": "stream",
     "text": [
      "The probability of that no more than 399.5K users would open the notification: 0.15395843595642772\n"
     ]
    },
    {
     "data": {
      "image/png": "[encoded data removed]",
      "text/plain": [
       "<Figure size 640x480 with 1 Axes>"
      ]
     },
     "metadata": {},
     "output_type": "display_data"
    }
   ],
   "source": [
    "#creating binomial distribution and visualising it \n",
    "distr = binom(1000000, 0.4)\n",
    "samples = distr.rvs(size=5000)\n",
    "plt.hist(samples, bins=30)\n",
    "plt.title('Random number distribution from 5000 events sample')\n",
    "plt.ylabel('Number of events from 5000')\n",
    "plt.xlabel('Value')\n",
    "plt.grid(True)\n",
    "print('The probability of that no more than 399.5K users would open the notification:', distr.cdf(399500))"
   ]
  },
  {
   "cell_type": "markdown",
   "id": "9e686499",
   "metadata": {},
   "source": [
    "<div style=\"font-size:175%; font-weight:bold\">Step 7 conclusion</div>\n",
    "\n",
    "        The necessary amount of sent promocodes to have 100 users move from free to paid subscription is at least 1161. The probability of that no more than 399.5K users would open the notification: 0.154."
   ]
  },
  {
   "cell_type": "markdown",
   "id": "f1fbac42",
   "metadata": {},
   "source": [
    "# Conclusion"
   ]
  },
  {
   "cell_type": "markdown",
   "id": "ef4e5100-19b1-4e1a-af5b-b4ac99167b11",
   "metadata": {},
   "source": [
    "<div style=\"font-size:150%; font-weight:bold\">Step 0. Libs import</div>\n",
    "\n",
    "        All necessary libs were imported.\n",
    "\n",
    "<div style=\"font-size:150%; font-weight:bold\">Step 1. Data upload</div>\n",
    "\n",
    "        The tables were read and saved in variables. One apparent problem in data was found: outliers in distance and duration in the first quarter of data. \n",
    "\n",
    "<div style=\"font-size:150%; font-weight:bold\">Step 2. Data preprocessing</div>\n",
    "\n",
    "        During the data preprocessing duplicates were dropped, added new column with month's number of the rides, rounded distance column. On the distance plot we can see the two pikes. The second pike is caused by normal distribution. The first one is an outlier, caused by most likely by people who had tecnical issues.\n",
    "<div style=\"font-size:150%; font-weight:bold\">Step 3. Exploratory data analysis</div>\n",
    "\n",
    "        In exploratory data analysis data was examined and visualised.\n",
    "        The ratio between ultra and free subscribers is ~36:43 (~45,57%/54,43%). The number of free subscribers is slightly higher than ultra. The revenue generated by different types of users needs to be determined to find out whether the paid subscription is better.\n",
    "        Median age: 25 years.\n",
    "        Age spread: 12-43 years.  \n",
    "        Interquartile range: 6 years (22-28).\n",
    "        Distribution do not have significant amount of outliers.\n",
    "        In other words, at least half of the users are the older part of youngsters.\n",
    "        We can see two pikes at the distance graph. The second pike is part normal distribution. The first pike is the outliers, that most likely caused by people who had technical problems. This data is not an anomaly because the payment for the rides have been received succesfully.\n",
    "        Median distance: 3129m.\n",
    "        Interquartile range: 1224m (2539-3763m).\n",
    "        According to this data, at least half of the rides are lying within 2.5-3.7 km, which is important to take into account for scooters maintenance and monitoring their status. \n",
    "        The data was rounded to the highest number for convinience of work. \n",
    "        Median: 18 minutes\n",
    "        Interquartile range: 8 minutes (14-22 minutes)\n",
    "        Using this data we can approximately understand the scooters status and know the average speed during the ride.\n",
    "        \n",
    "<div style=\"font-size:150%; font-weight:bold\">Step 4. Data merge</div>\n",
    "\n",
    "        The tables are merged correctly. The shape meets the requirments. There are no missing values and duplicates. Next this dataframe was splitted on two separate ones: with paid and free subscribers. As I mentioned before, the two pikes on the distance plot are caused by outlier and normal distribution. So, according to this information, the plots do not have any anomalies.\n",
    "    \n",
    "    Paid subscribers:\n",
    "        Duration:\n",
    "            Median: 19 min\n",
    "            Interquartile range: 7 (15-22 min)\n",
    "        Distance:\n",
    "            Median: 3149 m\n",
    "            Interquartile range: 776 (2785-3561 m)\n",
    "        Age:\n",
    "            Median: 25 y\n",
    "            Total range: 12-38 y\n",
    "            Interquartile range: 6 (22-28 y)\n",
    "\n",
    "    Free subscribers:\n",
    "        Duration:\n",
    "            Median: 18 min\n",
    "            Interquartile range: 8(14-22 min)\n",
    "        Distance:\n",
    "            Median: 3102 m\n",
    "            Interquartile range: 782 (3102-3884 m)\n",
    "        Age:\n",
    "            Median: 25 y\n",
    "            Total range: 12-43 y\n",
    "            Interquartile range: 6 (22-28 y)\n",
    "\n",
    "    There are no significant differences between types of subscribers(less than 5%, except the highest ages).\n",
    "    \n",
    "<div style=\"font-size:150%; font-weight:bold\">Step 5. Revenue calculation</div>\n",
    "\n",
    "        For revenue calculation were created the dataframe with data grouped by month and users. Next, the table with revenue from each user in particular month. So, we can create a hypothesis that looks like this: \"The users with paid subscription can generate more revenue, than with free one.\". We will check it at the next step.\n",
    "        \n",
    "<div style=\"font-size:150%; font-weight:bold\">Step 6. Hypothesis testing</div>\n",
    "\n",
    "    The hypothesises were made by product-managers.\n",
    "    \n",
    "    №1 hypothesis conclusion:\n",
    "        Users with paid subscription are NOT prone to spend more time during active session.\n",
    "\n",
    "    №2 hypothesis conclusion:\n",
    "        Users with paid subscription are prone to ride more than 3130 m.\n",
    "\n",
    "    №3 hypothesis conclusion:\n",
    "        Users with paid subscription in most of the cases are not generating more revenue than free subscribers. \n",
    "        \n",
    "<div style=\"font-size:150%; font-weight:bold\">Step 7. Distributions</div>\n",
    "\n",
    "        The necessary amount of sent promocodes to have 100 users move from free to paid subscription is at least 1161. The probability of that no more than 399.5K users would open the notification: 0.154.\n",
    "        \n",
    "<div style=\"font-size:150%; font-weight:bold\">Promocodes</div>\n",
    "\n",
    "        Previously, the marketing department were sending promocodes for free trial period. After that was found that after free trial 10% of users started using the paid one. So, for switching 100 users to paid subscription with ~95% of probability company should send at least 1161 promocodes.\n",
    "\n",
    "<div style=\"font-size:150%; font-weight:bold\">Notification</div>\n",
    "\n",
    "        The marketing department is sending to users notfications in mobile application. It is known that ~40% of users that received the notification open it. The department plans to send 1 million notifications. The probability of that no more than 399.5K users will open it from 1 million messages is ~0.154.\n",
    "        \n",
    "<div style=\"font-size:150%; font-weight:bold\">Recommendation</div>\n",
    "\n",
    "        Knowing the fact that users with different types of subscriptions generate the same amount of revenue and the paid subscribers ride more that optimal distance for scooters, it would be better to advertise the free subscription, because they generate same amount of revenue and less expenses. "
   ]
  }
 ],
 "metadata": {
  "ExecuteTimeLog": [
   {
    "duration": 1376,
    "start_time": "2024-06-10T13:57:53.778Z"
   },
   {
    "duration": 44,
    "start_time": "2024-06-10T16:55:04.754Z"
   },
   {
    "duration": 1239,
    "start_time": "2024-06-10T16:55:07.819Z"
   },
   {
    "duration": 294,
    "start_time": "2024-06-10T16:55:10.919Z"
   },
   {
    "duration": 10,
    "start_time": "2024-06-10T16:55:14.067Z"
   },
   {
    "duration": 3,
    "start_time": "2024-06-10T16:56:36.427Z"
   },
   {
    "duration": 10,
    "start_time": "2024-06-10T16:56:39.987Z"
   },
   {
    "duration": 9,
    "start_time": "2024-06-10T16:56:58.907Z"
   },
   {
    "duration": 10,
    "start_time": "2024-06-10T16:57:14.167Z"
   },
   {
    "duration": 7,
    "start_time": "2024-06-10T16:57:19.804Z"
   },
   {
    "duration": 8,
    "start_time": "2024-06-10T16:57:34.315Z"
   },
   {
    "duration": 56,
    "start_time": "2024-06-10T16:57:47.658Z"
   },
   {
    "duration": 6,
    "start_time": "2024-06-10T16:57:59.427Z"
   },
   {
    "duration": 6,
    "start_time": "2024-06-10T16:58:08.933Z"
   },
   {
    "duration": 62,
    "start_time": "2024-06-10T17:05:53.998Z"
   },
   {
    "duration": 314,
    "start_time": "2024-06-10T17:07:10.019Z"
   },
   {
    "duration": 192,
    "start_time": "2024-06-10T17:07:30.548Z"
   },
   {
    "duration": 119,
    "start_time": "2024-06-10T17:08:09.147Z"
   },
   {
    "duration": 4,
    "start_time": "2024-06-10T17:08:28.556Z"
   },
   {
    "duration": 11,
    "start_time": "2024-06-10T17:08:37.947Z"
   },
   {
    "duration": 7,
    "start_time": "2024-06-10T17:09:39.807Z"
   },
   {
    "duration": 7,
    "start_time": "2024-06-10T17:10:34.538Z"
   },
   {
    "duration": 74,
    "start_time": "2024-06-10T17:10:51.718Z"
   },
   {
    "duration": 9,
    "start_time": "2024-06-10T17:11:12.068Z"
   },
   {
    "duration": 140,
    "start_time": "2024-06-10T17:11:18.212Z"
   },
   {
    "duration": 7,
    "start_time": "2024-06-10T17:11:27.208Z"
   },
   {
    "duration": 13,
    "start_time": "2024-06-10T17:12:38.907Z"
   },
   {
    "duration": 12,
    "start_time": "2024-06-10T17:13:09.408Z"
   },
   {
    "duration": 23,
    "start_time": "2024-06-10T17:13:25.827Z"
   },
   {
    "duration": 83,
    "start_time": "2024-06-10T17:13:42.868Z"
   },
   {
    "duration": 125,
    "start_time": "2024-06-10T17:14:41.827Z"
   },
   {
    "duration": 178,
    "start_time": "2024-06-10T17:14:46.373Z"
   },
   {
    "duration": 126,
    "start_time": "2024-06-10T17:14:49.227Z"
   },
   {
    "duration": 226,
    "start_time": "2024-06-10T17:16:02.839Z"
   },
   {
    "duration": 133,
    "start_time": "2024-06-10T17:16:32.079Z"
   },
   {
    "duration": 120,
    "start_time": "2024-06-10T17:16:38.548Z"
   },
   {
    "duration": 124,
    "start_time": "2024-06-10T17:16:42.079Z"
   },
   {
    "duration": 6,
    "start_time": "2024-06-10T17:17:06.949Z"
   },
   {
    "duration": 1026,
    "start_time": "2024-06-10T17:28:45.247Z"
   },
   {
    "duration": 63,
    "start_time": "2024-06-10T17:28:46.275Z"
   },
   {
    "duration": 10,
    "start_time": "2024-06-10T17:28:46.340Z"
   },
   {
    "duration": 11,
    "start_time": "2024-06-10T17:28:46.351Z"
   },
   {
    "duration": 9,
    "start_time": "2024-06-10T17:28:46.364Z"
   },
   {
    "duration": 10,
    "start_time": "2024-06-10T17:28:46.374Z"
   },
   {
    "duration": 10,
    "start_time": "2024-06-10T17:28:46.386Z"
   },
   {
    "duration": 11,
    "start_time": "2024-06-10T17:28:46.397Z"
   },
   {
    "duration": 163,
    "start_time": "2024-06-10T17:28:46.412Z"
   },
   {
    "duration": 106,
    "start_time": "2024-06-10T17:28:46.577Z"
   },
   {
    "duration": 138,
    "start_time": "2024-06-10T17:28:46.690Z"
   },
   {
    "duration": 82,
    "start_time": "2024-06-10T17:28:56.106Z"
   },
   {
    "duration": 125,
    "start_time": "2024-06-10T17:29:20.763Z"
   },
   {
    "duration": 106,
    "start_time": "2024-06-10T17:29:45.575Z"
   },
   {
    "duration": 105,
    "start_time": "2024-06-10T17:29:57.193Z"
   },
   {
    "duration": 140,
    "start_time": "2024-06-10T17:30:32.073Z"
   },
   {
    "duration": 13,
    "start_time": "2024-06-10T17:31:21.095Z"
   },
   {
    "duration": 8,
    "start_time": "2024-06-10T17:31:39.215Z"
   },
   {
    "duration": 148,
    "start_time": "2024-06-10T17:32:42.836Z"
   },
   {
    "duration": 166,
    "start_time": "2024-06-10T17:33:12.176Z"
   },
   {
    "duration": 217,
    "start_time": "2024-06-10T17:34:03.176Z"
   },
   {
    "duration": 136,
    "start_time": "2024-06-10T17:34:23.907Z"
   },
   {
    "duration": 121,
    "start_time": "2024-06-10T17:34:29.787Z"
   },
   {
    "duration": 116,
    "start_time": "2024-06-10T17:34:35.136Z"
   },
   {
    "duration": 114,
    "start_time": "2024-06-10T17:34:45.384Z"
   },
   {
    "duration": 120,
    "start_time": "2024-06-10T17:35:17.833Z"
   },
   {
    "duration": 118,
    "start_time": "2024-06-10T17:35:23.056Z"
   },
   {
    "duration": 131,
    "start_time": "2024-06-10T17:35:55.075Z"
   },
   {
    "duration": 6,
    "start_time": "2024-06-10T17:38:20.047Z"
   },
   {
    "duration": 4,
    "start_time": "2024-06-10T17:38:37.387Z"
   },
   {
    "duration": 5,
    "start_time": "2024-06-10T17:38:58.233Z"
   },
   {
    "duration": 10,
    "start_time": "2024-06-10T17:39:51.855Z"
   },
   {
    "duration": 344,
    "start_time": "2024-06-10T17:40:32.567Z"
   },
   {
    "duration": 8,
    "start_time": "2024-06-10T17:40:46.215Z"
   },
   {
    "duration": 5,
    "start_time": "2024-06-10T17:40:50.340Z"
   },
   {
    "duration": 714,
    "start_time": "2024-06-10T17:42:19.596Z"
   },
   {
    "duration": 5,
    "start_time": "2024-06-10T17:42:33.067Z"
   },
   {
    "duration": 3,
    "start_time": "2024-06-10T17:42:37.775Z"
   },
   {
    "duration": 3,
    "start_time": "2024-06-10T17:43:32.565Z"
   },
   {
    "duration": 4,
    "start_time": "2024-06-10T17:44:15.715Z"
   },
   {
    "duration": 11,
    "start_time": "2024-06-10T17:46:40.916Z"
   },
   {
    "duration": 8,
    "start_time": "2024-06-10T17:47:04.507Z"
   },
   {
    "duration": 8,
    "start_time": "2024-06-10T17:48:02.873Z"
   },
   {
    "duration": 6,
    "start_time": "2024-06-10T17:48:17.675Z"
   },
   {
    "duration": 5,
    "start_time": "2024-06-10T17:48:33.756Z"
   },
   {
    "duration": 4,
    "start_time": "2024-06-10T17:49:11.364Z"
   },
   {
    "duration": 10,
    "start_time": "2024-06-10T17:49:45.114Z"
   },
   {
    "duration": 6,
    "start_time": "2024-06-10T17:49:52.942Z"
   },
   {
    "duration": 5,
    "start_time": "2024-06-10T17:49:55.244Z"
   },
   {
    "duration": 6,
    "start_time": "2024-06-10T17:50:00.928Z"
   },
   {
    "duration": 5,
    "start_time": "2024-06-10T17:50:58.196Z"
   },
   {
    "duration": 6,
    "start_time": "2024-06-10T17:51:09.753Z"
   },
   {
    "duration": 5,
    "start_time": "2024-06-10T17:52:23.181Z"
   },
   {
    "duration": 8,
    "start_time": "2024-06-10T17:52:46.765Z"
   },
   {
    "duration": 71,
    "start_time": "2024-06-10T17:53:27.168Z"
   },
   {
    "duration": 7,
    "start_time": "2024-06-10T17:53:30.437Z"
   },
   {
    "duration": 8,
    "start_time": "2024-06-10T17:54:51.164Z"
   },
   {
    "duration": 48,
    "start_time": "2024-06-11T06:10:59.096Z"
   },
   {
    "duration": 1373,
    "start_time": "2024-06-11T06:12:31.869Z"
   },
   {
    "duration": 73,
    "start_time": "2024-06-11T07:06:13.906Z"
   },
   {
    "duration": 1215,
    "start_time": "2024-06-11T07:06:22.465Z"
   },
   {
    "duration": 239,
    "start_time": "2024-06-11T07:06:23.683Z"
   },
   {
    "duration": 14,
    "start_time": "2024-06-11T07:06:23.924Z"
   },
   {
    "duration": 44,
    "start_time": "2024-06-11T07:06:23.940Z"
   },
   {
    "duration": 23,
    "start_time": "2024-06-11T07:06:23.986Z"
   },
   {
    "duration": 38,
    "start_time": "2024-06-11T07:06:24.010Z"
   },
   {
    "duration": 25,
    "start_time": "2024-06-11T07:06:24.050Z"
   },
   {
    "duration": 10,
    "start_time": "2024-06-11T07:06:24.076Z"
   },
   {
    "duration": 198,
    "start_time": "2024-06-11T07:06:24.087Z"
   },
   {
    "duration": 162,
    "start_time": "2024-06-11T07:06:24.287Z"
   },
   {
    "duration": 21,
    "start_time": "2024-06-11T07:06:24.451Z"
   },
   {
    "duration": 23,
    "start_time": "2024-06-11T07:06:24.474Z"
   },
   {
    "duration": 39,
    "start_time": "2024-06-11T07:06:24.499Z"
   },
   {
    "duration": 31,
    "start_time": "2024-06-11T07:06:24.540Z"
   },
   {
    "duration": 29,
    "start_time": "2024-06-11T07:06:24.573Z"
   },
   {
    "duration": 29,
    "start_time": "2024-06-11T07:06:24.604Z"
   },
   {
    "duration": 60,
    "start_time": "2024-06-11T07:06:24.634Z"
   },
   {
    "duration": 35,
    "start_time": "2024-06-11T07:06:24.696Z"
   },
   {
    "duration": 27,
    "start_time": "2024-06-11T07:06:24.732Z"
   },
   {
    "duration": 21,
    "start_time": "2024-06-11T07:06:24.760Z"
   },
   {
    "duration": 143,
    "start_time": "2024-06-11T07:06:24.782Z"
   },
   {
    "duration": 8,
    "start_time": "2024-06-11T07:07:01.539Z"
   },
   {
    "duration": 5,
    "start_time": "2024-06-11T07:07:04.092Z"
   },
   {
    "duration": 10,
    "start_time": "2024-06-11T07:08:15.174Z"
   },
   {
    "duration": 166,
    "start_time": "2024-06-11T07:09:42.687Z"
   },
   {
    "duration": 171,
    "start_time": "2024-06-11T07:09:50.084Z"
   },
   {
    "duration": 8,
    "start_time": "2024-06-11T07:10:31.830Z"
   },
   {
    "duration": 18,
    "start_time": "2024-06-11T07:11:18.670Z"
   },
   {
    "duration": 130,
    "start_time": "2024-06-11T07:11:47.456Z"
   },
   {
    "duration": 257,
    "start_time": "2024-06-11T07:12:06.524Z"
   },
   {
    "duration": 161,
    "start_time": "2024-06-11T07:12:20.918Z"
   },
   {
    "duration": 168,
    "start_time": "2024-06-11T07:12:29.245Z"
   },
   {
    "duration": 5,
    "start_time": "2024-06-11T07:14:26.919Z"
   },
   {
    "duration": 27,
    "start_time": "2024-06-11T07:18:56.174Z"
   },
   {
    "duration": 15,
    "start_time": "2024-06-11T07:19:25.482Z"
   },
   {
    "duration": 11,
    "start_time": "2024-06-11T07:19:49.443Z"
   },
   {
    "duration": 8,
    "start_time": "2024-06-11T07:20:29.823Z"
   },
   {
    "duration": 8,
    "start_time": "2024-06-11T07:20:45.528Z"
   },
   {
    "duration": 7,
    "start_time": "2024-06-11T07:22:09.599Z"
   },
   {
    "duration": 170,
    "start_time": "2024-06-11T07:28:10.648Z"
   },
   {
    "duration": 7,
    "start_time": "2024-06-11T07:28:33.811Z"
   },
   {
    "duration": 8,
    "start_time": "2024-06-11T07:28:37.249Z"
   },
   {
    "duration": 9,
    "start_time": "2024-06-11T07:30:01.149Z"
   },
   {
    "duration": 9,
    "start_time": "2024-06-11T07:30:17.076Z"
   },
   {
    "duration": 6,
    "start_time": "2024-06-11T07:30:57.971Z"
   },
   {
    "duration": 9,
    "start_time": "2024-06-11T07:31:09.214Z"
   },
   {
    "duration": 250,
    "start_time": "2024-06-11T07:32:57.910Z"
   },
   {
    "duration": 167,
    "start_time": "2024-06-11T07:34:08.520Z"
   },
   {
    "duration": 177,
    "start_time": "2024-06-11T07:34:16.205Z"
   },
   {
    "duration": 196,
    "start_time": "2024-06-11T07:34:31.211Z"
   },
   {
    "duration": 19,
    "start_time": "2024-06-11T07:51:22.055Z"
   },
   {
    "duration": 201,
    "start_time": "2024-06-11T07:52:54.169Z"
   },
   {
    "duration": 55,
    "start_time": "2024-06-11T07:53:22.997Z"
   },
   {
    "duration": 208,
    "start_time": "2024-06-11T07:53:26.157Z"
   },
   {
    "duration": 1182,
    "start_time": "2024-06-12T15:34:58.294Z"
   },
   {
    "duration": 199,
    "start_time": "2024-06-12T15:34:59.478Z"
   },
   {
    "duration": 9,
    "start_time": "2024-06-12T15:34:59.679Z"
   },
   {
    "duration": 8,
    "start_time": "2024-06-12T15:34:59.690Z"
   },
   {
    "duration": 7,
    "start_time": "2024-06-12T15:34:59.700Z"
   },
   {
    "duration": 57,
    "start_time": "2024-06-12T15:34:59.709Z"
   },
   {
    "duration": 28,
    "start_time": "2024-06-12T15:34:59.767Z"
   },
   {
    "duration": 14,
    "start_time": "2024-06-12T15:34:59.796Z"
   },
   {
    "duration": 129,
    "start_time": "2024-06-12T15:34:59.812Z"
   },
   {
    "duration": 133,
    "start_time": "2024-06-12T15:34:59.943Z"
   },
   {
    "duration": 4,
    "start_time": "2024-06-12T15:35:00.078Z"
   },
   {
    "duration": 136,
    "start_time": "2024-06-12T15:35:00.083Z"
   },
   {
    "duration": 20,
    "start_time": "2024-06-12T15:35:00.221Z"
   },
   {
    "duration": 27,
    "start_time": "2024-06-12T15:35:00.242Z"
   },
   {
    "duration": 113,
    "start_time": "2024-06-12T15:35:00.271Z"
   },
   {
    "duration": 65,
    "start_time": "2024-06-12T15:35:00.385Z"
   },
   {
    "duration": 28,
    "start_time": "2024-06-12T15:35:00.451Z"
   },
   {
    "duration": 54,
    "start_time": "2024-06-12T15:35:00.480Z"
   },
   {
    "duration": 58,
    "start_time": "2024-06-12T15:35:00.536Z"
   },
   {
    "duration": 48,
    "start_time": "2024-06-12T15:35:00.596Z"
   },
   {
    "duration": 49,
    "start_time": "2024-06-12T15:35:00.646Z"
   },
   {
    "duration": 46,
    "start_time": "2024-06-12T15:35:00.697Z"
   },
   {
    "duration": 174,
    "start_time": "2024-06-12T15:35:00.745Z"
   },
   {
    "duration": 6,
    "start_time": "2024-06-12T15:35:00.920Z"
   },
   {
    "duration": 35,
    "start_time": "2024-06-12T15:35:00.927Z"
   },
   {
    "duration": 82,
    "start_time": "2024-06-12T15:35:00.963Z"
   },
   {
    "duration": 250,
    "start_time": "2024-06-12T15:35:01.046Z"
   },
   {
    "duration": 141,
    "start_time": "2024-06-12T15:35:01.301Z"
   },
   {
    "duration": 7,
    "start_time": "2024-06-12T15:35:01.443Z"
   },
   {
    "duration": 221,
    "start_time": "2024-06-12T15:35:01.451Z"
   },
   {
    "duration": 11,
    "start_time": "2024-06-12T15:35:01.674Z"
   },
   {
    "duration": 50,
    "start_time": "2024-06-12T15:35:01.687Z"
   },
   {
    "duration": 7,
    "start_time": "2024-06-12T15:38:24.195Z"
   },
   {
    "duration": 10,
    "start_time": "2024-06-12T15:38:29.122Z"
   },
   {
    "duration": 10,
    "start_time": "2024-06-12T15:38:35.468Z"
   },
   {
    "duration": 10,
    "start_time": "2024-06-12T15:38:36.989Z"
   },
   {
    "duration": 1056,
    "start_time": "2024-06-12T15:38:48.898Z"
   },
   {
    "duration": 64,
    "start_time": "2024-06-12T15:38:49.956Z"
   },
   {
    "duration": 9,
    "start_time": "2024-06-12T15:38:50.021Z"
   },
   {
    "duration": 17,
    "start_time": "2024-06-12T15:38:50.031Z"
   },
   {
    "duration": 78,
    "start_time": "2024-06-12T15:38:50.050Z"
   },
   {
    "duration": 68,
    "start_time": "2024-06-12T15:38:50.130Z"
   },
   {
    "duration": 11,
    "start_time": "2024-06-12T15:38:50.200Z"
   },
   {
    "duration": 9,
    "start_time": "2024-06-12T15:38:50.212Z"
   },
   {
    "duration": 139,
    "start_time": "2024-06-12T15:38:50.223Z"
   },
   {
    "duration": 133,
    "start_time": "2024-06-12T15:38:50.363Z"
   },
   {
    "duration": 6,
    "start_time": "2024-06-12T15:38:50.497Z"
   },
   {
    "duration": 8,
    "start_time": "2024-06-12T15:38:50.504Z"
   },
   {
    "duration": 4,
    "start_time": "2024-06-12T15:38:50.513Z"
   },
   {
    "duration": 8,
    "start_time": "2024-06-12T15:38:50.519Z"
   },
   {
    "duration": 8,
    "start_time": "2024-06-12T15:38:50.528Z"
   },
   {
    "duration": 4,
    "start_time": "2024-06-12T15:38:50.538Z"
   },
   {
    "duration": 6,
    "start_time": "2024-06-12T15:38:50.543Z"
   },
   {
    "duration": 4,
    "start_time": "2024-06-12T15:38:50.550Z"
   },
   {
    "duration": 5,
    "start_time": "2024-06-12T15:38:50.555Z"
   },
   {
    "duration": 5,
    "start_time": "2024-06-12T15:38:50.562Z"
   },
   {
    "duration": 3,
    "start_time": "2024-06-12T15:38:50.568Z"
   },
   {
    "duration": 33,
    "start_time": "2024-06-12T15:38:50.572Z"
   },
   {
    "duration": 129,
    "start_time": "2024-06-12T15:38:50.606Z"
   },
   {
    "duration": 5,
    "start_time": "2024-06-12T15:38:50.737Z"
   },
   {
    "duration": 11,
    "start_time": "2024-06-12T15:38:50.743Z"
   },
   {
    "duration": 6,
    "start_time": "2024-06-12T15:38:50.755Z"
   },
   {
    "duration": 128,
    "start_time": "2024-06-12T15:38:50.762Z"
   },
   {
    "duration": 138,
    "start_time": "2024-06-12T15:38:50.891Z"
   },
   {
    "duration": 6,
    "start_time": "2024-06-12T15:38:51.030Z"
   },
   {
    "duration": 138,
    "start_time": "2024-06-12T15:38:51.037Z"
   },
   {
    "duration": 10,
    "start_time": "2024-06-12T15:38:51.176Z"
   },
   {
    "duration": 23,
    "start_time": "2024-06-12T15:38:51.187Z"
   },
   {
    "duration": 11,
    "start_time": "2024-06-12T15:39:08.251Z"
   },
   {
    "duration": 60,
    "start_time": "2024-06-12T15:39:30.864Z"
   },
   {
    "duration": 9,
    "start_time": "2024-06-12T15:39:36.178Z"
   },
   {
    "duration": 10,
    "start_time": "2024-06-12T15:39:37.200Z"
   },
   {
    "duration": 87,
    "start_time": "2024-06-12T15:41:18.138Z"
   },
   {
    "duration": 6,
    "start_time": "2024-06-12T15:41:26.922Z"
   },
   {
    "duration": 9,
    "start_time": "2024-06-12T15:41:33.865Z"
   },
   {
    "duration": 11,
    "start_time": "2024-06-12T15:41:52.967Z"
   },
   {
    "duration": 1081,
    "start_time": "2024-06-12T16:15:17.196Z"
   },
   {
    "duration": 64,
    "start_time": "2024-06-12T16:15:18.279Z"
   },
   {
    "duration": 10,
    "start_time": "2024-06-12T16:15:18.345Z"
   },
   {
    "duration": 28,
    "start_time": "2024-06-12T16:15:18.356Z"
   },
   {
    "duration": 9,
    "start_time": "2024-06-12T16:15:18.385Z"
   },
   {
    "duration": 11,
    "start_time": "2024-06-12T16:15:18.395Z"
   },
   {
    "duration": 13,
    "start_time": "2024-06-12T16:15:18.408Z"
   },
   {
    "duration": 7,
    "start_time": "2024-06-12T16:15:18.422Z"
   },
   {
    "duration": 177,
    "start_time": "2024-06-12T16:15:18.430Z"
   },
   {
    "duration": 131,
    "start_time": "2024-06-12T16:15:18.608Z"
   },
   {
    "duration": 4,
    "start_time": "2024-06-12T16:15:18.741Z"
   },
   {
    "duration": 13,
    "start_time": "2024-06-12T16:15:18.746Z"
   },
   {
    "duration": 17,
    "start_time": "2024-06-12T16:15:18.760Z"
   },
   {
    "duration": 6,
    "start_time": "2024-06-12T16:15:18.780Z"
   },
   {
    "duration": 20,
    "start_time": "2024-06-12T16:15:18.787Z"
   },
   {
    "duration": 17,
    "start_time": "2024-06-12T16:15:18.808Z"
   },
   {
    "duration": 22,
    "start_time": "2024-06-12T16:15:18.826Z"
   },
   {
    "duration": 18,
    "start_time": "2024-06-12T16:15:18.849Z"
   },
   {
    "duration": 8,
    "start_time": "2024-06-12T16:15:18.868Z"
   },
   {
    "duration": 6,
    "start_time": "2024-06-12T16:15:18.878Z"
   },
   {
    "duration": 6,
    "start_time": "2024-06-12T16:15:18.885Z"
   },
   {
    "duration": 14,
    "start_time": "2024-06-12T16:15:18.892Z"
   },
   {
    "duration": 122,
    "start_time": "2024-06-12T16:15:18.907Z"
   },
   {
    "duration": 5,
    "start_time": "2024-06-12T16:15:19.030Z"
   },
   {
    "duration": 21,
    "start_time": "2024-06-12T16:15:19.036Z"
   },
   {
    "duration": 16,
    "start_time": "2024-06-12T16:15:19.058Z"
   },
   {
    "duration": 128,
    "start_time": "2024-06-12T16:15:19.075Z"
   },
   {
    "duration": 150,
    "start_time": "2024-06-12T16:15:19.204Z"
   },
   {
    "duration": 6,
    "start_time": "2024-06-12T16:15:19.356Z"
   },
   {
    "duration": 137,
    "start_time": "2024-06-12T16:15:19.363Z"
   },
   {
    "duration": 9,
    "start_time": "2024-06-12T16:15:19.501Z"
   },
   {
    "duration": 8,
    "start_time": "2024-06-12T16:15:19.511Z"
   },
   {
    "duration": 10,
    "start_time": "2024-06-12T16:15:19.520Z"
   },
   {
    "duration": 19,
    "start_time": "2024-06-12T16:15:19.532Z"
   },
   {
    "duration": 5,
    "start_time": "2024-06-12T16:15:19.552Z"
   },
   {
    "duration": 12,
    "start_time": "2024-06-12T16:15:19.558Z"
   },
   {
    "duration": 11,
    "start_time": "2024-06-12T16:15:19.572Z"
   },
   {
    "duration": 12,
    "start_time": "2024-06-12T16:15:46.744Z"
   },
   {
    "duration": 14,
    "start_time": "2024-06-12T16:15:58.401Z"
   },
   {
    "duration": 5,
    "start_time": "2024-06-12T16:16:26.913Z"
   },
   {
    "duration": 6,
    "start_time": "2024-06-12T16:16:27.643Z"
   },
   {
    "duration": 10,
    "start_time": "2024-06-12T16:16:28.364Z"
   },
   {
    "duration": 10,
    "start_time": "2024-06-12T16:16:28.886Z"
   },
   {
    "duration": 387,
    "start_time": "2024-06-12T16:17:21.789Z"
   },
   {
    "duration": 163,
    "start_time": "2024-06-12T16:18:03.947Z"
   },
   {
    "duration": 91,
    "start_time": "2024-06-12T16:18:12.538Z"
   },
   {
    "duration": 92,
    "start_time": "2024-06-12T16:18:24.689Z"
   },
   {
    "duration": 108,
    "start_time": "2024-06-12T16:18:35.926Z"
   },
   {
    "duration": 141,
    "start_time": "2024-06-12T16:18:43.725Z"
   },
   {
    "duration": 115,
    "start_time": "2024-06-12T16:18:57.227Z"
   },
   {
    "duration": 120,
    "start_time": "2024-06-12T16:19:06.120Z"
   },
   {
    "duration": 122,
    "start_time": "2024-06-12T16:19:14.495Z"
   },
   {
    "duration": 127,
    "start_time": "2024-06-12T16:19:19.089Z"
   },
   {
    "duration": 113,
    "start_time": "2024-06-12T16:19:59.922Z"
   },
   {
    "duration": 118,
    "start_time": "2024-06-12T16:20:03.979Z"
   },
   {
    "duration": 176,
    "start_time": "2024-06-12T16:20:39.515Z"
   },
   {
    "duration": 113,
    "start_time": "2024-06-12T16:20:57.099Z"
   },
   {
    "duration": 3,
    "start_time": "2024-06-12T16:29:00.106Z"
   },
   {
    "duration": 90,
    "start_time": "2024-06-12T16:29:00.497Z"
   },
   {
    "duration": 15,
    "start_time": "2024-06-12T16:29:00.921Z"
   },
   {
    "duration": 5,
    "start_time": "2024-06-12T16:31:21.954Z"
   },
   {
    "duration": 6,
    "start_time": "2024-06-12T16:31:24.876Z"
   },
   {
    "duration": 3,
    "start_time": "2024-06-12T16:32:21.491Z"
   },
   {
    "duration": 9,
    "start_time": "2024-06-12T16:32:28.658Z"
   },
   {
    "duration": 7,
    "start_time": "2024-06-12T16:33:56.265Z"
   },
   {
    "duration": 7,
    "start_time": "2024-06-12T16:33:56.859Z"
   },
   {
    "duration": 11,
    "start_time": "2024-06-12T16:34:16.605Z"
   },
   {
    "duration": 1074,
    "start_time": "2024-06-12T16:34:34.895Z"
   },
   {
    "duration": 65,
    "start_time": "2024-06-12T16:34:35.970Z"
   },
   {
    "duration": 10,
    "start_time": "2024-06-12T16:34:36.036Z"
   },
   {
    "duration": 16,
    "start_time": "2024-06-12T16:34:36.047Z"
   },
   {
    "duration": 9,
    "start_time": "2024-06-12T16:34:36.064Z"
   },
   {
    "duration": 13,
    "start_time": "2024-06-12T16:34:36.074Z"
   },
   {
    "duration": 13,
    "start_time": "2024-06-12T16:34:36.088Z"
   },
   {
    "duration": 14,
    "start_time": "2024-06-12T16:34:36.103Z"
   },
   {
    "duration": 129,
    "start_time": "2024-06-12T16:34:36.118Z"
   },
   {
    "duration": 121,
    "start_time": "2024-06-12T16:34:36.249Z"
   },
   {
    "duration": 4,
    "start_time": "2024-06-12T16:34:36.372Z"
   },
   {
    "duration": 6,
    "start_time": "2024-06-12T16:34:36.377Z"
   },
   {
    "duration": 28,
    "start_time": "2024-06-12T16:34:36.385Z"
   },
   {
    "duration": 7,
    "start_time": "2024-06-12T16:34:36.414Z"
   },
   {
    "duration": 11,
    "start_time": "2024-06-12T16:34:36.422Z"
   },
   {
    "duration": 17,
    "start_time": "2024-06-12T16:34:36.434Z"
   },
   {
    "duration": 9,
    "start_time": "2024-06-12T16:34:36.452Z"
   },
   {
    "duration": 8,
    "start_time": "2024-06-12T16:34:36.462Z"
   },
   {
    "duration": 7,
    "start_time": "2024-06-12T16:34:36.471Z"
   },
   {
    "duration": 6,
    "start_time": "2024-06-12T16:34:36.479Z"
   },
   {
    "duration": 3,
    "start_time": "2024-06-12T16:34:36.487Z"
   },
   {
    "duration": 7,
    "start_time": "2024-06-12T16:34:36.491Z"
   },
   {
    "duration": 121,
    "start_time": "2024-06-12T16:34:36.499Z"
   },
   {
    "duration": 6,
    "start_time": "2024-06-12T16:34:36.622Z"
   },
   {
    "duration": 11,
    "start_time": "2024-06-12T16:34:36.629Z"
   },
   {
    "duration": 7,
    "start_time": "2024-06-12T16:34:36.641Z"
   },
   {
    "duration": 130,
    "start_time": "2024-06-12T16:34:36.649Z"
   },
   {
    "duration": 139,
    "start_time": "2024-06-12T16:34:36.782Z"
   },
   {
    "duration": 7,
    "start_time": "2024-06-12T16:34:36.922Z"
   },
   {
    "duration": 140,
    "start_time": "2024-06-12T16:34:36.930Z"
   },
   {
    "duration": 8,
    "start_time": "2024-06-12T16:34:37.071Z"
   },
   {
    "duration": 7,
    "start_time": "2024-06-12T16:34:37.081Z"
   },
   {
    "duration": 11,
    "start_time": "2024-06-12T16:34:37.102Z"
   },
   {
    "duration": 14,
    "start_time": "2024-06-12T16:34:37.114Z"
   },
   {
    "duration": 19,
    "start_time": "2024-06-12T16:34:37.129Z"
   },
   {
    "duration": 40,
    "start_time": "2024-06-12T16:34:37.150Z"
   },
   {
    "duration": 53,
    "start_time": "2024-06-12T16:34:37.191Z"
   },
   {
    "duration": 153,
    "start_time": "2024-06-12T16:34:37.245Z"
   },
   {
    "duration": 132,
    "start_time": "2024-06-12T16:34:37.400Z"
   },
   {
    "duration": 113,
    "start_time": "2024-06-12T16:34:37.534Z"
   },
   {
    "duration": 187,
    "start_time": "2024-06-12T16:34:37.648Z"
   },
   {
    "duration": 6,
    "start_time": "2024-06-12T16:34:37.836Z"
   },
   {
    "duration": 16,
    "start_time": "2024-06-12T16:34:37.843Z"
   },
   {
    "duration": 100,
    "start_time": "2024-06-12T16:34:37.861Z"
   },
   {
    "duration": 2,
    "start_time": "2024-06-12T16:34:49.544Z"
   },
   {
    "duration": 2,
    "start_time": "2024-06-12T16:34:56.022Z"
   },
   {
    "duration": 1009,
    "start_time": "2024-06-12T16:35:30.538Z"
   },
   {
    "duration": 64,
    "start_time": "2024-06-12T16:35:31.549Z"
   },
   {
    "duration": 9,
    "start_time": "2024-06-12T16:35:31.614Z"
   },
   {
    "duration": 154,
    "start_time": "2024-06-12T16:35:31.625Z"
   },
   {
    "duration": 41,
    "start_time": "2024-06-12T16:35:31.780Z"
   },
   {
    "duration": 13,
    "start_time": "2024-06-12T16:35:31.823Z"
   },
   {
    "duration": 16,
    "start_time": "2024-06-12T16:35:31.837Z"
   },
   {
    "duration": 26,
    "start_time": "2024-06-12T16:35:31.854Z"
   },
   {
    "duration": 138,
    "start_time": "2024-06-12T16:35:31.881Z"
   },
   {
    "duration": 115,
    "start_time": "2024-06-12T16:35:32.021Z"
   },
   {
    "duration": 4,
    "start_time": "2024-06-12T16:35:32.137Z"
   },
   {
    "duration": 8,
    "start_time": "2024-06-12T16:35:32.142Z"
   },
   {
    "duration": 7,
    "start_time": "2024-06-12T16:35:32.151Z"
   },
   {
    "duration": 5,
    "start_time": "2024-06-12T16:35:32.159Z"
   },
   {
    "duration": 11,
    "start_time": "2024-06-12T16:35:32.165Z"
   },
   {
    "duration": 8,
    "start_time": "2024-06-12T16:35:32.177Z"
   },
   {
    "duration": 16,
    "start_time": "2024-06-12T16:35:32.186Z"
   },
   {
    "duration": 18,
    "start_time": "2024-06-12T16:35:32.203Z"
   },
   {
    "duration": 10,
    "start_time": "2024-06-12T16:35:32.222Z"
   },
   {
    "duration": 10,
    "start_time": "2024-06-12T16:35:32.234Z"
   },
   {
    "duration": 9,
    "start_time": "2024-06-12T16:35:32.245Z"
   },
   {
    "duration": 71,
    "start_time": "2024-06-12T16:35:32.255Z"
   },
   {
    "duration": 139,
    "start_time": "2024-06-12T16:35:32.328Z"
   },
   {
    "duration": 6,
    "start_time": "2024-06-12T16:35:32.468Z"
   },
   {
    "duration": 10,
    "start_time": "2024-06-12T16:35:32.475Z"
   },
   {
    "duration": 28,
    "start_time": "2024-06-12T16:35:32.486Z"
   },
   {
    "duration": 112,
    "start_time": "2024-06-12T16:35:32.516Z"
   },
   {
    "duration": 146,
    "start_time": "2024-06-12T16:35:32.631Z"
   },
   {
    "duration": 6,
    "start_time": "2024-06-12T16:35:32.779Z"
   },
   {
    "duration": 141,
    "start_time": "2024-06-12T16:35:32.786Z"
   },
   {
    "duration": 8,
    "start_time": "2024-06-12T16:35:32.929Z"
   },
   {
    "duration": 11,
    "start_time": "2024-06-12T16:35:32.938Z"
   },
   {
    "duration": 11,
    "start_time": "2024-06-12T16:35:32.950Z"
   },
   {
    "duration": 6,
    "start_time": "2024-06-12T16:35:32.962Z"
   },
   {
    "duration": 20,
    "start_time": "2024-06-12T16:35:32.969Z"
   },
   {
    "duration": 12,
    "start_time": "2024-06-12T16:35:32.990Z"
   },
   {
    "duration": 11,
    "start_time": "2024-06-12T16:35:33.003Z"
   },
   {
    "duration": 126,
    "start_time": "2024-06-12T16:35:33.015Z"
   },
   {
    "duration": 125,
    "start_time": "2024-06-12T16:35:33.142Z"
   },
   {
    "duration": 113,
    "start_time": "2024-06-12T16:35:33.268Z"
   },
   {
    "duration": 179,
    "start_time": "2024-06-12T16:35:33.382Z"
   },
   {
    "duration": 4,
    "start_time": "2024-06-12T16:35:33.563Z"
   },
   {
    "duration": 5,
    "start_time": "2024-06-12T16:35:35.801Z"
   },
   {
    "duration": 8,
    "start_time": "2024-06-12T16:35:44.902Z"
   },
   {
    "duration": 4,
    "start_time": "2024-06-12T16:36:19.918Z"
   },
   {
    "duration": 7,
    "start_time": "2024-06-12T16:36:20.673Z"
   },
   {
    "duration": 8,
    "start_time": "2024-06-12T16:36:39.805Z"
   },
   {
    "duration": 6,
    "start_time": "2024-06-12T16:37:06.652Z"
   },
   {
    "duration": 1255,
    "start_time": "2024-06-13T06:37:35.406Z"
   },
   {
    "duration": 302,
    "start_time": "2024-06-13T06:37:36.662Z"
   },
   {
    "duration": 11,
    "start_time": "2024-06-13T06:37:36.965Z"
   },
   {
    "duration": 16,
    "start_time": "2024-06-13T06:37:36.977Z"
   },
   {
    "duration": 26,
    "start_time": "2024-06-13T06:37:36.995Z"
   },
   {
    "duration": 25,
    "start_time": "2024-06-13T06:37:37.023Z"
   },
   {
    "duration": 16,
    "start_time": "2024-06-13T06:37:37.049Z"
   },
   {
    "duration": 18,
    "start_time": "2024-06-13T06:37:37.067Z"
   },
   {
    "duration": 148,
    "start_time": "2024-06-13T06:37:37.086Z"
   },
   {
    "duration": 131,
    "start_time": "2024-06-13T06:37:37.236Z"
   },
   {
    "duration": 4,
    "start_time": "2024-06-13T06:37:37.368Z"
   },
   {
    "duration": 28,
    "start_time": "2024-06-13T06:37:37.373Z"
   },
   {
    "duration": 11,
    "start_time": "2024-06-13T06:37:37.402Z"
   },
   {
    "duration": 8,
    "start_time": "2024-06-13T06:37:37.415Z"
   },
   {
    "duration": 13,
    "start_time": "2024-06-13T06:37:37.425Z"
   },
   {
    "duration": 19,
    "start_time": "2024-06-13T06:37:37.439Z"
   },
   {
    "duration": 22,
    "start_time": "2024-06-13T06:37:37.459Z"
   },
   {
    "duration": 22,
    "start_time": "2024-06-13T06:37:37.483Z"
   },
   {
    "duration": 8,
    "start_time": "2024-06-13T06:37:37.506Z"
   },
   {
    "duration": 27,
    "start_time": "2024-06-13T06:37:37.515Z"
   },
   {
    "duration": 23,
    "start_time": "2024-06-13T06:37:37.543Z"
   },
   {
    "duration": 8,
    "start_time": "2024-06-13T06:37:37.567Z"
   },
   {
    "duration": 133,
    "start_time": "2024-06-13T06:37:37.577Z"
   },
   {
    "duration": 5,
    "start_time": "2024-06-13T06:37:37.711Z"
   },
   {
    "duration": 23,
    "start_time": "2024-06-13T06:37:37.718Z"
   },
   {
    "duration": 25,
    "start_time": "2024-06-13T06:37:37.742Z"
   },
   {
    "duration": 141,
    "start_time": "2024-06-13T06:37:37.769Z"
   },
   {
    "duration": 134,
    "start_time": "2024-06-13T06:37:37.911Z"
   },
   {
    "duration": 7,
    "start_time": "2024-06-13T06:37:38.047Z"
   },
   {
    "duration": 142,
    "start_time": "2024-06-13T06:37:38.055Z"
   },
   {
    "duration": 9,
    "start_time": "2024-06-13T06:37:38.198Z"
   },
   {
    "duration": 17,
    "start_time": "2024-06-13T06:37:38.208Z"
   },
   {
    "duration": 32,
    "start_time": "2024-06-13T06:37:38.226Z"
   },
   {
    "duration": 24,
    "start_time": "2024-06-13T06:37:38.259Z"
   },
   {
    "duration": 28,
    "start_time": "2024-06-13T06:37:38.285Z"
   },
   {
    "duration": 16,
    "start_time": "2024-06-13T06:37:38.315Z"
   },
   {
    "duration": 22,
    "start_time": "2024-06-13T06:37:38.332Z"
   },
   {
    "duration": 127,
    "start_time": "2024-06-13T06:37:38.356Z"
   },
   {
    "duration": 139,
    "start_time": "2024-06-13T06:37:38.485Z"
   },
   {
    "duration": 119,
    "start_time": "2024-06-13T06:37:38.625Z"
   },
   {
    "duration": 182,
    "start_time": "2024-06-13T06:37:38.747Z"
   },
   {
    "duration": 6,
    "start_time": "2024-06-13T06:37:38.930Z"
   },
   {
    "duration": 13,
    "start_time": "2024-06-13T06:37:38.937Z"
   },
   {
    "duration": 9,
    "start_time": "2024-06-13T06:37:38.951Z"
   },
   {
    "duration": 5,
    "start_time": "2024-06-13T06:38:20.835Z"
   },
   {
    "duration": 4,
    "start_time": "2024-06-13T06:38:23.426Z"
   },
   {
    "duration": 7,
    "start_time": "2024-06-13T06:38:25.683Z"
   },
   {
    "duration": 5,
    "start_time": "2024-06-13T06:42:23.896Z"
   },
   {
    "duration": 91,
    "start_time": "2024-06-13T06:42:24.687Z"
   },
   {
    "duration": 6,
    "start_time": "2024-06-13T06:43:24.516Z"
   },
   {
    "duration": 15,
    "start_time": "2024-06-13T06:44:40.786Z"
   },
   {
    "duration": 3,
    "start_time": "2024-06-13T06:44:51.637Z"
   },
   {
    "duration": 7,
    "start_time": "2024-06-13T06:44:57.397Z"
   },
   {
    "duration": 1034,
    "start_time": "2024-06-13T06:45:19.947Z"
   },
   {
    "duration": 65,
    "start_time": "2024-06-13T06:45:20.983Z"
   },
   {
    "duration": 9,
    "start_time": "2024-06-13T06:45:21.049Z"
   },
   {
    "duration": 11,
    "start_time": "2024-06-13T06:45:21.059Z"
   },
   {
    "duration": 11,
    "start_time": "2024-06-13T06:45:21.072Z"
   },
   {
    "duration": 12,
    "start_time": "2024-06-13T06:45:21.084Z"
   },
   {
    "duration": 7,
    "start_time": "2024-06-13T06:45:21.097Z"
   },
   {
    "duration": 9,
    "start_time": "2024-06-13T06:45:21.105Z"
   },
   {
    "duration": 136,
    "start_time": "2024-06-13T06:45:21.115Z"
   },
   {
    "duration": 127,
    "start_time": "2024-06-13T06:45:21.252Z"
   },
   {
    "duration": 4,
    "start_time": "2024-06-13T06:45:21.380Z"
   },
   {
    "duration": 28,
    "start_time": "2024-06-13T06:45:21.385Z"
   },
   {
    "duration": 14,
    "start_time": "2024-06-13T06:45:21.414Z"
   },
   {
    "duration": 9,
    "start_time": "2024-06-13T06:45:21.430Z"
   },
   {
    "duration": 10,
    "start_time": "2024-06-13T06:45:21.440Z"
   },
   {
    "duration": 5,
    "start_time": "2024-06-13T06:45:21.451Z"
   },
   {
    "duration": 5,
    "start_time": "2024-06-13T06:45:21.457Z"
   },
   {
    "duration": 4,
    "start_time": "2024-06-13T06:45:21.463Z"
   },
   {
    "duration": 6,
    "start_time": "2024-06-13T06:45:21.468Z"
   },
   {
    "duration": 7,
    "start_time": "2024-06-13T06:45:21.475Z"
   },
   {
    "duration": 3,
    "start_time": "2024-06-13T06:45:21.483Z"
   },
   {
    "duration": 5,
    "start_time": "2024-06-13T06:45:21.487Z"
   },
   {
    "duration": 143,
    "start_time": "2024-06-13T06:45:21.494Z"
   },
   {
    "duration": 6,
    "start_time": "2024-06-13T06:45:21.639Z"
   },
   {
    "duration": 8,
    "start_time": "2024-06-13T06:45:21.646Z"
   },
   {
    "duration": 12,
    "start_time": "2024-06-13T06:45:21.655Z"
   },
   {
    "duration": 130,
    "start_time": "2024-06-13T06:45:21.668Z"
   },
   {
    "duration": 158,
    "start_time": "2024-06-13T06:45:21.799Z"
   },
   {
    "duration": 7,
    "start_time": "2024-06-13T06:45:21.958Z"
   },
   {
    "duration": 156,
    "start_time": "2024-06-13T06:45:21.966Z"
   },
   {
    "duration": 8,
    "start_time": "2024-06-13T06:45:22.124Z"
   },
   {
    "duration": 7,
    "start_time": "2024-06-13T06:45:22.134Z"
   },
   {
    "duration": 13,
    "start_time": "2024-06-13T06:45:22.142Z"
   },
   {
    "duration": 9,
    "start_time": "2024-06-13T06:45:22.156Z"
   },
   {
    "duration": 7,
    "start_time": "2024-06-13T06:45:22.166Z"
   },
   {
    "duration": 23,
    "start_time": "2024-06-13T06:45:22.174Z"
   },
   {
    "duration": 25,
    "start_time": "2024-06-13T06:45:22.198Z"
   },
   {
    "duration": 125,
    "start_time": "2024-06-13T06:45:22.225Z"
   },
   {
    "duration": 127,
    "start_time": "2024-06-13T06:45:22.351Z"
   },
   {
    "duration": 135,
    "start_time": "2024-06-13T06:45:22.479Z"
   },
   {
    "duration": 198,
    "start_time": "2024-06-13T06:45:22.623Z"
   },
   {
    "duration": 6,
    "start_time": "2024-06-13T06:45:22.823Z"
   },
   {
    "duration": 106,
    "start_time": "2024-06-13T06:45:22.830Z"
   },
   {
    "duration": 4,
    "start_time": "2024-06-13T06:46:22.555Z"
   },
   {
    "duration": 10,
    "start_time": "2024-06-13T06:46:24.276Z"
   },
   {
    "duration": 7,
    "start_time": "2024-06-13T06:46:34.323Z"
   },
   {
    "duration": 5,
    "start_time": "2024-06-13T06:46:44.135Z"
   },
   {
    "duration": 3,
    "start_time": "2024-06-13T06:46:46.107Z"
   },
   {
    "duration": 7,
    "start_time": "2024-06-13T06:46:48.515Z"
   },
   {
    "duration": 5,
    "start_time": "2024-06-13T06:47:24.128Z"
   },
   {
    "duration": 6,
    "start_time": "2024-06-13T06:47:28.206Z"
   },
   {
    "duration": 5,
    "start_time": "2024-06-13T06:47:54.687Z"
   },
   {
    "duration": 9,
    "start_time": "2024-06-13T06:47:57.027Z"
   },
   {
    "duration": 5,
    "start_time": "2024-06-13T06:48:25.786Z"
   },
   {
    "duration": 14,
    "start_time": "2024-06-13T06:48:26.496Z"
   },
   {
    "duration": 12,
    "start_time": "2024-06-13T06:49:57.005Z"
   },
   {
    "duration": 4,
    "start_time": "2024-06-13T06:50:12.543Z"
   },
   {
    "duration": 6,
    "start_time": "2024-06-13T06:50:14.887Z"
   },
   {
    "duration": 5,
    "start_time": "2024-06-13T06:51:42.475Z"
   },
   {
    "duration": 2,
    "start_time": "2024-06-13T06:54:49.179Z"
   },
   {
    "duration": 6,
    "start_time": "2024-06-13T06:54:52.222Z"
   },
   {
    "duration": 11,
    "start_time": "2024-06-13T06:54:58.471Z"
   },
   {
    "duration": 13,
    "start_time": "2024-06-13T06:55:22.170Z"
   },
   {
    "duration": 44,
    "start_time": "2024-06-13T16:54:28.623Z"
   },
   {
    "duration": 46,
    "start_time": "2024-06-13T16:54:57.759Z"
   },
   {
    "duration": 1262,
    "start_time": "2024-06-13T16:55:05.310Z"
   },
   {
    "duration": 201,
    "start_time": "2024-06-13T16:55:06.574Z"
   },
   {
    "duration": 11,
    "start_time": "2024-06-13T16:55:06.777Z"
   },
   {
    "duration": 38,
    "start_time": "2024-06-13T16:55:06.789Z"
   },
   {
    "duration": 9,
    "start_time": "2024-06-13T16:55:06.829Z"
   },
   {
    "duration": 11,
    "start_time": "2024-06-13T16:55:06.839Z"
   },
   {
    "duration": 7,
    "start_time": "2024-06-13T16:55:06.852Z"
   },
   {
    "duration": 6,
    "start_time": "2024-06-13T16:55:06.861Z"
   },
   {
    "duration": 145,
    "start_time": "2024-06-13T16:55:06.868Z"
   },
   {
    "duration": 137,
    "start_time": "2024-06-13T16:55:07.015Z"
   },
   {
    "duration": 4,
    "start_time": "2024-06-13T16:55:07.153Z"
   },
   {
    "duration": 9,
    "start_time": "2024-06-13T16:55:07.159Z"
   },
   {
    "duration": 7,
    "start_time": "2024-06-13T16:55:07.170Z"
   },
   {
    "duration": 4,
    "start_time": "2024-06-13T16:55:07.180Z"
   },
   {
    "duration": 11,
    "start_time": "2024-06-13T16:55:07.185Z"
   },
   {
    "duration": 5,
    "start_time": "2024-06-13T16:55:07.197Z"
   },
   {
    "duration": 6,
    "start_time": "2024-06-13T16:55:07.204Z"
   },
   {
    "duration": 9,
    "start_time": "2024-06-13T16:55:07.212Z"
   },
   {
    "duration": 12,
    "start_time": "2024-06-13T16:55:07.222Z"
   },
   {
    "duration": 36,
    "start_time": "2024-06-13T16:55:07.235Z"
   },
   {
    "duration": 8,
    "start_time": "2024-06-13T16:55:07.273Z"
   },
   {
    "duration": 8,
    "start_time": "2024-06-13T16:55:07.282Z"
   },
   {
    "duration": 152,
    "start_time": "2024-06-13T16:55:07.292Z"
   },
   {
    "duration": 7,
    "start_time": "2024-06-13T16:55:07.446Z"
   },
   {
    "duration": 17,
    "start_time": "2024-06-13T16:55:07.455Z"
   },
   {
    "duration": 10,
    "start_time": "2024-06-13T16:55:07.473Z"
   },
   {
    "duration": 148,
    "start_time": "2024-06-13T16:55:07.484Z"
   },
   {
    "duration": 168,
    "start_time": "2024-06-13T16:55:07.634Z"
   },
   {
    "duration": 9,
    "start_time": "2024-06-13T16:55:07.804Z"
   },
   {
    "duration": 192,
    "start_time": "2024-06-13T16:55:07.814Z"
   },
   {
    "duration": 10,
    "start_time": "2024-06-13T16:55:08.008Z"
   },
   {
    "duration": 11,
    "start_time": "2024-06-13T16:55:08.020Z"
   },
   {
    "duration": 11,
    "start_time": "2024-06-13T16:55:08.033Z"
   },
   {
    "duration": 19,
    "start_time": "2024-06-13T16:55:08.046Z"
   },
   {
    "duration": 6,
    "start_time": "2024-06-13T16:55:08.066Z"
   },
   {
    "duration": 13,
    "start_time": "2024-06-13T16:55:08.074Z"
   },
   {
    "duration": 14,
    "start_time": "2024-06-13T16:55:08.088Z"
   },
   {
    "duration": 149,
    "start_time": "2024-06-13T16:55:08.104Z"
   },
   {
    "duration": 137,
    "start_time": "2024-06-13T16:55:08.255Z"
   },
   {
    "duration": 132,
    "start_time": "2024-06-13T16:55:08.393Z"
   },
   {
    "duration": 207,
    "start_time": "2024-06-13T16:55:08.528Z"
   },
   {
    "duration": 2,
    "start_time": "2024-06-13T16:55:08.736Z"
   },
   {
    "duration": 18,
    "start_time": "2024-06-13T16:55:08.739Z"
   },
   {
    "duration": 1176,
    "start_time": "2024-06-13T16:55:08.758Z"
   },
   {
    "duration": 0,
    "start_time": "2024-06-13T16:55:09.935Z"
   },
   {
    "duration": 0,
    "start_time": "2024-06-13T16:55:09.936Z"
   },
   {
    "duration": 15,
    "start_time": "2024-06-13T16:55:17.221Z"
   },
   {
    "duration": 9,
    "start_time": "2024-06-13T16:55:58.894Z"
   },
   {
    "duration": 15,
    "start_time": "2024-06-13T16:58:46.070Z"
   },
   {
    "duration": 4,
    "start_time": "2024-06-13T16:59:16.421Z"
   },
   {
    "duration": 1087,
    "start_time": "2024-06-13T17:01:23.020Z"
   },
   {
    "duration": 24,
    "start_time": "2024-06-13T17:01:56.936Z"
   },
   {
    "duration": 18,
    "start_time": "2024-06-13T17:03:23.451Z"
   },
   {
    "duration": 9,
    "start_time": "2024-06-13T17:04:55.851Z"
   },
   {
    "duration": 8,
    "start_time": "2024-06-13T17:05:25.333Z"
   },
   {
    "duration": 13,
    "start_time": "2024-06-13T17:05:39.019Z"
   },
   {
    "duration": 13,
    "start_time": "2024-06-13T17:05:58.857Z"
   },
   {
    "duration": 20,
    "start_time": "2024-06-13T17:18:28.069Z"
   },
   {
    "duration": 11,
    "start_time": "2024-06-13T17:18:44.499Z"
   },
   {
    "duration": 8,
    "start_time": "2024-06-13T17:18:53.941Z"
   },
   {
    "duration": 12,
    "start_time": "2024-06-13T17:20:36.049Z"
   },
   {
    "duration": 7,
    "start_time": "2024-06-13T17:20:36.908Z"
   },
   {
    "duration": 13,
    "start_time": "2024-06-13T17:21:09.677Z"
   },
   {
    "duration": 12,
    "start_time": "2024-06-13T17:21:28.276Z"
   },
   {
    "duration": 1163,
    "start_time": "2024-06-13T17:21:42.945Z"
   },
   {
    "duration": 66,
    "start_time": "2024-06-13T17:21:44.110Z"
   },
   {
    "duration": 11,
    "start_time": "2024-06-13T17:21:44.177Z"
   },
   {
    "duration": 12,
    "start_time": "2024-06-13T17:21:44.189Z"
   },
   {
    "duration": 8,
    "start_time": "2024-06-13T17:21:44.203Z"
   },
   {
    "duration": 16,
    "start_time": "2024-06-13T17:21:44.212Z"
   },
   {
    "duration": 8,
    "start_time": "2024-06-13T17:21:44.229Z"
   },
   {
    "duration": 33,
    "start_time": "2024-06-13T17:21:44.238Z"
   },
   {
    "duration": 152,
    "start_time": "2024-06-13T17:21:44.273Z"
   },
   {
    "duration": 140,
    "start_time": "2024-06-13T17:21:44.426Z"
   },
   {
    "duration": 4,
    "start_time": "2024-06-13T17:21:44.568Z"
   },
   {
    "duration": 5,
    "start_time": "2024-06-13T17:21:44.574Z"
   },
   {
    "duration": 6,
    "start_time": "2024-06-13T17:21:44.580Z"
   },
   {
    "duration": 4,
    "start_time": "2024-06-13T17:21:44.588Z"
   },
   {
    "duration": 9,
    "start_time": "2024-06-13T17:21:44.593Z"
   },
   {
    "duration": 6,
    "start_time": "2024-06-13T17:21:44.603Z"
   },
   {
    "duration": 14,
    "start_time": "2024-06-13T17:21:44.610Z"
   },
   {
    "duration": 6,
    "start_time": "2024-06-13T17:21:44.625Z"
   },
   {
    "duration": 37,
    "start_time": "2024-06-13T17:21:44.632Z"
   },
   {
    "duration": 7,
    "start_time": "2024-06-13T17:21:44.671Z"
   },
   {
    "duration": 5,
    "start_time": "2024-06-13T17:21:44.679Z"
   },
   {
    "duration": 7,
    "start_time": "2024-06-13T17:21:44.685Z"
   },
   {
    "duration": 150,
    "start_time": "2024-06-13T17:21:44.693Z"
   },
   {
    "duration": 6,
    "start_time": "2024-06-13T17:21:44.844Z"
   },
   {
    "duration": 7,
    "start_time": "2024-06-13T17:21:44.864Z"
   },
   {
    "duration": 14,
    "start_time": "2024-06-13T17:21:44.872Z"
   },
   {
    "duration": 147,
    "start_time": "2024-06-13T17:21:44.888Z"
   },
   {
    "duration": 170,
    "start_time": "2024-06-13T17:21:45.037Z"
   },
   {
    "duration": 8,
    "start_time": "2024-06-13T17:21:45.209Z"
   },
   {
    "duration": 176,
    "start_time": "2024-06-13T17:21:45.219Z"
   },
   {
    "duration": 10,
    "start_time": "2024-06-13T17:21:45.397Z"
   },
   {
    "duration": 9,
    "start_time": "2024-06-13T17:21:45.409Z"
   },
   {
    "duration": 12,
    "start_time": "2024-06-13T17:21:45.420Z"
   },
   {
    "duration": 95,
    "start_time": "2024-06-13T17:21:45.433Z"
   },
   {
    "duration": 26,
    "start_time": "2024-06-13T17:21:45.530Z"
   },
   {
    "duration": 16,
    "start_time": "2024-06-13T17:21:45.557Z"
   },
   {
    "duration": 15,
    "start_time": "2024-06-13T17:21:45.574Z"
   },
   {
    "duration": 145,
    "start_time": "2024-06-13T17:21:45.590Z"
   },
   {
    "duration": 162,
    "start_time": "2024-06-13T17:21:45.737Z"
   },
   {
    "duration": 142,
    "start_time": "2024-06-13T17:21:45.901Z"
   },
   {
    "duration": 239,
    "start_time": "2024-06-13T17:21:46.047Z"
   },
   {
    "duration": 3,
    "start_time": "2024-06-13T17:21:46.287Z"
   },
   {
    "duration": 12,
    "start_time": "2024-06-13T17:22:41.101Z"
   },
   {
    "duration": 8,
    "start_time": "2024-06-13T17:22:45.033Z"
   },
   {
    "duration": 1110,
    "start_time": "2024-06-13T17:23:17.829Z"
   },
   {
    "duration": 2,
    "start_time": "2024-06-13T17:23:30.446Z"
   },
   {
    "duration": 1026,
    "start_time": "2024-06-13T17:23:31.215Z"
   },
   {
    "duration": 2,
    "start_time": "2024-06-13T17:25:15.755Z"
   },
   {
    "duration": 13,
    "start_time": "2024-06-13T17:25:16.383Z"
   },
   {
    "duration": 11,
    "start_time": "2024-06-13T17:25:18.213Z"
   },
   {
    "duration": 1133,
    "start_time": "2024-06-13T17:59:00.280Z"
   },
   {
    "duration": 68,
    "start_time": "2024-06-13T17:59:01.416Z"
   },
   {
    "duration": 10,
    "start_time": "2024-06-13T17:59:01.485Z"
   },
   {
    "duration": 47,
    "start_time": "2024-06-13T17:59:01.496Z"
   },
   {
    "duration": 88,
    "start_time": "2024-06-13T17:59:01.545Z"
   },
   {
    "duration": 61,
    "start_time": "2024-06-13T17:59:01.635Z"
   },
   {
    "duration": 33,
    "start_time": "2024-06-13T17:59:01.698Z"
   },
   {
    "duration": 37,
    "start_time": "2024-06-13T17:59:01.732Z"
   },
   {
    "duration": 181,
    "start_time": "2024-06-13T17:59:01.771Z"
   },
   {
    "duration": 143,
    "start_time": "2024-06-13T17:59:01.954Z"
   },
   {
    "duration": 4,
    "start_time": "2024-06-13T17:59:02.099Z"
   },
   {
    "duration": 8,
    "start_time": "2024-06-13T17:59:02.105Z"
   },
   {
    "duration": 23,
    "start_time": "2024-06-13T17:59:02.114Z"
   },
   {
    "duration": 27,
    "start_time": "2024-06-13T17:59:02.140Z"
   },
   {
    "duration": 16,
    "start_time": "2024-06-13T17:59:02.168Z"
   },
   {
    "duration": 20,
    "start_time": "2024-06-13T17:59:02.185Z"
   },
   {
    "duration": 24,
    "start_time": "2024-06-13T17:59:02.206Z"
   },
   {
    "duration": 24,
    "start_time": "2024-06-13T17:59:02.232Z"
   },
   {
    "duration": 22,
    "start_time": "2024-06-13T17:59:02.258Z"
   },
   {
    "duration": 14,
    "start_time": "2024-06-13T17:59:02.282Z"
   },
   {
    "duration": 6,
    "start_time": "2024-06-13T17:59:02.297Z"
   },
   {
    "duration": 30,
    "start_time": "2024-06-13T17:59:02.305Z"
   },
   {
    "duration": 179,
    "start_time": "2024-06-13T17:59:02.337Z"
   },
   {
    "duration": 6,
    "start_time": "2024-06-13T17:59:02.518Z"
   },
   {
    "duration": 126,
    "start_time": "2024-06-13T17:59:02.525Z"
   },
   {
    "duration": 24,
    "start_time": "2024-06-13T17:59:02.653Z"
   },
   {
    "duration": 131,
    "start_time": "2024-06-13T17:59:02.679Z"
   },
   {
    "duration": 157,
    "start_time": "2024-06-13T17:59:02.812Z"
   },
   {
    "duration": 7,
    "start_time": "2024-06-13T17:59:02.971Z"
   },
   {
    "duration": 151,
    "start_time": "2024-06-13T17:59:02.980Z"
   },
   {
    "duration": 9,
    "start_time": "2024-06-13T17:59:03.132Z"
   },
   {
    "duration": 9,
    "start_time": "2024-06-13T17:59:03.142Z"
   },
   {
    "duration": 12,
    "start_time": "2024-06-13T17:59:03.165Z"
   },
   {
    "duration": 7,
    "start_time": "2024-06-13T17:59:03.179Z"
   },
   {
    "duration": 8,
    "start_time": "2024-06-13T17:59:03.187Z"
   },
   {
    "duration": 27,
    "start_time": "2024-06-13T17:59:03.196Z"
   },
   {
    "duration": 13,
    "start_time": "2024-06-13T17:59:03.225Z"
   },
   {
    "duration": 147,
    "start_time": "2024-06-13T17:59:03.240Z"
   },
   {
    "duration": 153,
    "start_time": "2024-06-13T17:59:03.388Z"
   },
   {
    "duration": 144,
    "start_time": "2024-06-13T17:59:03.543Z"
   },
   {
    "duration": 237,
    "start_time": "2024-06-13T17:59:03.690Z"
   },
   {
    "duration": 2,
    "start_time": "2024-06-13T17:59:03.929Z"
   },
   {
    "duration": 13,
    "start_time": "2024-06-13T17:59:03.933Z"
   },
   {
    "duration": 18,
    "start_time": "2024-06-13T17:59:03.948Z"
   },
   {
    "duration": 1094,
    "start_time": "2024-06-13T18:05:17.602Z"
   },
   {
    "duration": 65,
    "start_time": "2024-06-13T18:05:18.698Z"
   },
   {
    "duration": 11,
    "start_time": "2024-06-13T18:05:18.765Z"
   },
   {
    "duration": 11,
    "start_time": "2024-06-13T18:05:18.778Z"
   },
   {
    "duration": 9,
    "start_time": "2024-06-13T18:05:18.791Z"
   },
   {
    "duration": 12,
    "start_time": "2024-06-13T18:05:18.801Z"
   },
   {
    "duration": 9,
    "start_time": "2024-06-13T18:05:18.815Z"
   },
   {
    "duration": 44,
    "start_time": "2024-06-13T18:05:18.825Z"
   },
   {
    "duration": 173,
    "start_time": "2024-06-13T18:05:18.871Z"
   },
   {
    "duration": 152,
    "start_time": "2024-06-13T18:05:19.047Z"
   },
   {
    "duration": 5,
    "start_time": "2024-06-13T18:05:19.200Z"
   },
   {
    "duration": 5,
    "start_time": "2024-06-13T18:05:19.206Z"
   },
   {
    "duration": 11,
    "start_time": "2024-06-13T18:05:19.212Z"
   },
   {
    "duration": 11,
    "start_time": "2024-06-13T18:05:19.224Z"
   },
   {
    "duration": 12,
    "start_time": "2024-06-13T18:05:19.236Z"
   },
   {
    "duration": 17,
    "start_time": "2024-06-13T18:05:19.250Z"
   },
   {
    "duration": 18,
    "start_time": "2024-06-13T18:05:19.268Z"
   },
   {
    "duration": 10,
    "start_time": "2024-06-13T18:05:19.287Z"
   },
   {
    "duration": 11,
    "start_time": "2024-06-13T18:05:19.298Z"
   },
   {
    "duration": 8,
    "start_time": "2024-06-13T18:05:19.310Z"
   },
   {
    "duration": 5,
    "start_time": "2024-06-13T18:05:19.319Z"
   },
   {
    "duration": 5,
    "start_time": "2024-06-13T18:05:19.325Z"
   },
   {
    "duration": 148,
    "start_time": "2024-06-13T18:05:19.332Z"
   },
   {
    "duration": 7,
    "start_time": "2024-06-13T18:05:19.481Z"
   },
   {
    "duration": 28,
    "start_time": "2024-06-13T18:05:19.490Z"
   },
   {
    "duration": 7,
    "start_time": "2024-06-13T18:05:19.520Z"
   },
   {
    "duration": 144,
    "start_time": "2024-06-13T18:05:19.529Z"
   },
   {
    "duration": 174,
    "start_time": "2024-06-13T18:05:19.676Z"
   },
   {
    "duration": 14,
    "start_time": "2024-06-13T18:05:19.852Z"
   },
   {
    "duration": 175,
    "start_time": "2024-06-13T18:05:19.868Z"
   },
   {
    "duration": 11,
    "start_time": "2024-06-13T18:05:20.044Z"
   },
   {
    "duration": 16,
    "start_time": "2024-06-13T18:05:20.057Z"
   },
   {
    "duration": 20,
    "start_time": "2024-06-13T18:05:20.074Z"
   },
   {
    "duration": 17,
    "start_time": "2024-06-13T18:05:20.095Z"
   },
   {
    "duration": 6,
    "start_time": "2024-06-13T18:05:20.114Z"
   },
   {
    "duration": 12,
    "start_time": "2024-06-13T18:05:20.121Z"
   },
   {
    "duration": 15,
    "start_time": "2024-06-13T18:05:20.135Z"
   },
   {
    "duration": 143,
    "start_time": "2024-06-13T18:05:20.165Z"
   },
   {
    "duration": 139,
    "start_time": "2024-06-13T18:05:20.310Z"
   },
   {
    "duration": 133,
    "start_time": "2024-06-13T18:05:20.451Z"
   },
   {
    "duration": 213,
    "start_time": "2024-06-13T18:05:20.586Z"
   },
   {
    "duration": 2,
    "start_time": "2024-06-13T18:05:20.801Z"
   },
   {
    "duration": 12,
    "start_time": "2024-06-13T18:05:20.805Z"
   },
   {
    "duration": 7,
    "start_time": "2024-06-13T18:05:20.819Z"
   },
   {
    "duration": 111,
    "start_time": "2024-06-13T18:05:20.827Z"
   },
   {
    "duration": 2,
    "start_time": "2024-06-13T18:05:34.861Z"
   },
   {
    "duration": 20,
    "start_time": "2024-06-13T18:05:36.942Z"
   },
   {
    "duration": 9,
    "start_time": "2024-06-13T18:05:39.590Z"
   },
   {
    "duration": 10,
    "start_time": "2024-06-13T18:05:55.133Z"
   },
   {
    "duration": 1118,
    "start_time": "2024-06-14T05:08:17.643Z"
   },
   {
    "duration": 294,
    "start_time": "2024-06-14T05:08:18.763Z"
   },
   {
    "duration": 9,
    "start_time": "2024-06-14T05:08:19.058Z"
   },
   {
    "duration": 23,
    "start_time": "2024-06-14T05:08:19.069Z"
   },
   {
    "duration": 11,
    "start_time": "2024-06-14T05:08:19.094Z"
   },
   {
    "duration": 9,
    "start_time": "2024-06-14T05:08:19.107Z"
   },
   {
    "duration": 6,
    "start_time": "2024-06-14T05:08:19.118Z"
   },
   {
    "duration": 7,
    "start_time": "2024-06-14T05:08:19.125Z"
   },
   {
    "duration": 128,
    "start_time": "2024-06-14T05:08:19.133Z"
   },
   {
    "duration": 117,
    "start_time": "2024-06-14T05:08:19.262Z"
   },
   {
    "duration": 4,
    "start_time": "2024-06-14T05:08:19.380Z"
   },
   {
    "duration": 3,
    "start_time": "2024-06-14T05:08:19.389Z"
   },
   {
    "duration": 11,
    "start_time": "2024-06-14T05:08:19.393Z"
   },
   {
    "duration": 17,
    "start_time": "2024-06-14T05:08:19.406Z"
   },
   {
    "duration": 12,
    "start_time": "2024-06-14T05:08:19.424Z"
   },
   {
    "duration": 4,
    "start_time": "2024-06-14T05:08:19.437Z"
   },
   {
    "duration": 7,
    "start_time": "2024-06-14T05:08:19.442Z"
   },
   {
    "duration": 6,
    "start_time": "2024-06-14T05:08:19.450Z"
   },
   {
    "duration": 7,
    "start_time": "2024-06-14T05:08:19.457Z"
   },
   {
    "duration": 5,
    "start_time": "2024-06-14T05:08:19.465Z"
   },
   {
    "duration": 4,
    "start_time": "2024-06-14T05:08:19.471Z"
   },
   {
    "duration": 5,
    "start_time": "2024-06-14T05:08:19.476Z"
   },
   {
    "duration": 147,
    "start_time": "2024-06-14T05:08:19.482Z"
   },
   {
    "duration": 5,
    "start_time": "2024-06-14T05:08:19.630Z"
   },
   {
    "duration": 6,
    "start_time": "2024-06-14T05:08:19.636Z"
   },
   {
    "duration": 7,
    "start_time": "2024-06-14T05:08:19.643Z"
   },
   {
    "duration": 118,
    "start_time": "2024-06-14T05:08:19.651Z"
   },
   {
    "duration": 135,
    "start_time": "2024-06-14T05:08:19.770Z"
   },
   {
    "duration": 6,
    "start_time": "2024-06-14T05:08:19.907Z"
   },
   {
    "duration": 140,
    "start_time": "2024-06-14T05:08:19.914Z"
   },
   {
    "duration": 8,
    "start_time": "2024-06-14T05:08:20.055Z"
   },
   {
    "duration": 17,
    "start_time": "2024-06-14T05:08:20.064Z"
   },
   {
    "duration": 19,
    "start_time": "2024-06-14T05:08:20.082Z"
   },
   {
    "duration": 28,
    "start_time": "2024-06-14T05:08:20.102Z"
   },
   {
    "duration": 28,
    "start_time": "2024-06-14T05:08:20.132Z"
   },
   {
    "duration": 22,
    "start_time": "2024-06-14T05:08:20.161Z"
   },
   {
    "duration": 24,
    "start_time": "2024-06-14T05:08:20.184Z"
   },
   {
    "duration": 127,
    "start_time": "2024-06-14T05:08:20.209Z"
   },
   {
    "duration": 115,
    "start_time": "2024-06-14T05:08:20.337Z"
   },
   {
    "duration": 107,
    "start_time": "2024-06-14T05:08:20.453Z"
   },
   {
    "duration": 150,
    "start_time": "2024-06-14T05:08:20.563Z"
   },
   {
    "duration": 2,
    "start_time": "2024-06-14T05:08:20.714Z"
   },
   {
    "duration": 15,
    "start_time": "2024-06-14T05:08:20.717Z"
   },
   {
    "duration": 8,
    "start_time": "2024-06-14T05:08:23.262Z"
   },
   {
    "duration": 2,
    "start_time": "2024-06-14T05:14:07.442Z"
   },
   {
    "duration": 89,
    "start_time": "2024-06-14T05:19:35.042Z"
   },
   {
    "duration": 2,
    "start_time": "2024-06-14T05:19:47.677Z"
   },
   {
    "duration": 3,
    "start_time": "2024-06-14T05:19:54.073Z"
   },
   {
    "duration": 2,
    "start_time": "2024-06-14T05:20:03.127Z"
   },
   {
    "duration": 3,
    "start_time": "2024-06-14T05:20:03.691Z"
   },
   {
    "duration": 9,
    "start_time": "2024-06-14T05:20:05.653Z"
   },
   {
    "duration": 65,
    "start_time": "2024-06-14T05:20:35.917Z"
   },
   {
    "duration": 13,
    "start_time": "2024-06-14T05:21:15.376Z"
   },
   {
    "duration": 4,
    "start_time": "2024-06-14T05:21:45.813Z"
   },
   {
    "duration": 10,
    "start_time": "2024-06-14T05:22:19.569Z"
   },
   {
    "duration": 2,
    "start_time": "2024-06-14T05:23:50.257Z"
   },
   {
    "duration": 3,
    "start_time": "2024-06-14T05:30:10.079Z"
   },
   {
    "duration": 3,
    "start_time": "2024-06-14T05:30:13.221Z"
   },
   {
    "duration": 13,
    "start_time": "2024-06-14T05:30:36.499Z"
   },
   {
    "duration": 3,
    "start_time": "2024-06-14T05:32:27.148Z"
   },
   {
    "duration": 10,
    "start_time": "2024-06-14T05:32:28.214Z"
   },
   {
    "duration": 4,
    "start_time": "2024-06-14T05:32:33.790Z"
   },
   {
    "duration": 3,
    "start_time": "2024-06-14T05:32:37.330Z"
   },
   {
    "duration": 957,
    "start_time": "2024-06-14T05:33:19.965Z"
   },
   {
    "duration": 58,
    "start_time": "2024-06-14T05:33:20.924Z"
   },
   {
    "duration": 9,
    "start_time": "2024-06-14T05:33:20.983Z"
   },
   {
    "duration": 9,
    "start_time": "2024-06-14T05:33:20.993Z"
   },
   {
    "duration": 7,
    "start_time": "2024-06-14T05:33:21.003Z"
   },
   {
    "duration": 10,
    "start_time": "2024-06-14T05:33:21.011Z"
   },
   {
    "duration": 9,
    "start_time": "2024-06-14T05:33:21.022Z"
   },
   {
    "duration": 6,
    "start_time": "2024-06-14T05:33:21.032Z"
   },
   {
    "duration": 132,
    "start_time": "2024-06-14T05:33:21.040Z"
   },
   {
    "duration": 111,
    "start_time": "2024-06-14T05:33:21.174Z"
   },
   {
    "duration": 4,
    "start_time": "2024-06-14T05:33:21.286Z"
   },
   {
    "duration": 11,
    "start_time": "2024-06-14T05:33:21.291Z"
   },
   {
    "duration": 4,
    "start_time": "2024-06-14T05:33:21.303Z"
   },
   {
    "duration": 6,
    "start_time": "2024-06-14T05:33:21.308Z"
   },
   {
    "duration": 9,
    "start_time": "2024-06-14T05:33:21.315Z"
   },
   {
    "duration": 4,
    "start_time": "2024-06-14T05:33:21.325Z"
   },
   {
    "duration": 14,
    "start_time": "2024-06-14T05:33:21.330Z"
   },
   {
    "duration": 3,
    "start_time": "2024-06-14T05:33:21.346Z"
   },
   {
    "duration": 9,
    "start_time": "2024-06-14T05:33:21.350Z"
   },
   {
    "duration": 6,
    "start_time": "2024-06-14T05:33:21.360Z"
   },
   {
    "duration": 3,
    "start_time": "2024-06-14T05:33:21.367Z"
   },
   {
    "duration": 20,
    "start_time": "2024-06-14T05:33:21.371Z"
   },
   {
    "duration": 121,
    "start_time": "2024-06-14T05:33:21.392Z"
   },
   {
    "duration": 4,
    "start_time": "2024-06-14T05:33:21.514Z"
   },
   {
    "duration": 14,
    "start_time": "2024-06-14T05:33:21.519Z"
   },
   {
    "duration": 8,
    "start_time": "2024-06-14T05:33:21.534Z"
   },
   {
    "duration": 127,
    "start_time": "2024-06-14T05:33:21.543Z"
   },
   {
    "duration": 129,
    "start_time": "2024-06-14T05:33:21.673Z"
   },
   {
    "duration": 6,
    "start_time": "2024-06-14T05:33:21.803Z"
   },
   {
    "duration": 129,
    "start_time": "2024-06-14T05:33:21.810Z"
   },
   {
    "duration": 9,
    "start_time": "2024-06-14T05:33:21.940Z"
   },
   {
    "duration": 11,
    "start_time": "2024-06-14T05:33:21.957Z"
   },
   {
    "duration": 23,
    "start_time": "2024-06-14T05:33:21.969Z"
   },
   {
    "duration": 16,
    "start_time": "2024-06-14T05:33:21.993Z"
   },
   {
    "duration": 6,
    "start_time": "2024-06-14T05:33:22.011Z"
   },
   {
    "duration": 13,
    "start_time": "2024-06-14T05:33:22.018Z"
   },
   {
    "duration": 24,
    "start_time": "2024-06-14T05:33:22.033Z"
   },
   {
    "duration": 118,
    "start_time": "2024-06-14T05:33:22.058Z"
   },
   {
    "duration": 114,
    "start_time": "2024-06-14T05:33:22.177Z"
   },
   {
    "duration": 128,
    "start_time": "2024-06-14T05:33:22.292Z"
   },
   {
    "duration": 165,
    "start_time": "2024-06-14T05:33:22.421Z"
   },
   {
    "duration": 2,
    "start_time": "2024-06-14T05:33:22.590Z"
   },
   {
    "duration": 4,
    "start_time": "2024-06-14T05:33:22.593Z"
   },
   {
    "duration": 13,
    "start_time": "2024-06-14T05:33:22.598Z"
   },
   {
    "duration": 3,
    "start_time": "2024-06-14T05:33:22.612Z"
   },
   {
    "duration": 11,
    "start_time": "2024-06-14T05:33:22.616Z"
   },
   {
    "duration": 5,
    "start_time": "2024-06-14T05:33:22.628Z"
   },
   {
    "duration": 14,
    "start_time": "2024-06-14T05:33:22.634Z"
   },
   {
    "duration": 14,
    "start_time": "2024-06-14T05:33:22.649Z"
   },
   {
    "duration": 2,
    "start_time": "2024-06-14T05:33:22.665Z"
   },
   {
    "duration": 22,
    "start_time": "2024-06-14T05:33:22.668Z"
   },
   {
    "duration": 49,
    "start_time": "2024-06-14T13:04:38.732Z"
   },
   {
    "duration": 7,
    "start_time": "2024-06-14T13:05:26.917Z"
   },
   {
    "duration": 1318,
    "start_time": "2024-06-14T13:05:34.307Z"
   },
   {
    "duration": 282,
    "start_time": "2024-06-14T13:05:35.628Z"
   },
   {
    "duration": 12,
    "start_time": "2024-06-14T13:05:35.912Z"
   },
   {
    "duration": 17,
    "start_time": "2024-06-14T13:05:35.927Z"
   },
   {
    "duration": 10,
    "start_time": "2024-06-14T13:05:35.946Z"
   },
   {
    "duration": 15,
    "start_time": "2024-06-14T13:05:35.958Z"
   },
   {
    "duration": 13,
    "start_time": "2024-06-14T13:05:35.974Z"
   },
   {
    "duration": 26,
    "start_time": "2024-06-14T13:05:35.989Z"
   },
   {
    "duration": 174,
    "start_time": "2024-06-14T13:05:36.016Z"
   },
   {
    "duration": 149,
    "start_time": "2024-06-14T13:05:36.193Z"
   },
   {
    "duration": 5,
    "start_time": "2024-06-14T13:05:36.344Z"
   },
   {
    "duration": 16,
    "start_time": "2024-06-14T13:05:36.351Z"
   },
   {
    "duration": 10,
    "start_time": "2024-06-14T13:05:36.369Z"
   },
   {
    "duration": 4,
    "start_time": "2024-06-14T13:05:36.389Z"
   },
   {
    "duration": 16,
    "start_time": "2024-06-14T13:05:36.395Z"
   },
   {
    "duration": 7,
    "start_time": "2024-06-14T13:05:36.413Z"
   },
   {
    "duration": 6,
    "start_time": "2024-06-14T13:05:36.422Z"
   },
   {
    "duration": 11,
    "start_time": "2024-06-14T13:05:36.430Z"
   },
   {
    "duration": 12,
    "start_time": "2024-06-14T13:05:36.442Z"
   },
   {
    "duration": 8,
    "start_time": "2024-06-14T13:05:36.455Z"
   },
   {
    "duration": 24,
    "start_time": "2024-06-14T13:05:36.465Z"
   },
   {
    "duration": 7,
    "start_time": "2024-06-14T13:05:36.491Z"
   },
   {
    "duration": 158,
    "start_time": "2024-06-14T13:05:36.499Z"
   },
   {
    "duration": 7,
    "start_time": "2024-06-14T13:05:36.658Z"
   },
   {
    "duration": 6,
    "start_time": "2024-06-14T13:05:36.667Z"
   },
   {
    "duration": 21,
    "start_time": "2024-06-14T13:05:36.674Z"
   },
   {
    "duration": 154,
    "start_time": "2024-06-14T13:05:36.696Z"
   },
   {
    "duration": 159,
    "start_time": "2024-06-14T13:05:36.854Z"
   },
   {
    "duration": 8,
    "start_time": "2024-06-14T13:05:37.015Z"
   },
   {
    "duration": 175,
    "start_time": "2024-06-14T13:05:37.025Z"
   },
   {
    "duration": 14,
    "start_time": "2024-06-14T13:05:37.202Z"
   },
   {
    "duration": 10,
    "start_time": "2024-06-14T13:05:37.218Z"
   },
   {
    "duration": 13,
    "start_time": "2024-06-14T13:05:37.230Z"
   },
   {
    "duration": 8,
    "start_time": "2024-06-14T13:05:37.245Z"
   },
   {
    "duration": 34,
    "start_time": "2024-06-14T13:05:37.255Z"
   },
   {
    "duration": 15,
    "start_time": "2024-06-14T13:05:37.291Z"
   },
   {
    "duration": 12,
    "start_time": "2024-06-14T13:05:37.307Z"
   },
   {
    "duration": 169,
    "start_time": "2024-06-14T13:05:37.321Z"
   },
   {
    "duration": 156,
    "start_time": "2024-06-14T13:05:37.492Z"
   },
   {
    "duration": 142,
    "start_time": "2024-06-14T13:05:37.650Z"
   },
   {
    "duration": 218,
    "start_time": "2024-06-14T13:05:37.793Z"
   },
   {
    "duration": 2,
    "start_time": "2024-06-14T13:05:38.013Z"
   },
   {
    "duration": 17,
    "start_time": "2024-06-14T13:05:38.017Z"
   },
   {
    "duration": 16,
    "start_time": "2024-06-14T13:05:38.035Z"
   },
   {
    "duration": 4,
    "start_time": "2024-06-14T13:05:38.052Z"
   },
   {
    "duration": 35,
    "start_time": "2024-06-14T13:05:38.058Z"
   },
   {
    "duration": 4,
    "start_time": "2024-06-14T13:05:38.094Z"
   },
   {
    "duration": 4,
    "start_time": "2024-06-14T13:05:38.099Z"
   },
   {
    "duration": 17,
    "start_time": "2024-06-14T13:05:38.104Z"
   },
   {
    "duration": 4,
    "start_time": "2024-06-14T13:05:38.123Z"
   },
   {
    "duration": 14,
    "start_time": "2024-06-14T13:05:38.129Z"
   },
   {
    "duration": 145,
    "start_time": "2024-06-14T13:05:38.144Z"
   },
   {
    "duration": 21,
    "start_time": "2024-06-14T13:06:19.430Z"
   },
   {
    "duration": 5,
    "start_time": "2024-06-14T13:06:55.687Z"
   },
   {
    "duration": 5,
    "start_time": "2024-06-14T13:08:58.976Z"
   },
   {
    "duration": 1108,
    "start_time": "2024-06-14T13:19:45.315Z"
   },
   {
    "duration": 63,
    "start_time": "2024-06-14T13:19:46.424Z"
   },
   {
    "duration": 11,
    "start_time": "2024-06-14T13:19:46.488Z"
   },
   {
    "duration": 15,
    "start_time": "2024-06-14T13:19:46.501Z"
   },
   {
    "duration": 9,
    "start_time": "2024-06-14T13:19:46.518Z"
   },
   {
    "duration": 15,
    "start_time": "2024-06-14T13:19:46.528Z"
   },
   {
    "duration": 8,
    "start_time": "2024-06-14T13:19:46.545Z"
   },
   {
    "duration": 7,
    "start_time": "2024-06-14T13:19:46.555Z"
   },
   {
    "duration": 186,
    "start_time": "2024-06-14T13:19:46.563Z"
   },
   {
    "duration": 149,
    "start_time": "2024-06-14T13:19:46.751Z"
   },
   {
    "duration": 4,
    "start_time": "2024-06-14T13:19:46.902Z"
   },
   {
    "duration": 33,
    "start_time": "2024-06-14T13:19:46.908Z"
   },
   {
    "duration": 5,
    "start_time": "2024-06-14T13:19:46.942Z"
   },
   {
    "duration": 20,
    "start_time": "2024-06-14T13:19:46.949Z"
   },
   {
    "duration": 27,
    "start_time": "2024-06-14T13:19:46.970Z"
   },
   {
    "duration": 5,
    "start_time": "2024-06-14T13:19:46.999Z"
   },
   {
    "duration": 7,
    "start_time": "2024-06-14T13:19:47.006Z"
   },
   {
    "duration": 19,
    "start_time": "2024-06-14T13:19:47.015Z"
   },
   {
    "duration": 7,
    "start_time": "2024-06-14T13:19:47.036Z"
   },
   {
    "duration": 9,
    "start_time": "2024-06-14T13:19:47.045Z"
   },
   {
    "duration": 4,
    "start_time": "2024-06-14T13:19:47.055Z"
   },
   {
    "duration": 7,
    "start_time": "2024-06-14T13:19:47.060Z"
   },
   {
    "duration": 165,
    "start_time": "2024-06-14T13:19:47.068Z"
   },
   {
    "duration": 7,
    "start_time": "2024-06-14T13:19:47.234Z"
   },
   {
    "duration": 8,
    "start_time": "2024-06-14T13:19:47.242Z"
   },
   {
    "duration": 7,
    "start_time": "2024-06-14T13:19:47.252Z"
   },
   {
    "duration": 156,
    "start_time": "2024-06-14T13:19:47.261Z"
   },
   {
    "duration": 163,
    "start_time": "2024-06-14T13:19:47.419Z"
   },
   {
    "duration": 11,
    "start_time": "2024-06-14T13:19:47.583Z"
   },
   {
    "duration": 157,
    "start_time": "2024-06-14T13:19:47.596Z"
   },
   {
    "duration": 10,
    "start_time": "2024-06-14T13:19:47.755Z"
   },
   {
    "duration": 26,
    "start_time": "2024-06-14T13:19:47.766Z"
   },
   {
    "duration": 14,
    "start_time": "2024-06-14T13:19:47.793Z"
   },
   {
    "duration": 15,
    "start_time": "2024-06-14T13:19:47.809Z"
   },
   {
    "duration": 31,
    "start_time": "2024-06-14T13:19:47.825Z"
   },
   {
    "duration": 15,
    "start_time": "2024-06-14T13:19:47.857Z"
   },
   {
    "duration": 14,
    "start_time": "2024-06-14T13:19:47.874Z"
   },
   {
    "duration": 138,
    "start_time": "2024-06-14T13:19:47.889Z"
   },
   {
    "duration": 145,
    "start_time": "2024-06-14T13:19:48.029Z"
   },
   {
    "duration": 151,
    "start_time": "2024-06-14T13:19:48.176Z"
   },
   {
    "duration": 212,
    "start_time": "2024-06-14T13:19:48.331Z"
   },
   {
    "duration": 2,
    "start_time": "2024-06-14T13:19:48.545Z"
   },
   {
    "duration": 6,
    "start_time": "2024-06-14T13:19:48.549Z"
   },
   {
    "duration": 18,
    "start_time": "2024-06-14T13:19:48.557Z"
   },
   {
    "duration": 14,
    "start_time": "2024-06-14T13:19:48.577Z"
   },
   {
    "duration": 27,
    "start_time": "2024-06-14T13:19:48.593Z"
   },
   {
    "duration": 29,
    "start_time": "2024-06-14T13:19:48.621Z"
   },
   {
    "duration": 9,
    "start_time": "2024-06-14T13:19:48.652Z"
   },
   {
    "duration": 21,
    "start_time": "2024-06-14T13:19:48.662Z"
   },
   {
    "duration": 8,
    "start_time": "2024-06-14T13:19:48.684Z"
   },
   {
    "duration": 25,
    "start_time": "2024-06-14T13:19:48.694Z"
   },
   {
    "duration": 6,
    "start_time": "2024-06-14T13:19:48.720Z"
   },
   {
    "duration": 5,
    "start_time": "2024-06-14T13:20:29.992Z"
   },
   {
    "duration": 24,
    "start_time": "2024-06-14T13:21:29.930Z"
   },
   {
    "duration": 22,
    "start_time": "2024-06-14T13:21:52.211Z"
   },
   {
    "duration": 7,
    "start_time": "2024-06-14T13:28:57.107Z"
   },
   {
    "duration": 5,
    "start_time": "2024-06-14T13:29:15.888Z"
   },
   {
    "duration": 5,
    "start_time": "2024-06-14T13:29:54.920Z"
   },
   {
    "duration": 4,
    "start_time": "2024-06-14T13:30:07.205Z"
   },
   {
    "duration": 5,
    "start_time": "2024-06-14T13:30:13.350Z"
   },
   {
    "duration": 3,
    "start_time": "2024-06-14T13:32:13.723Z"
   },
   {
    "duration": 5,
    "start_time": "2024-06-14T13:32:16.494Z"
   },
   {
    "duration": 5,
    "start_time": "2024-06-14T13:32:19.801Z"
   },
   {
    "duration": 3,
    "start_time": "2024-06-14T13:32:25.436Z"
   },
   {
    "duration": 4,
    "start_time": "2024-06-14T13:32:30.834Z"
   },
   {
    "duration": 4,
    "start_time": "2024-06-14T13:32:36.278Z"
   },
   {
    "duration": 4,
    "start_time": "2024-06-14T13:32:42.697Z"
   },
   {
    "duration": 4,
    "start_time": "2024-06-14T13:32:45.643Z"
   },
   {
    "duration": 4,
    "start_time": "2024-06-14T13:32:48.886Z"
   },
   {
    "duration": 5,
    "start_time": "2024-06-14T13:32:54.573Z"
   },
   {
    "duration": 4,
    "start_time": "2024-06-14T13:32:59.211Z"
   },
   {
    "duration": 4,
    "start_time": "2024-06-14T13:33:02.659Z"
   },
   {
    "duration": 5,
    "start_time": "2024-06-14T13:33:17.517Z"
   },
   {
    "duration": 4,
    "start_time": "2024-06-14T13:33:26.191Z"
   },
   {
    "duration": 4,
    "start_time": "2024-06-14T13:33:31.003Z"
   },
   {
    "duration": 4,
    "start_time": "2024-06-14T13:33:34.703Z"
   },
   {
    "duration": 5,
    "start_time": "2024-06-14T13:33:39.458Z"
   },
   {
    "duration": 5,
    "start_time": "2024-06-14T13:33:45.538Z"
   },
   {
    "duration": 6,
    "start_time": "2024-06-14T13:34:02.342Z"
   },
   {
    "duration": 4,
    "start_time": "2024-06-14T13:38:31.130Z"
   },
   {
    "duration": 3,
    "start_time": "2024-06-14T13:38:33.600Z"
   },
   {
    "duration": 4,
    "start_time": "2024-06-14T13:38:38.597Z"
   },
   {
    "duration": 4,
    "start_time": "2024-06-14T13:38:50.186Z"
   },
   {
    "duration": 4,
    "start_time": "2024-06-14T13:39:00.141Z"
   },
   {
    "duration": 3,
    "start_time": "2024-06-14T13:42:29.090Z"
   },
   {
    "duration": 4,
    "start_time": "2024-06-14T13:44:05.302Z"
   },
   {
    "duration": 792,
    "start_time": "2024-06-14T13:47:56.446Z"
   },
   {
    "duration": 4,
    "start_time": "2024-06-14T13:48:11.417Z"
   },
   {
    "duration": 4,
    "start_time": "2024-06-14T13:48:20.978Z"
   },
   {
    "duration": 5,
    "start_time": "2024-06-14T13:48:29.821Z"
   },
   {
    "duration": 4,
    "start_time": "2024-06-14T13:50:45.123Z"
   },
   {
    "duration": 4,
    "start_time": "2024-06-14T13:53:48.649Z"
   },
   {
    "duration": 4,
    "start_time": "2024-06-14T13:54:21.036Z"
   },
   {
    "duration": 9,
    "start_time": "2024-06-14T13:55:22.912Z"
   },
   {
    "duration": 4,
    "start_time": "2024-06-14T13:55:40.128Z"
   },
   {
    "duration": 4,
    "start_time": "2024-06-14T13:55:47.038Z"
   },
   {
    "duration": 4,
    "start_time": "2024-06-14T13:55:51.681Z"
   },
   {
    "duration": 1372,
    "start_time": "2024-06-19T08:24:16.693Z"
   },
   {
    "duration": 3,
    "start_time": "2024-06-19T08:24:39.577Z"
   },
   {
    "duration": 211,
    "start_time": "2024-06-19T08:24:39.582Z"
   },
   {
    "duration": 14,
    "start_time": "2024-06-19T08:24:39.794Z"
   },
   {
    "duration": 20,
    "start_time": "2024-06-19T08:24:39.810Z"
   },
   {
    "duration": 13,
    "start_time": "2024-06-19T08:24:39.831Z"
   },
   {
    "duration": 16,
    "start_time": "2024-06-19T08:24:39.846Z"
   },
   {
    "duration": 25,
    "start_time": "2024-06-19T08:24:39.863Z"
   },
   {
    "duration": 16,
    "start_time": "2024-06-19T08:24:39.890Z"
   },
   {
    "duration": 212,
    "start_time": "2024-06-19T08:24:39.909Z"
   },
   {
    "duration": 163,
    "start_time": "2024-06-19T08:24:40.122Z"
   },
   {
    "duration": 6,
    "start_time": "2024-06-19T08:24:40.287Z"
   },
   {
    "duration": 11,
    "start_time": "2024-06-19T08:24:40.294Z"
   },
   {
    "duration": 21,
    "start_time": "2024-06-19T08:24:40.307Z"
   },
   {
    "duration": 18,
    "start_time": "2024-06-19T08:24:40.330Z"
   },
   {
    "duration": 11,
    "start_time": "2024-06-19T08:24:40.350Z"
   },
   {
    "duration": 7,
    "start_time": "2024-06-19T08:24:40.363Z"
   },
   {
    "duration": 24,
    "start_time": "2024-06-19T08:24:40.372Z"
   },
   {
    "duration": 23,
    "start_time": "2024-06-19T08:24:40.398Z"
   },
   {
    "duration": 10,
    "start_time": "2024-06-19T08:24:40.423Z"
   },
   {
    "duration": 17,
    "start_time": "2024-06-19T08:24:40.436Z"
   },
   {
    "duration": 24,
    "start_time": "2024-06-19T08:24:40.455Z"
   },
   {
    "duration": 23,
    "start_time": "2024-06-19T08:24:40.481Z"
   },
   {
    "duration": 161,
    "start_time": "2024-06-19T08:24:40.506Z"
   },
   {
    "duration": 14,
    "start_time": "2024-06-19T08:24:40.669Z"
   },
   {
    "duration": 129,
    "start_time": "2024-06-19T08:24:40.684Z"
   },
   {
    "duration": 24,
    "start_time": "2024-06-19T08:24:40.815Z"
   },
   {
    "duration": 174,
    "start_time": "2024-06-19T08:24:40.841Z"
   },
   {
    "duration": 186,
    "start_time": "2024-06-19T08:24:41.016Z"
   },
   {
    "duration": 9,
    "start_time": "2024-06-19T08:24:41.203Z"
   },
   {
    "duration": 184,
    "start_time": "2024-06-19T08:24:41.214Z"
   },
   {
    "duration": 10,
    "start_time": "2024-06-19T08:24:41.400Z"
   },
   {
    "duration": 24,
    "start_time": "2024-06-19T08:24:41.412Z"
   },
   {
    "duration": 28,
    "start_time": "2024-06-19T08:24:41.438Z"
   },
   {
    "duration": 13,
    "start_time": "2024-06-19T08:24:41.468Z"
   },
   {
    "duration": 8,
    "start_time": "2024-06-19T08:24:41.483Z"
   },
   {
    "duration": 13,
    "start_time": "2024-06-19T08:24:41.492Z"
   },
   {
    "duration": 17,
    "start_time": "2024-06-19T08:24:41.509Z"
   },
   {
    "duration": 164,
    "start_time": "2024-06-19T08:24:41.528Z"
   },
   {
    "duration": 178,
    "start_time": "2024-06-19T08:24:41.694Z"
   },
   {
    "duration": 176,
    "start_time": "2024-06-19T08:24:41.874Z"
   },
   {
    "duration": 245,
    "start_time": "2024-06-19T08:24:42.052Z"
   },
   {
    "duration": 3,
    "start_time": "2024-06-19T08:24:42.298Z"
   },
   {
    "duration": 6,
    "start_time": "2024-06-19T08:24:42.302Z"
   },
   {
    "duration": 24,
    "start_time": "2024-06-19T08:24:42.309Z"
   },
   {
    "duration": 4,
    "start_time": "2024-06-19T08:24:42.334Z"
   },
   {
    "duration": 17,
    "start_time": "2024-06-19T08:24:42.340Z"
   },
   {
    "duration": 3,
    "start_time": "2024-06-19T08:24:42.381Z"
   },
   {
    "duration": 6,
    "start_time": "2024-06-19T08:24:42.386Z"
   },
   {
    "duration": 18,
    "start_time": "2024-06-19T08:24:42.394Z"
   },
   {
    "duration": 5,
    "start_time": "2024-06-19T08:24:42.413Z"
   },
   {
    "duration": 18,
    "start_time": "2024-06-19T08:24:42.420Z"
   },
   {
    "duration": 50,
    "start_time": "2024-06-19T08:24:42.439Z"
   },
   {
    "duration": 25,
    "start_time": "2024-06-19T08:24:42.491Z"
   },
   {
    "duration": 6,
    "start_time": "2024-06-19T08:24:42.518Z"
   },
   {
    "duration": 8,
    "start_time": "2024-06-19T08:24:42.526Z"
   },
   {
    "duration": 9,
    "start_time": "2024-06-19T08:24:42.535Z"
   },
   {
    "duration": 10,
    "start_time": "2024-06-19T08:26:37.295Z"
   },
   {
    "duration": 1226,
    "start_time": "2024-06-19T08:29:15.682Z"
   },
   {
    "duration": 1196,
    "start_time": "2024-06-19T08:29:39.902Z"
   },
   {
    "duration": 1231,
    "start_time": "2024-06-19T08:30:13.720Z"
   },
   {
    "duration": 10,
    "start_time": "2024-06-19T08:30:56.441Z"
   },
   {
    "duration": 10510,
    "start_time": "2024-06-19T08:34:41.106Z"
   },
   {
    "duration": 317,
    "start_time": "2024-06-19T08:41:36.061Z"
   },
   {
    "duration": 323,
    "start_time": "2024-06-19T08:41:52.918Z"
   },
   {
    "duration": 394,
    "start_time": "2024-06-19T08:41:59.970Z"
   },
   {
    "duration": 44,
    "start_time": "2024-06-20T15:27:09.884Z"
   },
   {
    "duration": 1246,
    "start_time": "2024-06-20T15:27:18.335Z"
   },
   {
    "duration": 294,
    "start_time": "2024-06-20T15:27:19.582Z"
   },
   {
    "duration": 11,
    "start_time": "2024-06-20T15:27:19.878Z"
   },
   {
    "duration": 25,
    "start_time": "2024-06-20T15:27:19.891Z"
   },
   {
    "duration": 8,
    "start_time": "2024-06-20T15:27:19.919Z"
   },
   {
    "duration": 22,
    "start_time": "2024-06-20T15:27:19.928Z"
   },
   {
    "duration": 7,
    "start_time": "2024-06-20T15:27:19.952Z"
   },
   {
    "duration": 6,
    "start_time": "2024-06-20T15:27:19.960Z"
   },
   {
    "duration": 138,
    "start_time": "2024-06-20T15:27:19.968Z"
   },
   {
    "duration": 128,
    "start_time": "2024-06-20T15:27:20.107Z"
   },
   {
    "duration": 5,
    "start_time": "2024-06-20T15:27:20.236Z"
   },
   {
    "duration": 8,
    "start_time": "2024-06-20T15:27:20.243Z"
   },
   {
    "duration": 10,
    "start_time": "2024-06-20T15:27:20.252Z"
   },
   {
    "duration": 3,
    "start_time": "2024-06-20T15:27:20.265Z"
   },
   {
    "duration": 11,
    "start_time": "2024-06-20T15:27:20.269Z"
   },
   {
    "duration": 4,
    "start_time": "2024-06-20T15:27:20.282Z"
   },
   {
    "duration": 9,
    "start_time": "2024-06-20T15:27:20.287Z"
   },
   {
    "duration": 27,
    "start_time": "2024-06-20T15:27:20.297Z"
   },
   {
    "duration": 13,
    "start_time": "2024-06-20T15:27:20.326Z"
   },
   {
    "duration": 9,
    "start_time": "2024-06-20T15:27:20.340Z"
   },
   {
    "duration": 5,
    "start_time": "2024-06-20T15:27:20.350Z"
   },
   {
    "duration": 8,
    "start_time": "2024-06-20T15:27:20.356Z"
   },
   {
    "duration": 148,
    "start_time": "2024-06-20T15:27:20.365Z"
   },
   {
    "duration": 7,
    "start_time": "2024-06-20T15:27:20.514Z"
   },
   {
    "duration": 13,
    "start_time": "2024-06-20T15:27:20.522Z"
   },
   {
    "duration": 5,
    "start_time": "2024-06-20T15:27:20.536Z"
   },
   {
    "duration": 150,
    "start_time": "2024-06-20T15:27:20.543Z"
   },
   {
    "duration": 137,
    "start_time": "2024-06-20T15:27:20.694Z"
   },
   {
    "duration": 7,
    "start_time": "2024-06-20T15:27:20.832Z"
   },
   {
    "duration": 141,
    "start_time": "2024-06-20T15:27:20.840Z"
   },
   {
    "duration": 8,
    "start_time": "2024-06-20T15:27:20.983Z"
   },
   {
    "duration": 8,
    "start_time": "2024-06-20T15:27:20.993Z"
   },
   {
    "duration": 23,
    "start_time": "2024-06-20T15:27:21.002Z"
   },
   {
    "duration": 10,
    "start_time": "2024-06-20T15:27:21.026Z"
   },
   {
    "duration": 10,
    "start_time": "2024-06-20T15:27:21.037Z"
   },
   {
    "duration": 21,
    "start_time": "2024-06-20T15:27:21.048Z"
   },
   {
    "duration": 16,
    "start_time": "2024-06-20T15:27:21.070Z"
   },
   {
    "duration": 116,
    "start_time": "2024-06-20T15:27:21.087Z"
   },
   {
    "duration": 125,
    "start_time": "2024-06-20T15:27:21.205Z"
   },
   {
    "duration": 117,
    "start_time": "2024-06-20T15:27:21.331Z"
   },
   {
    "duration": 180,
    "start_time": "2024-06-20T15:27:21.451Z"
   },
   {
    "duration": 2,
    "start_time": "2024-06-20T15:27:21.632Z"
   },
   {
    "duration": 22,
    "start_time": "2024-06-20T15:27:21.635Z"
   },
   {
    "duration": 18,
    "start_time": "2024-06-20T15:27:21.659Z"
   },
   {
    "duration": 10,
    "start_time": "2024-06-20T15:27:21.678Z"
   },
   {
    "duration": 13,
    "start_time": "2024-06-20T15:27:21.689Z"
   },
   {
    "duration": 14,
    "start_time": "2024-06-20T15:27:21.703Z"
   },
   {
    "duration": 15,
    "start_time": "2024-06-20T15:27:21.718Z"
   },
   {
    "duration": 38,
    "start_time": "2024-06-20T15:27:21.735Z"
   },
   {
    "duration": 4,
    "start_time": "2024-06-20T15:27:21.774Z"
   },
   {
    "duration": 23,
    "start_time": "2024-06-20T15:27:21.779Z"
   },
   {
    "duration": 25,
    "start_time": "2024-06-20T15:27:21.803Z"
   },
   {
    "duration": 18,
    "start_time": "2024-06-20T15:27:21.830Z"
   },
   {
    "duration": 5,
    "start_time": "2024-06-20T15:27:21.850Z"
   },
   {
    "duration": 16,
    "start_time": "2024-06-20T15:27:21.856Z"
   },
   {
    "duration": 21,
    "start_time": "2024-06-20T15:27:21.873Z"
   },
   {
    "duration": 17,
    "start_time": "2024-06-20T15:27:21.895Z"
   },
   {
    "duration": 242,
    "start_time": "2024-06-20T15:27:21.913Z"
   },
   {
    "duration": 105,
    "start_time": "2024-06-20T15:29:15.042Z"
   },
   {
    "duration": 8,
    "start_time": "2024-06-20T15:32:26.074Z"
   },
   {
    "duration": 4,
    "start_time": "2024-06-20T15:32:45.490Z"
   },
   {
    "duration": 5,
    "start_time": "2024-06-20T15:33:36.099Z"
   },
   {
    "duration": 4,
    "start_time": "2024-06-20T15:44:27.876Z"
   },
   {
    "duration": 114,
    "start_time": "2024-06-20T15:57:33.394Z"
   },
   {
    "duration": 5,
    "start_time": "2024-06-20T15:58:23.221Z"
   },
   {
    "duration": 4,
    "start_time": "2024-06-20T15:58:31.386Z"
   },
   {
    "duration": 4,
    "start_time": "2024-06-20T15:58:38.040Z"
   },
   {
    "duration": 5,
    "start_time": "2024-06-20T15:58:41.127Z"
   },
   {
    "duration": 4,
    "start_time": "2024-06-20T15:58:51.070Z"
   },
   {
    "duration": 4,
    "start_time": "2024-06-20T15:59:00.737Z"
   },
   {
    "duration": 4,
    "start_time": "2024-06-20T15:59:07.694Z"
   },
   {
    "duration": 4,
    "start_time": "2024-06-20T15:59:47.749Z"
   },
   {
    "duration": 113,
    "start_time": "2024-06-20T15:59:49.184Z"
   },
   {
    "duration": 43,
    "start_time": "2024-06-20T16:05:42.871Z"
   },
   {
    "duration": 39,
    "start_time": "2024-06-20T16:06:15.048Z"
   },
   {
    "duration": 65,
    "start_time": "2024-06-20T16:08:02.773Z"
   },
   {
    "duration": 10,
    "start_time": "2024-06-20T16:09:15.827Z"
   },
   {
    "duration": 43,
    "start_time": "2024-06-20T16:09:41.628Z"
   },
   {
    "duration": 5,
    "start_time": "2024-06-20T16:13:11.020Z"
   },
   {
    "duration": 9,
    "start_time": "2024-06-20T16:19:24.641Z"
   },
   {
    "duration": 9,
    "start_time": "2024-06-20T16:20:36.048Z"
   },
   {
    "duration": 3,
    "start_time": "2024-06-20T16:21:54.368Z"
   },
   {
    "duration": 177,
    "start_time": "2024-06-20T16:22:13.672Z"
   },
   {
    "duration": 261,
    "start_time": "2024-06-20T16:24:17.197Z"
   },
   {
    "duration": 205,
    "start_time": "2024-06-20T16:25:00.655Z"
   },
   {
    "duration": 47,
    "start_time": "2024-06-24T06:02:34.735Z"
   },
   {
    "duration": 1340,
    "start_time": "2024-06-24T06:02:42.288Z"
   },
   {
    "duration": 289,
    "start_time": "2024-06-24T06:02:43.630Z"
   },
   {
    "duration": 10,
    "start_time": "2024-06-24T06:02:43.920Z"
   },
   {
    "duration": 13,
    "start_time": "2024-06-24T06:02:43.932Z"
   },
   {
    "duration": 8,
    "start_time": "2024-06-24T06:02:43.946Z"
   },
   {
    "duration": 18,
    "start_time": "2024-06-24T06:02:43.956Z"
   },
   {
    "duration": 7,
    "start_time": "2024-06-24T06:02:43.975Z"
   },
   {
    "duration": 23,
    "start_time": "2024-06-24T06:02:43.983Z"
   },
   {
    "duration": 138,
    "start_time": "2024-06-24T06:02:44.007Z"
   },
   {
    "duration": 132,
    "start_time": "2024-06-24T06:02:44.149Z"
   },
   {
    "duration": 4,
    "start_time": "2024-06-24T06:02:44.282Z"
   },
   {
    "duration": 9,
    "start_time": "2024-06-24T06:02:44.287Z"
   },
   {
    "duration": 12,
    "start_time": "2024-06-24T06:02:44.297Z"
   },
   {
    "duration": 3,
    "start_time": "2024-06-24T06:02:44.311Z"
   },
   {
    "duration": 9,
    "start_time": "2024-06-24T06:02:44.315Z"
   },
   {
    "duration": 6,
    "start_time": "2024-06-24T06:02:44.325Z"
   },
   {
    "duration": 16,
    "start_time": "2024-06-24T06:02:44.332Z"
   },
   {
    "duration": 10,
    "start_time": "2024-06-24T06:02:44.349Z"
   },
   {
    "duration": 14,
    "start_time": "2024-06-24T06:02:44.360Z"
   },
   {
    "duration": 6,
    "start_time": "2024-06-24T06:02:44.375Z"
   },
   {
    "duration": 6,
    "start_time": "2024-06-24T06:02:44.382Z"
   },
   {
    "duration": 6,
    "start_time": "2024-06-24T06:02:44.389Z"
   },
   {
    "duration": 143,
    "start_time": "2024-06-24T06:02:44.409Z"
   },
   {
    "duration": 6,
    "start_time": "2024-06-24T06:02:44.553Z"
   },
   {
    "duration": 19,
    "start_time": "2024-06-24T06:02:44.561Z"
   },
   {
    "duration": 7,
    "start_time": "2024-06-24T06:02:44.581Z"
   },
   {
    "duration": 137,
    "start_time": "2024-06-24T06:02:44.589Z"
   },
   {
    "duration": 163,
    "start_time": "2024-06-24T06:02:44.730Z"
   },
   {
    "duration": 7,
    "start_time": "2024-06-24T06:02:44.894Z"
   },
   {
    "duration": 151,
    "start_time": "2024-06-24T06:02:44.909Z"
   },
   {
    "duration": 11,
    "start_time": "2024-06-24T06:02:45.062Z"
   },
   {
    "duration": 40,
    "start_time": "2024-06-24T06:02:45.075Z"
   },
   {
    "duration": 22,
    "start_time": "2024-06-24T06:02:45.116Z"
   },
   {
    "duration": 13,
    "start_time": "2024-06-24T06:02:45.139Z"
   },
   {
    "duration": 30,
    "start_time": "2024-06-24T06:02:45.153Z"
   },
   {
    "duration": 17,
    "start_time": "2024-06-24T06:02:45.184Z"
   },
   {
    "duration": 17,
    "start_time": "2024-06-24T06:02:45.203Z"
   },
   {
    "duration": 129,
    "start_time": "2024-06-24T06:02:45.222Z"
   },
   {
    "duration": 140,
    "start_time": "2024-06-24T06:02:45.352Z"
   },
   {
    "duration": 122,
    "start_time": "2024-06-24T06:02:45.493Z"
   },
   {
    "duration": 187,
    "start_time": "2024-06-24T06:02:45.617Z"
   },
   {
    "duration": 4,
    "start_time": "2024-06-24T06:02:45.805Z"
   },
   {
    "duration": 36,
    "start_time": "2024-06-24T06:02:45.811Z"
   },
   {
    "duration": 32,
    "start_time": "2024-06-24T06:02:45.848Z"
   },
   {
    "duration": 32,
    "start_time": "2024-06-24T06:02:45.881Z"
   },
   {
    "duration": 32,
    "start_time": "2024-06-24T06:02:45.914Z"
   },
   {
    "duration": 25,
    "start_time": "2024-06-24T06:02:45.947Z"
   },
   {
    "duration": 25,
    "start_time": "2024-06-24T06:02:45.974Z"
   },
   {
    "duration": 22,
    "start_time": "2024-06-24T06:02:46.000Z"
   },
   {
    "duration": 4,
    "start_time": "2024-06-24T06:02:46.024Z"
   },
   {
    "duration": 16,
    "start_time": "2024-06-24T06:02:46.029Z"
   },
   {
    "duration": 42,
    "start_time": "2024-06-24T06:02:46.046Z"
   },
   {
    "duration": 21,
    "start_time": "2024-06-24T06:02:46.089Z"
   },
   {
    "duration": 4,
    "start_time": "2024-06-24T06:02:46.111Z"
   },
   {
    "duration": 10,
    "start_time": "2024-06-24T06:02:46.116Z"
   },
   {
    "duration": 36,
    "start_time": "2024-06-24T06:02:46.128Z"
   },
   {
    "duration": 18,
    "start_time": "2024-06-24T06:02:46.166Z"
   },
   {
    "duration": 19,
    "start_time": "2024-06-24T06:02:46.186Z"
   },
   {
    "duration": 41,
    "start_time": "2024-06-24T06:02:46.207Z"
   },
   {
    "duration": 4,
    "start_time": "2024-06-24T06:02:46.249Z"
   },
   {
    "duration": 94,
    "start_time": "2024-06-24T06:03:31.803Z"
   },
   {
    "duration": 80,
    "start_time": "2024-06-24T06:11:07.324Z"
   },
   {
    "duration": 1090,
    "start_time": "2024-06-24T06:11:19.139Z"
   },
   {
    "duration": 280,
    "start_time": "2024-06-24T06:11:20.231Z"
   },
   {
    "duration": 10,
    "start_time": "2024-06-24T06:11:20.513Z"
   },
   {
    "duration": 15,
    "start_time": "2024-06-24T06:11:20.524Z"
   },
   {
    "duration": 22,
    "start_time": "2024-06-24T06:11:20.541Z"
   },
   {
    "duration": 30,
    "start_time": "2024-06-24T06:11:20.564Z"
   },
   {
    "duration": 12,
    "start_time": "2024-06-24T06:11:20.596Z"
   },
   {
    "duration": 11,
    "start_time": "2024-06-24T06:11:20.609Z"
   },
   {
    "duration": 167,
    "start_time": "2024-06-24T06:11:20.621Z"
   },
   {
    "duration": 133,
    "start_time": "2024-06-24T06:11:20.790Z"
   },
   {
    "duration": 4,
    "start_time": "2024-06-24T06:11:20.925Z"
   },
   {
    "duration": 17,
    "start_time": "2024-06-24T06:11:20.931Z"
   },
   {
    "duration": 12,
    "start_time": "2024-06-24T06:11:20.949Z"
   },
   {
    "duration": 7,
    "start_time": "2024-06-24T06:11:20.965Z"
   },
   {
    "duration": 21,
    "start_time": "2024-06-24T06:11:20.973Z"
   },
   {
    "duration": 17,
    "start_time": "2024-06-24T06:11:20.996Z"
   },
   {
    "duration": 9,
    "start_time": "2024-06-24T06:11:21.014Z"
   },
   {
    "duration": 41,
    "start_time": "2024-06-24T06:11:21.025Z"
   },
   {
    "duration": 8,
    "start_time": "2024-06-24T06:11:21.068Z"
   },
   {
    "duration": 6,
    "start_time": "2024-06-24T06:11:21.078Z"
   },
   {
    "duration": 7,
    "start_time": "2024-06-24T06:11:21.086Z"
   },
   {
    "duration": 8,
    "start_time": "2024-06-24T06:11:21.094Z"
   },
   {
    "duration": 139,
    "start_time": "2024-06-24T06:11:21.103Z"
   },
   {
    "duration": 6,
    "start_time": "2024-06-24T06:11:21.243Z"
   },
   {
    "duration": 6,
    "start_time": "2024-06-24T06:11:21.250Z"
   },
   {
    "duration": 7,
    "start_time": "2024-06-24T06:11:21.257Z"
   },
   {
    "duration": 145,
    "start_time": "2024-06-24T06:11:21.265Z"
   },
   {
    "duration": 190,
    "start_time": "2024-06-24T06:11:21.412Z"
   },
   {
    "duration": 11,
    "start_time": "2024-06-24T06:11:21.603Z"
   },
   {
    "duration": 162,
    "start_time": "2024-06-24T06:11:21.616Z"
   },
   {
    "duration": 9,
    "start_time": "2024-06-24T06:11:21.779Z"
   },
   {
    "duration": 10,
    "start_time": "2024-06-24T06:11:21.789Z"
   },
   {
    "duration": 15,
    "start_time": "2024-06-24T06:11:21.801Z"
   },
   {
    "duration": 17,
    "start_time": "2024-06-24T06:11:21.817Z"
   },
   {
    "duration": 16,
    "start_time": "2024-06-24T06:11:21.835Z"
   },
   {
    "duration": 10,
    "start_time": "2024-06-24T06:11:21.852Z"
   },
   {
    "duration": 27,
    "start_time": "2024-06-24T06:11:21.864Z"
   },
   {
    "duration": 123,
    "start_time": "2024-06-24T06:11:21.893Z"
   },
   {
    "duration": 133,
    "start_time": "2024-06-24T06:11:22.018Z"
   },
   {
    "duration": 123,
    "start_time": "2024-06-24T06:11:22.153Z"
   },
   {
    "duration": 185,
    "start_time": "2024-06-24T06:11:22.281Z"
   },
   {
    "duration": 2,
    "start_time": "2024-06-24T06:11:22.468Z"
   },
   {
    "duration": 16,
    "start_time": "2024-06-24T06:11:22.472Z"
   },
   {
    "duration": 15,
    "start_time": "2024-06-24T06:11:22.489Z"
   },
   {
    "duration": 4,
    "start_time": "2024-06-24T06:11:22.506Z"
   },
   {
    "duration": 16,
    "start_time": "2024-06-24T06:11:22.511Z"
   },
   {
    "duration": 4,
    "start_time": "2024-06-24T06:11:22.528Z"
   },
   {
    "duration": 6,
    "start_time": "2024-06-24T06:11:22.533Z"
   },
   {
    "duration": 14,
    "start_time": "2024-06-24T06:11:22.540Z"
   },
   {
    "duration": 8,
    "start_time": "2024-06-24T06:11:22.555Z"
   },
   {
    "duration": 12,
    "start_time": "2024-06-24T06:11:22.564Z"
   },
   {
    "duration": 33,
    "start_time": "2024-06-24T06:11:22.577Z"
   },
   {
    "duration": 19,
    "start_time": "2024-06-24T06:11:22.611Z"
   },
   {
    "duration": 4,
    "start_time": "2024-06-24T06:11:22.632Z"
   },
   {
    "duration": 7,
    "start_time": "2024-06-24T06:11:22.637Z"
   },
   {
    "duration": 5,
    "start_time": "2024-06-24T06:11:22.645Z"
   },
   {
    "duration": 9,
    "start_time": "2024-06-24T06:11:22.651Z"
   },
   {
    "duration": 3,
    "start_time": "2024-06-24T06:11:22.662Z"
   },
   {
    "duration": 63,
    "start_time": "2024-06-24T06:11:22.666Z"
   },
   {
    "duration": 101195,
    "start_time": "2024-06-24T06:11:22.731Z"
   },
   {
    "duration": 46,
    "start_time": "2024-06-24T06:22:21.658Z"
   },
   {
    "duration": 1100,
    "start_time": "2024-06-24T06:22:26.289Z"
   },
   {
    "duration": 280,
    "start_time": "2024-06-24T06:22:27.391Z"
   },
   {
    "duration": 11,
    "start_time": "2024-06-24T06:22:27.672Z"
   },
   {
    "duration": 16,
    "start_time": "2024-06-24T06:22:27.684Z"
   },
   {
    "duration": 20,
    "start_time": "2024-06-24T06:22:27.701Z"
   },
   {
    "duration": 23,
    "start_time": "2024-06-24T06:22:27.722Z"
   },
   {
    "duration": 7,
    "start_time": "2024-06-24T06:22:27.746Z"
   },
   {
    "duration": 9,
    "start_time": "2024-06-24T06:22:27.755Z"
   },
   {
    "duration": 140,
    "start_time": "2024-06-24T06:22:27.765Z"
   },
   {
    "duration": 134,
    "start_time": "2024-06-24T06:22:27.909Z"
   },
   {
    "duration": 4,
    "start_time": "2024-06-24T06:22:28.045Z"
   },
   {
    "duration": 14,
    "start_time": "2024-06-24T06:22:28.051Z"
   },
   {
    "duration": 8,
    "start_time": "2024-06-24T06:22:28.067Z"
   },
   {
    "duration": 3,
    "start_time": "2024-06-24T06:22:28.079Z"
   },
   {
    "duration": 32,
    "start_time": "2024-06-24T06:22:28.083Z"
   },
   {
    "duration": 6,
    "start_time": "2024-06-24T06:22:28.116Z"
   },
   {
    "duration": 12,
    "start_time": "2024-06-24T06:22:28.124Z"
   },
   {
    "duration": 6,
    "start_time": "2024-06-24T06:22:28.138Z"
   },
   {
    "duration": 13,
    "start_time": "2024-06-24T06:22:28.145Z"
   },
   {
    "duration": 10,
    "start_time": "2024-06-24T06:22:28.160Z"
   },
   {
    "duration": 11,
    "start_time": "2024-06-24T06:22:28.172Z"
   },
   {
    "duration": 15,
    "start_time": "2024-06-24T06:22:28.184Z"
   },
   {
    "duration": 142,
    "start_time": "2024-06-24T06:22:28.200Z"
   },
   {
    "duration": 5,
    "start_time": "2024-06-24T06:22:28.344Z"
   },
   {
    "duration": 24,
    "start_time": "2024-06-24T06:22:28.351Z"
   },
   {
    "duration": 9,
    "start_time": "2024-06-24T06:22:28.376Z"
   },
   {
    "duration": 135,
    "start_time": "2024-06-24T06:22:28.386Z"
   },
   {
    "duration": 158,
    "start_time": "2024-06-24T06:22:28.522Z"
   },
   {
    "duration": 8,
    "start_time": "2024-06-24T06:22:28.682Z"
   },
   {
    "duration": 152,
    "start_time": "2024-06-24T06:22:28.691Z"
   },
   {
    "duration": 8,
    "start_time": "2024-06-24T06:22:28.845Z"
   },
   {
    "duration": 18,
    "start_time": "2024-06-24T06:22:28.855Z"
   },
   {
    "duration": 20,
    "start_time": "2024-06-24T06:22:28.874Z"
   },
   {
    "duration": 9,
    "start_time": "2024-06-24T06:22:28.895Z"
   },
   {
    "duration": 14,
    "start_time": "2024-06-24T06:22:28.905Z"
   },
   {
    "duration": 10,
    "start_time": "2024-06-24T06:22:28.920Z"
   },
   {
    "duration": 17,
    "start_time": "2024-06-24T06:22:28.932Z"
   },
   {
    "duration": 145,
    "start_time": "2024-06-24T06:22:28.950Z"
   },
   {
    "duration": 132,
    "start_time": "2024-06-24T06:22:29.096Z"
   },
   {
    "duration": 128,
    "start_time": "2024-06-24T06:22:29.229Z"
   },
   {
    "duration": 191,
    "start_time": "2024-06-24T06:22:29.360Z"
   },
   {
    "duration": 2,
    "start_time": "2024-06-24T06:22:29.553Z"
   },
   {
    "duration": 17,
    "start_time": "2024-06-24T06:22:29.556Z"
   },
   {
    "duration": 17,
    "start_time": "2024-06-24T06:22:29.574Z"
   },
   {
    "duration": 4,
    "start_time": "2024-06-24T06:22:29.593Z"
   },
   {
    "duration": 26,
    "start_time": "2024-06-24T06:22:29.598Z"
   },
   {
    "duration": 16,
    "start_time": "2024-06-24T06:22:29.626Z"
   },
   {
    "duration": 35,
    "start_time": "2024-06-24T06:22:29.643Z"
   },
   {
    "duration": 18,
    "start_time": "2024-06-24T06:22:29.679Z"
   },
   {
    "duration": 4,
    "start_time": "2024-06-24T06:22:29.698Z"
   },
   {
    "duration": 13,
    "start_time": "2024-06-24T06:22:29.703Z"
   },
   {
    "duration": 25,
    "start_time": "2024-06-24T06:22:29.717Z"
   },
   {
    "duration": 19,
    "start_time": "2024-06-24T06:22:29.744Z"
   },
   {
    "duration": 4,
    "start_time": "2024-06-24T06:22:29.765Z"
   },
   {
    "duration": 5,
    "start_time": "2024-06-24T06:22:29.770Z"
   },
   {
    "duration": 9,
    "start_time": "2024-06-24T06:22:29.777Z"
   },
   {
    "duration": 25,
    "start_time": "2024-06-24T06:22:29.787Z"
   },
   {
    "duration": 5,
    "start_time": "2024-06-24T06:22:29.813Z"
   },
   {
    "duration": 44,
    "start_time": "2024-06-24T06:22:29.819Z"
   },
   {
    "duration": 45,
    "start_time": "2024-06-24T06:31:44.031Z"
   },
   {
    "duration": 1218,
    "start_time": "2024-06-24T06:31:47.893Z"
   },
   {
    "duration": 279,
    "start_time": "2024-06-24T06:31:49.113Z"
   },
   {
    "duration": 10,
    "start_time": "2024-06-24T06:31:49.393Z"
   },
   {
    "duration": 10,
    "start_time": "2024-06-24T06:31:49.404Z"
   },
   {
    "duration": 9,
    "start_time": "2024-06-24T06:31:49.416Z"
   },
   {
    "duration": 17,
    "start_time": "2024-06-24T06:31:49.427Z"
   },
   {
    "duration": 7,
    "start_time": "2024-06-24T06:31:49.446Z"
   },
   {
    "duration": 28,
    "start_time": "2024-06-24T06:31:49.455Z"
   },
   {
    "duration": 148,
    "start_time": "2024-06-24T06:31:49.485Z"
   },
   {
    "duration": 138,
    "start_time": "2024-06-24T06:31:49.635Z"
   },
   {
    "duration": 5,
    "start_time": "2024-06-24T06:31:49.774Z"
   },
   {
    "duration": 17,
    "start_time": "2024-06-24T06:31:49.780Z"
   },
   {
    "duration": 14,
    "start_time": "2024-06-24T06:31:49.798Z"
   },
   {
    "duration": 9,
    "start_time": "2024-06-24T06:31:49.816Z"
   },
   {
    "duration": 39,
    "start_time": "2024-06-24T06:31:49.826Z"
   },
   {
    "duration": 22,
    "start_time": "2024-06-24T06:31:49.867Z"
   },
   {
    "duration": 21,
    "start_time": "2024-06-24T06:31:49.890Z"
   },
   {
    "duration": 9,
    "start_time": "2024-06-24T06:31:49.912Z"
   },
   {
    "duration": 8,
    "start_time": "2024-06-24T06:31:49.923Z"
   },
   {
    "duration": 9,
    "start_time": "2024-06-24T06:31:49.932Z"
   },
   {
    "duration": 4,
    "start_time": "2024-06-24T06:31:49.942Z"
   },
   {
    "duration": 10,
    "start_time": "2024-06-24T06:31:49.947Z"
   },
   {
    "duration": 154,
    "start_time": "2024-06-24T06:31:49.958Z"
   },
   {
    "duration": 6,
    "start_time": "2024-06-24T06:31:50.113Z"
   },
   {
    "duration": 18,
    "start_time": "2024-06-24T06:31:50.121Z"
   },
   {
    "duration": 9,
    "start_time": "2024-06-24T06:31:50.140Z"
   },
   {
    "duration": 151,
    "start_time": "2024-06-24T06:31:50.151Z"
   },
   {
    "duration": 165,
    "start_time": "2024-06-24T06:31:50.303Z"
   },
   {
    "duration": 7,
    "start_time": "2024-06-24T06:31:50.469Z"
   },
   {
    "duration": 192,
    "start_time": "2024-06-24T06:31:50.477Z"
   },
   {
    "duration": 9,
    "start_time": "2024-06-24T06:31:50.671Z"
   },
   {
    "duration": 13,
    "start_time": "2024-06-24T06:31:50.681Z"
   },
   {
    "duration": 19,
    "start_time": "2024-06-24T06:31:50.695Z"
   },
   {
    "duration": 6,
    "start_time": "2024-06-24T06:31:50.715Z"
   },
   {
    "duration": 32,
    "start_time": "2024-06-24T06:31:50.722Z"
   },
   {
    "duration": 31,
    "start_time": "2024-06-24T06:31:50.755Z"
   },
   {
    "duration": 15,
    "start_time": "2024-06-24T06:31:50.787Z"
   },
   {
    "duration": 127,
    "start_time": "2024-06-24T06:31:50.803Z"
   },
   {
    "duration": 133,
    "start_time": "2024-06-24T06:31:50.932Z"
   },
   {
    "duration": 124,
    "start_time": "2024-06-24T06:31:51.067Z"
   },
   {
    "duration": 187,
    "start_time": "2024-06-24T06:31:51.195Z"
   },
   {
    "duration": 3,
    "start_time": "2024-06-24T06:31:51.383Z"
   },
   {
    "duration": 31,
    "start_time": "2024-06-24T06:31:51.387Z"
   },
   {
    "duration": 20,
    "start_time": "2024-06-24T06:31:51.419Z"
   },
   {
    "duration": 3,
    "start_time": "2024-06-24T06:31:51.440Z"
   },
   {
    "duration": 33,
    "start_time": "2024-06-24T06:31:51.445Z"
   },
   {
    "duration": 17,
    "start_time": "2024-06-24T06:31:51.479Z"
   },
   {
    "duration": 4,
    "start_time": "2024-06-24T06:31:51.497Z"
   },
   {
    "duration": 34,
    "start_time": "2024-06-24T06:31:51.503Z"
   },
   {
    "duration": 4,
    "start_time": "2024-06-24T06:31:51.538Z"
   },
   {
    "duration": 22,
    "start_time": "2024-06-24T06:31:51.543Z"
   },
   {
    "duration": 21,
    "start_time": "2024-06-24T06:31:51.566Z"
   },
   {
    "duration": 21,
    "start_time": "2024-06-24T06:31:51.589Z"
   },
   {
    "duration": 18,
    "start_time": "2024-06-24T06:31:51.611Z"
   },
   {
    "duration": 18,
    "start_time": "2024-06-24T06:31:51.630Z"
   },
   {
    "duration": 6,
    "start_time": "2024-06-24T06:31:51.649Z"
   },
   {
    "duration": 13,
    "start_time": "2024-06-24T06:31:51.656Z"
   },
   {
    "duration": 26,
    "start_time": "2024-06-24T06:31:51.670Z"
   },
   {
    "duration": 47,
    "start_time": "2024-06-24T06:31:51.698Z"
   },
   {
    "duration": 160,
    "start_time": "2024-06-24T06:31:51.747Z"
   },
   {
    "duration": 202,
    "start_time": "2024-06-24T06:32:04.332Z"
   },
   {
    "duration": 168,
    "start_time": "2024-06-24T06:32:15.559Z"
   },
   {
    "duration": 5,
    "start_time": "2024-06-24T06:33:54.163Z"
   },
   {
    "duration": 154,
    "start_time": "2024-06-24T06:37:21.638Z"
   },
   {
    "duration": 284,
    "start_time": "2024-06-24T06:37:32.698Z"
   },
   {
    "duration": 129,
    "start_time": "2024-06-24T06:37:41.615Z"
   },
   {
    "duration": 9,
    "start_time": "2024-06-24T06:40:11.917Z"
   },
   {
    "duration": 104,
    "start_time": "2024-06-24T06:40:33.491Z"
   },
   {
    "duration": 173,
    "start_time": "2024-06-24T06:40:36.490Z"
   },
   {
    "duration": 139,
    "start_time": "2024-06-24T06:40:44.007Z"
   },
   {
    "duration": 128,
    "start_time": "2024-06-24T06:40:53.692Z"
   },
   {
    "duration": 148,
    "start_time": "2024-06-24T06:41:09.213Z"
   },
   {
    "duration": 239,
    "start_time": "2024-06-24T06:42:01.847Z"
   },
   {
    "duration": 159,
    "start_time": "2024-06-24T06:43:01.123Z"
   },
   {
    "duration": 151,
    "start_time": "2024-06-24T06:43:08.068Z"
   },
   {
    "duration": 163,
    "start_time": "2024-06-24T06:46:09.303Z"
   },
   {
    "duration": 154,
    "start_time": "2024-06-24T06:46:16.322Z"
   },
   {
    "duration": 140,
    "start_time": "2024-06-24T06:46:23.931Z"
   },
   {
    "duration": 157,
    "start_time": "2024-06-24T06:46:29.480Z"
   },
   {
    "duration": 46,
    "start_time": "2024-06-24T08:16:30.255Z"
   },
   {
    "duration": 1252,
    "start_time": "2024-06-24T08:16:38.127Z"
   },
   {
    "duration": 227,
    "start_time": "2024-06-24T08:16:39.380Z"
   },
   {
    "duration": 11,
    "start_time": "2024-06-24T08:16:39.612Z"
   },
   {
    "duration": 26,
    "start_time": "2024-06-24T08:16:39.624Z"
   },
   {
    "duration": 8,
    "start_time": "2024-06-24T08:16:39.652Z"
   },
   {
    "duration": 10,
    "start_time": "2024-06-24T08:16:39.661Z"
   },
   {
    "duration": 7,
    "start_time": "2024-06-24T08:16:39.673Z"
   },
   {
    "duration": 19,
    "start_time": "2024-06-24T08:16:39.681Z"
   },
   {
    "duration": 148,
    "start_time": "2024-06-24T08:16:39.701Z"
   },
   {
    "duration": 122,
    "start_time": "2024-06-24T08:16:39.850Z"
   },
   {
    "duration": 4,
    "start_time": "2024-06-24T08:16:39.973Z"
   },
   {
    "duration": 21,
    "start_time": "2024-06-24T08:16:39.978Z"
   },
   {
    "duration": 27,
    "start_time": "2024-06-24T08:16:40.000Z"
   },
   {
    "duration": 20,
    "start_time": "2024-06-24T08:16:40.029Z"
   },
   {
    "duration": 11,
    "start_time": "2024-06-24T08:16:40.050Z"
   },
   {
    "duration": 26,
    "start_time": "2024-06-24T08:16:40.062Z"
   },
   {
    "duration": 30,
    "start_time": "2024-06-24T08:16:40.089Z"
   },
   {
    "duration": 44,
    "start_time": "2024-06-24T08:16:40.121Z"
   },
   {
    "duration": 65,
    "start_time": "2024-06-24T08:16:40.166Z"
   },
   {
    "duration": 15,
    "start_time": "2024-06-24T08:16:40.232Z"
   },
   {
    "duration": 3,
    "start_time": "2024-06-24T08:16:40.249Z"
   },
   {
    "duration": 21,
    "start_time": "2024-06-24T08:16:40.253Z"
   },
   {
    "duration": 184,
    "start_time": "2024-06-24T08:16:40.276Z"
   },
   {
    "duration": 6,
    "start_time": "2024-06-24T08:16:40.461Z"
   },
   {
    "duration": 28,
    "start_time": "2024-06-24T08:16:40.469Z"
   },
   {
    "duration": 20,
    "start_time": "2024-06-24T08:16:40.499Z"
   },
   {
    "duration": 134,
    "start_time": "2024-06-24T08:16:40.520Z"
   },
   {
    "duration": 143,
    "start_time": "2024-06-24T08:16:40.655Z"
   },
   {
    "duration": 9,
    "start_time": "2024-06-24T08:16:40.799Z"
   },
   {
    "duration": 155,
    "start_time": "2024-06-24T08:16:40.810Z"
   },
   {
    "duration": 149,
    "start_time": "2024-06-24T08:16:46.528Z"
   },
   {
    "duration": 9,
    "start_time": "2024-06-24T08:16:46.679Z"
   },
   {
    "duration": 122,
    "start_time": "2024-06-24T08:16:46.689Z"
   },
   {
    "duration": 15,
    "start_time": "2024-06-24T08:16:46.813Z"
   },
   {
    "duration": 25,
    "start_time": "2024-06-24T08:16:46.830Z"
   },
   {
    "duration": 19,
    "start_time": "2024-06-24T08:16:46.856Z"
   },
   {
    "duration": 46,
    "start_time": "2024-06-24T08:16:46.876Z"
   },
   {
    "duration": 23,
    "start_time": "2024-06-24T08:16:46.923Z"
   },
   {
    "duration": 137,
    "start_time": "2024-06-24T08:16:46.948Z"
   },
   {
    "duration": 143,
    "start_time": "2024-06-24T08:16:47.087Z"
   },
   {
    "duration": 184,
    "start_time": "2024-06-24T08:16:47.231Z"
   },
   {
    "duration": 123,
    "start_time": "2024-06-24T08:16:47.416Z"
   },
   {
    "duration": 2,
    "start_time": "2024-06-24T08:16:47.541Z"
   },
   {
    "duration": 11,
    "start_time": "2024-06-24T08:16:47.545Z"
   },
   {
    "duration": 19,
    "start_time": "2024-06-24T08:16:47.557Z"
   },
   {
    "duration": 3,
    "start_time": "2024-06-24T08:16:47.578Z"
   },
   {
    "duration": 31,
    "start_time": "2024-06-24T08:16:47.582Z"
   },
   {
    "duration": 8,
    "start_time": "2024-06-24T08:16:47.614Z"
   },
   {
    "duration": 4,
    "start_time": "2024-06-24T08:16:47.623Z"
   },
   {
    "duration": 15,
    "start_time": "2024-06-24T08:16:47.628Z"
   },
   {
    "duration": 3,
    "start_time": "2024-06-24T08:16:47.644Z"
   },
   {
    "duration": 18,
    "start_time": "2024-06-24T08:16:47.649Z"
   },
   {
    "duration": 28,
    "start_time": "2024-06-24T08:16:47.668Z"
   },
   {
    "duration": 21,
    "start_time": "2024-06-24T08:16:47.697Z"
   },
   {
    "duration": 6,
    "start_time": "2024-06-24T08:16:47.718Z"
   },
   {
    "duration": 17,
    "start_time": "2024-06-24T08:16:47.726Z"
   },
   {
    "duration": 35,
    "start_time": "2024-06-24T08:16:47.745Z"
   },
   {
    "duration": 13,
    "start_time": "2024-06-24T08:16:47.781Z"
   },
   {
    "duration": 25,
    "start_time": "2024-06-24T08:16:47.795Z"
   },
   {
    "duration": 41,
    "start_time": "2024-06-24T08:16:47.821Z"
   },
   {
    "duration": 137,
    "start_time": "2024-06-24T08:16:47.863Z"
   },
   {
    "duration": 10,
    "start_time": "2024-06-24T08:21:56.675Z"
   },
   {
    "duration": 1089,
    "start_time": "2024-06-24T09:08:04.704Z"
   },
   {
    "duration": 201,
    "start_time": "2024-06-24T09:08:05.795Z"
   },
   {
    "duration": 15,
    "start_time": "2024-06-24T09:08:05.998Z"
   },
   {
    "duration": 21,
    "start_time": "2024-06-24T09:08:06.014Z"
   },
   {
    "duration": 17,
    "start_time": "2024-06-24T09:08:06.037Z"
   },
   {
    "duration": 27,
    "start_time": "2024-06-24T09:08:06.056Z"
   },
   {
    "duration": 48,
    "start_time": "2024-06-24T09:08:06.085Z"
   },
   {
    "duration": 45,
    "start_time": "2024-06-24T09:08:06.135Z"
   },
   {
    "duration": 185,
    "start_time": "2024-06-24T09:08:06.181Z"
   },
   {
    "duration": 150,
    "start_time": "2024-06-24T09:08:06.368Z"
   },
   {
    "duration": 4,
    "start_time": "2024-06-24T09:08:06.520Z"
   },
   {
    "duration": 9,
    "start_time": "2024-06-24T09:08:06.526Z"
   },
   {
    "duration": 5,
    "start_time": "2024-06-24T09:08:06.545Z"
   },
   {
    "duration": 13,
    "start_time": "2024-06-24T09:08:06.553Z"
   },
   {
    "duration": 13,
    "start_time": "2024-06-24T09:08:06.568Z"
   },
   {
    "duration": 18,
    "start_time": "2024-06-24T09:08:06.582Z"
   },
   {
    "duration": 19,
    "start_time": "2024-06-24T09:08:06.602Z"
   },
   {
    "duration": 12,
    "start_time": "2024-06-24T09:08:06.623Z"
   },
   {
    "duration": 10,
    "start_time": "2024-06-24T09:08:06.636Z"
   },
   {
    "duration": 10,
    "start_time": "2024-06-24T09:08:06.647Z"
   },
   {
    "duration": 22,
    "start_time": "2024-06-24T09:08:06.658Z"
   },
   {
    "duration": 14,
    "start_time": "2024-06-24T09:08:06.681Z"
   },
   {
    "duration": 160,
    "start_time": "2024-06-24T09:08:06.696Z"
   },
   {
    "duration": 7,
    "start_time": "2024-06-24T09:08:06.857Z"
   },
   {
    "duration": 21,
    "start_time": "2024-06-24T09:08:06.865Z"
   },
   {
    "duration": 9,
    "start_time": "2024-06-24T09:08:06.888Z"
   },
   {
    "duration": 154,
    "start_time": "2024-06-24T09:08:06.898Z"
   },
   {
    "duration": 8,
    "start_time": "2024-06-24T09:08:07.055Z"
   },
   {
    "duration": 202,
    "start_time": "2024-06-24T09:08:07.064Z"
   },
   {
    "duration": 11,
    "start_time": "2024-06-24T09:08:07.267Z"
   },
   {
    "duration": 176,
    "start_time": "2024-06-24T09:08:07.279Z"
   },
   {
    "duration": 11,
    "start_time": "2024-06-24T09:08:07.456Z"
   },
   {
    "duration": 16,
    "start_time": "2024-06-24T09:08:07.468Z"
   },
   {
    "duration": 29,
    "start_time": "2024-06-24T09:08:07.485Z"
   },
   {
    "duration": 25,
    "start_time": "2024-06-24T09:08:07.517Z"
   },
   {
    "duration": 11,
    "start_time": "2024-06-24T09:08:07.544Z"
   },
   {
    "duration": 29,
    "start_time": "2024-06-24T09:08:07.556Z"
   },
   {
    "duration": 40,
    "start_time": "2024-06-24T09:08:07.587Z"
   },
   {
    "duration": 164,
    "start_time": "2024-06-24T09:08:07.628Z"
   },
   {
    "duration": 155,
    "start_time": "2024-06-24T09:08:07.793Z"
   },
   {
    "duration": 142,
    "start_time": "2024-06-24T09:08:07.953Z"
   },
   {
    "duration": 232,
    "start_time": "2024-06-24T09:08:08.097Z"
   },
   {
    "duration": 3,
    "start_time": "2024-06-24T09:08:08.331Z"
   },
   {
    "duration": 23,
    "start_time": "2024-06-24T09:08:08.344Z"
   },
   {
    "duration": 17,
    "start_time": "2024-06-24T09:08:08.369Z"
   },
   {
    "duration": 4,
    "start_time": "2024-06-24T09:08:08.388Z"
   },
   {
    "duration": 12,
    "start_time": "2024-06-24T09:08:08.393Z"
   },
   {
    "duration": 7,
    "start_time": "2024-06-24T09:08:08.407Z"
   },
   {
    "duration": 9,
    "start_time": "2024-06-24T09:08:08.416Z"
   },
   {
    "duration": 23,
    "start_time": "2024-06-24T09:08:08.427Z"
   },
   {
    "duration": 4,
    "start_time": "2024-06-24T09:08:08.451Z"
   },
   {
    "duration": 20,
    "start_time": "2024-06-24T09:08:08.457Z"
   },
   {
    "duration": 30,
    "start_time": "2024-06-24T09:08:08.479Z"
   },
   {
    "duration": 23,
    "start_time": "2024-06-24T09:08:08.510Z"
   },
   {
    "duration": 13,
    "start_time": "2024-06-24T09:08:08.535Z"
   },
   {
    "duration": 12,
    "start_time": "2024-06-24T09:08:08.549Z"
   },
   {
    "duration": 9,
    "start_time": "2024-06-24T09:08:08.562Z"
   },
   {
    "duration": 13,
    "start_time": "2024-06-24T09:08:08.572Z"
   },
   {
    "duration": 17,
    "start_time": "2024-06-24T09:08:08.586Z"
   },
   {
    "duration": 58,
    "start_time": "2024-06-24T09:08:08.605Z"
   },
   {
    "duration": 182,
    "start_time": "2024-06-24T09:08:08.665Z"
   },
   {
    "duration": 13,
    "start_time": "2024-06-24T09:14:23.917Z"
   },
   {
    "duration": 14,
    "start_time": "2024-06-24T09:16:08.205Z"
   },
   {
    "duration": 11,
    "start_time": "2024-06-24T09:16:34.315Z"
   },
   {
    "duration": 1301,
    "start_time": "2024-06-26T13:59:14.532Z"
   },
   {
    "duration": 305,
    "start_time": "2024-06-26T13:59:15.835Z"
   },
   {
    "duration": 11,
    "start_time": "2024-06-26T13:59:16.141Z"
   },
   {
    "duration": 34,
    "start_time": "2024-06-26T13:59:16.155Z"
   },
   {
    "duration": 11,
    "start_time": "2024-06-26T13:59:16.191Z"
   },
   {
    "duration": 14,
    "start_time": "2024-06-26T13:59:16.204Z"
   },
   {
    "duration": 10,
    "start_time": "2024-06-26T13:59:16.220Z"
   },
   {
    "duration": 20,
    "start_time": "2024-06-26T13:59:16.232Z"
   },
   {
    "duration": 193,
    "start_time": "2024-06-26T13:59:16.253Z"
   },
   {
    "duration": 144,
    "start_time": "2024-06-26T13:59:16.449Z"
   },
   {
    "duration": 4,
    "start_time": "2024-06-26T13:59:16.594Z"
   },
   {
    "duration": 21,
    "start_time": "2024-06-26T13:59:16.599Z"
   },
   {
    "duration": 15,
    "start_time": "2024-06-26T13:59:16.622Z"
   },
   {
    "duration": 14,
    "start_time": "2024-06-26T13:59:16.639Z"
   },
   {
    "duration": 16,
    "start_time": "2024-06-26T13:59:16.655Z"
   },
   {
    "duration": 8,
    "start_time": "2024-06-26T13:59:16.673Z"
   },
   {
    "duration": 10,
    "start_time": "2024-06-26T13:59:16.683Z"
   },
   {
    "duration": 26,
    "start_time": "2024-06-26T13:59:16.695Z"
   },
   {
    "duration": 10,
    "start_time": "2024-06-26T13:59:16.723Z"
   },
   {
    "duration": 7,
    "start_time": "2024-06-26T13:59:16.735Z"
   },
   {
    "duration": 4,
    "start_time": "2024-06-26T13:59:16.743Z"
   },
   {
    "duration": 6,
    "start_time": "2024-06-26T13:59:16.748Z"
   },
   {
    "duration": 159,
    "start_time": "2024-06-26T13:59:16.755Z"
   },
   {
    "duration": 9,
    "start_time": "2024-06-26T13:59:16.915Z"
   },
   {
    "duration": 15,
    "start_time": "2024-06-26T13:59:16.925Z"
   },
   {
    "duration": 17,
    "start_time": "2024-06-26T13:59:16.941Z"
   },
   {
    "duration": 140,
    "start_time": "2024-06-26T13:59:16.960Z"
   },
   {
    "duration": 17,
    "start_time": "2024-06-26T13:59:17.104Z"
   },
   {
    "duration": 168,
    "start_time": "2024-06-26T13:59:17.122Z"
   },
   {
    "duration": 9,
    "start_time": "2024-06-26T13:59:17.292Z"
   },
   {
    "duration": 165,
    "start_time": "2024-06-26T13:59:17.303Z"
   },
   {
    "duration": 13,
    "start_time": "2024-06-26T13:59:17.470Z"
   },
   {
    "duration": 12,
    "start_time": "2024-06-26T13:59:17.484Z"
   },
   {
    "duration": 27,
    "start_time": "2024-06-26T13:59:17.498Z"
   },
   {
    "duration": 9,
    "start_time": "2024-06-26T13:59:17.527Z"
   },
   {
    "duration": 60,
    "start_time": "2024-06-26T13:59:17.537Z"
   },
   {
    "duration": 30,
    "start_time": "2024-06-26T13:59:17.600Z"
   },
   {
    "duration": 25,
    "start_time": "2024-06-26T13:59:17.632Z"
   },
   {
    "duration": 163,
    "start_time": "2024-06-26T13:59:17.660Z"
   },
   {
    "duration": 140,
    "start_time": "2024-06-26T13:59:17.825Z"
   },
   {
    "duration": 137,
    "start_time": "2024-06-26T13:59:17.967Z"
   },
   {
    "duration": 210,
    "start_time": "2024-06-26T13:59:18.106Z"
   },
   {
    "duration": 3,
    "start_time": "2024-06-26T13:59:18.320Z"
   },
   {
    "duration": 24,
    "start_time": "2024-06-26T13:59:18.325Z"
   },
   {
    "duration": 30,
    "start_time": "2024-06-26T13:59:18.351Z"
   },
   {
    "duration": 4,
    "start_time": "2024-06-26T13:59:18.383Z"
   },
   {
    "duration": 29,
    "start_time": "2024-06-26T13:59:18.388Z"
   },
   {
    "duration": 13,
    "start_time": "2024-06-26T13:59:18.418Z"
   },
   {
    "duration": 17,
    "start_time": "2024-06-26T13:59:18.432Z"
   },
   {
    "duration": 16,
    "start_time": "2024-06-26T13:59:18.450Z"
   },
   {
    "duration": 4,
    "start_time": "2024-06-26T13:59:18.467Z"
   },
   {
    "duration": 12,
    "start_time": "2024-06-26T13:59:18.472Z"
   },
   {
    "duration": 41,
    "start_time": "2024-06-26T13:59:18.485Z"
   },
   {
    "duration": 22,
    "start_time": "2024-06-26T13:59:18.527Z"
   },
   {
    "duration": 5,
    "start_time": "2024-06-26T13:59:18.551Z"
   },
   {
    "duration": 14,
    "start_time": "2024-06-26T13:59:18.557Z"
   },
   {
    "duration": 7,
    "start_time": "2024-06-26T13:59:18.573Z"
   },
   {
    "duration": 18,
    "start_time": "2024-06-26T13:59:18.581Z"
   },
   {
    "duration": 30,
    "start_time": "2024-06-26T13:59:18.600Z"
   },
   {
    "duration": 52,
    "start_time": "2024-06-26T13:59:18.632Z"
   },
   {
    "duration": 176,
    "start_time": "2024-06-26T13:59:18.685Z"
   },
   {
    "duration": 4,
    "start_time": "2024-06-26T14:03:18.976Z"
   },
   {
    "duration": 90,
    "start_time": "2024-06-26T14:03:25.688Z"
   },
   {
    "duration": 101,
    "start_time": "2024-06-26T14:03:40.096Z"
   },
   {
    "duration": 1074,
    "start_time": "2024-06-26T14:04:38.149Z"
   },
   {
    "duration": 71,
    "start_time": "2024-06-26T14:04:39.225Z"
   },
   {
    "duration": 11,
    "start_time": "2024-06-26T14:04:39.297Z"
   },
   {
    "duration": 18,
    "start_time": "2024-06-26T14:04:39.309Z"
   },
   {
    "duration": 9,
    "start_time": "2024-06-26T14:04:39.329Z"
   },
   {
    "duration": 29,
    "start_time": "2024-06-26T14:04:39.339Z"
   },
   {
    "duration": 8,
    "start_time": "2024-06-26T14:04:39.370Z"
   },
   {
    "duration": 37,
    "start_time": "2024-06-26T14:04:39.379Z"
   },
   {
    "duration": 160,
    "start_time": "2024-06-26T14:04:39.417Z"
   },
   {
    "duration": 147,
    "start_time": "2024-06-26T14:04:39.579Z"
   },
   {
    "duration": 5,
    "start_time": "2024-06-26T14:04:39.727Z"
   },
   {
    "duration": 23,
    "start_time": "2024-06-26T14:04:39.734Z"
   },
   {
    "duration": 14,
    "start_time": "2024-06-26T14:04:39.758Z"
   },
   {
    "duration": 1063,
    "start_time": "2024-06-26T14:04:50.761Z"
   },
   {
    "duration": 70,
    "start_time": "2024-06-26T14:04:51.826Z"
   },
   {
    "duration": 11,
    "start_time": "2024-06-26T14:04:51.897Z"
   },
   {
    "duration": 40,
    "start_time": "2024-06-26T14:04:51.910Z"
   },
   {
    "duration": 23,
    "start_time": "2024-06-26T14:04:51.951Z"
   },
   {
    "duration": 18,
    "start_time": "2024-06-26T14:04:51.976Z"
   },
   {
    "duration": 30,
    "start_time": "2024-06-26T14:04:51.995Z"
   },
   {
    "duration": 10,
    "start_time": "2024-06-26T14:04:52.027Z"
   },
   {
    "duration": 161,
    "start_time": "2024-06-26T14:04:52.039Z"
   },
   {
    "duration": 140,
    "start_time": "2024-06-26T14:04:52.202Z"
   },
   {
    "duration": 5,
    "start_time": "2024-06-26T14:04:52.343Z"
   },
   {
    "duration": 42,
    "start_time": "2024-06-26T14:04:52.350Z"
   },
   {
    "duration": 23,
    "start_time": "2024-06-26T14:04:52.393Z"
   },
   {
    "duration": 1118,
    "start_time": "2024-06-26T14:05:57.419Z"
   },
   {
    "duration": 70,
    "start_time": "2024-06-26T14:05:58.539Z"
   },
   {
    "duration": 11,
    "start_time": "2024-06-26T14:05:58.610Z"
   },
   {
    "duration": 11,
    "start_time": "2024-06-26T14:05:58.623Z"
   },
   {
    "duration": 21,
    "start_time": "2024-06-26T14:05:58.636Z"
   },
   {
    "duration": 16,
    "start_time": "2024-06-26T14:05:58.659Z"
   },
   {
    "duration": 8,
    "start_time": "2024-06-26T14:05:58.677Z"
   },
   {
    "duration": 14,
    "start_time": "2024-06-26T14:05:58.686Z"
   },
   {
    "duration": 156,
    "start_time": "2024-06-26T14:05:58.701Z"
   },
   {
    "duration": 145,
    "start_time": "2024-06-26T14:05:58.860Z"
   },
   {
    "duration": 5,
    "start_time": "2024-06-26T14:05:59.007Z"
   },
   {
    "duration": 6,
    "start_time": "2024-06-26T14:05:59.020Z"
   },
   {
    "duration": 8,
    "start_time": "2024-06-26T14:05:59.027Z"
   },
   {
    "duration": 4,
    "start_time": "2024-06-26T14:05:59.037Z"
   },
   {
    "duration": 67,
    "start_time": "2024-06-26T14:15:52.127Z"
   },
   {
    "duration": 3,
    "start_time": "2024-06-26T14:19:41.517Z"
   },
   {
    "duration": 107,
    "start_time": "2024-06-26T14:20:25.642Z"
   },
   {
    "duration": 65,
    "start_time": "2024-06-26T14:20:59.640Z"
   },
   {
    "duration": 14,
    "start_time": "2024-06-26T14:21:02.200Z"
   },
   {
    "duration": 6,
    "start_time": "2024-06-26T14:21:18.720Z"
   },
   {
    "duration": 9,
    "start_time": "2024-06-26T14:21:25.965Z"
   },
   {
    "duration": 4,
    "start_time": "2024-06-26T14:22:12.305Z"
   },
   {
    "duration": 9,
    "start_time": "2024-06-26T14:22:17.201Z"
   },
   {
    "duration": 4,
    "start_time": "2024-06-26T14:22:26.072Z"
   },
   {
    "duration": 12,
    "start_time": "2024-06-26T14:22:28.111Z"
   },
   {
    "duration": 3,
    "start_time": "2024-06-26T14:24:06.460Z"
   },
   {
    "duration": 22,
    "start_time": "2024-06-26T14:24:09.548Z"
   },
   {
    "duration": 5,
    "start_time": "2024-06-26T14:24:45.613Z"
   },
   {
    "duration": 16,
    "start_time": "2024-06-26T14:24:47.168Z"
   },
   {
    "duration": 245,
    "start_time": "2024-06-26T14:25:11.166Z"
   },
   {
    "duration": 4,
    "start_time": "2024-06-26T14:28:06.153Z"
   },
   {
    "duration": 3,
    "start_time": "2024-06-26T14:28:08.343Z"
   },
   {
    "duration": 22,
    "start_time": "2024-06-26T14:28:10.820Z"
   },
   {
    "duration": 4,
    "start_time": "2024-06-26T14:28:14.463Z"
   },
   {
    "duration": 22,
    "start_time": "2024-06-26T14:28:16.433Z"
   },
   {
    "duration": 4,
    "start_time": "2024-06-26T14:29:20.901Z"
   },
   {
    "duration": 28,
    "start_time": "2024-06-26T14:29:25.955Z"
   },
   {
    "duration": 4,
    "start_time": "2024-06-26T14:31:53.282Z"
   },
   {
    "duration": 23,
    "start_time": "2024-06-26T14:31:55.436Z"
   },
   {
    "duration": 4,
    "start_time": "2024-06-26T14:32:52.453Z"
   },
   {
    "duration": 22,
    "start_time": "2024-06-26T14:32:56.088Z"
   },
   {
    "duration": 80,
    "start_time": "2024-06-26T14:33:10.986Z"
   },
   {
    "duration": 25,
    "start_time": "2024-06-26T14:33:13.583Z"
   },
   {
    "duration": 3,
    "start_time": "2024-06-26T14:33:24.147Z"
   },
   {
    "duration": 22,
    "start_time": "2024-06-26T14:33:24.787Z"
   },
   {
    "duration": 6,
    "start_time": "2024-06-26T14:37:22.736Z"
   },
   {
    "duration": 30,
    "start_time": "2024-06-26T14:37:24.199Z"
   },
   {
    "duration": 26,
    "start_time": "2024-06-26T14:37:34.173Z"
   },
   {
    "duration": 4,
    "start_time": "2024-06-26T14:37:55.222Z"
   },
   {
    "duration": 20,
    "start_time": "2024-06-26T14:37:57.482Z"
   },
   {
    "duration": 3,
    "start_time": "2024-06-26T14:38:09.368Z"
   },
   {
    "duration": 19,
    "start_time": "2024-06-26T14:38:10.675Z"
   },
   {
    "duration": 5,
    "start_time": "2024-06-26T14:38:18.102Z"
   },
   {
    "duration": 6,
    "start_time": "2024-06-26T14:38:23.639Z"
   },
   {
    "duration": 28,
    "start_time": "2024-06-26T14:38:24.681Z"
   },
   {
    "duration": 32,
    "start_time": "2024-06-26T14:39:04.514Z"
   },
   {
    "duration": 25,
    "start_time": "2024-06-26T14:39:56.766Z"
   },
   {
    "duration": 29,
    "start_time": "2024-06-26T14:39:59.678Z"
   },
   {
    "duration": 4,
    "start_time": "2024-06-26T14:42:16.799Z"
   },
   {
    "duration": 124,
    "start_time": "2024-06-26T14:47:09.814Z"
   },
   {
    "duration": 178,
    "start_time": "2024-06-26T14:47:16.265Z"
   },
   {
    "duration": 158,
    "start_time": "2024-06-26T14:48:07.394Z"
   },
   {
    "duration": 172,
    "start_time": "2024-06-26T14:48:53.099Z"
   },
   {
    "duration": 179,
    "start_time": "2024-06-26T14:49:53.595Z"
   },
   {
    "duration": 5,
    "start_time": "2024-06-26T14:52:31.467Z"
   },
   {
    "duration": 176,
    "start_time": "2024-06-26T14:52:33.090Z"
   },
   {
    "duration": 6,
    "start_time": "2024-06-26T14:52:42.847Z"
   },
   {
    "duration": 190,
    "start_time": "2024-06-26T14:52:45.108Z"
   },
   {
    "duration": 7,
    "start_time": "2024-06-26T14:53:14.589Z"
   },
   {
    "duration": 254,
    "start_time": "2024-06-26T14:53:16.136Z"
   },
   {
    "duration": 171,
    "start_time": "2024-06-26T14:53:19.289Z"
   },
   {
    "duration": 5,
    "start_time": "2024-06-26T14:53:23.418Z"
   },
   {
    "duration": 173,
    "start_time": "2024-06-26T14:53:26.243Z"
   },
   {
    "duration": 5,
    "start_time": "2024-06-26T14:53:34.124Z"
   },
   {
    "duration": 179,
    "start_time": "2024-06-26T14:53:36.471Z"
   },
   {
    "duration": 6,
    "start_time": "2024-06-26T14:54:08.906Z"
   },
   {
    "duration": 169,
    "start_time": "2024-06-26T14:54:11.196Z"
   },
   {
    "duration": 7,
    "start_time": "2024-06-26T14:54:14.097Z"
   },
   {
    "duration": 170,
    "start_time": "2024-06-26T14:54:16.777Z"
   },
   {
    "duration": 1085,
    "start_time": "2024-06-26T14:56:29.140Z"
   },
   {
    "duration": 70,
    "start_time": "2024-06-26T14:56:30.227Z"
   },
   {
    "duration": 4,
    "start_time": "2024-06-26T14:56:30.298Z"
   },
   {
    "duration": 97,
    "start_time": "2024-06-26T14:56:30.304Z"
   },
   {
    "duration": 163,
    "start_time": "2024-06-26T14:56:30.403Z"
   },
   {
    "duration": 106,
    "start_time": "2024-06-26T14:56:30.568Z"
   },
   {
    "duration": 190,
    "start_time": "2024-06-26T14:56:30.676Z"
   },
   {
    "duration": 140,
    "start_time": "2024-06-26T14:56:30.867Z"
   },
   {
    "duration": 3,
    "start_time": "2024-06-26T14:56:31.008Z"
   },
   {
    "duration": 157,
    "start_time": "2024-06-26T14:56:31.019Z"
   },
   {
    "duration": 58,
    "start_time": "2024-06-26T14:56:31.177Z"
   },
   {
    "duration": 204,
    "start_time": "2024-06-26T14:56:31.237Z"
   },
   {
    "duration": 296,
    "start_time": "2024-06-26T14:56:31.443Z"
   },
   {
    "duration": 180,
    "start_time": "2024-06-26T14:56:31.740Z"
   },
   {
    "duration": 6,
    "start_time": "2024-06-26T14:56:31.921Z"
   },
   {
    "duration": 38,
    "start_time": "2024-06-26T14:56:31.928Z"
   },
   {
    "duration": 174,
    "start_time": "2024-06-26T14:56:37.894Z"
   },
   {
    "duration": 1070,
    "start_time": "2024-06-26T14:57:06.556Z"
   },
   {
    "duration": 69,
    "start_time": "2024-06-26T14:57:07.628Z"
   },
   {
    "duration": 4,
    "start_time": "2024-06-26T14:57:07.698Z"
   },
   {
    "duration": 35,
    "start_time": "2024-06-26T14:57:07.704Z"
   },
   {
    "duration": 26,
    "start_time": "2024-06-26T14:57:07.740Z"
   },
   {
    "duration": 22,
    "start_time": "2024-06-26T14:57:07.767Z"
   },
   {
    "duration": 170,
    "start_time": "2024-06-26T14:57:07.790Z"
   },
   {
    "duration": 137,
    "start_time": "2024-06-26T14:57:07.962Z"
   },
   {
    "duration": 3,
    "start_time": "2024-06-26T14:57:08.102Z"
   },
   {
    "duration": 10,
    "start_time": "2024-06-26T14:57:08.120Z"
   },
   {
    "duration": 10,
    "start_time": "2024-06-26T14:57:08.132Z"
   },
   {
    "duration": 18,
    "start_time": "2024-06-26T14:57:08.144Z"
   },
   {
    "duration": 41,
    "start_time": "2024-06-26T14:57:08.163Z"
   },
   {
    "duration": 204,
    "start_time": "2024-06-26T14:57:08.206Z"
   },
   {
    "duration": 183,
    "start_time": "2024-06-26T14:57:08.412Z"
   },
   {
    "duration": 1098,
    "start_time": "2024-06-26T14:57:28.247Z"
   },
   {
    "duration": 72,
    "start_time": "2024-06-26T14:57:29.346Z"
   },
   {
    "duration": 4,
    "start_time": "2024-06-26T14:57:29.420Z"
   },
   {
    "duration": 82,
    "start_time": "2024-06-26T14:57:29.425Z"
   },
   {
    "duration": 27,
    "start_time": "2024-06-26T14:57:29.510Z"
   },
   {
    "duration": 21,
    "start_time": "2024-06-26T14:57:29.539Z"
   },
   {
    "duration": 162,
    "start_time": "2024-06-26T14:57:29.561Z"
   },
   {
    "duration": 138,
    "start_time": "2024-06-26T14:57:29.724Z"
   },
   {
    "duration": 3,
    "start_time": "2024-06-26T14:57:29.863Z"
   },
   {
    "duration": 15,
    "start_time": "2024-06-26T14:57:29.867Z"
   },
   {
    "duration": 12,
    "start_time": "2024-06-26T14:57:29.883Z"
   },
   {
    "duration": 13,
    "start_time": "2024-06-26T14:57:29.896Z"
   },
   {
    "duration": 10,
    "start_time": "2024-06-26T14:57:29.911Z"
   },
   {
    "duration": 170,
    "start_time": "2024-06-26T14:57:29.923Z"
   },
   {
    "duration": 179,
    "start_time": "2024-06-26T14:57:30.095Z"
   },
   {
    "duration": 1137,
    "start_time": "2024-06-26T15:05:32.490Z"
   },
   {
    "duration": 69,
    "start_time": "2024-06-26T15:05:33.629Z"
   },
   {
    "duration": 4,
    "start_time": "2024-06-26T15:05:33.699Z"
   },
   {
    "duration": 23,
    "start_time": "2024-06-26T15:05:33.705Z"
   },
   {
    "duration": 25,
    "start_time": "2024-06-26T15:05:33.729Z"
   },
   {
    "duration": 21,
    "start_time": "2024-06-26T15:05:33.755Z"
   },
   {
    "duration": 3,
    "start_time": "2024-06-26T15:05:33.778Z"
   },
   {
    "duration": 14,
    "start_time": "2024-06-26T15:05:33.782Z"
   },
   {
    "duration": 23,
    "start_time": "2024-06-26T15:05:33.797Z"
   },
   {
    "duration": 3,
    "start_time": "2024-06-26T15:05:33.824Z"
   },
   {
    "duration": 20,
    "start_time": "2024-06-26T15:05:33.829Z"
   },
   {
    "duration": 200,
    "start_time": "2024-06-26T15:05:33.851Z"
   },
   {
    "duration": 177,
    "start_time": "2024-06-26T15:05:34.052Z"
   },
   {
    "duration": 1112,
    "start_time": "2024-06-26T15:05:46.912Z"
   },
   {
    "duration": 70,
    "start_time": "2024-06-26T15:05:48.025Z"
   },
   {
    "duration": 4,
    "start_time": "2024-06-26T15:05:48.096Z"
   },
   {
    "duration": 36,
    "start_time": "2024-06-26T15:05:48.102Z"
   },
   {
    "duration": 24,
    "start_time": "2024-06-26T15:05:48.139Z"
   },
   {
    "duration": 19,
    "start_time": "2024-06-26T15:05:48.164Z"
   },
   {
    "duration": 3,
    "start_time": "2024-06-26T15:05:48.184Z"
   },
   {
    "duration": 33,
    "start_time": "2024-06-26T15:05:48.189Z"
   },
   {
    "duration": 5,
    "start_time": "2024-06-26T15:05:48.224Z"
   },
   {
    "duration": 9,
    "start_time": "2024-06-26T15:05:48.231Z"
   },
   {
    "duration": 13,
    "start_time": "2024-06-26T15:05:48.241Z"
   },
   {
    "duration": 190,
    "start_time": "2024-06-26T15:05:48.255Z"
   },
   {
    "duration": 179,
    "start_time": "2024-06-26T15:05:48.446Z"
   },
   {
    "duration": 1089,
    "start_time": "2024-06-26T15:06:10.746Z"
   },
   {
    "duration": 69,
    "start_time": "2024-06-26T15:06:11.837Z"
   },
   {
    "duration": 5,
    "start_time": "2024-06-26T15:06:11.907Z"
   },
   {
    "duration": 59,
    "start_time": "2024-06-26T15:06:11.913Z"
   },
   {
    "duration": 25,
    "start_time": "2024-06-26T15:06:11.973Z"
   },
   {
    "duration": 20,
    "start_time": "2024-06-26T15:06:12.000Z"
   },
   {
    "duration": 6,
    "start_time": "2024-06-26T15:06:12.022Z"
   },
   {
    "duration": 16,
    "start_time": "2024-06-26T15:06:12.029Z"
   },
   {
    "duration": 3,
    "start_time": "2024-06-26T15:06:12.047Z"
   },
   {
    "duration": 4,
    "start_time": "2024-06-26T15:06:12.052Z"
   },
   {
    "duration": 11,
    "start_time": "2024-06-26T15:06:12.057Z"
   },
   {
    "duration": 191,
    "start_time": "2024-06-26T15:06:12.069Z"
   },
   {
    "duration": 196,
    "start_time": "2024-06-26T15:06:12.262Z"
   },
   {
    "duration": 1425,
    "start_time": "2024-06-27T14:49:36.841Z"
   },
   {
    "duration": 218,
    "start_time": "2024-06-27T14:49:38.269Z"
   },
   {
    "duration": 4,
    "start_time": "2024-06-27T14:49:38.489Z"
   },
   {
    "duration": 30,
    "start_time": "2024-06-27T14:49:38.495Z"
   },
   {
    "duration": 30,
    "start_time": "2024-06-27T14:49:38.528Z"
   },
   {
    "duration": 42,
    "start_time": "2024-06-27T14:49:38.559Z"
   },
   {
    "duration": 7,
    "start_time": "2024-06-27T14:49:38.603Z"
   },
   {
    "duration": 17,
    "start_time": "2024-06-27T14:49:38.611Z"
   },
   {
    "duration": 6,
    "start_time": "2024-06-27T14:49:38.630Z"
   },
   {
    "duration": 4,
    "start_time": "2024-06-27T14:49:38.637Z"
   },
   {
    "duration": 12,
    "start_time": "2024-06-27T14:49:38.642Z"
   },
   {
    "duration": 270,
    "start_time": "2024-06-27T14:49:38.656Z"
   },
   {
    "duration": 213,
    "start_time": "2024-06-27T14:49:38.928Z"
   },
   {
    "duration": 7,
    "start_time": "2024-06-27T14:49:39.144Z"
   },
   {
    "duration": 31,
    "start_time": "2024-06-27T14:49:39.152Z"
   },
   {
    "duration": 106,
    "start_time": "2024-06-27T14:50:07.107Z"
   },
   {
    "duration": 11,
    "start_time": "2024-06-27T14:50:20.828Z"
   },
   {
    "duration": 16,
    "start_time": "2024-06-27T14:50:51.523Z"
   },
   {
    "duration": 22,
    "start_time": "2024-06-27T14:51:49.267Z"
   },
   {
    "duration": 15,
    "start_time": "2024-06-27T14:52:02.780Z"
   },
   {
    "duration": 1116,
    "start_time": "2024-06-27T14:52:21.557Z"
   },
   {
    "duration": 1135,
    "start_time": "2024-06-27T14:52:36.043Z"
   },
   {
    "duration": 18,
    "start_time": "2024-06-27T14:52:54.550Z"
   },
   {
    "duration": 14,
    "start_time": "2024-06-27T14:53:20.368Z"
   },
   {
    "duration": 15,
    "start_time": "2024-06-27T14:54:09.119Z"
   },
   {
    "duration": 14,
    "start_time": "2024-06-27T14:54:39.259Z"
   },
   {
    "duration": 9,
    "start_time": "2024-06-27T14:56:18.407Z"
   },
   {
    "duration": 3,
    "start_time": "2024-06-27T14:56:44.785Z"
   },
   {
    "duration": 8,
    "start_time": "2024-06-27T14:56:57.783Z"
   },
   {
    "duration": 10,
    "start_time": "2024-06-27T14:57:05.249Z"
   },
   {
    "duration": 3,
    "start_time": "2024-06-27T14:57:16.070Z"
   },
   {
    "duration": 7,
    "start_time": "2024-06-27T14:57:16.930Z"
   },
   {
    "duration": 2,
    "start_time": "2024-06-27T14:59:08.240Z"
   },
   {
    "duration": 7,
    "start_time": "2024-06-27T14:59:08.729Z"
   },
   {
    "duration": 3,
    "start_time": "2024-06-27T14:59:22.205Z"
   },
   {
    "duration": 5,
    "start_time": "2024-06-27T14:59:39.085Z"
   },
   {
    "duration": 10,
    "start_time": "2024-06-27T14:59:42.376Z"
   },
   {
    "duration": 3,
    "start_time": "2024-06-27T15:00:21.590Z"
   },
   {
    "duration": 3,
    "start_time": "2024-06-27T15:00:36.779Z"
   },
   {
    "duration": 6,
    "start_time": "2024-06-27T15:00:41.409Z"
   },
   {
    "duration": 22,
    "start_time": "2024-06-27T15:02:26.462Z"
   },
   {
    "duration": 16,
    "start_time": "2024-06-27T15:02:54.422Z"
   },
   {
    "duration": 19,
    "start_time": "2024-06-27T15:02:59.028Z"
   },
   {
    "duration": 11,
    "start_time": "2024-06-27T15:03:29.607Z"
   },
   {
    "duration": 3,
    "start_time": "2024-06-27T15:03:32.932Z"
   },
   {
    "duration": 10,
    "start_time": "2024-06-27T15:04:05.175Z"
   },
   {
    "duration": 4,
    "start_time": "2024-06-27T15:04:47.502Z"
   },
   {
    "duration": 2,
    "start_time": "2024-06-27T15:04:59.732Z"
   },
   {
    "duration": 8,
    "start_time": "2024-06-27T15:05:04.612Z"
   },
   {
    "duration": 5,
    "start_time": "2024-06-27T15:11:12.382Z"
   },
   {
    "duration": 13,
    "start_time": "2024-06-27T15:11:15.181Z"
   },
   {
    "duration": 9,
    "start_time": "2024-06-27T15:11:16.458Z"
   },
   {
    "duration": 2,
    "start_time": "2024-06-27T15:11:17.860Z"
   },
   {
    "duration": 7,
    "start_time": "2024-06-27T15:11:20.019Z"
   },
   {
    "duration": 21,
    "start_time": "2024-06-27T15:13:21.174Z"
   },
   {
    "duration": 15,
    "start_time": "2024-06-27T15:13:57.932Z"
   },
   {
    "duration": 17,
    "start_time": "2024-06-27T15:14:21.662Z"
   },
   {
    "duration": 24,
    "start_time": "2024-06-27T15:14:44.687Z"
   },
   {
    "duration": 10,
    "start_time": "2024-06-27T15:15:03.431Z"
   },
   {
    "duration": 3,
    "start_time": "2024-06-27T15:15:10.344Z"
   },
   {
    "duration": 6,
    "start_time": "2024-06-27T15:15:11.454Z"
   },
   {
    "duration": 9,
    "start_time": "2024-06-27T15:15:26.480Z"
   },
   {
    "duration": 3,
    "start_time": "2024-06-27T15:15:27.784Z"
   },
   {
    "duration": 7,
    "start_time": "2024-06-27T15:15:28.550Z"
   },
   {
    "duration": 3,
    "start_time": "2024-06-27T15:16:07.300Z"
   },
   {
    "duration": 7,
    "start_time": "2024-06-27T15:16:10.201Z"
   },
   {
    "duration": 178,
    "start_time": "2024-06-27T15:17:27.892Z"
   },
   {
    "duration": 4,
    "start_time": "2024-06-27T15:22:38.032Z"
   },
   {
    "duration": 13,
    "start_time": "2024-06-27T15:25:16.410Z"
   },
   {
    "duration": 6,
    "start_time": "2024-06-27T15:25:24.421Z"
   },
   {
    "duration": 4,
    "start_time": "2024-06-27T15:25:47.669Z"
   },
   {
    "duration": 2,
    "start_time": "2024-06-27T15:26:05.742Z"
   },
   {
    "duration": 4,
    "start_time": "2024-06-27T15:26:06.640Z"
   },
   {
    "duration": 2,
    "start_time": "2024-06-27T15:26:27.610Z"
   },
   {
    "duration": 4,
    "start_time": "2024-06-27T15:26:31.050Z"
   },
   {
    "duration": 2,
    "start_time": "2024-06-27T15:26:35.720Z"
   },
   {
    "duration": 4,
    "start_time": "2024-06-27T15:26:36.591Z"
   },
   {
    "duration": 3,
    "start_time": "2024-06-27T15:26:46.079Z"
   },
   {
    "duration": 4,
    "start_time": "2024-06-27T15:26:46.549Z"
   },
   {
    "duration": 3,
    "start_time": "2024-06-27T15:26:52.127Z"
   },
   {
    "duration": 4,
    "start_time": "2024-06-27T15:26:52.417Z"
   },
   {
    "duration": 5,
    "start_time": "2024-06-27T15:27:00.148Z"
   },
   {
    "duration": 3,
    "start_time": "2024-06-27T15:27:02.460Z"
   },
   {
    "duration": 6,
    "start_time": "2024-06-27T15:27:08.892Z"
   },
   {
    "duration": 3,
    "start_time": "2024-06-27T15:27:11.737Z"
   },
   {
    "duration": 4,
    "start_time": "2024-06-27T15:27:12.287Z"
   },
   {
    "duration": 6,
    "start_time": "2024-06-27T15:27:19.576Z"
   },
   {
    "duration": 3,
    "start_time": "2024-06-27T15:27:20.152Z"
   },
   {
    "duration": 3,
    "start_time": "2024-06-27T15:27:20.678Z"
   },
   {
    "duration": 6,
    "start_time": "2024-06-27T15:27:28.412Z"
   },
   {
    "duration": 3,
    "start_time": "2024-06-27T15:27:29.394Z"
   },
   {
    "duration": 4,
    "start_time": "2024-06-27T15:27:30.156Z"
   },
   {
    "duration": 7,
    "start_time": "2024-06-27T15:27:37.848Z"
   },
   {
    "duration": 2,
    "start_time": "2024-06-27T15:27:38.540Z"
   },
   {
    "duration": 4,
    "start_time": "2024-06-27T15:27:39.329Z"
   },
   {
    "duration": 6,
    "start_time": "2024-06-27T15:27:49.211Z"
   },
   {
    "duration": 4,
    "start_time": "2024-06-27T15:27:49.599Z"
   },
   {
    "duration": 4,
    "start_time": "2024-06-27T15:27:50.460Z"
   },
   {
    "duration": 3,
    "start_time": "2024-06-27T15:28:00.967Z"
   },
   {
    "duration": 4,
    "start_time": "2024-06-27T15:28:08.445Z"
   },
   {
    "duration": 5,
    "start_time": "2024-06-27T15:28:16.669Z"
   },
   {
    "duration": 5,
    "start_time": "2024-06-27T15:28:17.458Z"
   },
   {
    "duration": 5,
    "start_time": "2024-06-27T15:28:17.467Z"
   },
   {
    "duration": 4,
    "start_time": "2024-06-27T15:28:19.075Z"
   },
   {
    "duration": 3,
    "start_time": "2024-06-27T15:28:32.151Z"
   },
   {
    "duration": 6,
    "start_time": "2024-06-27T15:28:32.507Z"
   },
   {
    "duration": 1287,
    "start_time": "2024-06-27T15:47:16.769Z"
   },
   {
    "duration": 73,
    "start_time": "2024-06-27T15:47:18.058Z"
   },
   {
    "duration": 4,
    "start_time": "2024-06-27T15:47:18.133Z"
   },
   {
    "duration": 26,
    "start_time": "2024-06-27T15:47:18.139Z"
   },
   {
    "duration": 31,
    "start_time": "2024-06-27T15:47:18.167Z"
   },
   {
    "duration": 32,
    "start_time": "2024-06-27T15:47:18.200Z"
   },
   {
    "duration": 4,
    "start_time": "2024-06-27T15:47:18.234Z"
   },
   {
    "duration": 22,
    "start_time": "2024-06-27T15:47:18.239Z"
   },
   {
    "duration": 7,
    "start_time": "2024-06-27T15:47:18.281Z"
   },
   {
    "duration": 4,
    "start_time": "2024-06-27T15:47:18.292Z"
   },
   {
    "duration": 20,
    "start_time": "2024-06-27T15:47:18.297Z"
   },
   {
    "duration": 232,
    "start_time": "2024-06-27T15:47:18.319Z"
   },
   {
    "duration": 213,
    "start_time": "2024-06-27T15:47:18.553Z"
   },
   {
    "duration": 15,
    "start_time": "2024-06-27T15:47:18.767Z"
   },
   {
    "duration": 15,
    "start_time": "2024-06-27T15:47:18.784Z"
   },
   {
    "duration": 7,
    "start_time": "2024-06-27T15:47:18.800Z"
   },
   {
    "duration": 6,
    "start_time": "2024-06-27T15:47:18.809Z"
   },
   {
    "duration": 21,
    "start_time": "2024-06-27T15:47:18.816Z"
   },
   {
    "duration": 168,
    "start_time": "2024-06-27T15:47:18.838Z"
   },
   {
    "duration": 10,
    "start_time": "2024-06-27T15:47:19.008Z"
   },
   {
    "duration": 7,
    "start_time": "2024-06-27T15:47:19.020Z"
   },
   {
    "duration": 13,
    "start_time": "2024-06-27T15:47:19.029Z"
   },
   {
    "duration": 184,
    "start_time": "2024-06-27T15:47:19.044Z"
   },
   {
    "duration": 7,
    "start_time": "2024-06-27T15:47:36.378Z"
   },
   {
    "duration": 13,
    "start_time": "2024-06-27T15:47:37.048Z"
   },
   {
    "duration": 17,
    "start_time": "2024-06-27T16:08:35.753Z"
   },
   {
    "duration": 8,
    "start_time": "2024-06-27T16:08:40.541Z"
   },
   {
    "duration": 76,
    "start_time": "2024-06-27T16:08:41.172Z"
   },
   {
    "duration": 78,
    "start_time": "2024-06-27T16:09:09.871Z"
   },
   {
    "duration": 55,
    "start_time": "2024-06-27T16:09:17.585Z"
   },
   {
    "duration": 12,
    "start_time": "2024-06-27T16:09:25.872Z"
   },
   {
    "duration": 139,
    "start_time": "2024-06-27T16:10:34.420Z"
   },
   {
    "duration": 151,
    "start_time": "2024-06-27T16:12:16.552Z"
   },
   {
    "duration": 57,
    "start_time": "2024-06-27T16:12:36.269Z"
   },
   {
    "duration": 53,
    "start_time": "2024-06-27T16:13:10.672Z"
   },
   {
    "duration": 57,
    "start_time": "2024-06-27T16:13:42.721Z"
   },
   {
    "duration": 3,
    "start_time": "2024-06-27T16:13:50.874Z"
   },
   {
    "duration": 5,
    "start_time": "2024-06-27T16:14:02.352Z"
   },
   {
    "duration": 1267,
    "start_time": "2024-06-28T06:52:19.390Z"
   },
   {
    "duration": 210,
    "start_time": "2024-06-28T06:52:20.659Z"
   },
   {
    "duration": 3,
    "start_time": "2024-06-28T06:52:20.871Z"
   },
   {
    "duration": 49,
    "start_time": "2024-06-28T06:52:20.875Z"
   },
   {
    "duration": 25,
    "start_time": "2024-06-28T06:52:20.926Z"
   },
   {
    "duration": 19,
    "start_time": "2024-06-28T06:52:20.953Z"
   },
   {
    "duration": 8,
    "start_time": "2024-06-28T06:52:20.974Z"
   },
   {
    "duration": 9,
    "start_time": "2024-06-28T06:52:20.984Z"
   },
   {
    "duration": 12,
    "start_time": "2024-06-28T06:52:20.994Z"
   },
   {
    "duration": 18,
    "start_time": "2024-06-28T06:52:21.008Z"
   },
   {
    "duration": 36,
    "start_time": "2024-06-28T06:52:21.027Z"
   },
   {
    "duration": 226,
    "start_time": "2024-06-28T06:52:21.064Z"
   },
   {
    "duration": 187,
    "start_time": "2024-06-28T06:52:21.291Z"
   },
   {
    "duration": 7,
    "start_time": "2024-06-28T06:52:21.481Z"
   },
   {
    "duration": 11,
    "start_time": "2024-06-28T06:52:21.489Z"
   },
   {
    "duration": 162,
    "start_time": "2024-06-28T06:52:21.502Z"
   },
   {
    "duration": 7,
    "start_time": "2024-06-28T06:52:41.368Z"
   },
   {
    "duration": 53,
    "start_time": "2024-06-28T07:03:39.804Z"
   },
   {
    "duration": 182,
    "start_time": "2024-06-28T07:12:56.325Z"
   },
   {
    "duration": 180,
    "start_time": "2024-06-28T07:13:01.830Z"
   },
   {
    "duration": 177,
    "start_time": "2024-06-28T07:13:10.664Z"
   },
   {
    "duration": 238,
    "start_time": "2024-06-28T07:13:15.513Z"
   },
   {
    "duration": 142,
    "start_time": "2024-06-28T07:13:19.794Z"
   },
   {
    "duration": 135,
    "start_time": "2024-06-28T07:13:23.856Z"
   },
   {
    "duration": 11,
    "start_time": "2024-06-28T07:16:52.011Z"
   },
   {
    "duration": 154,
    "start_time": "2024-06-28T07:16:54.761Z"
   },
   {
    "duration": 9,
    "start_time": "2024-06-28T07:17:08.292Z"
   },
   {
    "duration": 146,
    "start_time": "2024-06-28T07:17:09.881Z"
   },
   {
    "duration": 1090,
    "start_time": "2024-06-28T07:17:22.218Z"
   },
   {
    "duration": 72,
    "start_time": "2024-06-28T07:17:23.310Z"
   },
   {
    "duration": 4,
    "start_time": "2024-06-28T07:17:23.383Z"
   },
   {
    "duration": 25,
    "start_time": "2024-06-28T07:17:23.389Z"
   },
   {
    "duration": 27,
    "start_time": "2024-06-28T07:17:23.417Z"
   },
   {
    "duration": 28,
    "start_time": "2024-06-28T07:17:23.445Z"
   },
   {
    "duration": 7,
    "start_time": "2024-06-28T07:17:23.475Z"
   },
   {
    "duration": 10,
    "start_time": "2024-06-28T07:17:23.483Z"
   },
   {
    "duration": 8,
    "start_time": "2024-06-28T07:17:23.495Z"
   },
   {
    "duration": 5,
    "start_time": "2024-06-28T07:17:23.505Z"
   },
   {
    "duration": 8,
    "start_time": "2024-06-28T07:17:23.511Z"
   },
   {
    "duration": 208,
    "start_time": "2024-06-28T07:17:23.520Z"
   },
   {
    "duration": 203,
    "start_time": "2024-06-28T07:17:23.730Z"
   },
   {
    "duration": 7,
    "start_time": "2024-06-28T07:17:23.936Z"
   },
   {
    "duration": 9,
    "start_time": "2024-06-28T07:17:23.944Z"
   },
   {
    "duration": 7,
    "start_time": "2024-06-28T07:17:23.965Z"
   },
   {
    "duration": 143,
    "start_time": "2024-06-28T07:17:23.974Z"
   },
   {
    "duration": 7,
    "start_time": "2024-06-28T07:17:24.118Z"
   },
   {
    "duration": 38,
    "start_time": "2024-06-28T07:17:24.127Z"
   },
   {
    "duration": 95,
    "start_time": "2024-06-28T07:17:24.166Z"
   },
   {
    "duration": 0,
    "start_time": "2024-06-28T07:17:24.262Z"
   },
   {
    "duration": 0,
    "start_time": "2024-06-28T07:17:24.265Z"
   },
   {
    "duration": 0,
    "start_time": "2024-06-28T07:17:24.266Z"
   },
   {
    "duration": 0,
    "start_time": "2024-06-28T07:17:24.267Z"
   },
   {
    "duration": 0,
    "start_time": "2024-06-28T07:17:24.268Z"
   },
   {
    "duration": 0,
    "start_time": "2024-06-28T07:17:24.269Z"
   },
   {
    "duration": 0,
    "start_time": "2024-06-28T07:17:24.270Z"
   },
   {
    "duration": 0,
    "start_time": "2024-06-28T07:17:24.271Z"
   },
   {
    "duration": 3,
    "start_time": "2024-06-28T07:17:56.191Z"
   },
   {
    "duration": 3,
    "start_time": "2024-06-28T07:17:56.982Z"
   },
   {
    "duration": 50,
    "start_time": "2024-06-28T07:17:57.892Z"
   },
   {
    "duration": 7,
    "start_time": "2024-06-28T07:18:01.572Z"
   },
   {
    "duration": 218,
    "start_time": "2024-06-28T07:18:01.581Z"
   },
   {
    "duration": 8,
    "start_time": "2024-06-28T07:18:02.440Z"
   },
   {
    "duration": 169,
    "start_time": "2024-06-28T07:18:03.822Z"
   },
   {
    "duration": 8,
    "start_time": "2024-06-28T07:18:04.399Z"
   },
   {
    "duration": 154,
    "start_time": "2024-06-28T07:18:05.701Z"
   },
   {
    "duration": 66,
    "start_time": "2024-06-28T07:18:59.921Z"
   },
   {
    "duration": 233,
    "start_time": "2024-06-28T07:29:54.508Z"
   },
   {
    "duration": 4,
    "start_time": "2024-06-28T07:32:14.340Z"
   },
   {
    "duration": 8,
    "start_time": "2024-06-28T07:32:16.461Z"
   },
   {
    "duration": 157,
    "start_time": "2024-06-28T07:32:23.429Z"
   },
   {
    "duration": 149,
    "start_time": "2024-06-28T07:32:30.852Z"
   },
   {
    "duration": 162,
    "start_time": "2024-06-28T07:32:34.891Z"
   },
   {
    "duration": 203,
    "start_time": "2024-06-28T07:32:50.241Z"
   },
   {
    "duration": 195,
    "start_time": "2024-06-28T07:32:55.583Z"
   },
   {
    "duration": 159,
    "start_time": "2024-06-28T07:33:00.816Z"
   },
   {
    "duration": 211,
    "start_time": "2024-06-28T07:33:11.477Z"
   },
   {
    "duration": 170,
    "start_time": "2024-06-28T07:33:19.170Z"
   },
   {
    "duration": 194,
    "start_time": "2024-06-28T07:33:23.180Z"
   },
   {
    "duration": 12,
    "start_time": "2024-06-28T07:46:11.757Z"
   },
   {
    "duration": 9,
    "start_time": "2024-06-28T07:46:24.661Z"
   },
   {
    "duration": 9,
    "start_time": "2024-06-28T07:47:02.573Z"
   },
   {
    "duration": 5,
    "start_time": "2024-06-28T07:48:01.016Z"
   },
   {
    "duration": 4,
    "start_time": "2024-06-28T07:48:03.516Z"
   },
   {
    "duration": 9,
    "start_time": "2024-06-28T07:48:37.855Z"
   },
   {
    "duration": 11,
    "start_time": "2024-06-28T07:48:47.256Z"
   },
   {
    "duration": 10,
    "start_time": "2024-06-28T07:48:47.745Z"
   },
   {
    "duration": 13,
    "start_time": "2024-06-28T07:48:48.198Z"
   },
   {
    "duration": 4,
    "start_time": "2024-06-28T07:48:49.416Z"
   },
   {
    "duration": 4,
    "start_time": "2024-06-28T07:49:00.696Z"
   },
   {
    "duration": 13,
    "start_time": "2024-06-28T07:49:21.943Z"
   },
   {
    "duration": 4,
    "start_time": "2024-06-28T08:02:58.009Z"
   },
   {
    "duration": 14,
    "start_time": "2024-06-28T08:07:32.003Z"
   },
   {
    "duration": 1102,
    "start_time": "2024-06-28T09:17:57.420Z"
   },
   {
    "duration": 72,
    "start_time": "2024-06-28T09:17:58.524Z"
   },
   {
    "duration": 3,
    "start_time": "2024-06-28T09:17:58.598Z"
   },
   {
    "duration": 32,
    "start_time": "2024-06-28T09:17:58.603Z"
   },
   {
    "duration": 38,
    "start_time": "2024-06-28T09:17:58.637Z"
   },
   {
    "duration": 20,
    "start_time": "2024-06-28T09:17:58.677Z"
   },
   {
    "duration": 4,
    "start_time": "2024-06-28T09:17:58.698Z"
   },
   {
    "duration": 24,
    "start_time": "2024-06-28T09:17:58.704Z"
   },
   {
    "duration": 17,
    "start_time": "2024-06-28T09:17:58.730Z"
   },
   {
    "duration": 38,
    "start_time": "2024-06-28T09:17:58.748Z"
   },
   {
    "duration": 22,
    "start_time": "2024-06-28T09:17:58.788Z"
   },
   {
    "duration": 206,
    "start_time": "2024-06-28T09:17:58.811Z"
   },
   {
    "duration": 211,
    "start_time": "2024-06-28T09:17:59.018Z"
   },
   {
    "duration": 7,
    "start_time": "2024-06-28T09:17:59.232Z"
   },
   {
    "duration": 28,
    "start_time": "2024-06-28T09:17:59.241Z"
   },
   {
    "duration": 20,
    "start_time": "2024-06-28T09:17:59.270Z"
   },
   {
    "duration": 178,
    "start_time": "2024-06-28T09:17:59.291Z"
   },
   {
    "duration": 6,
    "start_time": "2024-06-28T09:17:59.471Z"
   },
   {
    "duration": 24,
    "start_time": "2024-06-28T09:17:59.479Z"
   },
   {
    "duration": 5,
    "start_time": "2024-06-28T09:17:59.504Z"
   },
   {
    "duration": 7,
    "start_time": "2024-06-28T09:17:59.511Z"
   },
   {
    "duration": 48,
    "start_time": "2024-06-28T09:17:59.520Z"
   },
   {
    "duration": 8,
    "start_time": "2024-06-28T09:17:59.569Z"
   },
   {
    "duration": 148,
    "start_time": "2024-06-28T09:17:59.579Z"
   },
   {
    "duration": 7,
    "start_time": "2024-06-28T09:17:59.729Z"
   },
   {
    "duration": 167,
    "start_time": "2024-06-28T09:17:59.738Z"
   },
   {
    "duration": 4,
    "start_time": "2024-06-28T09:17:59.906Z"
   },
   {
    "duration": 24,
    "start_time": "2024-06-28T09:17:59.911Z"
   },
   {
    "duration": 176,
    "start_time": "2024-06-28T09:17:59.937Z"
   },
   {
    "duration": 3,
    "start_time": "2024-06-28T09:18:00.115Z"
   },
   {
    "duration": 68,
    "start_time": "2024-06-28T09:18:00.120Z"
   },
   {
    "duration": 371,
    "start_time": "2024-06-28T09:18:00.190Z"
   },
   {
    "duration": 120,
    "start_time": "2024-06-28T09:18:00.563Z"
   },
   {
    "duration": 50,
    "start_time": "2024-06-28T09:18:00.685Z"
   },
   {
    "duration": 49,
    "start_time": "2024-06-28T09:18:00.737Z"
   },
   {
    "duration": 215,
    "start_time": "2024-06-28T09:18:00.787Z"
   },
   {
    "duration": 207,
    "start_time": "2024-06-28T09:18:01.004Z"
   },
   {
    "duration": 331,
    "start_time": "2024-06-28T09:18:01.212Z"
   },
   {
    "duration": 42,
    "start_time": "2024-06-28T09:18:01.545Z"
   },
   {
    "duration": 3,
    "start_time": "2024-06-28T09:20:02.367Z"
   },
   {
    "duration": 95,
    "start_time": "2024-06-28T09:20:29.155Z"
   },
   {
    "duration": 3,
    "start_time": "2024-06-28T09:20:36.373Z"
   },
   {
    "duration": 9,
    "start_time": "2024-06-28T09:20:37.015Z"
   },
   {
    "duration": 13,
    "start_time": "2024-06-28T09:20:48.986Z"
   },
   {
    "duration": 9,
    "start_time": "2024-06-28T09:21:31.437Z"
   },
   {
    "duration": 241,
    "start_time": "2024-06-28T09:21:45.546Z"
   },
   {
    "duration": 856,
    "start_time": "2024-06-28T09:22:03.475Z"
   },
   {
    "duration": 3,
    "start_time": "2024-06-28T09:22:40.016Z"
   },
   {
    "duration": 22,
    "start_time": "2024-06-28T09:23:01.751Z"
   },
   {
    "duration": 219,
    "start_time": "2024-06-28T09:23:57.677Z"
   },
   {
    "duration": 9,
    "start_time": "2024-06-28T09:25:58.386Z"
   },
   {
    "duration": 213,
    "start_time": "2024-06-28T09:26:28.162Z"
   },
   {
    "duration": 226,
    "start_time": "2024-06-28T09:26:31.866Z"
   },
   {
    "duration": 313,
    "start_time": "2024-06-28T09:27:01.336Z"
   },
   {
    "duration": 206,
    "start_time": "2024-06-28T09:27:22.379Z"
   },
   {
    "duration": 217,
    "start_time": "2024-06-28T09:27:39.519Z"
   },
   {
    "duration": 61,
    "start_time": "2024-06-28T09:30:13.549Z"
   },
   {
    "duration": 392,
    "start_time": "2024-06-28T09:30:25.729Z"
   },
   {
    "duration": 292,
    "start_time": "2024-06-28T09:30:37.292Z"
   },
   {
    "duration": 334,
    "start_time": "2024-06-28T09:30:53.100Z"
   },
   {
    "duration": 270,
    "start_time": "2024-06-28T09:31:03.939Z"
   },
   {
    "duration": 234,
    "start_time": "2024-06-28T09:31:17.279Z"
   },
   {
    "duration": 311,
    "start_time": "2024-06-28T09:31:23.798Z"
   },
   {
    "duration": 268,
    "start_time": "2024-06-28T09:31:31.788Z"
   },
   {
    "duration": 350,
    "start_time": "2024-06-28T09:31:41.945Z"
   },
   {
    "duration": 418,
    "start_time": "2024-06-28T09:31:50.347Z"
   },
   {
    "duration": 314,
    "start_time": "2024-06-28T09:31:56.881Z"
   },
   {
    "duration": 337,
    "start_time": "2024-06-28T09:32:04.707Z"
   },
   {
    "duration": 4,
    "start_time": "2024-06-28T09:32:34.029Z"
   },
   {
    "duration": 9,
    "start_time": "2024-06-28T09:33:08.712Z"
   },
   {
    "duration": 4,
    "start_time": "2024-06-28T09:37:06.203Z"
   },
   {
    "duration": 32,
    "start_time": "2024-06-28T09:37:09.740Z"
   },
   {
    "duration": 4,
    "start_time": "2024-06-28T09:37:23.805Z"
   },
   {
    "duration": 30,
    "start_time": "2024-06-28T09:37:24.479Z"
   },
   {
    "duration": 4,
    "start_time": "2024-06-28T09:38:07.568Z"
   },
   {
    "duration": 50,
    "start_time": "2024-06-28T09:38:53.837Z"
   },
   {
    "duration": 41,
    "start_time": "2024-06-28T09:39:26.500Z"
   },
   {
    "duration": 9,
    "start_time": "2024-06-28T09:39:48.198Z"
   },
   {
    "duration": 7,
    "start_time": "2024-06-28T09:40:03.809Z"
   },
   {
    "duration": 43,
    "start_time": "2024-06-28T09:40:08.127Z"
   },
   {
    "duration": 321,
    "start_time": "2024-06-28T09:41:03.812Z"
   },
   {
    "duration": 337,
    "start_time": "2024-06-28T09:41:12.236Z"
   },
   {
    "duration": 389,
    "start_time": "2024-06-28T09:41:16.377Z"
   },
   {
    "duration": 324,
    "start_time": "2024-06-28T09:41:20.312Z"
   },
   {
    "duration": 300,
    "start_time": "2024-06-28T09:41:24.759Z"
   },
   {
    "duration": 278,
    "start_time": "2024-06-28T09:41:31.011Z"
   },
   {
    "duration": 284,
    "start_time": "2024-06-28T09:41:35.679Z"
   },
   {
    "duration": 280,
    "start_time": "2024-06-28T09:41:39.021Z"
   },
   {
    "duration": 399,
    "start_time": "2024-06-28T09:41:42.771Z"
   },
   {
    "duration": 302,
    "start_time": "2024-06-28T09:41:46.769Z"
   },
   {
    "duration": 274,
    "start_time": "2024-06-28T09:42:28.311Z"
   },
   {
    "duration": 273,
    "start_time": "2024-06-28T09:42:33.267Z"
   },
   {
    "duration": 233,
    "start_time": "2024-06-28T09:42:43.924Z"
   },
   {
    "duration": 241,
    "start_time": "2024-06-28T09:46:44.342Z"
   },
   {
    "duration": 300,
    "start_time": "2024-06-28T09:47:16.809Z"
   },
   {
    "duration": 70,
    "start_time": "2024-06-28T14:47:51.713Z"
   },
   {
    "duration": 1278,
    "start_time": "2024-06-28T14:48:24.783Z"
   },
   {
    "duration": 208,
    "start_time": "2024-06-28T14:48:26.063Z"
   },
   {
    "duration": 5,
    "start_time": "2024-06-28T14:48:26.273Z"
   },
   {
    "duration": 53,
    "start_time": "2024-06-28T14:48:26.281Z"
   },
   {
    "duration": 25,
    "start_time": "2024-06-28T14:48:26.336Z"
   },
   {
    "duration": 25,
    "start_time": "2024-06-28T14:48:26.363Z"
   },
   {
    "duration": 3,
    "start_time": "2024-06-28T14:48:26.390Z"
   },
   {
    "duration": 13,
    "start_time": "2024-06-28T14:48:26.394Z"
   },
   {
    "duration": 4,
    "start_time": "2024-06-28T14:48:26.409Z"
   },
   {
    "duration": 5,
    "start_time": "2024-06-28T14:48:26.417Z"
   },
   {
    "duration": 15,
    "start_time": "2024-06-28T14:48:26.423Z"
   },
   {
    "duration": 197,
    "start_time": "2024-06-28T14:48:26.440Z"
   },
   {
    "duration": 179,
    "start_time": "2024-06-28T14:48:26.639Z"
   },
   {
    "duration": 7,
    "start_time": "2024-06-28T14:48:26.820Z"
   },
   {
    "duration": 9,
    "start_time": "2024-06-28T14:48:26.828Z"
   },
   {
    "duration": 12,
    "start_time": "2024-06-28T14:48:26.839Z"
   },
   {
    "duration": 196,
    "start_time": "2024-06-28T14:48:26.865Z"
   },
   {
    "duration": 6,
    "start_time": "2024-06-28T14:48:27.065Z"
   },
   {
    "duration": 8,
    "start_time": "2024-06-28T14:48:27.072Z"
   },
   {
    "duration": 5,
    "start_time": "2024-06-28T14:48:27.081Z"
   },
   {
    "duration": 7,
    "start_time": "2024-06-28T14:48:27.087Z"
   },
   {
    "duration": 45,
    "start_time": "2024-06-28T14:48:27.095Z"
   },
   {
    "duration": 25,
    "start_time": "2024-06-28T14:48:27.141Z"
   },
   {
    "duration": 136,
    "start_time": "2024-06-28T14:48:27.167Z"
   },
   {
    "duration": 8,
    "start_time": "2024-06-28T14:48:27.304Z"
   },
   {
    "duration": 159,
    "start_time": "2024-06-28T14:48:27.313Z"
   },
   {
    "duration": 4,
    "start_time": "2024-06-28T14:48:27.473Z"
   },
   {
    "duration": 9,
    "start_time": "2024-06-28T14:48:27.480Z"
   },
   {
    "duration": 195,
    "start_time": "2024-06-28T14:48:27.490Z"
   },
   {
    "duration": 5,
    "start_time": "2024-06-28T14:48:27.686Z"
   },
   {
    "duration": 14,
    "start_time": "2024-06-28T14:48:27.692Z"
   },
   {
    "duration": 6,
    "start_time": "2024-06-28T14:48:27.708Z"
   },
   {
    "duration": 24,
    "start_time": "2024-06-28T14:48:27.715Z"
   },
   {
    "duration": 9,
    "start_time": "2024-06-28T14:48:27.740Z"
   },
   {
    "duration": 18,
    "start_time": "2024-06-28T14:48:27.751Z"
   },
   {
    "duration": 161,
    "start_time": "2024-06-28T14:48:27.770Z"
   },
   {
    "duration": 6,
    "start_time": "2024-06-28T14:48:27.933Z"
   },
   {
    "duration": 35,
    "start_time": "2024-06-28T14:48:27.940Z"
   },
   {
    "duration": 60,
    "start_time": "2024-06-28T14:48:27.977Z"
   },
   {
    "duration": 49,
    "start_time": "2024-06-28T14:48:28.039Z"
   },
   {
    "duration": 250,
    "start_time": "2024-06-28T14:48:28.089Z"
   },
   {
    "duration": 311,
    "start_time": "2024-06-28T14:48:28.341Z"
   },
   {
    "duration": 273,
    "start_time": "2024-06-28T14:48:49.468Z"
   },
   {
    "duration": 245,
    "start_time": "2024-06-28T14:49:02.906Z"
   },
   {
    "duration": 242,
    "start_time": "2024-06-28T14:49:16.754Z"
   },
   {
    "duration": 262,
    "start_time": "2024-06-28T14:52:37.247Z"
   },
   {
    "duration": 339,
    "start_time": "2024-06-28T14:52:44.641Z"
   },
   {
    "duration": 322,
    "start_time": "2024-06-28T14:52:57.547Z"
   },
   {
    "duration": 292,
    "start_time": "2024-06-28T14:53:06.328Z"
   },
   {
    "duration": 321,
    "start_time": "2024-06-28T14:53:13.495Z"
   },
   {
    "duration": 319,
    "start_time": "2024-06-28T14:53:21.842Z"
   },
   {
    "duration": 387,
    "start_time": "2024-06-28T14:53:27.335Z"
   },
   {
    "duration": 333,
    "start_time": "2024-06-28T14:56:03.802Z"
   },
   {
    "duration": 169,
    "start_time": "2024-06-28T14:57:16.069Z"
   },
   {
    "duration": 53,
    "start_time": "2024-06-28T14:57:35.526Z"
   },
   {
    "duration": 52,
    "start_time": "2024-06-28T14:57:49.465Z"
   },
   {
    "duration": 174,
    "start_time": "2024-06-28T14:57:58.627Z"
   },
   {
    "duration": 341,
    "start_time": "2024-06-28T14:58:49.871Z"
   },
   {
    "duration": 360,
    "start_time": "2024-06-28T14:58:59.727Z"
   },
   {
    "duration": 413,
    "start_time": "2024-06-28T14:59:04.797Z"
   },
   {
    "duration": 337,
    "start_time": "2024-06-28T14:59:10.593Z"
   },
   {
    "duration": 303,
    "start_time": "2024-06-28T14:59:23.664Z"
   },
   {
    "duration": 273,
    "start_time": "2024-06-28T14:59:30.215Z"
   },
   {
    "duration": 275,
    "start_time": "2024-06-28T14:59:39.071Z"
   },
   {
    "duration": 411,
    "start_time": "2024-06-28T14:59:49.776Z"
   },
   {
    "duration": 341,
    "start_time": "2024-06-28T14:59:54.510Z"
   },
   {
    "duration": 317,
    "start_time": "2024-06-28T14:59:58.079Z"
   },
   {
    "duration": 333,
    "start_time": "2024-06-28T15:00:01.316Z"
   },
   {
    "duration": 318,
    "start_time": "2024-06-28T15:00:06.414Z"
   },
   {
    "duration": 335,
    "start_time": "2024-06-28T15:00:11.841Z"
   },
   {
    "duration": 1187,
    "start_time": "2024-06-29T15:49:09.421Z"
   },
   {
    "duration": 288,
    "start_time": "2024-06-29T15:49:10.610Z"
   },
   {
    "duration": 3,
    "start_time": "2024-06-29T15:49:10.900Z"
   },
   {
    "duration": 22,
    "start_time": "2024-06-29T15:49:10.905Z"
   },
   {
    "duration": 28,
    "start_time": "2024-06-29T15:49:10.929Z"
   },
   {
    "duration": 23,
    "start_time": "2024-06-29T15:49:10.958Z"
   },
   {
    "duration": 2,
    "start_time": "2024-06-29T15:49:10.983Z"
   },
   {
    "duration": 16,
    "start_time": "2024-06-29T15:49:10.987Z"
   },
   {
    "duration": 8,
    "start_time": "2024-06-29T15:49:11.004Z"
   },
   {
    "duration": 6,
    "start_time": "2024-06-29T15:49:11.014Z"
   },
   {
    "duration": 13,
    "start_time": "2024-06-29T15:49:11.021Z"
   },
   {
    "duration": 197,
    "start_time": "2024-06-29T15:49:11.035Z"
   },
   {
    "duration": 159,
    "start_time": "2024-06-29T15:49:11.233Z"
   },
   {
    "duration": 6,
    "start_time": "2024-06-29T15:49:11.393Z"
   },
   {
    "duration": 15,
    "start_time": "2024-06-29T15:49:11.400Z"
   },
   {
    "duration": 18,
    "start_time": "2024-06-29T15:49:11.416Z"
   },
   {
    "duration": 123,
    "start_time": "2024-06-29T15:49:11.435Z"
   },
   {
    "duration": 6,
    "start_time": "2024-06-29T15:49:11.559Z"
   },
   {
    "duration": 12,
    "start_time": "2024-06-29T15:49:11.566Z"
   },
   {
    "duration": 4,
    "start_time": "2024-06-29T15:49:11.579Z"
   },
   {
    "duration": 9,
    "start_time": "2024-06-29T15:49:11.584Z"
   },
   {
    "duration": 47,
    "start_time": "2024-06-29T15:49:11.594Z"
   },
   {
    "duration": 6,
    "start_time": "2024-06-29T15:49:11.643Z"
   },
   {
    "duration": 128,
    "start_time": "2024-06-29T15:49:11.650Z"
   },
   {
    "duration": 7,
    "start_time": "2024-06-29T15:49:11.780Z"
   },
   {
    "duration": 169,
    "start_time": "2024-06-29T15:49:11.788Z"
   },
   {
    "duration": 4,
    "start_time": "2024-06-29T15:49:11.958Z"
   },
   {
    "duration": 35,
    "start_time": "2024-06-29T15:49:11.965Z"
   },
   {
    "duration": 157,
    "start_time": "2024-06-29T15:49:12.001Z"
   },
   {
    "duration": 4,
    "start_time": "2024-06-29T15:49:12.159Z"
   },
   {
    "duration": 11,
    "start_time": "2024-06-29T15:49:12.164Z"
   },
   {
    "duration": 18,
    "start_time": "2024-06-29T15:49:12.177Z"
   },
   {
    "duration": 30,
    "start_time": "2024-06-29T15:49:12.196Z"
   },
   {
    "duration": 11,
    "start_time": "2024-06-29T15:49:12.227Z"
   },
   {
    "duration": 12,
    "start_time": "2024-06-29T15:49:12.239Z"
   },
   {
    "duration": 95,
    "start_time": "2024-06-29T15:49:12.252Z"
   },
   {
    "duration": 5,
    "start_time": "2024-06-29T15:49:12.348Z"
   },
   {
    "duration": 8,
    "start_time": "2024-06-29T15:49:12.354Z"
   },
   {
    "duration": 45,
    "start_time": "2024-06-29T15:49:12.363Z"
   },
   {
    "duration": 35,
    "start_time": "2024-06-29T15:49:12.409Z"
   },
   {
    "duration": 253,
    "start_time": "2024-06-29T15:49:12.445Z"
   },
   {
    "duration": 273,
    "start_time": "2024-06-29T15:49:12.700Z"
   },
   {
    "duration": 2,
    "start_time": "2024-06-29T15:49:12.974Z"
   },
   {
    "duration": 52,
    "start_time": "2024-06-29T15:49:12.977Z"
   },
   {
    "duration": 51,
    "start_time": "2024-06-29T15:49:13.030Z"
   },
   {
    "duration": 53,
    "start_time": "2024-06-29T15:49:13.083Z"
   },
   {
    "duration": 3,
    "start_time": "2024-06-29T15:49:13.138Z"
   },
   {
    "duration": 4,
    "start_time": "2024-06-29T15:49:13.142Z"
   },
   {
    "duration": 24,
    "start_time": "2024-06-29T15:49:13.147Z"
   },
   {
    "duration": 7,
    "start_time": "2024-06-29T15:49:13.172Z"
   },
   {
    "duration": 21,
    "start_time": "2024-06-29T15:49:13.180Z"
   },
   {
    "duration": 47,
    "start_time": "2024-06-29T15:49:13.202Z"
   },
   {
    "duration": 20,
    "start_time": "2024-06-29T15:49:13.250Z"
   },
   {
    "duration": 36,
    "start_time": "2024-06-29T15:49:13.271Z"
   },
   {
    "duration": 23,
    "start_time": "2024-06-29T15:49:13.308Z"
   },
   {
    "duration": 822,
    "start_time": "2024-06-29T15:49:13.332Z"
   },
   {
    "duration": 0,
    "start_time": "2024-06-29T15:49:14.156Z"
   },
   {
    "duration": 663,
    "start_time": "2024-06-29T15:50:11.941Z"
   },
   {
    "duration": 752,
    "start_time": "2024-06-29T15:50:51.213Z"
   },
   {
    "duration": 61,
    "start_time": "2024-06-29T15:52:29.605Z"
   },
   {
    "duration": 74,
    "start_time": "2024-06-29T15:52:36.632Z"
   },
   {
    "duration": 16,
    "start_time": "2024-06-29T15:54:58.862Z"
   },
   {
    "duration": 7,
    "start_time": "2024-06-29T15:57:13.756Z"
   },
   {
    "duration": 10,
    "start_time": "2024-06-29T15:57:36.212Z"
   },
   {
    "duration": 16,
    "start_time": "2024-06-29T15:57:45.222Z"
   },
   {
    "duration": 11,
    "start_time": "2024-06-29T15:57:51.899Z"
   },
   {
    "duration": 34,
    "start_time": "2024-06-29T15:58:24.114Z"
   },
   {
    "duration": 7,
    "start_time": "2024-06-29T16:00:21.185Z"
   },
   {
    "duration": 13,
    "start_time": "2024-06-29T16:00:37.986Z"
   },
   {
    "duration": 18,
    "start_time": "2024-06-29T16:00:50.374Z"
   },
   {
    "duration": 10,
    "start_time": "2024-06-29T16:01:01.907Z"
   },
   {
    "duration": 724,
    "start_time": "2024-06-29T16:01:20.128Z"
   },
   {
    "duration": 837,
    "start_time": "2024-06-29T16:01:30.923Z"
   },
   {
    "duration": 725,
    "start_time": "2024-06-29T16:01:45.173Z"
   },
   {
    "duration": 4,
    "start_time": "2024-06-29T16:01:59.184Z"
   },
   {
    "duration": 4,
    "start_time": "2024-06-29T16:02:07.435Z"
   },
   {
    "duration": 40,
    "start_time": "2024-06-29T16:02:16.627Z"
   },
   {
    "duration": 3,
    "start_time": "2024-06-29T16:03:18.346Z"
   },
   {
    "duration": 19,
    "start_time": "2024-06-29T16:03:21.134Z"
   },
   {
    "duration": 26,
    "start_time": "2024-06-29T16:03:36.394Z"
   },
   {
    "duration": 20,
    "start_time": "2024-06-29T16:03:40.234Z"
   },
   {
    "duration": 1004,
    "start_time": "2024-06-29T16:04:36.555Z"
   },
   {
    "duration": 64,
    "start_time": "2024-06-29T16:04:37.561Z"
   },
   {
    "duration": 3,
    "start_time": "2024-06-29T16:04:37.626Z"
   },
   {
    "duration": 22,
    "start_time": "2024-06-29T16:04:37.631Z"
   },
   {
    "duration": 22,
    "start_time": "2024-06-29T16:04:37.654Z"
   },
   {
    "duration": 18,
    "start_time": "2024-06-29T16:04:37.677Z"
   },
   {
    "duration": 7,
    "start_time": "2024-06-29T16:04:37.697Z"
   },
   {
    "duration": 10,
    "start_time": "2024-06-29T16:04:37.705Z"
   },
   {
    "duration": 4,
    "start_time": "2024-06-29T16:04:37.716Z"
   },
   {
    "duration": 3,
    "start_time": "2024-06-29T16:04:37.723Z"
   },
   {
    "duration": 6,
    "start_time": "2024-06-29T16:04:37.727Z"
   },
   {
    "duration": 204,
    "start_time": "2024-06-29T16:04:37.734Z"
   },
   {
    "duration": 171,
    "start_time": "2024-06-29T16:04:37.939Z"
   },
   {
    "duration": 6,
    "start_time": "2024-06-29T16:04:38.111Z"
   },
   {
    "duration": 8,
    "start_time": "2024-06-29T16:04:38.118Z"
   },
   {
    "duration": 8,
    "start_time": "2024-06-29T16:04:38.127Z"
   },
   {
    "duration": 130,
    "start_time": "2024-06-29T16:04:38.136Z"
   },
   {
    "duration": 5,
    "start_time": "2024-06-29T16:04:38.271Z"
   },
   {
    "duration": 6,
    "start_time": "2024-06-29T16:04:38.277Z"
   },
   {
    "duration": 3,
    "start_time": "2024-06-29T16:04:38.284Z"
   },
   {
    "duration": 4,
    "start_time": "2024-06-29T16:04:38.288Z"
   },
   {
    "duration": 43,
    "start_time": "2024-06-29T16:04:38.293Z"
   },
   {
    "duration": 5,
    "start_time": "2024-06-29T16:04:38.338Z"
   },
   {
    "duration": 121,
    "start_time": "2024-06-29T16:04:38.371Z"
   },
   {
    "duration": 6,
    "start_time": "2024-06-29T16:04:38.493Z"
   },
   {
    "duration": 147,
    "start_time": "2024-06-29T16:04:38.500Z"
   },
   {
    "duration": 3,
    "start_time": "2024-06-29T16:04:38.648Z"
   },
   {
    "duration": 17,
    "start_time": "2024-06-29T16:04:38.655Z"
   },
   {
    "duration": 155,
    "start_time": "2024-06-29T16:04:38.673Z"
   },
   {
    "duration": 3,
    "start_time": "2024-06-29T16:04:38.829Z"
   },
   {
    "duration": 4,
    "start_time": "2024-06-29T16:04:38.833Z"
   },
   {
    "duration": 4,
    "start_time": "2024-06-29T16:04:38.838Z"
   },
   {
    "duration": 30,
    "start_time": "2024-06-29T16:04:38.843Z"
   },
   {
    "duration": 8,
    "start_time": "2024-06-29T16:04:38.874Z"
   },
   {
    "duration": 9,
    "start_time": "2024-06-29T16:04:38.883Z"
   },
   {
    "duration": 105,
    "start_time": "2024-06-29T16:04:38.894Z"
   },
   {
    "duration": 4,
    "start_time": "2024-06-29T16:04:39.000Z"
   },
   {
    "duration": 15,
    "start_time": "2024-06-29T16:04:39.006Z"
   },
   {
    "duration": 73,
    "start_time": "2024-06-29T16:04:39.022Z"
   },
   {
    "duration": 39,
    "start_time": "2024-06-29T16:04:39.096Z"
   },
   {
    "duration": 235,
    "start_time": "2024-06-29T16:04:39.137Z"
   },
   {
    "duration": 272,
    "start_time": "2024-06-29T16:04:39.373Z"
   },
   {
    "duration": 2,
    "start_time": "2024-06-29T16:04:39.646Z"
   },
   {
    "duration": 22,
    "start_time": "2024-06-29T16:04:39.649Z"
   },
   {
    "duration": 3,
    "start_time": "2024-06-29T16:04:39.672Z"
   },
   {
    "duration": 14,
    "start_time": "2024-06-29T16:04:39.676Z"
   },
   {
    "duration": 7,
    "start_time": "2024-06-29T16:04:39.691Z"
   },
   {
    "duration": 7,
    "start_time": "2024-06-29T16:04:39.699Z"
   },
   {
    "duration": 14,
    "start_time": "2024-06-29T16:04:39.707Z"
   },
   {
    "duration": 3,
    "start_time": "2024-06-29T16:04:39.722Z"
   },
   {
    "duration": 8,
    "start_time": "2024-06-29T16:04:39.726Z"
   },
   {
    "duration": 36,
    "start_time": "2024-06-29T16:04:39.735Z"
   },
   {
    "duration": 19,
    "start_time": "2024-06-29T16:04:39.772Z"
   },
   {
    "duration": 2,
    "start_time": "2024-06-29T16:04:39.792Z"
   },
   {
    "duration": 86,
    "start_time": "2024-06-29T16:04:39.795Z"
   },
   {
    "duration": 6,
    "start_time": "2024-06-29T16:04:39.882Z"
   },
   {
    "duration": 5,
    "start_time": "2024-06-29T16:04:39.889Z"
   },
   {
    "duration": 32,
    "start_time": "2024-06-29T16:04:39.895Z"
   },
   {
    "duration": 5,
    "start_time": "2024-06-29T16:04:47.533Z"
   },
   {
    "duration": 6,
    "start_time": "2024-06-29T16:05:12.896Z"
   },
   {
    "duration": 1057,
    "start_time": "2024-06-29T16:05:39.942Z"
   },
   {
    "duration": 64,
    "start_time": "2024-06-29T16:05:41.001Z"
   },
   {
    "duration": 3,
    "start_time": "2024-06-29T16:05:41.066Z"
   },
   {
    "duration": 23,
    "start_time": "2024-06-29T16:05:41.071Z"
   },
   {
    "duration": 25,
    "start_time": "2024-06-29T16:05:41.095Z"
   },
   {
    "duration": 20,
    "start_time": "2024-06-29T16:05:41.121Z"
   },
   {
    "duration": 14,
    "start_time": "2024-06-29T16:05:41.142Z"
   },
   {
    "duration": 19,
    "start_time": "2024-06-29T16:05:41.158Z"
   },
   {
    "duration": 14,
    "start_time": "2024-06-29T16:05:41.178Z"
   },
   {
    "duration": 2,
    "start_time": "2024-06-29T16:05:41.195Z"
   },
   {
    "duration": 8,
    "start_time": "2024-06-29T16:05:41.198Z"
   },
   {
    "duration": 160,
    "start_time": "2024-06-29T16:05:41.208Z"
   },
   {
    "duration": 159,
    "start_time": "2024-06-29T16:05:41.370Z"
   },
   {
    "duration": 6,
    "start_time": "2024-06-29T16:05:41.530Z"
   },
   {
    "duration": 8,
    "start_time": "2024-06-29T16:05:41.538Z"
   },
   {
    "duration": 25,
    "start_time": "2024-06-29T16:05:41.547Z"
   },
   {
    "duration": 123,
    "start_time": "2024-06-29T16:05:41.573Z"
   },
   {
    "duration": 5,
    "start_time": "2024-06-29T16:05:41.697Z"
   },
   {
    "duration": 6,
    "start_time": "2024-06-29T16:05:41.703Z"
   },
   {
    "duration": 6,
    "start_time": "2024-06-29T16:05:41.710Z"
   },
   {
    "duration": 14,
    "start_time": "2024-06-29T16:05:41.717Z"
   },
   {
    "duration": 51,
    "start_time": "2024-06-29T16:05:41.733Z"
   },
   {
    "duration": 7,
    "start_time": "2024-06-29T16:05:41.785Z"
   },
   {
    "duration": 130,
    "start_time": "2024-06-29T16:05:41.793Z"
   },
   {
    "duration": 7,
    "start_time": "2024-06-29T16:05:41.924Z"
   },
   {
    "duration": 143,
    "start_time": "2024-06-29T16:05:41.932Z"
   },
   {
    "duration": 3,
    "start_time": "2024-06-29T16:05:42.077Z"
   },
   {
    "duration": 15,
    "start_time": "2024-06-29T16:05:42.084Z"
   },
   {
    "duration": 176,
    "start_time": "2024-06-29T16:05:42.100Z"
   },
   {
    "duration": 3,
    "start_time": "2024-06-29T16:05:42.278Z"
   },
   {
    "duration": 21,
    "start_time": "2024-06-29T16:05:42.283Z"
   },
   {
    "duration": 5,
    "start_time": "2024-06-29T16:05:42.305Z"
   },
   {
    "duration": 17,
    "start_time": "2024-06-29T16:05:42.311Z"
   },
   {
    "duration": 8,
    "start_time": "2024-06-29T16:05:42.329Z"
   },
   {
    "duration": 10,
    "start_time": "2024-06-29T16:05:42.338Z"
   },
   {
    "duration": 98,
    "start_time": "2024-06-29T16:05:42.349Z"
   },
   {
    "duration": 4,
    "start_time": "2024-06-29T16:05:42.448Z"
   },
   {
    "duration": 6,
    "start_time": "2024-06-29T16:05:42.453Z"
   },
   {
    "duration": 43,
    "start_time": "2024-06-29T16:05:42.460Z"
   },
   {
    "duration": 37,
    "start_time": "2024-06-29T16:05:42.504Z"
   },
   {
    "duration": 241,
    "start_time": "2024-06-29T16:05:42.542Z"
   },
   {
    "duration": 269,
    "start_time": "2024-06-29T16:05:42.784Z"
   },
   {
    "duration": 2,
    "start_time": "2024-06-29T16:05:43.055Z"
   },
   {
    "duration": 23,
    "start_time": "2024-06-29T16:05:43.058Z"
   },
   {
    "duration": 3,
    "start_time": "2024-06-29T16:05:43.082Z"
   },
   {
    "duration": 11,
    "start_time": "2024-06-29T16:05:43.086Z"
   },
   {
    "duration": 3,
    "start_time": "2024-06-29T16:05:43.098Z"
   },
   {
    "duration": 5,
    "start_time": "2024-06-29T16:05:43.102Z"
   },
   {
    "duration": 16,
    "start_time": "2024-06-29T16:05:43.108Z"
   },
   {
    "duration": 3,
    "start_time": "2024-06-29T16:05:43.126Z"
   },
   {
    "duration": 10,
    "start_time": "2024-06-29T16:05:43.130Z"
   },
   {
    "duration": 49,
    "start_time": "2024-06-29T16:05:43.142Z"
   },
   {
    "duration": 18,
    "start_time": "2024-06-29T16:05:43.193Z"
   },
   {
    "duration": 2,
    "start_time": "2024-06-29T16:05:43.212Z"
   },
   {
    "duration": 15,
    "start_time": "2024-06-29T16:05:43.215Z"
   },
   {
    "duration": 15,
    "start_time": "2024-06-29T16:05:43.232Z"
   },
   {
    "duration": 5,
    "start_time": "2024-06-29T16:05:43.248Z"
   },
   {
    "duration": 42,
    "start_time": "2024-06-29T16:05:43.254Z"
   },
   {
    "duration": 4,
    "start_time": "2024-06-29T16:14:21.949Z"
   },
   {
    "duration": 111,
    "start_time": "2024-06-29T16:14:27.905Z"
   },
   {
    "duration": 3,
    "start_time": "2024-06-29T16:14:40.099Z"
   },
   {
    "duration": 25,
    "start_time": "2024-06-29T16:14:40.948Z"
   },
   {
    "duration": 5,
    "start_time": "2024-06-29T16:16:46.703Z"
   },
   {
    "duration": 22,
    "start_time": "2024-06-29T16:16:49.083Z"
   },
   {
    "duration": 5,
    "start_time": "2024-06-29T16:17:22.181Z"
   },
   {
    "duration": 23,
    "start_time": "2024-06-29T16:17:31.005Z"
   },
   {
    "duration": 983,
    "start_time": "2024-06-29T16:17:48.063Z"
   },
   {
    "duration": 73,
    "start_time": "2024-06-29T16:17:49.048Z"
   },
   {
    "duration": 4,
    "start_time": "2024-06-29T16:17:49.123Z"
   },
   {
    "duration": 24,
    "start_time": "2024-06-29T16:17:49.129Z"
   },
   {
    "duration": 27,
    "start_time": "2024-06-29T16:17:49.155Z"
   },
   {
    "duration": 20,
    "start_time": "2024-06-29T16:17:49.183Z"
   },
   {
    "duration": 2,
    "start_time": "2024-06-29T16:17:49.205Z"
   },
   {
    "duration": 9,
    "start_time": "2024-06-29T16:17:49.209Z"
   },
   {
    "duration": 9,
    "start_time": "2024-06-29T16:17:49.219Z"
   },
   {
    "duration": 2,
    "start_time": "2024-06-29T16:17:49.231Z"
   },
   {
    "duration": 24,
    "start_time": "2024-06-29T16:17:49.234Z"
   },
   {
    "duration": 181,
    "start_time": "2024-06-29T16:17:49.259Z"
   },
   {
    "duration": 171,
    "start_time": "2024-06-29T16:17:49.441Z"
   },
   {
    "duration": 6,
    "start_time": "2024-06-29T16:17:49.614Z"
   },
   {
    "duration": 7,
    "start_time": "2024-06-29T16:17:49.622Z"
   },
   {
    "duration": 8,
    "start_time": "2024-06-29T16:17:49.630Z"
   },
   {
    "duration": 134,
    "start_time": "2024-06-29T16:17:49.639Z"
   },
   {
    "duration": 5,
    "start_time": "2024-06-29T16:17:49.774Z"
   },
   {
    "duration": 5,
    "start_time": "2024-06-29T16:17:49.780Z"
   },
   {
    "duration": 7,
    "start_time": "2024-06-29T16:17:49.787Z"
   },
   {
    "duration": 10,
    "start_time": "2024-06-29T16:17:49.795Z"
   },
   {
    "duration": 43,
    "start_time": "2024-06-29T16:17:49.806Z"
   },
   {
    "duration": 22,
    "start_time": "2024-06-29T16:17:49.850Z"
   },
   {
    "duration": 122,
    "start_time": "2024-06-29T16:17:49.873Z"
   },
   {
    "duration": 6,
    "start_time": "2024-06-29T16:17:49.996Z"
   },
   {
    "duration": 148,
    "start_time": "2024-06-29T16:17:50.004Z"
   },
   {
    "duration": 4,
    "start_time": "2024-06-29T16:17:50.153Z"
   },
   {
    "duration": 14,
    "start_time": "2024-06-29T16:17:50.159Z"
   },
   {
    "duration": 160,
    "start_time": "2024-06-29T16:17:50.174Z"
   },
   {
    "duration": 3,
    "start_time": "2024-06-29T16:17:50.335Z"
   },
   {
    "duration": 6,
    "start_time": "2024-06-29T16:17:50.340Z"
   },
   {
    "duration": 5,
    "start_time": "2024-06-29T16:17:50.347Z"
   },
   {
    "duration": 21,
    "start_time": "2024-06-29T16:17:50.354Z"
   },
   {
    "duration": 8,
    "start_time": "2024-06-29T16:17:50.376Z"
   },
   {
    "duration": 10,
    "start_time": "2024-06-29T16:17:50.386Z"
   },
   {
    "duration": 104,
    "start_time": "2024-06-29T16:17:50.397Z"
   },
   {
    "duration": 4,
    "start_time": "2024-06-29T16:17:50.502Z"
   },
   {
    "duration": 8,
    "start_time": "2024-06-29T16:17:50.507Z"
   },
   {
    "duration": 55,
    "start_time": "2024-06-29T16:17:50.516Z"
   },
   {
    "duration": 39,
    "start_time": "2024-06-29T16:17:50.573Z"
   },
   {
    "duration": 260,
    "start_time": "2024-06-29T16:17:50.613Z"
   },
   {
    "duration": 286,
    "start_time": "2024-06-29T16:17:50.875Z"
   },
   {
    "duration": 2,
    "start_time": "2024-06-29T16:17:51.163Z"
   },
   {
    "duration": 23,
    "start_time": "2024-06-29T16:17:51.170Z"
   },
   {
    "duration": 6,
    "start_time": "2024-06-29T16:17:51.195Z"
   },
   {
    "duration": 39,
    "start_time": "2024-06-29T16:17:51.202Z"
   },
   {
    "duration": 28,
    "start_time": "2024-06-29T16:18:10.791Z"
   },
   {
    "duration": 961,
    "start_time": "2024-06-29T16:24:06.212Z"
   },
   {
    "duration": 66,
    "start_time": "2024-06-29T16:24:07.175Z"
   },
   {
    "duration": 5,
    "start_time": "2024-06-29T16:24:07.243Z"
   },
   {
    "duration": 36,
    "start_time": "2024-06-29T16:24:07.251Z"
   },
   {
    "duration": 24,
    "start_time": "2024-06-29T16:24:07.289Z"
   },
   {
    "duration": 25,
    "start_time": "2024-06-29T16:24:07.314Z"
   },
   {
    "duration": 3,
    "start_time": "2024-06-29T16:24:07.340Z"
   },
   {
    "duration": 29,
    "start_time": "2024-06-29T16:24:07.344Z"
   },
   {
    "duration": 3,
    "start_time": "2024-06-29T16:24:07.374Z"
   },
   {
    "duration": 9,
    "start_time": "2024-06-29T16:24:07.380Z"
   },
   {
    "duration": 12,
    "start_time": "2024-06-29T16:24:07.391Z"
   },
   {
    "duration": 186,
    "start_time": "2024-06-29T16:24:07.405Z"
   },
   {
    "duration": 193,
    "start_time": "2024-06-29T16:24:07.592Z"
   },
   {
    "duration": 6,
    "start_time": "2024-06-29T16:24:07.786Z"
   },
   {
    "duration": 11,
    "start_time": "2024-06-29T16:24:07.794Z"
   },
   {
    "duration": 16,
    "start_time": "2024-06-29T16:24:07.807Z"
   },
   {
    "duration": 129,
    "start_time": "2024-06-29T16:24:07.825Z"
   },
   {
    "duration": 6,
    "start_time": "2024-06-29T16:24:07.955Z"
   },
   {
    "duration": 28,
    "start_time": "2024-06-29T16:24:07.962Z"
   },
   {
    "duration": 19,
    "start_time": "2024-06-29T16:24:07.992Z"
   },
   {
    "duration": 6,
    "start_time": "2024-06-29T16:24:08.013Z"
   },
   {
    "duration": 55,
    "start_time": "2024-06-29T16:24:08.021Z"
   },
   {
    "duration": 6,
    "start_time": "2024-06-29T16:24:08.077Z"
   },
   {
    "duration": 126,
    "start_time": "2024-06-29T16:24:08.084Z"
   },
   {
    "duration": 6,
    "start_time": "2024-06-29T16:24:08.211Z"
   },
   {
    "duration": 143,
    "start_time": "2024-06-29T16:24:08.218Z"
   },
   {
    "duration": 3,
    "start_time": "2024-06-29T16:24:08.363Z"
   },
   {
    "duration": 7,
    "start_time": "2024-06-29T16:24:08.373Z"
   },
   {
    "duration": 160,
    "start_time": "2024-06-29T16:24:08.381Z"
   },
   {
    "duration": 3,
    "start_time": "2024-06-29T16:24:08.543Z"
   },
   {
    "duration": 4,
    "start_time": "2024-06-29T16:24:08.547Z"
   },
   {
    "duration": 3,
    "start_time": "2024-06-29T16:24:08.552Z"
   },
   {
    "duration": 9,
    "start_time": "2024-06-29T16:24:08.571Z"
   },
   {
    "duration": 8,
    "start_time": "2024-06-29T16:24:08.581Z"
   },
   {
    "duration": 18,
    "start_time": "2024-06-29T16:24:08.590Z"
   },
   {
    "duration": 106,
    "start_time": "2024-06-29T16:24:08.609Z"
   },
   {
    "duration": 4,
    "start_time": "2024-06-29T16:24:08.717Z"
   },
   {
    "duration": 69,
    "start_time": "2024-06-29T16:24:08.723Z"
   },
   {
    "duration": 37,
    "start_time": "2024-06-29T16:24:08.793Z"
   },
   {
    "duration": 39,
    "start_time": "2024-06-29T16:24:08.832Z"
   },
   {
    "duration": 232,
    "start_time": "2024-06-29T16:24:08.872Z"
   },
   {
    "duration": 282,
    "start_time": "2024-06-29T16:24:09.106Z"
   },
   {
    "duration": 2,
    "start_time": "2024-06-29T16:24:09.389Z"
   },
   {
    "duration": 15,
    "start_time": "2024-06-29T16:24:09.393Z"
   },
   {
    "duration": 6,
    "start_time": "2024-06-29T16:24:09.410Z"
   },
   {
    "duration": 28,
    "start_time": "2024-06-29T16:24:09.417Z"
   },
   {
    "duration": 26,
    "start_time": "2024-06-29T16:24:09.446Z"
   },
   {
    "duration": 1007,
    "start_time": "2024-06-29T16:24:56.278Z"
   },
   {
    "duration": 5,
    "start_time": "2024-06-29T16:25:43.051Z"
   },
   {
    "duration": 8,
    "start_time": "2024-06-29T16:27:02.883Z"
   },
   {
    "duration": 7,
    "start_time": "2024-06-29T16:27:33.685Z"
   },
   {
    "duration": 664,
    "start_time": "2024-06-29T16:28:18.160Z"
   },
   {
    "duration": 19,
    "start_time": "2024-06-29T16:31:08.881Z"
   },
   {
    "duration": 7,
    "start_time": "2024-06-29T16:31:30.431Z"
   },
   {
    "duration": 8,
    "start_time": "2024-06-29T16:33:20.448Z"
   },
   {
    "duration": 30,
    "start_time": "2024-06-29T16:33:26.382Z"
   },
   {
    "duration": 6,
    "start_time": "2024-06-29T16:35:22.508Z"
   },
   {
    "duration": 6,
    "start_time": "2024-06-29T16:35:42.014Z"
   },
   {
    "duration": 6,
    "start_time": "2024-06-29T16:35:42.577Z"
   },
   {
    "duration": 32,
    "start_time": "2024-06-29T16:35:43.247Z"
   },
   {
    "duration": 8,
    "start_time": "2024-06-29T16:35:54.320Z"
   },
   {
    "duration": 1083,
    "start_time": "2024-06-29T16:42:53.790Z"
   },
   {
    "duration": 64,
    "start_time": "2024-06-29T16:42:54.875Z"
   },
   {
    "duration": 4,
    "start_time": "2024-06-29T16:42:54.940Z"
   },
   {
    "duration": 26,
    "start_time": "2024-06-29T16:42:54.945Z"
   },
   {
    "duration": 25,
    "start_time": "2024-06-29T16:42:54.972Z"
   },
   {
    "duration": 19,
    "start_time": "2024-06-29T16:42:54.998Z"
   },
   {
    "duration": 3,
    "start_time": "2024-06-29T16:42:55.018Z"
   },
   {
    "duration": 9,
    "start_time": "2024-06-29T16:42:55.022Z"
   },
   {
    "duration": 4,
    "start_time": "2024-06-29T16:42:55.032Z"
   },
   {
    "duration": 2,
    "start_time": "2024-06-29T16:42:55.037Z"
   },
   {
    "duration": 9,
    "start_time": "2024-06-29T16:42:55.040Z"
   },
   {
    "duration": 184,
    "start_time": "2024-06-29T16:42:55.051Z"
   },
   {
    "duration": 161,
    "start_time": "2024-06-29T16:42:55.236Z"
   },
   {
    "duration": 6,
    "start_time": "2024-06-29T16:42:55.399Z"
   },
   {
    "duration": 10,
    "start_time": "2024-06-29T16:42:55.406Z"
   },
   {
    "duration": 5,
    "start_time": "2024-06-29T16:42:55.418Z"
   },
   {
    "duration": 133,
    "start_time": "2024-06-29T16:42:55.425Z"
   },
   {
    "duration": 11,
    "start_time": "2024-06-29T16:42:55.560Z"
   },
   {
    "duration": 4,
    "start_time": "2024-06-29T16:42:55.572Z"
   },
   {
    "duration": 2,
    "start_time": "2024-06-29T16:42:55.578Z"
   },
   {
    "duration": 14,
    "start_time": "2024-06-29T16:42:55.581Z"
   },
   {
    "duration": 47,
    "start_time": "2024-06-29T16:42:55.597Z"
   },
   {
    "duration": 6,
    "start_time": "2024-06-29T16:42:55.645Z"
   },
   {
    "duration": 126,
    "start_time": "2024-06-29T16:42:55.652Z"
   },
   {
    "duration": 6,
    "start_time": "2024-06-29T16:42:55.779Z"
   },
   {
    "duration": 154,
    "start_time": "2024-06-29T16:42:55.786Z"
   },
   {
    "duration": 3,
    "start_time": "2024-06-29T16:42:55.942Z"
   },
   {
    "duration": 42,
    "start_time": "2024-06-29T16:42:55.946Z"
   },
   {
    "duration": 158,
    "start_time": "2024-06-29T16:42:55.989Z"
   },
   {
    "duration": 4,
    "start_time": "2024-06-29T16:42:56.148Z"
   },
   {
    "duration": 4,
    "start_time": "2024-06-29T16:42:56.154Z"
   },
   {
    "duration": 14,
    "start_time": "2024-06-29T16:42:56.159Z"
   },
   {
    "duration": 18,
    "start_time": "2024-06-29T16:42:56.175Z"
   },
   {
    "duration": 20,
    "start_time": "2024-06-29T16:42:56.195Z"
   },
   {
    "duration": 11,
    "start_time": "2024-06-29T16:42:56.216Z"
   },
   {
    "duration": 94,
    "start_time": "2024-06-29T16:42:56.228Z"
   },
   {
    "duration": 4,
    "start_time": "2024-06-29T16:42:56.324Z"
   },
   {
    "duration": 21,
    "start_time": "2024-06-29T16:42:56.329Z"
   },
   {
    "duration": 41,
    "start_time": "2024-06-29T16:42:56.351Z"
   },
   {
    "duration": 38,
    "start_time": "2024-06-29T16:42:56.393Z"
   },
   {
    "duration": 226,
    "start_time": "2024-06-29T16:42:56.434Z"
   },
   {
    "duration": 275,
    "start_time": "2024-06-29T16:42:56.661Z"
   },
   {
    "duration": 2,
    "start_time": "2024-06-29T16:42:56.937Z"
   },
   {
    "duration": 47,
    "start_time": "2024-06-29T16:42:56.940Z"
   },
   {
    "duration": 20,
    "start_time": "2024-06-29T16:42:56.988Z"
   },
   {
    "duration": 34,
    "start_time": "2024-06-29T16:42:57.009Z"
   },
   {
    "duration": 8,
    "start_time": "2024-06-29T16:42:57.044Z"
   },
   {
    "duration": 36,
    "start_time": "2024-06-29T16:42:57.053Z"
   },
   {
    "duration": 12,
    "start_time": "2024-06-29T16:42:57.090Z"
   },
   {
    "duration": 11,
    "start_time": "2024-06-29T16:42:57.103Z"
   },
   {
    "duration": 18,
    "start_time": "2024-06-29T16:42:57.115Z"
   },
   {
    "duration": 24,
    "start_time": "2024-06-29T16:42:57.135Z"
   },
   {
    "duration": 38,
    "start_time": "2024-06-29T16:42:57.160Z"
   },
   {
    "duration": 71,
    "start_time": "2024-06-29T16:42:57.199Z"
   },
   {
    "duration": 144,
    "start_time": "2024-06-29T16:42:57.272Z"
   },
   {
    "duration": 213,
    "start_time": "2024-06-29T16:43:16.472Z"
   },
   {
    "duration": 142,
    "start_time": "2024-06-29T16:44:15.442Z"
   },
   {
    "duration": 1419,
    "start_time": "2024-06-29T17:04:46.694Z"
   },
   {
    "duration": 326,
    "start_time": "2024-06-29T17:04:48.115Z"
   },
   {
    "duration": 5,
    "start_time": "2024-06-29T17:04:48.442Z"
   },
   {
    "duration": 53,
    "start_time": "2024-06-29T17:04:48.448Z"
   },
   {
    "duration": 28,
    "start_time": "2024-06-29T17:04:48.503Z"
   },
   {
    "duration": 25,
    "start_time": "2024-06-29T17:04:48.533Z"
   },
   {
    "duration": 4,
    "start_time": "2024-06-29T17:04:48.560Z"
   },
   {
    "duration": 19,
    "start_time": "2024-06-29T17:04:48.566Z"
   },
   {
    "duration": 5,
    "start_time": "2024-06-29T17:04:48.587Z"
   },
   {
    "duration": 7,
    "start_time": "2024-06-29T17:04:48.593Z"
   },
   {
    "duration": 8,
    "start_time": "2024-06-29T17:04:48.601Z"
   },
   {
    "duration": 280,
    "start_time": "2024-06-29T17:04:48.611Z"
   },
   {
    "duration": 212,
    "start_time": "2024-06-29T17:04:48.892Z"
   },
   {
    "duration": 6,
    "start_time": "2024-06-29T17:04:49.107Z"
   },
   {
    "duration": 17,
    "start_time": "2024-06-29T17:04:49.115Z"
   },
   {
    "duration": 9,
    "start_time": "2024-06-29T17:04:49.134Z"
   },
   {
    "duration": 169,
    "start_time": "2024-06-29T17:04:49.155Z"
   },
   {
    "duration": 7,
    "start_time": "2024-06-29T17:04:49.325Z"
   },
   {
    "duration": 5,
    "start_time": "2024-06-29T17:04:49.333Z"
   },
   {
    "duration": 17,
    "start_time": "2024-06-29T17:04:49.339Z"
   },
   {
    "duration": 7,
    "start_time": "2024-06-29T17:04:49.358Z"
   },
   {
    "duration": 60,
    "start_time": "2024-06-29T17:04:49.367Z"
   },
   {
    "duration": 33,
    "start_time": "2024-06-29T17:04:49.428Z"
   },
   {
    "duration": 167,
    "start_time": "2024-06-29T17:04:49.464Z"
   },
   {
    "duration": 8,
    "start_time": "2024-06-29T17:04:49.632Z"
   },
   {
    "duration": 254,
    "start_time": "2024-06-29T17:04:49.642Z"
   },
   {
    "duration": 5,
    "start_time": "2024-06-29T17:04:49.897Z"
   },
   {
    "duration": 24,
    "start_time": "2024-06-29T17:04:49.903Z"
   },
   {
    "duration": 212,
    "start_time": "2024-06-29T17:04:49.928Z"
   },
   {
    "duration": 5,
    "start_time": "2024-06-29T17:04:50.141Z"
   },
   {
    "duration": 7,
    "start_time": "2024-06-29T17:04:50.160Z"
   },
   {
    "duration": 7,
    "start_time": "2024-06-29T17:04:50.170Z"
   },
   {
    "duration": 11,
    "start_time": "2024-06-29T17:04:50.179Z"
   },
   {
    "duration": 17,
    "start_time": "2024-06-29T17:04:50.192Z"
   },
   {
    "duration": 18,
    "start_time": "2024-06-29T17:04:50.215Z"
   },
   {
    "duration": 157,
    "start_time": "2024-06-29T17:04:50.256Z"
   },
   {
    "duration": 5,
    "start_time": "2024-06-29T17:04:50.415Z"
   },
   {
    "duration": 68,
    "start_time": "2024-06-29T17:04:50.421Z"
   },
   {
    "duration": 48,
    "start_time": "2024-06-29T17:04:50.490Z"
   },
   {
    "duration": 58,
    "start_time": "2024-06-29T17:04:50.539Z"
   },
   {
    "duration": 306,
    "start_time": "2024-06-29T17:04:50.601Z"
   },
   {
    "duration": 365,
    "start_time": "2024-06-29T17:04:50.908Z"
   },
   {
    "duration": 3,
    "start_time": "2024-06-29T17:04:51.275Z"
   },
   {
    "duration": 20,
    "start_time": "2024-06-29T17:04:51.280Z"
   },
   {
    "duration": 23,
    "start_time": "2024-06-29T17:04:51.301Z"
   },
   {
    "duration": 33,
    "start_time": "2024-06-29T17:04:51.325Z"
   },
   {
    "duration": 24,
    "start_time": "2024-06-29T17:04:51.360Z"
   },
   {
    "duration": 57,
    "start_time": "2024-06-29T17:04:51.386Z"
   },
   {
    "duration": 31,
    "start_time": "2024-06-29T17:04:51.444Z"
   },
   {
    "duration": 17,
    "start_time": "2024-06-29T17:04:51.479Z"
   },
   {
    "duration": 72,
    "start_time": "2024-06-29T17:04:51.497Z"
   },
   {
    "duration": 38,
    "start_time": "2024-06-29T17:04:51.571Z"
   },
   {
    "duration": 13,
    "start_time": "2024-06-29T17:04:51.611Z"
   },
   {
    "duration": 91,
    "start_time": "2024-06-29T17:04:51.625Z"
   },
   {
    "duration": 202,
    "start_time": "2024-06-29T17:04:51.718Z"
   },
   {
    "duration": 1117,
    "start_time": "2024-06-29T17:07:45.508Z"
   },
   {
    "duration": 79,
    "start_time": "2024-06-29T17:07:46.627Z"
   },
   {
    "duration": 4,
    "start_time": "2024-06-29T17:07:46.707Z"
   },
   {
    "duration": 103,
    "start_time": "2024-06-29T17:07:46.713Z"
   },
   {
    "duration": 29,
    "start_time": "2024-06-29T17:07:46.818Z"
   },
   {
    "duration": 28,
    "start_time": "2024-06-29T17:07:46.849Z"
   },
   {
    "duration": 3,
    "start_time": "2024-06-29T17:07:46.879Z"
   },
   {
    "duration": 12,
    "start_time": "2024-06-29T17:07:46.883Z"
   },
   {
    "duration": 11,
    "start_time": "2024-06-29T17:07:46.897Z"
   },
   {
    "duration": 6,
    "start_time": "2024-06-29T17:07:46.909Z"
   },
   {
    "duration": 11,
    "start_time": "2024-06-29T17:07:46.917Z"
   },
   {
    "duration": 26,
    "start_time": "2024-06-29T17:07:46.929Z"
   },
   {
    "duration": 13,
    "start_time": "2024-06-29T17:07:46.957Z"
   },
   {
    "duration": 215,
    "start_time": "2024-06-29T17:07:46.974Z"
   },
   {
    "duration": 220,
    "start_time": "2024-06-29T17:07:47.191Z"
   },
   {
    "duration": 7,
    "start_time": "2024-06-29T17:07:47.412Z"
   },
   {
    "duration": 10,
    "start_time": "2024-06-29T17:07:47.420Z"
   },
   {
    "duration": 36,
    "start_time": "2024-06-29T17:07:47.431Z"
   },
   {
    "duration": 161,
    "start_time": "2024-06-29T17:07:47.469Z"
   },
   {
    "duration": 6,
    "start_time": "2024-06-29T17:07:47.632Z"
   },
   {
    "duration": 18,
    "start_time": "2024-06-29T17:07:47.640Z"
   },
   {
    "duration": 7,
    "start_time": "2024-06-29T17:07:47.660Z"
   },
   {
    "duration": 4,
    "start_time": "2024-06-29T17:07:47.670Z"
   },
   {
    "duration": 62,
    "start_time": "2024-06-29T17:07:47.676Z"
   },
   {
    "duration": 9,
    "start_time": "2024-06-29T17:07:47.755Z"
   },
   {
    "duration": 170,
    "start_time": "2024-06-29T17:07:47.767Z"
   },
   {
    "duration": 17,
    "start_time": "2024-06-29T17:07:47.939Z"
   },
   {
    "duration": 180,
    "start_time": "2024-06-29T17:07:47.957Z"
   },
   {
    "duration": 4,
    "start_time": "2024-06-29T17:07:48.139Z"
   },
   {
    "duration": 13,
    "start_time": "2024-06-29T17:07:48.144Z"
   },
   {
    "duration": 209,
    "start_time": "2024-06-29T17:07:48.159Z"
   },
   {
    "duration": 5,
    "start_time": "2024-06-29T17:07:48.370Z"
   },
   {
    "duration": 8,
    "start_time": "2024-06-29T17:07:48.377Z"
   },
   {
    "duration": 5,
    "start_time": "2024-06-29T17:07:48.386Z"
   },
   {
    "duration": 11,
    "start_time": "2024-06-29T17:07:48.392Z"
   },
   {
    "duration": 9,
    "start_time": "2024-06-29T17:07:48.404Z"
   },
   {
    "duration": 13,
    "start_time": "2024-06-29T17:07:48.414Z"
   },
   {
    "duration": 179,
    "start_time": "2024-06-29T17:07:48.428Z"
   },
   {
    "duration": 6,
    "start_time": "2024-06-29T17:07:48.609Z"
   },
   {
    "duration": 6,
    "start_time": "2024-06-29T17:07:48.617Z"
   },
   {
    "duration": 76,
    "start_time": "2024-06-29T17:07:48.627Z"
   },
   {
    "duration": 60,
    "start_time": "2024-06-29T17:07:48.705Z"
   },
   {
    "duration": 307,
    "start_time": "2024-06-29T17:07:48.768Z"
   },
   {
    "duration": 361,
    "start_time": "2024-06-29T17:07:49.077Z"
   },
   {
    "duration": 3,
    "start_time": "2024-06-29T17:07:49.439Z"
   },
   {
    "duration": 27,
    "start_time": "2024-06-29T17:07:49.444Z"
   },
   {
    "duration": 10,
    "start_time": "2024-06-29T17:07:49.473Z"
   },
   {
    "duration": 8,
    "start_time": "2024-06-29T17:07:49.484Z"
   },
   {
    "duration": 10,
    "start_time": "2024-06-29T17:07:49.493Z"
   },
   {
    "duration": 120,
    "start_time": "2024-06-29T17:07:49.504Z"
   },
   {
    "duration": 10,
    "start_time": "2024-06-29T17:07:49.625Z"
   },
   {
    "duration": 15,
    "start_time": "2024-06-29T17:07:49.636Z"
   },
   {
    "duration": 10,
    "start_time": "2024-06-29T17:07:49.653Z"
   },
   {
    "duration": 10,
    "start_time": "2024-06-29T17:07:49.665Z"
   },
   {
    "duration": 18,
    "start_time": "2024-06-29T17:07:49.677Z"
   },
   {
    "duration": 69,
    "start_time": "2024-06-29T17:07:49.696Z"
   },
   {
    "duration": 183,
    "start_time": "2024-06-29T17:07:49.767Z"
   },
   {
    "duration": 5,
    "start_time": "2024-06-29T17:09:07.562Z"
   },
   {
    "duration": 16,
    "start_time": "2024-06-29T17:09:16.311Z"
   },
   {
    "duration": 50,
    "start_time": "2024-06-30T07:50:35.423Z"
   },
   {
    "duration": 1385,
    "start_time": "2024-06-30T07:50:44.045Z"
   },
   {
    "duration": 204,
    "start_time": "2024-06-30T07:50:45.432Z"
   },
   {
    "duration": 5,
    "start_time": "2024-06-30T07:50:45.638Z"
   },
   {
    "duration": 35,
    "start_time": "2024-06-30T07:50:45.645Z"
   },
   {
    "duration": 30,
    "start_time": "2024-06-30T07:50:45.682Z"
   },
   {
    "duration": 24,
    "start_time": "2024-06-30T07:50:45.714Z"
   },
   {
    "duration": 34,
    "start_time": "2024-06-30T07:50:45.739Z"
   },
   {
    "duration": 22,
    "start_time": "2024-06-30T07:50:45.774Z"
   },
   {
    "duration": 19,
    "start_time": "2024-06-30T07:50:45.798Z"
   },
   {
    "duration": 6,
    "start_time": "2024-06-30T07:50:45.820Z"
   },
   {
    "duration": 246,
    "start_time": "2024-06-30T07:50:45.827Z"
   },
   {
    "duration": 218,
    "start_time": "2024-06-30T07:50:46.075Z"
   },
   {
    "duration": 9,
    "start_time": "2024-06-30T07:50:46.294Z"
   },
   {
    "duration": 18,
    "start_time": "2024-06-30T07:50:46.304Z"
   },
   {
    "duration": 33,
    "start_time": "2024-06-30T07:50:46.324Z"
   },
   {
    "duration": 163,
    "start_time": "2024-06-30T07:50:46.358Z"
   },
   {
    "duration": 6,
    "start_time": "2024-06-30T07:50:46.523Z"
   },
   {
    "duration": 35,
    "start_time": "2024-06-30T07:50:46.531Z"
   },
   {
    "duration": 17,
    "start_time": "2024-06-30T07:50:46.567Z"
   },
   {
    "duration": 13,
    "start_time": "2024-06-30T07:50:46.586Z"
   },
   {
    "duration": 283,
    "start_time": "2024-06-30T07:50:46.601Z"
   },
   {
    "duration": 154,
    "start_time": "2024-06-30T07:51:12.644Z"
   },
   {
    "duration": 4,
    "start_time": "2024-06-30T07:51:47.577Z"
   },
   {
    "duration": 216,
    "start_time": "2024-06-30T07:51:50.639Z"
   },
   {
    "duration": 89,
    "start_time": "2024-06-30T07:52:18.719Z"
   },
   {
    "duration": 71,
    "start_time": "2024-06-30T07:52:25.518Z"
   },
   {
    "duration": 4,
    "start_time": "2024-06-30T07:54:08.158Z"
   },
   {
    "duration": 5,
    "start_time": "2024-06-30T07:54:08.746Z"
   },
   {
    "duration": 71,
    "start_time": "2024-06-30T07:54:35.490Z"
   },
   {
    "duration": 74,
    "start_time": "2024-06-30T07:54:46.264Z"
   },
   {
    "duration": 4,
    "start_time": "2024-06-30T07:55:57.129Z"
   },
   {
    "duration": 70,
    "start_time": "2024-06-30T07:55:58.027Z"
   },
   {
    "duration": 69,
    "start_time": "2024-06-30T07:56:14.091Z"
   },
   {
    "duration": 68,
    "start_time": "2024-06-30T07:56:23.311Z"
   },
   {
    "duration": 71,
    "start_time": "2024-06-30T07:56:27.594Z"
   },
   {
    "duration": 1042,
    "start_time": "2024-06-30T08:14:30.940Z"
   },
   {
    "duration": 307,
    "start_time": "2024-06-30T08:14:31.983Z"
   },
   {
    "duration": 3,
    "start_time": "2024-06-30T08:14:32.291Z"
   },
   {
    "duration": 35,
    "start_time": "2024-06-30T08:14:32.296Z"
   },
   {
    "duration": 21,
    "start_time": "2024-06-30T08:14:32.333Z"
   },
   {
    "duration": 17,
    "start_time": "2024-06-30T08:14:32.355Z"
   },
   {
    "duration": 35,
    "start_time": "2024-06-30T08:14:32.373Z"
   },
   {
    "duration": 10,
    "start_time": "2024-06-30T08:14:32.410Z"
   },
   {
    "duration": 3,
    "start_time": "2024-06-30T08:14:32.422Z"
   },
   {
    "duration": 2,
    "start_time": "2024-06-30T08:14:32.426Z"
   },
   {
    "duration": 171,
    "start_time": "2024-06-30T08:14:32.430Z"
   },
   {
    "duration": 149,
    "start_time": "2024-06-30T08:14:32.602Z"
   },
   {
    "duration": 6,
    "start_time": "2024-06-30T08:14:32.752Z"
   },
   {
    "duration": 33,
    "start_time": "2024-06-30T08:14:32.760Z"
   },
   {
    "duration": 31,
    "start_time": "2024-06-30T08:14:32.794Z"
   },
   {
    "duration": 119,
    "start_time": "2024-06-30T08:14:32.826Z"
   },
   {
    "duration": 6,
    "start_time": "2024-06-30T08:14:32.947Z"
   },
   {
    "duration": 3,
    "start_time": "2024-06-30T08:14:32.955Z"
   },
   {
    "duration": 14,
    "start_time": "2024-06-30T08:14:32.960Z"
   },
   {
    "duration": 5,
    "start_time": "2024-06-30T08:14:32.975Z"
   },
   {
    "duration": 64,
    "start_time": "2024-06-30T08:14:32.981Z"
   },
   {
    "duration": 5,
    "start_time": "2024-06-30T08:14:33.047Z"
   },
   {
    "duration": 108,
    "start_time": "2024-06-30T08:14:33.053Z"
   },
   {
    "duration": 5,
    "start_time": "2024-06-30T08:14:33.162Z"
   },
   {
    "duration": 143,
    "start_time": "2024-06-30T08:14:33.168Z"
   },
   {
    "duration": 4,
    "start_time": "2024-06-30T08:14:33.312Z"
   },
   {
    "duration": 9,
    "start_time": "2024-06-30T08:14:33.317Z"
   },
   {
    "duration": 147,
    "start_time": "2024-06-30T08:14:33.327Z"
   },
   {
    "duration": 14,
    "start_time": "2024-06-30T08:14:33.476Z"
   },
   {
    "duration": 34,
    "start_time": "2024-06-30T08:14:33.491Z"
   },
   {
    "duration": 24,
    "start_time": "2024-06-30T08:14:33.526Z"
   },
   {
    "duration": 19,
    "start_time": "2024-06-30T08:14:33.551Z"
   },
   {
    "duration": 8,
    "start_time": "2024-06-30T08:14:33.571Z"
   },
   {
    "duration": 9,
    "start_time": "2024-06-30T08:14:33.580Z"
   },
   {
    "duration": 98,
    "start_time": "2024-06-30T08:14:33.590Z"
   },
   {
    "duration": 4,
    "start_time": "2024-06-30T08:14:33.689Z"
   },
   {
    "duration": 13,
    "start_time": "2024-06-30T08:14:33.694Z"
   },
   {
    "duration": 48,
    "start_time": "2024-06-30T08:14:33.708Z"
   },
   {
    "duration": 33,
    "start_time": "2024-06-30T08:14:33.757Z"
   },
   {
    "duration": 204,
    "start_time": "2024-06-30T08:14:33.792Z"
   },
   {
    "duration": 249,
    "start_time": "2024-06-30T08:14:33.999Z"
   },
   {
    "duration": 2,
    "start_time": "2024-06-30T08:14:34.249Z"
   },
   {
    "duration": 19,
    "start_time": "2024-06-30T08:14:34.252Z"
   },
   {
    "duration": 5,
    "start_time": "2024-06-30T08:14:34.273Z"
   },
   {
    "duration": 24,
    "start_time": "2024-06-30T08:14:34.279Z"
   },
   {
    "duration": 45,
    "start_time": "2024-06-30T08:14:34.304Z"
   },
   {
    "duration": 52,
    "start_time": "2024-06-30T08:14:34.350Z"
   },
   {
    "duration": 7,
    "start_time": "2024-06-30T08:14:34.403Z"
   },
   {
    "duration": 7,
    "start_time": "2024-06-30T08:14:34.411Z"
   },
   {
    "duration": 7,
    "start_time": "2024-06-30T08:14:34.419Z"
   },
   {
    "duration": 6,
    "start_time": "2024-06-30T08:14:34.427Z"
   },
   {
    "duration": 6,
    "start_time": "2024-06-30T08:14:34.434Z"
   },
   {
    "duration": 52,
    "start_time": "2024-06-30T08:14:34.441Z"
   },
   {
    "duration": 134,
    "start_time": "2024-06-30T08:14:34.494Z"
   }
  ],
  "kernelspec": {
   "display_name": "Python 3 (ipykernel)",
   "language": "python",
   "name": "python3"
  },
  "language_info": {
   "codemirror_mode": {
    "name": "ipython",
    "version": 3
   },
   "file_extension": ".py",
   "mimetype": "text/x-python",
   "name": "python",
   "nbconvert_exporter": "python",
   "pygments_lexer": "ipython3",
   "version": "3.13.1"
  },
  "toc": {
   "base_numbering": 1,
   "nav_menu": {
    "height": "292.997px",
    "width": "621.996px"
   },
   "number_sections": false,
   "sideBar": true,
   "skip_h1_title": false,
   "title_cell": "Table of Contents",
   "title_sidebar": "Contents",
   "toc_cell": false,
   "toc_position": {
    "height": "47.55px",
    "left": "67px",
    "top": "182.4px",
    "width": "212px"
   },
   "toc_section_display": true,
   "toc_window_display": false
  }
 },
 "nbformat": 4,
 "nbformat_minor": 5
}
